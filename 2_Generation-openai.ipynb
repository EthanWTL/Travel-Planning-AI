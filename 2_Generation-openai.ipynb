{
 "cells": [
  {
   "cell_type": "code",
   "execution_count": 1,
   "metadata": {},
   "outputs": [],
   "source": [
    "import os\n",
    "from openai import OpenAI\n",
    "from pydantic import BaseModel\n",
    "import json"
   ]
  },
  {
   "cell_type": "code",
   "execution_count": 2,
   "metadata": {},
   "outputs": [],
   "source": [
    "client = OpenAI(\n",
    "    api_key = os.getenv('OPEN_AI_API')\n",
    ")"
   ]
  },
  {
   "cell_type": "code",
   "execution_count": 3,
   "metadata": {},
   "outputs": [],
   "source": [
    "with open('Datasets/all_prompts_task1.json', 'r') as file:\n",
    "    user_prompt = file.read()\n",
    "\n",
    "with open('Prompts/Task1/Task1_prompt_1.txt', 'r') as file:\n",
    "    system_prompt = file.read()"
   ]
  },
  {
   "cell_type": "code",
   "execution_count": 4,
   "metadata": {},
   "outputs": [
    {
     "name": "stdout",
     "output_type": "stream",
     "text": [
      "Please generate a detailed travel itinerary for a 2-day trip with a moderate budget. The plan should suggest some activity-oriented attractions, include recommendations for Italian restaurants, and suggest good quality accommodations in a good location. All business information will be provided following. Include all recommendations and their addresses for each day in chronological order. Be concise and well-structured.\n"
     ]
    }
   ],
   "source": [
    "print(system_prompt)"
   ]
  },
  {
   "cell_type": "code",
   "execution_count": 5,
   "metadata": {},
   "outputs": [
    {
     "data": {
      "text/plain": [
       "325139"
      ]
     },
     "execution_count": 5,
     "metadata": {},
     "output_type": "execute_result"
    }
   ],
   "source": [
    "len(user_prompt)"
   ]
  },
  {
   "cell_type": "code",
   "execution_count": 6,
   "metadata": {},
   "outputs": [],
   "source": [
    "#generation into natural language\n",
    "chat_completion = client.chat.completions.create(\n",
    "    model=\"gpt-4o-mini\",\n",
    "    temperature=0,\n",
    "    messages=[\n",
    "        {\"role\": \"system\",\"content\": system_prompt,},\n",
    "        {\"role\": \"user\",\"content\": user_prompt,}\n",
    "    ]\n",
    ")"
   ]
  },
  {
   "cell_type": "code",
   "execution_count": 7,
   "metadata": {},
   "outputs": [
    {
     "data": {
      "text/plain": [
       "\"### 2-Day Travel Itinerary for Philadelphia\\n\\n#### Day 1: Exploring Historic Philadelphia\\n\\n**Morning:**\\n- **Check-in at Hotel:**\\n  - **Hotel:** Alexander Inn\\n  - **Address:** 301 S 12th St, Philadelphia, PA 19107\\n  - **Price:** $$ (Moderate)\\n  \\n- **Breakfast:**\\n  - **Restaurant:** Cafe Lift\\n  - **Address:** 428 N 13th St, Philadelphia, PA 19123\\n  - **Time:** 9:00 AM\\n  - **Cuisine:** American (New), Breakfast & Brunch\\n\\n**Mid-Morning:**\\n- **Attraction:** Independence Hall\\n  - **Address:** 520 Chestnut St, Philadelphia, PA 19106\\n  - **Time:** 10:30 AM\\n  - **Type:** Historical Landmark\\n\\n**Lunch:**\\n- **Restaurant:** Campo's Philly Cheesesteaks\\n  - **Address:** 214 Market St, Philadelphia, PA 19106\\n  - **Time:** 12:30 PM\\n  - **Cuisine:** Cheesesteaks\\n\\n**Afternoon:**\\n- **Attraction:** Liberty Bell Center\\n  - **Address:** 6th St & Chestnut St, Philadelphia, PA 19106\\n  - **Time:** 1:30 PM\\n  - **Type:** Historical Landmark\\n\\n- **Attraction:** National Constitution Center\\n  - **Address:** 525 Arch St, Philadelphia, PA 19106\\n  - **Time:** 3:00 PM\\n  - **Type:** Museum\\n\\n**Dinner:**\\n- **Restaurant:** Amada\\n  - **Address:** 217 Chestnut St, Philadelphia, PA 19106\\n  - **Time:** 6:00 PM\\n  - **Cuisine:** Spanish, Tapas\\n\\n**Evening:**\\n- **Attraction:** Spruce Street Harbor Park\\n  - **Address:** 121 N Columbus Blvd, Philadelphia, PA 19106\\n  - **Time:** 8:00 PM\\n  - **Type:** Park\\n\\n---\\n\\n#### Day 2: Culture and Culinary Delights\\n\\n**Morning:**\\n- **Breakfast:**\\n  - **Restaurant:** Green Eggs Cafe\\n  - **Address:** 1306 Dickinson St, Philadelphia, PA 19146\\n  - **Time:** 9:00 AM\\n  - **Cuisine:** American (New), Breakfast & Brunch\\n\\n**Mid-Morning:**\\n- **Attraction:** Philadelphia Museum of Art\\n  - **Address:** 2600 Benjamin Franklin Pkwy, Philadelphia, PA 19130\\n  - **Time:** 10:30 AM\\n  - **Type:** Museum\\n\\n**Lunch:**\\n- **Restaurant:** Barbuzzo\\n  - **Address:** 110 S 13th St, Philadelphia, PA 19107\\n  - **Time:** 1:00 PM\\n  - **Cuisine:** Italian, Mediterranean\\n\\n**Afternoon:**\\n- **Attraction:** Philadelphia's Magic Gardens\\n  - **Address:** 1020 S St, Philadelphia, PA 19147\\n  - **Time:** 2:30 PM\\n  - **Type:** Art Gallery\\n\\n- **Attraction:** Reading Terminal Market\\n  - **Address:** 51 N 12th St, Philadelphia, PA 19107\\n  - **Time:** 4:00 PM\\n  - **Type:** Public Market\\n\\n**Dinner:**\\n- **Restaurant:** Osteria\\n  - **Address:** 640 N Broad St, Philadelphia, PA 19130\\n  - **Time:** 6:30 PM\\n  - **Cuisine:** Italian\\n\\n**Evening:**\\n- **Attraction:** The Franklin Institute\\n  - **Address:** 222 N 20th St, Philadelphia, PA 19103\\n  - **Time:** 8:00 PM\\n  - **Type:** Science Museum\\n\\n---\\n\\n### Summary\\n- **Accommodations:** Alexander Inn\\n- **Day 1 Highlights:** Independence Hall, Liberty Bell, National Constitution Center\\n- **Day 2 Highlights:** Philadelphia Museum of Art, Philadelphia's Magic Gardens, Reading Terminal Market\\n- **Dining:** A mix of local favorites and Italian cuisine throughout the trip. \\n\\nEnjoy your trip to Philadelphia!\""
      ]
     },
     "execution_count": 7,
     "metadata": {},
     "output_type": "execute_result"
    }
   ],
   "source": [
    "#hotel - canopy\n",
    "result = chat_completion.choices[0].message.content\n",
    "result"
   ]
  },
  {
   "cell_type": "code",
   "execution_count": 8,
   "metadata": {},
   "outputs": [],
   "source": [
    "with open(\"Outputs/Task1/Task1_1.txt\", \"w\") as f:\n",
    "    f.write(result)"
   ]
  }
 ],
 "metadata": {
  "kernelspec": {
   "display_name": "torchgpu",
   "language": "python",
   "name": "python3"
  },
  "language_info": {
   "codemirror_mode": {
    "name": "ipython",
    "version": 3
   },
   "file_extension": ".py",
   "mimetype": "text/x-python",
   "name": "python",
   "nbconvert_exporter": "python",
   "pygments_lexer": "ipython3",
   "version": "3.11.0"
  }
 },
 "nbformat": 4,
 "nbformat_minor": 2
}
