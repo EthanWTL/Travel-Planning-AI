{
 "cells": [
  {
   "cell_type": "code",
   "execution_count": 1,
   "metadata": {},
   "outputs": [],
   "source": [
    "import os\n",
    "from openai import OpenAI\n",
    "from pydantic import BaseModel\n",
    "import json"
   ]
  },
  {
   "cell_type": "code",
   "execution_count": 2,
   "metadata": {},
   "outputs": [],
   "source": [
    "client = OpenAI(\n",
    "    api_key = os.getenv('OPEN_AI_API')\n",
    ")"
   ]
  },
  {
   "cell_type": "code",
   "execution_count": null,
   "metadata": {},
   "outputs": [],
   "source": []
  },
  {
   "cell_type": "code",
   "execution_count": 3,
   "metadata": {},
   "outputs": [],
   "source": [
    "class rr_quality(BaseModel):\n",
    "    rating: int\n",
    "    reason: str\n",
    "\n",
    "class rr_location(BaseModel):\n",
    "    rating: int\n",
    "    reason: str\n",
    "\n",
    "class rr_service(BaseModel):    \n",
    "    rating: int\n",
    "    reason: str\n",
    "\n",
    "class rr_safety(BaseModel):\n",
    "    rating: int\n",
    "    reason: str\n",
    "\n",
    "class HotelEvaluation(BaseModel):\n",
    "    quality: rr_quality\n",
    "    location: rr_location\n",
    "    service: rr_service\n",
    "    safety: rr_safety"
   ]
  },
  {
   "cell_type": "code",
   "execution_count": 4,
   "metadata": {},
   "outputs": [],
   "source": [
    "class rr_family(BaseModel):\n",
    "    level: int\n",
    "    reason: str\n",
    "\n",
    "class rr_history(BaseModel):\n",
    "    level: int\n",
    "    reason: str\n",
    "\n",
    "class rr_activity(BaseModel):    \n",
    "    level: int\n",
    "    reason: str\n",
    "\n",
    "class rr_nature(BaseModel):\n",
    "    level: int\n",
    "    reason: str\n",
    "\n",
    "class rr_food(BaseModel):\n",
    "    level: int\n",
    "    reason: str\n",
    "\n",
    "class rr_shopping(BaseModel):\n",
    "    level: int\n",
    "    reason: str\n",
    "\n",
    "class AttractionEvaluation(BaseModel):\n",
    "    family_oriented: rr_family\n",
    "    history_oriented: rr_history\n",
    "    activity_oriented: rr_activity\n",
    "    nature_oriented: rr_nature\n",
    "    food_oriented: rr_food\n",
    "    shopping_oriented: rr_shopping"
   ]
  },
  {
   "cell_type": "code",
   "execution_count": 5,
   "metadata": {},
   "outputs": [],
   "source": [
    "class rr_flavor(BaseModel):\n",
    "    rating: int\n",
    "    reason: str\n",
    "\n",
    "class rr_freshness(BaseModel):\n",
    "    rating: int\n",
    "    reason: str\n",
    "\n",
    "class rr_healthy(BaseModel):\n",
    "    rating: int\n",
    "    reason: str\n",
    "\n",
    "class rr_service(BaseModel):    \n",
    "    rating: int\n",
    "    reason: str\n",
    "\n",
    "class rr_enviornment(BaseModel):\n",
    "    rating: int\n",
    "    reason: str\n",
    "\n",
    "class rr_value(BaseModel):\n",
    "    rating: int\n",
    "    reason: str\n",
    "\n",
    "class RestaurantEvaluation(BaseModel):\n",
    "    flavor: rr_flavor\n",
    "    freshness: rr_freshness\n",
    "    healthy: rr_healthy\n",
    "    service: rr_service\n",
    "    enviornment: rr_enviornment\n",
    "    value: rr_value"
   ]
  },
  {
   "cell_type": "code",
   "execution_count": 11,
   "metadata": {},
   "outputs": [],
   "source": [
    "with open('Prompts/Review Summarization Prompts/system_prompt_hotel_JSON.txt', 'r') as file:\n",
    "    system_prompt = file.read()"
   ]
  },
  {
   "cell_type": "code",
   "execution_count": 15,
   "metadata": {},
   "outputs": [],
   "source": [
    "folder_path = 'Datasets/Reviews/Hotels'\n",
    "\n",
    "for filename in os.listdir(folder_path):\n",
    "    if filename.endswith('.txt'):\n",
    "        file_path = os.path.join(folder_path, filename)\n",
    "        with open(file_path, 'r') as file:\n",
    "            user_prompt = file.read()\n",
    "            \n",
    "        #generation into json format\n",
    "        chat_completion = client.beta.chat.completions.parse(\n",
    "            model=\"gpt-4o-mini\",\n",
    "            temperature=0,\n",
    "            messages=[\n",
    "                {\"role\": \"system\",\"content\": system_prompt,},\n",
    "                {\"role\": \"user\",\"content\": user_prompt,}\n",
    "            ],\n",
    "            response_format=HotelEvaluation\n",
    "        )\n",
    "\n",
    "        filename_nofiletype = filename[:-4]\n",
    "        filename_jsontype = filename_nofiletype + '.json'\n",
    "        result = json.loads(chat_completion.choices[0].message.parsed.json())\n",
    "\n",
    "        with open('Outputs/Reviews_Summarization/Hotels/' + filename_jsontype, 'w') as file:\n",
    "            json.dump(result, file)\n",
    "        \n"
   ]
  },
  {
   "cell_type": "code",
   "execution_count": null,
   "metadata": {},
   "outputs": [],
   "source": []
  },
  {
   "cell_type": "code",
   "execution_count": 20,
   "metadata": {},
   "outputs": [],
   "source": [
    "with open('Prompts/Review Summarization Prompts/system_prompt_attraction_JSON.txt', 'r') as file:\n",
    "    system_prompt = file.read()"
   ]
  },
  {
   "cell_type": "code",
   "execution_count": 22,
   "metadata": {},
   "outputs": [],
   "source": [
    "folder_path = 'Datasets/Reviews/Attractions'\n",
    "\n",
    "for filename in os.listdir(folder_path):\n",
    "    if filename.endswith('.txt'):\n",
    "        file_path = os.path.join(folder_path, filename)\n",
    "        with open(file_path, 'r') as file:\n",
    "            user_prompt = file.read()\n",
    "            \n",
    "        #generation into json format\n",
    "        chat_completion = client.beta.chat.completions.parse(\n",
    "            model=\"gpt-4o-mini\",\n",
    "            temperature=0,\n",
    "            messages=[\n",
    "                {\"role\": \"system\",\"content\": system_prompt,},\n",
    "                {\"role\": \"user\",\"content\": user_prompt,}\n",
    "            ],\n",
    "            response_format=AttractionEvaluation\n",
    "        )\n",
    "\n",
    "        filename_nofiletype = filename[:-4]\n",
    "        filename_jsontype = filename_nofiletype + '.json'\n",
    "        result = json.loads(chat_completion.choices[0].message.parsed.json())\n",
    "\n",
    "        with open('Outputs/Reviews_Summarization/Attractions/' + filename_jsontype, 'w') as file:\n",
    "            json.dump(result, file)\n",
    "    "
   ]
  },
  {
   "cell_type": "code",
   "execution_count": null,
   "metadata": {},
   "outputs": [],
   "source": []
  },
  {
   "cell_type": "code",
   "execution_count": null,
   "metadata": {},
   "outputs": [],
   "source": []
  },
  {
   "cell_type": "code",
   "execution_count": 6,
   "metadata": {},
   "outputs": [],
   "source": [
    "with open('Prompts/Review Summarization Prompts/system_prompt_restaurant_JSON.txt', 'r') as file:\n",
    "    system_prompt = file.read()"
   ]
  },
  {
   "cell_type": "code",
   "execution_count": null,
   "metadata": {},
   "outputs": [],
   "source": [
    "folder_path = 'Datasets/Reviews/Restaurants'\n",
    "\n",
    "for filename in os.listdir(folder_path):\n",
    "    if filename.endswith('.txt'):\n",
    "        file_path = os.path.join(folder_path, filename)\n",
    "        with open(file_path, 'r') as file:\n",
    "            user_prompt = file.read()\n",
    "            \n",
    "        #generation into json format\n",
    "        chat_completion = client.beta.chat.completions.parse(\n",
    "            model=\"gpt-4o-mini\",\n",
    "            temperature=0,\n",
    "            messages=[\n",
    "                {\"role\": \"system\",\"content\": system_prompt},\n",
    "                {\"role\": \"user\",\"content\": user_prompt}\n",
    "            ],\n",
    "            response_format=RestaurantEvaluation\n",
    "        )\n",
    "\n",
    "        filename_nofiletype = filename[:-4]\n",
    "        filename_jsontype = filename_nofiletype + '.json'\n",
    "        result = json.loads(chat_completion.choices[0].message.parsed.json())\n",
    "\n",
    "        with open('Outputs/Reviews_Summarization/Restaurants/' + filename_jsontype, 'w') as file:\n",
    "            json.dump(result, file)"
   ]
  },
  {
   "cell_type": "code",
   "execution_count": null,
   "metadata": {},
   "outputs": [],
   "source": []
  },
  {
   "cell_type": "code",
   "execution_count": 30,
   "metadata": {},
   "outputs": [],
   "source": [
    "with open(\"Datasets/Reviews/Restaurants/Bistrot La Minette_4_-IcMpkF_sBRHomWZHNzA.txt\", 'r') as file:\n",
    "    user_prompt = file.read()"
   ]
  },
  {
   "cell_type": "code",
   "execution_count": 31,
   "metadata": {},
   "outputs": [],
   "source": [
    "chat_completion = client.beta.chat.completions.parse(\n",
    "    model=\"gpt-4o-mini\",\n",
    "    temperature=0,\n",
    "    messages=[\n",
    "        {\"role\": \"system\",\"content\": system_prompt,},\n",
    "        {\"role\": \"user\",\"content\": user_prompt,}\n",
    "    ],\n",
    "    response_format=RestaurantEvaluation\n",
    ")"
   ]
  },
  {
   "cell_type": "code",
   "execution_count": null,
   "metadata": {},
   "outputs": [],
   "source": []
  },
  {
   "cell_type": "code",
   "execution_count": null,
   "metadata": {},
   "outputs": [],
   "source": []
  },
  {
   "cell_type": "code",
   "execution_count": null,
   "metadata": {},
   "outputs": [],
   "source": []
  },
  {
   "cell_type": "code",
   "execution_count": null,
   "metadata": {},
   "outputs": [],
   "source": []
  }
 ],
 "metadata": {
  "kernelspec": {
   "display_name": "torchgpu",
   "language": "python",
   "name": "python3"
  },
  "language_info": {
   "codemirror_mode": {
    "name": "ipython",
    "version": 3
   },
   "file_extension": ".py",
   "mimetype": "text/x-python",
   "name": "python",
   "nbconvert_exporter": "python",
   "pygments_lexer": "ipython3",
   "version": "3.11.0"
  }
 },
 "nbformat": 4,
 "nbformat_minor": 2
}
