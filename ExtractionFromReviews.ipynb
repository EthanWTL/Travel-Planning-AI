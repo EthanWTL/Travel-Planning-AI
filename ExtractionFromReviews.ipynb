{
 "cells": [
  {
   "cell_type": "code",
   "execution_count": 1,
   "metadata": {},
   "outputs": [],
   "source": [
    "import os\n",
    "from openai import OpenAI\n",
    "from pydantic import BaseModel\n",
    "import json"
   ]
  },
  {
   "cell_type": "code",
   "execution_count": 2,
   "metadata": {},
   "outputs": [],
   "source": [
    "client = OpenAI(\n",
    "    api_key = os.getenv('OPEN_AI_API')\n",
    ")"
   ]
  },
  {
   "cell_type": "code",
   "execution_count": null,
   "metadata": {},
   "outputs": [],
   "source": []
  },
  {
   "cell_type": "code",
   "execution_count": 3,
   "metadata": {},
   "outputs": [],
   "source": [
    "class rr_quality(BaseModel):\n",
    "    rating: int\n",
    "    reason: str\n",
    "\n",
    "class rr_location(BaseModel):\n",
    "    rating: int\n",
    "    reason: str\n",
    "\n",
    "class rr_service(BaseModel):    \n",
    "    rating: int\n",
    "    reason: str\n",
    "\n",
    "class rr_safety(BaseModel):\n",
    "    rating: int\n",
    "    reason: str\n",
    "\n",
    "class HotelEvaluation(BaseModel):\n",
    "    quality: rr_quality\n",
    "    location: rr_location\n",
    "    service: rr_service\n",
    "    safety: rr_safety"
   ]
  },
  {
   "cell_type": "code",
   "execution_count": 4,
   "metadata": {},
   "outputs": [],
   "source": [
    "class rr_family(BaseModel):\n",
    "    level: int\n",
    "    reason: str\n",
    "\n",
    "class rr_history(BaseModel):\n",
    "    level: int\n",
    "    reason: str\n",
    "\n",
    "class rr_activity(BaseModel):    \n",
    "    level: int\n",
    "    reason: str\n",
    "\n",
    "class rr_nature(BaseModel):\n",
    "    level: int\n",
    "    reason: str\n",
    "\n",
    "class rr_food(BaseModel):\n",
    "    level: int\n",
    "    reason: str\n",
    "\n",
    "class rr_shopping(BaseModel):\n",
    "    level: int\n",
    "    reason: str\n",
    "\n",
    "class AttractionEvaluation(BaseModel):\n",
    "    family_oriented: rr_family\n",
    "    history_oriented: rr_history\n",
    "    activity_oriented: rr_activity\n",
    "    nature_oriented: rr_nature\n",
    "    food_oriented: rr_food\n",
    "    shopping_oriented: rr_shopping"
   ]
  },
  {
   "cell_type": "code",
   "execution_count": 5,
   "metadata": {},
   "outputs": [],
   "source": [
    "class rr_flavor(BaseModel):\n",
    "    rating: int\n",
    "    reason: str\n",
    "\n",
    "class rr_freshness(BaseModel):\n",
    "    rating: int\n",
    "    reason: str\n",
    "\n",
    "class rr_healthy(BaseModel):\n",
    "    rating: int\n",
    "    reason: str\n",
    "\n",
    "class rr_service(BaseModel):    \n",
    "    rating: int\n",
    "    reason: str\n",
    "\n",
    "class rr_enviornment(BaseModel):\n",
    "    rating: int\n",
    "    reason: str\n",
    "\n",
    "class rr_value(BaseModel):\n",
    "    rating: int\n",
    "    reason: str\n",
    "\n",
    "class RestaurantEvaluation(BaseModel):\n",
    "    flavor: rr_flavor\n",
    "    freshness: rr_freshness\n",
    "    healthy: rr_healthy\n",
    "    service: rr_service\n",
    "    enviornment: rr_enviornment\n",
    "    value: rr_value"
   ]
  },
  {
   "cell_type": "code",
   "execution_count": 11,
   "metadata": {},
   "outputs": [],
   "source": [
    "with open('Prompts/Review Summarization Prompts/system_prompt_hotel_JSON.txt', 'r') as file:\n",
    "    system_prompt = file.read()"
   ]
  },
  {
   "cell_type": "code",
   "execution_count": 15,
   "metadata": {},
   "outputs": [],
   "source": [
    "folder_path = 'Datasets/Reviews/Hotels'\n",
    "\n",
    "for filename in os.listdir(folder_path):\n",
    "    if filename.endswith('.txt'):\n",
    "        file_path = os.path.join(folder_path, filename)\n",
    "        with open(file_path, 'r') as file:\n",
    "            user_prompt = file.read()\n",
    "            \n",
    "        #generation into json format\n",
    "        chat_completion = client.beta.chat.completions.parse(\n",
    "            model=\"gpt-4o-mini\",\n",
    "            temperature=0,\n",
    "            messages=[\n",
    "                {\"role\": \"system\",\"content\": system_prompt,},\n",
    "                {\"role\": \"user\",\"content\": user_prompt,}\n",
    "            ],\n",
    "            response_format=HotelEvaluation\n",
    "        )\n",
    "\n",
    "        filename_nofiletype = filename[:-4]\n",
    "        filename_jsontype = filename_nofiletype + '.json'\n",
    "        result = json.loads(chat_completion.choices[0].message.parsed.json())\n",
    "\n",
    "        with open('Outputs/Reviews_Summarization/Hotels/' + filename_jsontype, 'w') as file:\n",
    "            json.dump(result, file)\n",
    "        \n"
   ]
  },
  {
   "cell_type": "code",
   "execution_count": null,
   "metadata": {},
   "outputs": [],
   "source": []
  },
  {
   "cell_type": "code",
   "execution_count": 20,
   "metadata": {},
   "outputs": [],
   "source": [
    "with open('Prompts/Review Summarization Prompts/system_prompt_attraction_JSON.txt', 'r') as file:\n",
    "    system_prompt = file.read()"
   ]
  },
  {
   "cell_type": "code",
   "execution_count": 22,
   "metadata": {},
   "outputs": [],
   "source": [
    "folder_path = 'Datasets/Reviews/Attractions'\n",
    "\n",
    "for filename in os.listdir(folder_path):\n",
    "    if filename.endswith('.txt'):\n",
    "        file_path = os.path.join(folder_path, filename)\n",
    "        with open(file_path, 'r') as file:\n",
    "            user_prompt = file.read()\n",
    "            \n",
    "        #generation into json format\n",
    "        chat_completion = client.beta.chat.completions.parse(\n",
    "            model=\"gpt-4o-mini\",\n",
    "            temperature=0,\n",
    "            messages=[\n",
    "                {\"role\": \"system\",\"content\": system_prompt,},\n",
    "                {\"role\": \"user\",\"content\": user_prompt,}\n",
    "            ],\n",
    "            response_format=AttractionEvaluation\n",
    "        )\n",
    "\n",
    "        filename_nofiletype = filename[:-4]\n",
    "        filename_jsontype = filename_nofiletype + '.json'\n",
    "        result = json.loads(chat_completion.choices[0].message.parsed.json())\n",
    "\n",
    "        with open('Outputs/Reviews_Summarization/Attractions/' + filename_jsontype, 'w') as file:\n",
    "            json.dump(result, file)\n",
    "    "
   ]
  },
  {
   "cell_type": "code",
   "execution_count": null,
   "metadata": {},
   "outputs": [],
   "source": []
  },
  {
   "cell_type": "code",
   "execution_count": null,
   "metadata": {},
   "outputs": [],
   "source": []
  },
  {
   "cell_type": "code",
   "execution_count": 6,
   "metadata": {},
   "outputs": [],
   "source": [
    "with open('Prompts/Review Summarization Prompts/system_prompt_restaurant_JSON.txt', 'r') as file:\n",
    "    system_prompt = file.read()"
   ]
  },
  {
   "cell_type": "code",
   "execution_count": null,
   "metadata": {},
   "outputs": [],
   "source": [
    "folder_path = 'Datasets/Reviews/Restaurants'\n",
    "\n",
    "for filename in os.listdir(folder_path):\n",
    "    if filename.endswith('.txt'):\n",
    "        file_path = os.path.join(folder_path, filename)\n",
    "        with open(file_path, 'r') as file:\n",
    "            user_prompt = file.read()\n",
    "            \n",
    "        #generation into json format\n",
    "        chat_completion = client.beta.chat.completions.parse(\n",
    "            model=\"gpt-4o-mini\",\n",
    "            temperature=0,\n",
    "            messages=[\n",
    "                {\"role\": \"system\",\"content\": system_prompt},\n",
    "                {\"role\": \"user\",\"content\": user_prompt}\n",
    "            ],\n",
    "            response_format=RestaurantEvaluation\n",
    "        )\n",
    "\n",
    "        filename_nofiletype = filename[:-4]\n",
    "        filename_jsontype = filename_nofiletype + '.json'\n",
    "        result = json.loads(chat_completion.choices[0].message.parsed.json())\n",
    "\n",
    "        with open('Outputs/Reviews_Summarization/Restaurants/' + filename_jsontype, 'w') as file:\n",
    "            json.dump(result, file)"
   ]
  },
  {
   "cell_type": "code",
   "execution_count": null,
   "metadata": {},
   "outputs": [],
   "source": []
  },
  {
   "cell_type": "code",
   "execution_count": 30,
   "metadata": {},
   "outputs": [],
   "source": [
    "with open(\"Datasets/Reviews/Restaurants/Bistrot La Minette_4_-IcMpkF_sBRHomWZHNzA.txt\", 'r') as file:\n",
    "    user_prompt = file.read()"
   ]
  },
  {
   "cell_type": "code",
   "execution_count": 31,
   "metadata": {},
   "outputs": [],
   "source": [
    "chat_completion = client.beta.chat.completions.parse(\n",
    "    model=\"gpt-4o-mini\",\n",
    "    temperature=0,\n",
    "    messages=[\n",
    "        {\"role\": \"system\",\"content\": system_prompt,},\n",
    "        {\"role\": \"user\",\"content\": user_prompt,}\n",
    "    ],\n",
    "    response_format=RestaurantEvaluation\n",
    ")"
   ]
  },
  {
   "cell_type": "code",
   "execution_count": null,
   "metadata": {},
   "outputs": [],
   "source": []
  },
  {
   "cell_type": "code",
   "execution_count": null,
   "metadata": {},
   "outputs": [],
   "source": []
  },
  {
   "cell_type": "markdown",
   "metadata": {},
   "source": [
    "Parse together"
   ]
  },
  {
   "cell_type": "code",
   "execution_count": 5,
   "metadata": {},
   "outputs": [],
   "source": [
    "import json\n",
    "import os"
   ]
  },
  {
   "cell_type": "code",
   "execution_count": null,
   "metadata": {},
   "outputs": [],
   "source": [
    "attractions_base = []\n",
    "with open(\"Datasets/Attractions_task1.jsonl\", 'r') as file:\n",
    "    for line in file:\n",
    "        # Parse each line as a JSON object and append to the list\n",
    "        json_obj = json.loads(line.strip())  # strip() removes any leading/trailing whitespace\n",
    "        attractions_base.append(json_obj)"
   ]
  },
  {
   "cell_type": "code",
   "execution_count": 94,
   "metadata": {},
   "outputs": [],
   "source": [
    "def clean_attraction(attraction):\n",
    "    level_map = {\n",
    "        0: \"no\",\n",
    "        1: \"low\",\n",
    "        2: \"medium\",\n",
    "        3: \"high\"\n",
    "    }\n",
    "    keys = []\n",
    "    values = []\n",
    "    for key, value in attraction.items():\n",
    "        keys.append(key)\n",
    "        values.append(value['level'])\n",
    "\n",
    "    parsed = {}\n",
    "\n",
    "    for i in range(len(keys)):\n",
    "        new = {keys[i]: level_map[values[i]] + '_' + keys[i]}\n",
    "        parsed = {**parsed, **new}\n",
    "\n",
    "    return parsed"
   ]
  },
  {
   "cell_type": "code",
   "execution_count": 96,
   "metadata": {},
   "outputs": [],
   "source": [
    "folder_path = 'Outputs/Reviews_Summarization/Attractions'\n",
    "attractions_final = []\n",
    "for filename in os.listdir(folder_path):\n",
    "    if filename.endswith('.json'):\n",
    "        business_id_fromReviews = filename[:-5][-22:]\n",
    "        \n",
    "        for attraction in attractions_base:\n",
    "            if attraction['business_id'] == business_id_fromReviews:\n",
    "                with open(folder_path + '/' + filename, 'r') as file:\n",
    "                    attraction_fromReviews = json.load(file)\n",
    "                attraction_fromReviews_short = clean_attraction(attraction_fromReviews)\n",
    "                attraction_final = {**attraction, **attraction_fromReviews_short}\n",
    "                attractions_final.append(attraction_final)"
   ]
  },
  {
   "cell_type": "code",
   "execution_count": 97,
   "metadata": {},
   "outputs": [
    {
     "data": {
      "text/plain": [
       "{'business_id': 'DSGHZnDLRbR9wk-u1trRUQ',\n",
       " 'name': '16th Street Seafood',\n",
       " 'address': '1542 Tasker St',\n",
       " 'latitude': 39.9307459,\n",
       " 'longitude': -75.1715522,\n",
       " 'stars': 4.0,\n",
       " 'price': 'Unknown price',\n",
       " 'attraction_type': 'Local Flavor',\n",
       " 'perks': 'Seafood',\n",
       " 'family_oriented': 'low_family_oriented',\n",
       " 'history_oriented': 'no_history_oriented',\n",
       " 'activity_oriented': 'low_activity_oriented',\n",
       " 'nature_oriented': 'no_nature_oriented',\n",
       " 'food_oriented': 'high_food_oriented',\n",
       " 'shopping_oriented': 'no_shopping_oriented'}"
      ]
     },
     "execution_count": 97,
     "metadata": {},
     "output_type": "execute_result"
    }
   ],
   "source": [
    "attractions_final[0]"
   ]
  },
  {
   "cell_type": "code",
   "execution_count": 98,
   "metadata": {},
   "outputs": [],
   "source": [
    "# save attractions_final\n",
    "with open('Datasets/Attractions_task1.jsonl', 'w') as file:\n",
    "    for attraction in attractions_final:\n",
    "        json.dump(attraction, file)\n",
    "        file.write('\\n')"
   ]
  },
  {
   "cell_type": "code",
   "execution_count": null,
   "metadata": {},
   "outputs": [],
   "source": []
  },
  {
   "cell_type": "code",
   "execution_count": 99,
   "metadata": {},
   "outputs": [],
   "source": [
    "hotels_base = []\n",
    "with open(\"Datasets/Hotels_task1.jsonl\", 'r') as file:\n",
    "    for line in file:\n",
    "        # Parse each line as a JSON object and append to the list\n",
    "        json_obj = json.loads(line.strip())  # strip() removes any leading/trailing whitespace\n",
    "        hotels_base.append(json_obj)"
   ]
  },
  {
   "cell_type": "code",
   "execution_count": null,
   "metadata": {},
   "outputs": [],
   "source": [
    "def clean_hotel(hotel):\n",
    "    level_map = {\n",
    "        1: \"1 star\",\n",
    "        2: \"2 stars\",\n",
    "        3: \"3 stars\",\n",
    "        4: \"4 stars\",\n",
    "        5: \"5 stars\"\n",
    "    }\n",
    "    keys = []\n",
    "    values = []\n",
    "    for key, value in hotel.items():\n",
    "        keys.append(key)\n",
    "        values.append(value['rating'])\n",
    "\n",
    "    parsed = {}\n",
    "\n",
    "    for i in range(len(keys)):\n",
    "        new = {keys[i]: level_map[values[i]] + ' ' + keys[i]}\n",
    "        parsed = {**parsed, **new}\n",
    "\n",
    "    return parsed"
   ]
  },
  {
   "cell_type": "code",
   "execution_count": 104,
   "metadata": {},
   "outputs": [],
   "source": [
    "folder_path = 'Outputs/Reviews_Summarization/Hotels'\n",
    "hotels_final = []\n",
    "for filename in os.listdir(folder_path):\n",
    "    if filename.endswith('.json'):\n",
    "        business_id_fromReviews = filename[:-5][-22:]\n",
    "        \n",
    "        for hotel in hotels_base:\n",
    "            if hotel['business_id'] == business_id_fromReviews:\n",
    "                with open(folder_path + '/' + filename, 'r') as file:\n",
    "                    hotel_fromReviews = json.load(file)\n",
    "                hotel_fromReviews_short = clean_hotel(hotel_fromReviews)\n",
    "                hotel_final = {**hotel, **hotel_fromReviews_short}\n",
    "                hotels_final.append(hotel_final)"
   ]
  },
  {
   "cell_type": "code",
   "execution_count": 105,
   "metadata": {},
   "outputs": [
    {
     "data": {
      "text/plain": [
       "{'business_id': '-D_3emciINpjvYXsHCf8OA',\n",
       " 'name': 'AKA Rittenhouse Square',\n",
       " 'address': '135 S 18th St',\n",
       " 'latitude': 39.9503652,\n",
       " 'longitude': -75.1704529,\n",
       " 'stars': 4.5,\n",
       " 'price': '$$$',\n",
       " 'quality': '3 stars quality',\n",
       " 'location': '5 stars location',\n",
       " 'service': '4 stars service',\n",
       " 'safety': '3 stars safety'}"
      ]
     },
     "execution_count": 105,
     "metadata": {},
     "output_type": "execute_result"
    }
   ],
   "source": [
    "hotels_final[0]"
   ]
  },
  {
   "cell_type": "code",
   "execution_count": 107,
   "metadata": {},
   "outputs": [],
   "source": [
    "# save hotels_final\n",
    "with open('Datasets/Hotels_task1.jsonl', 'w') as file:\n",
    "    for hotel in hotels_final:\n",
    "        json.dump(hotel, file)\n",
    "        file.write('\\n')"
   ]
  },
  {
   "cell_type": "code",
   "execution_count": null,
   "metadata": {},
   "outputs": [],
   "source": []
  },
  {
   "cell_type": "code",
   "execution_count": 108,
   "metadata": {},
   "outputs": [],
   "source": [
    "restaurants_base = []\n",
    "with open(\"Datasets/Restaurants_task1.jsonl\", 'r') as file:\n",
    "    for line in file:\n",
    "        # Parse each line as a JSON object and append to the list\n",
    "        json_obj = json.loads(line.strip())  # strip() removes any leading/trailing whitespace\n",
    "        restaurants_base.append(json_obj)"
   ]
  },
  {
   "cell_type": "code",
   "execution_count": 109,
   "metadata": {},
   "outputs": [],
   "source": [
    "def clean_restaurant(restaurant):\n",
    "    level_map = {\n",
    "        1: \"1 star\",\n",
    "        2: \"2 stars\",\n",
    "        3: \"3 stars\",\n",
    "        4: \"4 stars\",\n",
    "        5: \"5 stars\"\n",
    "    }\n",
    "    keys = []\n",
    "    values = []\n",
    "    for key, value in restaurant.items():\n",
    "        keys.append(key)\n",
    "        values.append(value['rating'])\n",
    "\n",
    "    parsed = {}\n",
    "\n",
    "    for i in range(len(keys)):\n",
    "        new = {keys[i]: level_map[values[i]] + ' ' + keys[i]}\n",
    "        parsed = {**parsed, **new}\n",
    "\n",
    "    return parsed"
   ]
  },
  {
   "cell_type": "code",
   "execution_count": 110,
   "metadata": {},
   "outputs": [],
   "source": [
    "folder_path = 'Outputs/Reviews_Summarization/Restaurants'\n",
    "restaurants_final = []\n",
    "for filename in os.listdir(folder_path):\n",
    "    if filename.endswith('.json'):\n",
    "        business_id_fromReviews = filename[:-5][-22:]\n",
    "        \n",
    "        for restaurant in restaurants_base:\n",
    "            if restaurant['business_id'] == business_id_fromReviews:\n",
    "                with open(folder_path + '/' + filename, 'r') as file:\n",
    "                    restaurant_fromReviews = json.load(file)\n",
    "                restaurant_fromReviews_short = clean_restaurant(restaurant_fromReviews)\n",
    "                restaurant_final = {**restaurant, **restaurant_fromReviews_short}\n",
    "                restaurants_final.append(restaurant_final)"
   ]
  },
  {
   "cell_type": "code",
   "execution_count": 111,
   "metadata": {},
   "outputs": [
    {
     "data": {
      "text/plain": [
       "{'business_id': 'wuH4TPUo8oJo4E59xZKsNg',\n",
       " 'name': '&pizza - Walnut',\n",
       " 'address': '430 Walnut St',\n",
       " 'latitude': 39.9492067124,\n",
       " 'longitude': -75.1659201062,\n",
       " 'stars': 4.5,\n",
       " 'good_for_meal': 'latenight, lunch, dinner',\n",
       " 'price': '$$',\n",
       " 'restaurant_type_1': 'Restaurants',\n",
       " 'restaurant_type_2': 'Not Applicable',\n",
       " 'cuisine_1': 'Pizza',\n",
       " 'cuisine_2': 'Vegetarian',\n",
       " 'perks': 'Vegan',\n",
       " 'flavor': '4 stars flavor',\n",
       " 'freshness': '5 stars freshness',\n",
       " 'healthy': '4 stars healthy',\n",
       " 'service': '3 stars service',\n",
       " 'enviornment': '4 stars enviornment',\n",
       " 'value': '4 stars value'}"
      ]
     },
     "execution_count": 111,
     "metadata": {},
     "output_type": "execute_result"
    }
   ],
   "source": [
    "restaurants_final[0]"
   ]
  },
  {
   "cell_type": "code",
   "execution_count": 114,
   "metadata": {},
   "outputs": [],
   "source": [
    "# save hotels_final\n",
    "with open('Datasets/Restaurants_task1.jsonl', 'w') as file:\n",
    "    for restaurant in restaurants_final:\n",
    "        json.dump(restaurant, file)\n",
    "        file.write('\\n')"
   ]
  },
  {
   "cell_type": "code",
   "execution_count": null,
   "metadata": {},
   "outputs": [],
   "source": []
  }
 ],
 "metadata": {
  "kernelspec": {
   "display_name": "torchgpu",
   "language": "python",
   "name": "python3"
  },
  "language_info": {
   "codemirror_mode": {
    "name": "ipython",
    "version": 3
   },
   "file_extension": ".py",
   "mimetype": "text/x-python",
   "name": "python",
   "nbconvert_exporter": "python",
   "pygments_lexer": "ipython3",
   "version": "3.11.0"
  }
 },
 "nbformat": 4,
 "nbformat_minor": 2
}
