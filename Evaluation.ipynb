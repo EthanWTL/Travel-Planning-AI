{
 "cells": [
  {
   "cell_type": "code",
   "execution_count": 1,
   "metadata": {},
   "outputs": [],
   "source": [
    "import json"
   ]
  },
  {
   "cell_type": "code",
   "execution_count": 2,
   "metadata": {},
   "outputs": [],
   "source": [
    "with open ('Outputs/Task1_json/Task1_json_1.json') as f:\n",
    "    plan = json.load(f)"
   ]
  },
  {
   "cell_type": "code",
   "execution_count": 4,
   "metadata": {},
   "outputs": [],
   "source": [
    "with open ('Prompts/Task1_eval/Task1_eval_1.json') as f:\n",
    "    eval = json.load(f)"
   ]
  },
  {
   "cell_type": "code",
   "execution_count": 5,
   "metadata": {},
   "outputs": [
    {
     "data": {
      "text/plain": [
       "{'itinerary': [{'days': 1,\n",
       "   'breakfast': 'Cafe Diem',\n",
       "   'morning_attractions': ['Independence Hall', 'Liberty Bell Center'],\n",
       "   'lunch': 'Reading Terminal Market',\n",
       "   'afternoon_attractions': ['Philadelphia Museum of Art', 'Fairmount Park'],\n",
       "   'dinner': 'Bing Bing Dim Sum',\n",
       "   'night_attractions': ['Spruce Street Harbor Park'],\n",
       "   'accommodation': 'Alexander Inn'},\n",
       "  {'days': 2,\n",
       "   'breakfast': 'Green Eggs Cafe',\n",
       "   'morning_attractions': ['Philadelphia Zoo'],\n",
       "   'lunch': 'Bai Wei',\n",
       "   'afternoon_attractions': ['Magic Gardens', 'National Constitution Center'],\n",
       "   'dinner': 'Han Dynasty',\n",
       "   'night_attractions': ['Old City District'],\n",
       "   'accommodation': 'Alexander Inn'}]}"
      ]
     },
     "execution_count": 5,
     "metadata": {},
     "output_type": "execute_result"
    }
   ],
   "source": [
    "plan"
   ]
  },
  {
   "cell_type": "code",
   "execution_count": 6,
   "metadata": {},
   "outputs": [
    {
     "data": {
      "text/plain": [
       "{'day': ['2 day'],\n",
       " 'price': ['cheap budget'],\n",
       " 'attraction': ['activity oriented'],\n",
       " 'cuisine': ['Chinese'],\n",
       " 'restaurants': [],\n",
       " 'hotel': ['good service'],\n",
       " 'preference_count': [5]}"
      ]
     },
     "execution_count": 6,
     "metadata": {},
     "output_type": "execute_result"
    }
   ],
   "source": [
    "eval"
   ]
  },
  {
   "cell_type": "markdown",
   "metadata": {},
   "source": [
    "### Failure Rate"
   ]
  },
  {
   "cell_type": "markdown",
   "metadata": {},
   "source": [
    "Outside the pool"
   ]
  },
  {
   "cell_type": "markdown",
   "metadata": {},
   "source": []
  }
 ],
 "metadata": {
  "kernelspec": {
   "display_name": "torchgpu",
   "language": "python",
   "name": "python3"
  },
  "language_info": {
   "codemirror_mode": {
    "name": "ipython",
    "version": 3
   },
   "file_extension": ".py",
   "mimetype": "text/x-python",
   "name": "python",
   "nbconvert_exporter": "python",
   "pygments_lexer": "ipython3",
   "version": "3.11.0"
  }
 },
 "nbformat": 4,
 "nbformat_minor": 2
}
