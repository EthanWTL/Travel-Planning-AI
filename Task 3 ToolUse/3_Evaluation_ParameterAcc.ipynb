{
 "cells": [
  {
   "cell_type": "markdown",
   "metadata": {},
   "source": [
    "1. Parameter Accuracy\n",
    "\n",
    "This part will check how accurate the LLM parse the parameters for the function call after reading the query."
   ]
  },
  {
   "cell_type": "code",
   "execution_count": 4,
   "metadata": {},
   "outputs": [],
   "source": [
    "import json\n",
    "import re"
   ]
  },
  {
   "cell_type": "code",
   "execution_count": 5,
   "metadata": {},
   "outputs": [],
   "source": [
    "def paraacc(log,eval):\n",
    "    #attractions\n",
    "    att_deno = 2\n",
    "    att_num = 2\n",
    "    for step in reversed(log):\n",
    "        if step['state'] == 'Successful':\n",
    "            if \"AttractionSearch\" in step['action']:\n",
    "                full = str(step['action'])\n",
    "                pattern = r'\\[.*\\]'\n",
    "                match = re.search(pattern, full)\n",
    "                if(match):\n",
    "                    preferences = match.group(0).lower()\n",
    "                    #print(preferences)\n",
    "                \n",
    "                pattern2 = r'\\[(.*),\\s*\\[(.*)\\]\\]'\n",
    "                match = re.search(pattern2, preferences)\n",
    "                if match:\n",
    "                    budget = match.group(1).strip()\n",
    "                    pref = match.group(2).strip()\n",
    "                    #print(budget, pref)\n",
    "                    pref_list = pref.split(', ')\n",
    "                    #print(pref_list)\n",
    "                if budget != eval['price'][0].lower():\n",
    "                    att_num -= 1\n",
    "                for p in pref_list:\n",
    "                    if p not in eval['attraction']:\n",
    "                        att_num -= 1\n",
    "\n",
    "    #accommodation\n",
    "    hotel_deno = 0\n",
    "    hotel_num = 0\n",
    "    for step in reversed(log):\n",
    "        if step['state'] == 'Successful':\n",
    "            if \"AccommodationSearch\" in step['action']:\n",
    "                full = str(step['action'])\n",
    "                pattern = r'\\[.*\\]'\n",
    "                match = re.search(pattern, full)\n",
    "                if(match):\n",
    "                    preferences = match.group(0).lower()\n",
    "                    #print(preferences)\n",
    "                \n",
    "                pattern2 = r'\\[(.*),\\s*\\[(.*)\\]\\]'\n",
    "                match = re.search(pattern2, preferences)\n",
    "                if match:\n",
    "                    budget = match.group(1).strip()\n",
    "                    pref = match.group(2).strip()\n",
    "                    #print(budget, pref)\n",
    "                    pref_list = pref.split(', ')\n",
    "                    #print(pref_list)\n",
    "                    hotel_deno = 1 + len(pref_list)\n",
    "                    hotel_num = hotel_deno\n",
    "                    #print(hotel_deno)\n",
    "                if budget != eval['price'][0].lower():\n",
    "                    hotel_num -= 1\n",
    "                for p in pref_list:\n",
    "                    if p not in eval['hotel']:\n",
    "                        hotel_num -= 1\n",
    "\n",
    "    #restaurant\n",
    "    res_deno = 0\n",
    "    res_num = 0\n",
    "    for step in reversed(log):\n",
    "        if step['state'] == 'Successful':\n",
    "            if \"RestaurantSearch\" in step['action']:\n",
    "                full = str(step['action'])\n",
    "                full = 'Action 3: RestaurantSearch[Moderate Budget, Vietnamese, [Good Flavor, Good Value]]'\n",
    "                pattern = r'\\[.*\\]'\n",
    "                match = re.search(pattern, full)\n",
    "                if(match):\n",
    "                    preferences = match.group(0).lower()\n",
    "                    #print(preferences)\n",
    "                \n",
    "                pattern2 = r'\\[(.*),(.*),\\s*\\[(.*)\\]\\]'\n",
    "                match = re.search(pattern2, preferences)\n",
    "                if match:\n",
    "                    budget = match.group(1).strip()\n",
    "                    cuisine = match.group(2).strip()\n",
    "                    pref = match.group(3).strip()\n",
    "                    #print(budget, cuisine, pref)\n",
    "                    pref_list = pref.split(', ')\n",
    "                    #print(pref_list)\n",
    "                    res_deno = 2 + len(pref_list)\n",
    "                    res_num = res_deno\n",
    "                    #print(res_deno)\n",
    "                if budget != eval['price'][0].lower():\n",
    "                    res_num -= 1\n",
    "                if cuisine != eval['cuisine'][0].lower():\n",
    "                    res_num -= 1\n",
    "                for p in pref_list:\n",
    "                    if p not in eval['restaurants']:\n",
    "                        res_num -= 1\n",
    "\n",
    "\n",
    "    \n",
    "    return res_num + att_num + hotel_num , res_deno + att_deno + hotel_deno"
   ]
  },
  {
   "cell_type": "code",
   "execution_count": null,
   "metadata": {},
   "outputs": [],
   "source": []
  },
  {
   "cell_type": "code",
   "execution_count": 7,
   "metadata": {},
   "outputs": [
    {
     "name": "stdout",
     "output_type": "stream",
     "text": [
      "48 85\n",
      "0.5647058823529412\n"
     ]
    }
   ],
   "source": [
    "allnum = 0\n",
    "alldeno = 0\n",
    "for i in range(10):\n",
    "    with open (f'Outputs/logs/gpt4omini/Plan_{i+1}.json', 'r') as f:\n",
    "        log = json.load(f)\n",
    "    with open (f'Prompts/evals/Prompt_Eval_{i+1}.json', 'r') as f:\n",
    "        eval = json.load(f)\n",
    "    \n",
    "    num,deno = paraacc(log,eval)\n",
    "    allnum += num\n",
    "    alldeno += deno\n",
    "\n",
    "rate = allnum/alldeno\n",
    "rate\n",
    "print(allnum, alldeno)\n",
    "print(rate)"
   ]
  },
  {
   "cell_type": "code",
   "execution_count": null,
   "metadata": {},
   "outputs": [],
   "source": []
  },
  {
   "cell_type": "code",
   "execution_count": null,
   "metadata": {},
   "outputs": [],
   "source": []
  }
 ],
 "metadata": {
  "kernelspec": {
   "display_name": "torchgpu",
   "language": "python",
   "name": "python3"
  },
  "language_info": {
   "codemirror_mode": {
    "name": "ipython",
    "version": 3
   },
   "file_extension": ".py",
   "mimetype": "text/x-python",
   "name": "python",
   "nbconvert_exporter": "python",
   "pygments_lexer": "ipython3",
   "version": "3.11.0"
  }
 },
 "nbformat": 4,
 "nbformat_minor": 2
}
