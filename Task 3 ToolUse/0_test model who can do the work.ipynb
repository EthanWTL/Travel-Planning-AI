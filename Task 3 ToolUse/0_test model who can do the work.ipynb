{
 "cells": [
  {
   "cell_type": "code",
   "execution_count": null,
   "metadata": {},
   "outputs": [],
   "source": [
    "prompt=\"\"\"Collect information for a query plan using interleaving 'Thought', 'Action', and 'Observation' steps. Ensure you gather valid information related to transportation, dining, attractions, and accommodation. All information should be written in Notebook, which will then be input into the Planner tool. Note that the nested use of tools is prohibited. Don't include phrases like \"Action: \", \"Action 5\", \"Thought 1\", or \"Thought: \" in your response. 'Thought' can reason about the current situation, and 'Action' can have 5 different types:\n",
    "\n",
    "(1) AccommodationSearch[Budget,Preference]:\n",
    "Description: Find the accommodation that matches the preference.\n",
    "Parameters:\n",
    "Preference: A list of preferences mentioned in the query.\n",
    "Example: AccommodationSearch[Moderate Budget,[Good Location, Good Service]] would return the moderate price hotel that has a good or excellent location, as well as a good or excellent service.\n",
    "\n",
    "(2) AttractionSearch[Budget, Preference]:\n",
    "Description: Find the attractions that matches the preference.\n",
    "Parameters:\n",
    "Budget: The budget mentioned in the query.\n",
    "Preference: A list of preferences mentioned in the query.\n",
    "Example: AttractionSearch[Cheap budget,[Nature Oriented]] would return the cheap price and nature - oriented attractions.\n",
    "\n",
    "(3) RestaurantSearch[Budget, Cuisine, Preference]:\n",
    "Description: Find the restaurants that matches the preference.\n",
    "Parameters:\n",
    "Budget: The budget mentioned in the query.\n",
    "Cuisine: The cuisine mentioned in the query.\n",
    "Preference: A list of preferences mentioned in the query.\n",
    "Example: RestaurantSearch[Expensive budget, Vietnamese, [Good Flavor, Good Value]] would return the expensive restaurants that offer Vietnamese cuisine, with good or excellent flavor and good or excellent value.\n",
    "\n",
    "(4) BusinessClusterSearch[]:\n",
    "Description: A tool that finds the number of business clusters given the information that you've collected. The tool will choose what business to be considered and return their spatial clustering information.\n",
    "Example: BusinessClusterSearch[] would return you a list of business clusters among some attractions and hotels that you've collected. The businesses in the same cluster indicates that they are closer to each other and prefered to be arranged for the same day of the travel.\n",
    "\n",
    "(5) Planner[Query]\n",
    "Description: A smart planning tool that crafts detailed plans based on user input and the information stored in Notebook.\n",
    "Parameters: \n",
    "Query: The query from user.\n",
    "Example: Planner[Give me a 3-day trip plan in Philadelphia] would return a detailed 3-day trip plan.\n",
    "\n",
    "You should use as many as possible steps to collect engough information to input to the Planner tool. \n",
    "\n",
    "Each action only calls one function once. Do not add any description in the action. Do not start action with \"1. \", state the action directly.\n",
    "\n",
    "Query: Please generate a detailed travel itinerary for a 3-day trip with a cheap budget. The plan should focus on activity-oriented attractions, include recommendations for Indian restaurants that offer good flavor and good value, and suggest accommodations that are in a good location. All relevant business information will be provided following. Ensure that all recommendations and their addresses are organized in chronological order for each day. Be concise and well-structured. Please be aware of optimization of the routes of attractions for each day as well as the whole plan, for example, arrange attractions and hotels that close to each other in one day. \n",
    "\n",
    "\n",
    "Thought 1: \"\"\""
   ]
  },
  {
   "cell_type": "code",
   "execution_count": null,
   "metadata": {},
   "outputs": [],
   "source": [
    "#try llama for text completion\n",
    "import transformers\n",
    "import torch\n",
    "\n",
    "model_id = \"meta-llama/Llama-3.1-8B\"\n",
    "\n",
    "pipeline = transformers.pipeline(\n",
    "    \"text-generation\", model=model_id, model_kwargs={\"torch_dtype\": torch.bfloat16}, device_map=\"auto\"\n",
    ")\n"
   ]
  },
  {
   "cell_type": "code",
   "execution_count": null,
   "metadata": {},
   "outputs": [],
   "source": [
    "result = pipeline(prompt, max_new_tokens = 256, return_full_text=False, temperature = 0, do_sample=False)"
   ]
  },
  {
   "cell_type": "code",
   "execution_count": null,
   "metadata": {},
   "outputs": [],
   "source": [
    "result[0]['generated_text'].split(\"\\n\")[0]"
   ]
  },
  {
   "cell_type": "code",
   "execution_count": null,
   "metadata": {},
   "outputs": [],
   "source": []
  },
  {
   "cell_type": "code",
   "execution_count": null,
   "metadata": {},
   "outputs": [],
   "source": [
    "from transformers import AutoTokenizer\n",
    "\n",
    "# Load a pretrained tokenizer (e.g., BERT tokenizer)\n",
    "tokenizer = AutoTokenizer.from_pretrained(\"meta-llama/Llama-3.1-8B\")\n",
    "markId = tokenizer.encode('\\\\')"
   ]
  },
  {
   "cell_type": "code",
   "execution_count": null,
   "metadata": {},
   "outputs": [],
   "source": [
    "markId"
   ]
  },
  {
   "cell_type": "code",
   "execution_count": null,
   "metadata": {},
   "outputs": [],
   "source": []
  }
 ],
 "metadata": {
  "kernelspec": {
   "display_name": "torchgpu",
   "language": "python",
   "name": "python3"
  },
  "language_info": {
   "codemirror_mode": {
    "name": "ipython",
    "version": 3
   },
   "file_extension": ".py",
   "mimetype": "text/x-python",
   "name": "python",
   "nbconvert_exporter": "python",
   "pygments_lexer": "ipython3",
   "version": "3.11.11"
  }
 },
 "nbformat": 4,
 "nbformat_minor": 2
}
