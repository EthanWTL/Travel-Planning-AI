{
 "cells": [
  {
   "cell_type": "code",
   "execution_count": 1,
   "metadata": {},
   "outputs": [],
   "source": [
    "import json\n",
    "import random\n",
    "import os\n",
    "from openai import OpenAI\n",
    "from pydantic import BaseModel"
   ]
  },
  {
   "cell_type": "code",
   "execution_count": 2,
   "metadata": {},
   "outputs": [],
   "source": [
    "client = OpenAI(\n",
    "    api_key = os.getenv('OPEN_AI_API')\n",
    ")"
   ]
  },
  {
   "cell_type": "code",
   "execution_count": 3,
   "metadata": {},
   "outputs": [],
   "source": [
    "def create_prompt():\n",
    "    count = 0\n",
    "\n",
    "    #day\n",
    "    day_list = ['2 day','3 days', '4 days']\n",
    "    day = random.choice(day_list)\n",
    "    count += 1\n",
    "\n",
    "    #price\n",
    "    price_list = [\"cheap budget\",\"moderate budget\",\"expensive budget\"]\n",
    "    price = random.choice(price_list)\n",
    "    count += 1\n",
    "\n",
    "    #attraction orientation\n",
    "    attraction_orientation_list = [\"family oriented\",\"history oriented\",\"activity oriented\",\"nature oriented\",\"food oriented\",\"shopping oriented\"]\n",
    "    attraction_orientation = random.choice(attraction_orientation_list)\n",
    "    count += 1\n",
    "\n",
    "    #cuisine\n",
    "    cuisine_list = [\"US\",\"Mexican\",\"Irish\",\"French\",\"Italian\",\"Greek\",\"Indian\",\"Chinese\",\"Japanese\",\"Korean\",\"Vietnamese\",\"Thai\",\"Asian Fusion\",\"Middle Eastern\"]\n",
    "    cuisine = random.choice(cuisine_list)\n",
    "    count += 1\n",
    "\n",
    "    #restaurant rating\n",
    "    weights = [0.6, 0.3, 0.1]  # weights for 1, 2, 3, and 4 respectively\n",
    "    samples = [0, 1, 2]\n",
    "    coins = random.choices(samples, weights=weights)[0]\n",
    "    n_list = [\"good flavor\",\"good freshness\",\"good health\",\"good service\",\"good enviornment\",\"good value\"]\n",
    "    restaurant_n = random.sample(n_list, coins)\n",
    "    restaurant_n_str = ', '.join(restaurant_n)\n",
    "    count += coins\n",
    "    \n",
    "    #hotel rating\n",
    "    weights = [0.6, 0.3, 0.1]  # weights for 1, 2, 3, and 4 respectively\n",
    "    samples = [1, 2, 3]\n",
    "    coins = random.choices(samples, weights=weights)[0]\n",
    "    n_list = [\"good quality\",\"good location\",\"good service\",\"good safety\"]\n",
    "    hotel_n = random.sample(n_list, coins)\n",
    "    hotel_n_str = ', '.join(hotel_n)\n",
    "    count += coins\n",
    "    #parse the prompt\n",
    "    prompt = {\n",
    "        \"general\":day + \", \" + price,\n",
    "        \"attraction\":attraction_orientation,\n",
    "        \"restaurants\":cuisine + (', ' if len(restaurant_n) > 0 else \"\") + restaurant_n_str,\n",
    "        \"hotel\":hotel_n_str\n",
    "    }\n",
    "\n",
    "    eval_info = {\n",
    "        \"day\":[day],\n",
    "        \"price\":[price],\n",
    "        \"attraction\":[attraction_orientation],\n",
    "        \"cuisine\":[cuisine],\n",
    "        \"restaurants\":restaurant_n,\n",
    "        \"hotel\":hotel_n,\n",
    "        \"preference_count\":[count]\n",
    "    }\n",
    "\n",
    "    return prompt,eval_info"
   ]
  },
  {
   "cell_type": "code",
   "execution_count": 4,
   "metadata": {},
   "outputs": [],
   "source": [
    "with open('Prompts/Prompt Generation/Promp_generation_task1.txt', 'r') as file:\n",
    "    system_prompt = file.read()"
   ]
  },
  {
   "cell_type": "code",
   "execution_count": 5,
   "metadata": {},
   "outputs": [],
   "source": [
    "def generate_prompt_by_llm():\n",
    "    #get a new prompt's information\n",
    "    user_prompt, eval_info = create_prompt()\n",
    "    #create the prompt with the new information\n",
    "    chat_completion = client.chat.completions.create(\n",
    "        model=\"gpt-4o-mini\",\n",
    "        temperature=0,\n",
    "        messages=[\n",
    "            {\"role\": \"system\",\"content\": system_prompt,},\n",
    "            {\"role\": \"user\",\"content\": str(user_prompt),}\n",
    "        ]\n",
    "    )\n",
    "    return chat_completion.choices[0].message.content, eval_info"
   ]
  },
  {
   "cell_type": "code",
   "execution_count": 6,
   "metadata": {},
   "outputs": [],
   "source": [
    "for i in range(1):\n",
    "    prompt, eval_info = generate_prompt_by_llm()\n",
    "    with open(f'Prompts/Task1/Task1_prompt_{i + 2}.txt','w') as file:\n",
    "        file.write(prompt)\n",
    "\n",
    "    with open(f'Prompts/Task1_eval/Task1_eval_{i + 2}.json','w') as file:\n",
    "         json.dump(eval_info, file, indent=4)"
   ]
  },
  {
   "cell_type": "code",
   "execution_count": null,
   "metadata": {},
   "outputs": [],
   "source": []
  }
 ],
 "metadata": {
  "kernelspec": {
   "display_name": "torchgpu",
   "language": "python",
   "name": "python3"
  },
  "language_info": {
   "codemirror_mode": {
    "name": "ipython",
    "version": 3
   },
   "file_extension": ".py",
   "mimetype": "text/x-python",
   "name": "python",
   "nbconvert_exporter": "python",
   "pygments_lexer": "ipython3",
   "version": "3.11.0"
  }
 },
 "nbformat": 4,
 "nbformat_minor": 2
}
