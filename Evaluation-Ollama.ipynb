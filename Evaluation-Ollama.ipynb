{
 "cells": [
  {
   "cell_type": "code",
   "execution_count": 1,
   "metadata": {},
   "outputs": [],
   "source": [
    "import ollama\n",
    "import ast\n",
    "import json\n",
    "from Levenshtein import ratio\n",
    "from pprint import pprint"
   ]
  },
  {
   "cell_type": "code",
   "execution_count": 2,
   "metadata": {},
   "outputs": [],
   "source": [
    "def get_helper_response(helper_prefix_path, travelPlan_file_path):\n",
    "    with open(helper_prefix_path, 'r') as f:\n",
    "        prefix = f.read()\n",
    "    with open(travelPlan_file_path, 'r') as f:\n",
    "        plan_text = f.read()\n",
    "    prompt = prefix + plan_text\n",
    "    response = ollama.generate(model='llama3.1', prompt=prompt, options={'num_ctx': 10000})\n",
    "    return response['response']"
   ]
  },
  {
   "cell_type": "code",
   "execution_count": null,
   "metadata": {},
   "outputs": [],
   "source": [
    "for i in range(5):\n",
    "    prefix_path = 'Evaluation Prompts/ExtractIntoJson.txt'\n",
    "    travelPlan_file_path = f\"Outputs/Preference/Natural/Theme_Museum_3d2n_0.txt\"\n",
    "\n",
    "    output = get_helper_response(prefix_path,travelPlan_file_path)\n",
    "    #just to make sure we grab the actuall json place, we will start with the first [ and end with the last ]\n",
    "    output = output[output.find('['):output.rfind(']')+1]\n",
    "    output_json = json.loads(output)\n",
    "\n",
    "    with open(f'Outputs/Evaluations/Theme_Museum_3d2n_0_{i}_eval.json', 'w') as f:\n",
    "        json.dump(output_json, f)"
   ]
  }
 ],
 "metadata": {
  "kernelspec": {
   "display_name": "torchgpu",
   "language": "python",
   "name": "python3"
  },
  "language_info": {
   "codemirror_mode": {
    "name": "ipython",
    "version": 3
   },
   "file_extension": ".py",
   "mimetype": "text/x-python",
   "name": "python",
   "nbconvert_exporter": "python",
   "pygments_lexer": "ipython3",
   "version": "3.11.0"
  }
 },
 "nbformat": 4,
 "nbformat_minor": 2
}
