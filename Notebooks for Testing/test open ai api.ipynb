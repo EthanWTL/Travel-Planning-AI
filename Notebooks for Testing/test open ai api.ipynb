{
 "cells": [
  {
   "cell_type": "code",
   "execution_count": 62,
   "metadata": {},
   "outputs": [],
   "source": [
    "import os\n",
    "from openai import OpenAI\n",
    "from pydantic import BaseModel"
   ]
  },
  {
   "cell_type": "code",
   "execution_count": 63,
   "metadata": {},
   "outputs": [],
   "source": [
    "client = OpenAI(\n",
    "    api_key = os.getenv('OPEN_AI_API')\n",
    ")"
   ]
  },
  {
   "cell_type": "code",
   "execution_count": 68,
   "metadata": {},
   "outputs": [],
   "source": [
    "#Hotel - sonesta\n",
    "with open('../Datasets/Reviews/Hotels/Sonesta Philadelphia Rittenhouse Square_YGVBacpj1YW4q69hlYKoVA.txt', 'r') as file:\n",
    "    user_prompt = file.read()\n",
    "\n",
    "with open('../Prompts/Review Summarization Prompts/system_prompt_hotel_JSON.txt', 'r') as file:\n",
    "    system_prompt = file.read()"
   ]
  },
  {
   "cell_type": "code",
   "execution_count": 72,
   "metadata": {},
   "outputs": [],
   "source": [
    "#Hotel - Canopy\n",
    "with open('../Datasets/Reviews/Hotels/Canopy by Hilton Philadelphia Center City_ZLjUCF2UaML7S5pSmn5BKg.txt', 'r') as file:\n",
    "    user_prompt = file.read()\n",
    "\n",
    "with open('../Prompts/Review Summarization Prompts/system_prompt_hotel_JSON.txt', 'r') as file:\n",
    "    system_prompt = file.read()"
   ]
  },
  {
   "cell_type": "code",
   "execution_count": 39,
   "metadata": {},
   "outputs": [],
   "source": [
    "#Attraction - Independence Hall\n",
    "with open('../Datasets/Reviews/Attractions/Independence Hall_Ib9HV7ekw459jM1Ksdiyiw.txt', 'r') as file:\n",
    "    user_prompt = file.read()\n",
    "\n",
    "with open('../Prompts/Review Summarization Prompts/system_prompt_attraction_JSON.txt', 'r') as file:\n",
    "    system_prompt = file.read()"
   ]
  },
  {
   "cell_type": "code",
   "execution_count": 43,
   "metadata": {},
   "outputs": [],
   "source": [
    "#Attraction - Philadephia Zoo\n",
    "with open('../Datasets/Reviews/Attractions/Philadelphia Zoo_aMIRfasPN_HCYdR4lQqzDA.txt', 'r') as file:\n",
    "    user_prompt = file.read()\n",
    "\n",
    "with open('../Prompts/Review Summarization Prompts/system_prompt_attraction_JSON.txt', 'r') as file:\n",
    "    system_prompt = file.read()"
   ]
  },
  {
   "cell_type": "code",
   "execution_count": 46,
   "metadata": {},
   "outputs": [],
   "source": [
    "#Attraction - Philadelphia museum of art\n",
    "with open('../Datasets/Reviews/Attractions/Philadelphia Museum of Art_Qw7tz-UkPrpXaVidWuab4Q.txt', 'r') as file:\n",
    "    user_prompt = file.read()\n",
    "\n",
    "with open('../Prompts/Review Summarization Prompts/system_prompt_attraction_JSON.txt', 'r') as file:\n",
    "    system_prompt = file.read()"
   ]
  },
  {
   "cell_type": "code",
   "execution_count": 75,
   "metadata": {},
   "outputs": [],
   "source": [
    "#restaurant - El Vez\n",
    "with open('../Datasets/Reviews/Restaurants/El Vez_9PZxjhTIU7OgPIzuGi89Ew.txt', 'r') as file:\n",
    "    user_prompt = file.read()\n",
    "\n",
    "with open('../Prompts/Review Summarization Prompts/system_prompt_restaurant_JSON.txt', 'r') as file:\n",
    "    system_prompt = file.read()"
   ]
  },
  {
   "cell_type": "code",
   "execution_count": 69,
   "metadata": {},
   "outputs": [],
   "source": [
    "class rr_quality(BaseModel):\n",
    "    rating: int\n",
    "    reason: str\n",
    "\n",
    "class rr_location(BaseModel):\n",
    "    rating: int\n",
    "    reason: str\n",
    "\n",
    "class rr_service(BaseModel):    \n",
    "    rating: int\n",
    "    reason: str\n",
    "\n",
    "class rr_safety(BaseModel):\n",
    "    rating: int\n",
    "    reason: str\n",
    "\n",
    "class HotelEvaluation(BaseModel):\n",
    "    quality: rr_quality\n",
    "    location: rr_location\n",
    "    service: rr_service\n",
    "    safety: rr_safety"
   ]
  },
  {
   "cell_type": "code",
   "execution_count": 49,
   "metadata": {},
   "outputs": [],
   "source": [
    "class rr_family(BaseModel):\n",
    "    level: int\n",
    "    reason: str\n",
    "\n",
    "class rr_history(BaseModel):\n",
    "    level: int\n",
    "    reason: str\n",
    "\n",
    "class rr_activity(BaseModel):    \n",
    "    level: int\n",
    "    reason: str\n",
    "\n",
    "class rr_nature(BaseModel):\n",
    "    level: int\n",
    "    reason: str\n",
    "\n",
    "class rr_food(BaseModel):\n",
    "    level: int\n",
    "    reason: str\n",
    "\n",
    "class rr_shopping(BaseModel):\n",
    "    level: int\n",
    "    reason: str\n",
    "\n",
    "class AttractionEvaluation(BaseModel):\n",
    "    family_oriented: rr_family\n",
    "    history_oriented: rr_history\n",
    "    activity_oriented: rr_activity\n",
    "    nature_oriented: rr_nature\n",
    "    food_oriented: rr_food\n",
    "    shopping_oriented: rr_shopping"
   ]
  },
  {
   "cell_type": "code",
   "execution_count": 76,
   "metadata": {},
   "outputs": [],
   "source": [
    "class rr_flavor(BaseModel):\n",
    "    rating: int\n",
    "    reason: str\n",
    "\n",
    "class rr_freshness(BaseModel):\n",
    "    rating: int\n",
    "    reason: str\n",
    "\n",
    "class rr_healthy(BaseModel):\n",
    "    rating: int\n",
    "    reason: str\n",
    "\n",
    "class rr_service(BaseModel):    \n",
    "    rating: int\n",
    "    reason: str\n",
    "\n",
    "class rr_enviornment(BaseModel):\n",
    "    rating: int\n",
    "    reason: str\n",
    "\n",
    "class rr_value(BaseModel):\n",
    "    rating: int\n",
    "    reason: str\n",
    "\n",
    "class RestaurantEvaluation(BaseModel):\n",
    "    flavor: rr_flavor\n",
    "    freshness: rr_freshness\n",
    "    healthy: rr_healthy\n",
    "    service: rr_service\n",
    "    enviornment: rr_enviornment\n",
    "    value: rr_value"
   ]
  },
  {
   "cell_type": "code",
   "execution_count": 77,
   "metadata": {},
   "outputs": [],
   "source": [
    "#generation into json format\n",
    "chat_completion = client.beta.chat.completions.parse(\n",
    "    model=\"gpt-4o-mini\",\n",
    "    temperature=0,\n",
    "    messages=[\n",
    "        {\"role\": \"system\",\"content\": system_prompt,},\n",
    "        {\"role\": \"user\",\"content\": user_prompt,}\n",
    "    ],\n",
    "    response_format=RestaurantEvaluation\n",
    ")"
   ]
  },
  {
   "cell_type": "code",
   "execution_count": null,
   "metadata": {},
   "outputs": [],
   "source": [
    "#generation into natural language\n",
    "chat_completion = client.chat.completions.create(\n",
    "    model=\"gpt-4o-mini\",\n",
    "    temperature=0,\n",
    "    messages=[\n",
    "        {\"role\": \"system\",\"content\": system_prompt,},\n",
    "        {\"role\": \"user\",\"content\": user_prompt,}\n",
    "    ]\n",
    ")\n"
   ]
  },
  {
   "cell_type": "code",
   "execution_count": 74,
   "metadata": {},
   "outputs": [
    {
     "name": "stdout",
     "output_type": "stream",
     "text": [
      "{\"quality\":{\"rating\":4,\"reason\":\"Rooms are stylish and well-designed, featuring comfortable beds and modern amenities like Nespresso machines. However, some guests noted that rooms were small and had issues like slow drains.\"},\"location\":{\"rating\":5,\"reason\":\"The hotel is centrally located in Center City, within walking distance to major attractions like Reading Terminal Market and Independence Hall, making it very convenient for travelers.\"},\"service\":{\"rating\":4,\"reason\":\"Staff received consistent praise for being friendly and accommodating. However, there were occasional mentions of slow check-in and valet service issues.\"},\"safety\":{\"rating\":4,\"reason\":\"Guests felt safe during their stay, with good COVID-19 safety measures in place, although some noted that not all staff consistently wore masks.\"}}\n"
     ]
    }
   ],
   "source": [
    "#hotel - canopy\n",
    "print(chat_completion.choices[0].message.parsed.json())"
   ]
  },
  {
   "cell_type": "code",
   "execution_count": 71,
   "metadata": {},
   "outputs": [
    {
     "name": "stdout",
     "output_type": "stream",
     "text": [
      "{\"quality\":{\"rating\":2,\"reason\":\"Rooms are often described as small, dated, and not well-maintained, with issues like cleanliness and uncomfortable beds. Many guests reported problems with amenities and overall upkeep.\"},\"location\":{\"rating\":4,\"reason\":\"Centrally located in Philadelphia, within walking distance to major attractions, restaurants, and public transport. However, some guests noted that the immediate area can be quiet at night.\"},\"service\":{\"rating\":2,\"reason\":\"Service quality is inconsistent, with many guests reporting rude or unhelpful staff. Issues with housekeeping and communication were frequently mentioned, along with long wait times for assistance.\"},\"safety\":{\"rating\":3,\"reason\":\"While the hotel has security measures in place, some guests reported feeling unsafe due to noise disturbances and incidents involving pests. The area is generally busy, but some guests expressed concerns about safety at night.\"}}\n"
     ]
    }
   ],
   "source": [
    "#hotel - sonesta\n",
    "print(chat_completion.choices[0].message.parsed.json())"
   ]
  },
  {
   "cell_type": "code",
   "execution_count": 42,
   "metadata": {},
   "outputs": [
    {
     "name": "stdout",
     "output_type": "stream",
     "text": [
      "{\"family_oriented\":{\"level\":2,\"reason\":\"Independence Hall offers educational tours that can engage children, but the historical content may not fully captivate younger audiences.\"},\"history_oriented\":{\"level\":3,\"reason\":\"The site is pivotal in American history, being where the Declaration of Independence and the Constitution were signed, making it a must-visit for history enthusiasts.\"},\"activity_oriented\":{\"level\":1,\"reason\":\"The attraction involves a guided tour with minimal physical activity, primarily consisting of sitting and listening to historical narratives.\"},\"nature_oriented\":{\"level\":1,\"reason\":\"Independence Hall is primarily an indoor historical site with limited access to natural scenery, although it is located in a park-like setting.\"},\"food_oriented\":{\"level\":0,\"reason\":\"There are no food-related activities or offerings directly associated with Independence Hall.\"}}\n"
     ]
    }
   ],
   "source": [
    "#attraction - Independence hall\n",
    "print(chat_completion.choices[0].message.parsed.json())"
   ]
  },
  {
   "cell_type": "code",
   "execution_count": 45,
   "metadata": {},
   "outputs": [
    {
     "name": "stdout",
     "output_type": "stream",
     "text": [
      "{\"family_oriented\":{\"level\":3,\"reason\":\"The zoo offers numerous family-friendly activities, including a petting zoo, playgrounds, and special events like Boo at the Zoo and LumiNature, making it a great destination for families.\"},\"history_oriented\":{\"level\":2,\"reason\":\"As America's first zoo, it has historical significance, but the focus is more on animal exhibits than on educational historical content.\"},\"activity_oriented\":{\"level\":2,\"reason\":\"Visitors can engage in various activities such as animal feeding, swan boat rides, and playgrounds, but the overall activity level is moderate.\"},\"nature_oriented\":{\"level\":2,\"reason\":\"While the zoo features a variety of animals and some naturalistic exhibits, it is primarily an urban zoo with limited access to expansive natural scenery.\"},\"food_oriented\":{\"level\":1,\"reason\":\"The zoo has food options available, but they are generally considered overpriced and of low quality, with many visitors recommending bringing their own food.\"}}\n"
     ]
    }
   ],
   "source": [
    "#attraction - Philadelphia zoo\n",
    "print(chat_completion.choices[0].message.parsed.json())"
   ]
  },
  {
   "cell_type": "code",
   "execution_count": 48,
   "metadata": {},
   "outputs": [
    {
     "name": "stdout",
     "output_type": "stream",
     "text": [
      "{\"family_oriented\":{\"level\":2,\"reason\":\"The museum offers family-friendly programs like Art Splash for children during summer and interactive exhibits, making it accessible for families.\"},\"history_oriented\":{\"level\":3,\"reason\":\"The museum houses extensive collections of historical art, including American, European, and Asian art, as well as period rooms that recreate historical settings.\"},\"activity_oriented\":{\"level\":2,\"reason\":\"Visitors can engage in various activities, including exploring multiple floors and exhibits, but it is primarily a leisurely experience rather than physically demanding.\"},\"nature_oriented\":{\"level\":1,\"reason\":\"While the museum has beautiful grounds and views of the city, it is primarily an indoor attraction with limited direct access to nature.\"},\"food_oriented\":{\"level\":2,\"reason\":\"The museum features onsite cafes with a variety of food options, but it is not primarily a food-oriented attraction.\"}}\n"
     ]
    }
   ],
   "source": [
    "#attraction - Philadelphia Museum of Art\n",
    "print(chat_completion.choices[0].message.parsed.json())"
   ]
  },
  {
   "cell_type": "code",
   "execution_count": 78,
   "metadata": {},
   "outputs": [
    {
     "name": "stdout",
     "output_type": "stream",
     "text": [
      "{\"flavor\":{\"rating\":4,\"reason\":\"The food is generally well-received, with standout dishes like the guacamole and tacos receiving consistent praise for their flavor.\"},\"freshness\":{\"rating\":4,\"reason\":\"Many reviews highlight the freshness of ingredients, particularly in the guacamole and seafood dishes.\"},\"healthy\":{\"rating\":3,\"reason\":\"While there are healthy options like salads and guacamole, some dishes are rich and heavy, which may not appeal to health-conscious diners.\"},\"service\":{\"rating\":3,\"reason\":\"Service experiences are mixed; while some patrons report friendly and attentive staff, others mention long waits and inattentive service.\"},\"enviornment\":{\"rating\":4,\"reason\":\"The vibrant and funky decor, along with a lively atmosphere, makes for an enjoyable dining experience, though it can get quite loud.\"},\"value\":{\"rating\":3,\"reason\":\"Prices are considered high for portion sizes, leading to mixed feelings about overall value, especially for appetizers and drinks.\"}}\n"
     ]
    }
   ],
   "source": [
    "#restaurant - El Vez\n",
    "print(chat_completion.choices[0].message.parsed.json())"
   ]
  },
  {
   "cell_type": "code",
   "execution_count": null,
   "metadata": {},
   "outputs": [],
   "source": []
  }
 ],
 "metadata": {
  "kernelspec": {
   "display_name": "torchgpu",
   "language": "python",
   "name": "python3"
  },
  "language_info": {
   "codemirror_mode": {
    "name": "ipython",
    "version": 3
   },
   "file_extension": ".py",
   "mimetype": "text/x-python",
   "name": "python",
   "nbconvert_exporter": "python",
   "pygments_lexer": "ipython3",
   "version": "3.11.0"
  }
 },
 "nbformat": 4,
 "nbformat_minor": 2
}
