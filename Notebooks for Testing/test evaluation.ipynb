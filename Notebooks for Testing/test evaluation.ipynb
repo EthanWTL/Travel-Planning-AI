{
 "cells": [
  {
   "cell_type": "code",
   "execution_count": 28,
   "metadata": {},
   "outputs": [],
   "source": [
    "import ollama\n",
    "import ast\n",
    "import json"
   ]
  },
  {
   "cell_type": "code",
   "execution_count": 21,
   "metadata": {},
   "outputs": [],
   "source": [
    "with open('../Outputs/Preference/low_budget+museum_1.txt', 'r') as f:\n",
    "    text = f.read()"
   ]
  },
  {
   "cell_type": "code",
   "execution_count": 15,
   "metadata": {},
   "outputs": [],
   "source": [
    "prompt = 'You are a helper robot help with evaluating the travel plan. Your job is to extract all the business mentioned in the time schedule, including the name of the restaurants, hotels, and attractions. Only keep the information that is in the time slot, not general recommendations at the bottom. Parse the information into array of string format. You should only output this array of strings, nothing else! Here is the travel plan: ' + text\n",
    "response = ollama.generate(model='llama3.1', prompt=prompt, options={'num_ctx': 10000})\n",
    "with open(\"../Evaluation/Helper/low_budget+museum_1.txt\", \"w\") as f:\n",
    "    f.write(response['response'])"
   ]
  },
  {
   "cell_type": "code",
   "execution_count": null,
   "metadata": {},
   "outputs": [
    {
     "data": {
      "text/plain": [
       "[\"Pat's King of Steaks\",\n",
       " 'Philadelphia Museum of Art',\n",
       " 'Franklin Institute Science Museum',\n",
       " 'Schuylkill River Trail',\n",
       " 'El Vez',\n",
       " 'Aloft Philadelphia Airport',\n",
       " 'Green Eggs Cafe',\n",
       " 'Independence Hall',\n",
       " 'Reading Terminal Market',\n",
       " 'Museum of American Jewish History']"
      ]
     },
     "execution_count": 19,
     "metadata": {},
     "output_type": "execute_result"
    }
   ],
   "source": [
    "#cast a string into an array\n",
    "array = ast.literal_eval(response['response'])\n",
    "array"
   ]
  },
  {
   "cell_type": "code",
   "execution_count": 24,
   "metadata": {},
   "outputs": [
    {
     "data": {
      "text/plain": [
       "'Schuylkill River Trail'"
      ]
     },
     "execution_count": 24,
     "metadata": {},
     "output_type": "execute_result"
    }
   ],
   "source": [
    "array[3]"
   ]
  },
  {
   "cell_type": "code",
   "execution_count": 52,
   "metadata": {},
   "outputs": [],
   "source": [
    "all = []\n",
    "\n",
    "#load all_pruned.jsonl into a list of dictionaries\n",
    "with open('../Datasets/all_pruned.jsonl', 'r') as file:\n",
    "    for line in file:\n",
    "        # Parse each line as a JSON object and append to the list\n",
    "        json_obj = json.loads(line.strip())  # strip() removes any leading/trailing whitespace\n",
    "        all.append(json_obj)"
   ]
  },
  {
   "cell_type": "code",
   "execution_count": 53,
   "metadata": {},
   "outputs": [
    {
     "data": {
      "text/plain": [
       "8"
      ]
     },
     "execution_count": 53,
     "metadata": {},
     "output_type": "execute_result"
    }
   ],
   "source": [
    "mentioned = []\n",
    "\n",
    "for business in array:\n",
    "    for place in all:\n",
    "        if place['name'] == business:\n",
    "            mentioned.append(place)\n",
    "len(mentioned)"
   ]
  },
  {
   "cell_type": "code",
   "execution_count": 54,
   "metadata": {},
   "outputs": [
    {
     "name": "stdout",
     "output_type": "stream",
     "text": [
      "Pat's King of Steaks\n",
      "Philadelphia Museum of Art\n",
      "Schuylkill River Trail\n",
      "El Vez\n",
      "Aloft Philadelphia Airport\n",
      "Green Eggs Cafe\n",
      "Independence Hall\n",
      "Reading Terminal Market\n"
     ]
    }
   ],
   "source": [
    "for mention in mentioned:\n",
    "    print(mention['name'])"
   ]
  },
  {
   "cell_type": "code",
   "execution_count": 55,
   "metadata": {},
   "outputs": [
    {
     "data": {
      "text/plain": [
       "[\"Pat's King of Steaks\",\n",
       " 'Philadelphia Museum of Art',\n",
       " 'Franklin Institute Science Museum',\n",
       " 'Schuylkill River Trail',\n",
       " 'El Vez',\n",
       " 'Aloft Philadelphia Airport',\n",
       " 'Green Eggs Cafe',\n",
       " 'Independence Hall',\n",
       " 'Reading Terminal Market',\n",
       " 'Museum of American Jewish History']"
      ]
     },
     "execution_count": 55,
     "metadata": {},
     "output_type": "execute_result"
    }
   ],
   "source": [
    "array"
   ]
  },
  {
   "cell_type": "code",
   "execution_count": null,
   "metadata": {},
   "outputs": [],
   "source": [
    "# dataset vs output\n",
    "# National Museum of American Jewish History vs Museum of American Jewish History\n",
    "# The Franklin Institute Science Museum vs Franklin Institute Science Museum\n",
    "# need to use similarity score here haha."
   ]
  }
 ],
 "metadata": {
  "kernelspec": {
   "display_name": "torchgpu",
   "language": "python",
   "name": "python3"
  },
  "language_info": {
   "codemirror_mode": {
    "name": "ipython",
    "version": 3
   },
   "file_extension": ".py",
   "mimetype": "text/x-python",
   "name": "python",
   "nbconvert_exporter": "python",
   "pygments_lexer": "ipython3",
   "version": "3.11.0"
  }
 },
 "nbformat": 4,
 "nbformat_minor": 2
}
