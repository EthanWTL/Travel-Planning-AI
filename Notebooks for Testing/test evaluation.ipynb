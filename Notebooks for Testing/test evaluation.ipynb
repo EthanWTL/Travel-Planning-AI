{
 "cells": [
  {
   "cell_type": "code",
   "execution_count": 5,
   "metadata": {},
   "outputs": [],
   "source": [
    "import ollama\n",
    "import ast\n",
    "import json\n",
    "from Levenshtein import ratio\n",
    "from pprint import pprint"
   ]
  },
  {
   "cell_type": "code",
   "execution_count": null,
   "metadata": {},
   "outputs": [],
   "source": [
    "prefix_path = '../Evaluation/Helper/plan_extraction_helper_llm.txt'\n",
    "\n",
    "travelPlan_file_path = \"../Outputs/No Limitation/6.txt\"\n",
    "with open(travelPlan_file_path, 'r') as f:\n",
    "        plan_text = f.read()\n",
    "        \n",
    "output = get_helper_response(prefix_path,plan_text)\n",
    "#just to make sure we grab the actuall json place, we will start with the first [ and end with the last ]\n",
    "output = output[output.find('['):output.rfind(']')+1]\n",
    "output_json = json.loads(output)\n",
    "\n",
    "with open('../Evaluation/Outputs/No Limitation 6 evaluation.json', 'w') as f:\n",
    "    json.dump(output_json, f)"
   ]
  },
  {
   "cell_type": "code",
   "execution_count": null,
   "metadata": {},
   "outputs": [],
   "source": []
  },
  {
   "cell_type": "code",
   "execution_count": null,
   "metadata": {},
   "outputs": [],
   "source": []
  },
  {
   "cell_type": "code",
   "execution_count": null,
   "metadata": {},
   "outputs": [],
   "source": []
  },
  {
   "cell_type": "code",
   "execution_count": null,
   "metadata": {},
   "outputs": [],
   "source": []
  },
  {
   "cell_type": "code",
   "execution_count": null,
   "metadata": {},
   "outputs": [],
   "source": []
  },
  {
   "cell_type": "code",
   "execution_count": null,
   "metadata": {},
   "outputs": [],
   "source": []
  },
  {
   "cell_type": "code",
   "execution_count": null,
   "metadata": {},
   "outputs": [],
   "source": []
  },
  {
   "cell_type": "code",
   "execution_count": 12,
   "metadata": {},
   "outputs": [],
   "source": [
    "def get_helper_response(helper_prefix_path, plan_text):\n",
    "    with open(helper_prefix_path, 'r') as f:\n",
    "        prefix = f.read()\n",
    "    prompt = prefix + plan_text\n",
    "    response = ollama.generate(model='llama3.1', prompt=prompt, options={'num_ctx': 10000})\n",
    "    return response['response']\n",
    "\n",
    "def find_mentioned_business(travelPlan_file_path, allBusiness_file_path):\n",
    "    #load travel plan\n",
    "    with open(travelPlan_file_path, 'r') as f:\n",
    "        plan_text = f.read()\n",
    "\n",
    "    #load all business\n",
    "    all_business = []\n",
    "    with open(allBusiness_file_path, 'r') as file:\n",
    "        for line in file:\n",
    "            json_obj = json.loads(line.strip())\n",
    "            all_business.append(json_obj)\n",
    "\n",
    "    #get mentioned business from the raw travel plan\n",
    "    metioned_business_array = ast.literal_eval(get_helper_response(plan_text))\n",
    "    \n",
    "\n",
    "    #find the actual business from the database\n",
    "    retrieved_mentioned_business = []\n",
    "    score_list = []\n",
    "    for metioned_business in metioned_business_array:\n",
    "        scores = []\n",
    "        for business in all_business:\n",
    "            similarity_score = ratio(business['name'].lower(), metioned_business.lower())\n",
    "            scores.append(similarity_score)\n",
    "        index = scores.index(max(scores))\n",
    "        score_list.append(max(scores))\n",
    "        retrieved_mentioned_business.append(all_business[index])\n",
    "\n",
    "    return retrieved_mentioned_business,score_list,metioned_business_array\n",
    "    "
   ]
  },
  {
   "cell_type": "code",
   "execution_count": null,
   "metadata": {},
   "outputs": [],
   "source": [
    "travelPlan_file_path = \"../Outputs/Preference/Theme_History_1.txt\"\n",
    "allBusiness_file_path = \"../Datasets/all_pruned.jsonl\"\n",
    "biz,scores,original = find_mentioned_business(travelPlan_file_path, allBusiness_file_path)\n",
    "for i in range(len(biz)):\n",
    "    print(biz[i]['name'] , scores[i],original[i])"
   ]
  },
  {
   "cell_type": "code",
   "execution_count": null,
   "metadata": {},
   "outputs": [],
   "source": []
  }
 ],
 "metadata": {
  "kernelspec": {
   "display_name": "torchgpu",
   "language": "python",
   "name": "python3"
  },
  "language_info": {
   "codemirror_mode": {
    "name": "ipython",
    "version": 3
   },
   "file_extension": ".py",
   "mimetype": "text/x-python",
   "name": "python",
   "nbconvert_exporter": "python",
   "pygments_lexer": "ipython3",
   "version": "3.11.0"
  }
 },
 "nbformat": 4,
 "nbformat_minor": 2
}
