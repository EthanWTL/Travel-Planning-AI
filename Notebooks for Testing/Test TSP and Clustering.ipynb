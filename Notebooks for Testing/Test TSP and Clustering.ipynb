{
 "cells": [
  {
   "cell_type": "code",
   "execution_count": 1,
   "metadata": {},
   "outputs": [],
   "source": [
    "import json\n",
    "import numpy as np\n",
    "import sys"
   ]
  },
  {
   "cell_type": "code",
   "execution_count": 2,
   "metadata": {},
   "outputs": [],
   "source": [
    "plan = [{'days': '1',\n",
    "  'breakfast': 'TwnzM8mJn_nT2PJf1x-9kQ',\n",
    "  'morning_attractions': ['Ib9HV7ekw459jM1Ksdiyiw'],\n",
    "  'lunch': 'wHkYLlZyPXllrQRlvidUlg',\n",
    "  'afternoon_attractions': ['kbEVlzQLcYS3JSQPG9QMOQ',\n",
    "   '8_O6LXLyMgpq1g9CIwcW4w'],\n",
    "  'dinner': 'S8ZFYEgMejpChID8tzKo9A',\n",
    "  'night_attractions': ['pxZAz8pv18wK_t-m8WpN0g'],\n",
    "  'accommodation': '3QPAh9VvYNTnqAFgBeBcng'},\n",
    " {'days': '2',\n",
    "  'breakfast': 'rYqmaOIULRouz_1db07OdQ',\n",
    "  'morning_attractions': ['Qw7tz-UkPrpXaVidWuab4Q'],\n",
    "  'lunch': '6ajnOk0GcY9xbb5Ocaw8Gw',\n",
    "  'afternoon_attractions': ['4mWzXhD8vo0bABVCGAhlqA',\n",
    "   'ytynqOUb3hjKeJfRj5Tshw'],\n",
    "  'dinner': '05ev984NYfimRN0UiFrxaA',\n",
    "  'night_attractions': ['dBRWKIS7h-qZCi8EjUJ2HA'],\n",
    "  'accommodation': '3QPAh9VvYNTnqAFgBeBcng'}] \n",
    "\n",
    "with open('../Datasets/Attractions_task1.jsonl', 'r') as f:\n",
    "    data = [json.loads(line) for line in f]\n",
    "\n",
    "with open('../Datasets/Hotels_task1.jsonl', 'r') as f:\n",
    "    data_hotel = [json.loads(line) for line in f]\n",
    "\n",
    "def getCordinate(id):\n",
    "    for attraction in data:\n",
    "        if attraction['business_id'] == id:\n",
    "            return (attraction['latitude'], attraction['longitude'])\n",
    "def getCordinate_Hotel(id):\n",
    "    for hotel in data_hotel:\n",
    "        if hotel['business_id'] == id:\n",
    "            return (hotel['latitude'], hotel['longitude'])"
   ]
  },
  {
   "cell_type": "code",
   "execution_count": 3,
   "metadata": {},
   "outputs": [
    {
     "data": {
      "text/plain": [
       "[[(39.946396818, -75.1609669488),\n",
       "  (39.9488980012, -75.1500296367),\n",
       "  (39.9495774962, -75.1503095688),\n",
       "  (39.953893, -75.149068),\n",
       "  (39.9445424967, -75.1414754636)],\n",
       " [(39.946396818, -75.1609669488),\n",
       "  (39.965573, -75.180969),\n",
       "  (39.942712, -75.159313),\n",
       "  (39.9533414645, -75.1588545174),\n",
       "  (39.9582109, -75.1731373822)]]"
      ]
     },
     "execution_count": 3,
     "metadata": {},
     "output_type": "execute_result"
    }
   ],
   "source": [
    "#get the cordinates\n",
    "cordinates = []\n",
    "for day in plan:\n",
    "    cordinate_one_day = []\n",
    "    \n",
    "    cordinate_one_day.append(getCordinate_Hotel(day['accommodation']))\n",
    "    \n",
    "    for attraction in day['morning_attractions']:\n",
    "        cordinate_one_day.append(getCordinate(attraction))\n",
    "    for attraction in day['afternoon_attractions']:\n",
    "        cordinate_one_day.append(getCordinate(attraction))\n",
    "    for attraction in day['night_attractions']:\n",
    "        cordinate_one_day.append(getCordinate(attraction))\n",
    "            \n",
    "    cordinates.append(cordinate_one_day)\n",
    "cordinates"
   ]
  },
  {
   "cell_type": "code",
   "execution_count": 4,
   "metadata": {},
   "outputs": [],
   "source": [
    "def getDistanceMatrix(cordinates):\n",
    "    n = len(cordinates)\n",
    "    distance_matrix = np.zeros((n, n))\n",
    "    for i in range(n):\n",
    "        for j in range(i+1, n):\n",
    "            distance_matrix[i][j] = distance_matrix[j][i] = ((cordinates[i][0]*1000 - cordinates[j][0]*1000)**2 + (cordinates[i][1]*1000 - cordinates[j][1]*1000)**2)**0.5\n",
    "    return distance_matrix"
   ]
  },
  {
   "cell_type": "code",
   "execution_count": 5,
   "metadata": {},
   "outputs": [
    {
     "data": {
      "text/plain": [
       "array([[ 0.        , 11.21965745, 11.12189113, 14.06334694, 19.57949189],\n",
       "       [11.21965745,  0.        ,  0.73489825,  5.08672372,  9.59918209],\n",
       "       [11.12189113,  0.73489825,  0.        ,  4.49055299, 10.16821689],\n",
       "       [14.06334694,  5.08672372,  4.49055299,  0.        , 12.04485454],\n",
       "       [19.57949189,  9.59918209, 10.16821689, 12.04485454,  0.        ]])"
      ]
     },
     "execution_count": 5,
     "metadata": {},
     "output_type": "execute_result"
    }
   ],
   "source": [
    "cordinates_one_day = cordinates[0]\n",
    "\n",
    "distance_matrix = getDistanceMatrix(cordinates_one_day)\n",
    "distance_matrix"
   ]
  },
  {
   "cell_type": "code",
   "execution_count": 6,
   "metadata": {},
   "outputs": [],
   "source": [
    "def totalCost(mask, pos, n, cost, info_lists):\n",
    "    distance_list = []\n",
    "    i_list = []\n",
    "    # Base case: if all cities are visited, return the\n",
    "    # cost to return to the starting city (0)\n",
    "    if mask == (1 << n) - 1:\n",
    "        return cost[pos][0]\n",
    "\n",
    "    ans = sys.maxsize   \n",
    "\n",
    "    # Try visiting every city that has not been visited yet\n",
    "    for i in range(n):\n",
    "        if (mask & (1 << i)) == 0: \n",
    "            i_list.append(i)\n",
    "            # If city i is not visited, visit it and \n",
    "             #  update the mask\n",
    "            distance_list.append(cost[pos][i] +\n",
    "                      totalCost(mask | (1 << i), i, n, cost, info_lists))\n",
    "        \n",
    "\n",
    "    info_list = [i_list, distance_list]\n",
    "    info_lists.append(info_list)\n",
    "    \n",
    "    ans = min(distance_list)\n",
    "    return ans"
   ]
  },
  {
   "cell_type": "code",
   "execution_count": 7,
   "metadata": {},
   "outputs": [
    {
     "name": "stdout",
     "output_type": "stream",
     "text": [
      "the short distance is:  47.564172952389654\n"
     ]
    }
   ],
   "source": [
    "n = len(distance_matrix)\n",
    "info_list = []\n",
    "optimized_distance = totalCost(1, 0, n, distance_matrix,info_list)\n",
    "print(\"the short distance is: \", optimized_distance)"
   ]
  },
  {
   "cell_type": "code",
   "execution_count": 8,
   "metadata": {},
   "outputs": [
    {
     "name": "stdout",
     "output_type": "stream",
     "text": [
      " the shortest path is:  [[0, 2, 1, 3, 4], [0, 4, 3, 1, 2]]\n"
     ]
    }
   ],
   "source": [
    "#get a list of 1 to n\n",
    "candidates = list(range(n-1))\n",
    "#add 1 to the values\n",
    "candidates = [x+1 for x in candidates]\n",
    "\n",
    "moves = []\n",
    "\n",
    "while len(candidates) > 0:\n",
    "    #find the last one in the lnfo_list\n",
    "    for i in range(len(info_list)):\n",
    "        if info_list[i][0] == candidates:\n",
    "            next_move = info_list[i][0][np.argmin(info_list[i][1])]\n",
    "            moves.append(next_move)\n",
    "            #take next move out of candidates\n",
    "            candidates.remove(next_move)\n",
    "\n",
    "moves_reversed = moves[::-1]\n",
    "optimized_route = [[0] + moves, [0] + moves_reversed]\n",
    "print(\" the shortest path is: \", optimized_route)\n",
    "            "
   ]
  },
  {
   "cell_type": "markdown",
   "metadata": {},
   "source": [
    "Validation!"
   ]
  },
  {
   "cell_type": "code",
   "execution_count": 9,
   "metadata": {},
   "outputs": [],
   "source": [
    "distance_matrix = [\n",
    "        [0, 10, 15, 50],\n",
    "        [10, 0, 50, 25],\n",
    "        [15, 50, 0, 30],\n",
    "        [50, 25, 30, 0]\n",
    "    ]"
   ]
  },
  {
   "cell_type": "code",
   "execution_count": 10,
   "metadata": {},
   "outputs": [
    {
     "name": "stdout",
     "output_type": "stream",
     "text": [
      "80\n"
     ]
    }
   ],
   "source": [
    "n = len(distance_matrix)\n",
    "info_list = []\n",
    "optimized_distance = totalCost(1, 0, n, distance_matrix,info_list)\n",
    "print(optimized_distance)"
   ]
  },
  {
   "cell_type": "code",
   "execution_count": 11,
   "metadata": {},
   "outputs": [
    {
     "data": {
      "text/plain": [
       "[[[3], [80]],\n",
       " [[2], [45]],\n",
       " [[2, 3], [130, 70]],\n",
       " [[3], [75]],\n",
       " [[1], [35]],\n",
       " [[1, 3], [125, 65]],\n",
       " [[2], [65]],\n",
       " [[1], [60]],\n",
       " [[1, 2], [90, 90]],\n",
       " [[1, 2, 3], [80, 80, 140]]]"
      ]
     },
     "execution_count": 11,
     "metadata": {},
     "output_type": "execute_result"
    }
   ],
   "source": [
    "info_list"
   ]
  },
  {
   "cell_type": "code",
   "execution_count": 12,
   "metadata": {},
   "outputs": [
    {
     "name": "stdout",
     "output_type": "stream",
     "text": [
      "[[0, 1, 3, 2, 0], [0, 2, 3, 1, 0]]\n"
     ]
    }
   ],
   "source": [
    "#get a list of 1 to n\n",
    "candidates = list(range(n-1))\n",
    "#add 1 to the values\n",
    "candidates = [x+1 for x in candidates]\n",
    "\n",
    "moves = []\n",
    "\n",
    "while len(candidates) > 0:\n",
    "    #find the last one in the lnfo_list\n",
    "    for i in range(len(info_list)):\n",
    "        if info_list[i][0] == candidates:\n",
    "            next_move = info_list[i][0][np.argmin(info_list[i][1])]\n",
    "            moves.append(next_move)\n",
    "            #take next move out of candidates\n",
    "            candidates.remove(next_move)\n",
    "\n",
    "moves_reversed = moves[::-1]\n",
    "optimized_route = [[0] + moves + [0], [0] + moves_reversed + [0]]\n",
    "print(optimized_route)"
   ]
  },
  {
   "cell_type": "markdown",
   "metadata": {},
   "source": [
    "Multi day"
   ]
  },
  {
   "cell_type": "code",
   "execution_count": null,
   "metadata": {},
   "outputs": [],
   "source": []
  },
  {
   "cell_type": "code",
   "execution_count": null,
   "metadata": {},
   "outputs": [],
   "source": []
  },
  {
   "cell_type": "code",
   "execution_count": null,
   "metadata": {},
   "outputs": [],
   "source": []
  },
  {
   "cell_type": "code",
   "execution_count": 13,
   "metadata": {},
   "outputs": [],
   "source": [
    "def totalCost_multiday(mask, pos, day, n, cost, info_lists):\n",
    "    current_day_visits = len(cordinates[day])\n",
    "    distance_list = []\n",
    "    i_list = []\n",
    "    # Base case: if all cities are visited, return the\n",
    "    # cost to return to the starting city (0)\n",
    "    if mask == (1 << n) - 1:\n",
    "        return cost[pos][0]\n",
    "\n",
    "    ans = sys.maxsize   \n",
    "\n",
    "    # Try visiting every city that has not been visited yet\n",
    "    for i in range(n):\n",
    "        if (mask & (1 << i)) == 0: \n",
    "            i_list.append(i)\n",
    "            # If city i is not visited, visit it and \n",
    "             #  update the mask\n",
    "            distance_list.append(cost[pos][i] +\n",
    "                      totalCost(mask | (1 << i), i, day, n, cost, info_lists))\n",
    "        \n",
    "\n",
    "    info_list = [i_list, distance_list]\n",
    "    info_lists.append(info_list)\n",
    "    \n",
    "    ans = min(distance_list)\n",
    "    return ans"
   ]
  },
  {
   "cell_type": "code",
   "execution_count": 14,
   "metadata": {},
   "outputs": [
    {
     "data": {
      "text/plain": [
       "[[(39.946396818, -75.1609669488),\n",
       "  (39.9488980012, -75.1500296367),\n",
       "  (39.9495774962, -75.1503095688),\n",
       "  (39.953893, -75.149068),\n",
       "  (39.9445424967, -75.1414754636)],\n",
       " [(39.946396818, -75.1609669488),\n",
       "  (39.965573, -75.180969),\n",
       "  (39.942712, -75.159313),\n",
       "  (39.9533414645, -75.1588545174),\n",
       "  (39.9582109, -75.1731373822)]]"
      ]
     },
     "execution_count": 14,
     "metadata": {},
     "output_type": "execute_result"
    }
   ],
   "source": [
    "cordinates"
   ]
  },
  {
   "cell_type": "code",
   "execution_count": 15,
   "metadata": {},
   "outputs": [
    {
     "data": {
      "text/plain": [
       "(39.946396818, -75.1609669488)"
      ]
     },
     "execution_count": 15,
     "metadata": {},
     "output_type": "execute_result"
    }
   ],
   "source": [
    "cordinates[0][0]"
   ]
  },
  {
   "cell_type": "code",
   "execution_count": 16,
   "metadata": {},
   "outputs": [
    {
     "data": {
      "text/plain": [
       "[(39.946396818, -75.1609669488),\n",
       " (39.9488980012, -75.1500296367),\n",
       " (39.9495774962, -75.1503095688),\n",
       " (39.953893, -75.149068),\n",
       " (39.9445424967, -75.1414754636),\n",
       " (39.946396818, -75.1609669488),\n",
       " (39.965573, -75.180969),\n",
       " (39.942712, -75.159313),\n",
       " (39.9533414645, -75.1588545174),\n",
       " (39.9582109, -75.1731373822)]"
      ]
     },
     "execution_count": 16,
     "metadata": {},
     "output_type": "execute_result"
    }
   ],
   "source": [
    "cordinates_all_days = []\n",
    "for i in range(len(cordinates)):\n",
    "    for business in cordinates[i]:\n",
    "        cordinates_all_days.append(business)\n",
    "\n",
    "cordinates_all_days"
   ]
  },
  {
   "cell_type": "code",
   "execution_count": 17,
   "metadata": {},
   "outputs": [
    {
     "data": {
      "text/plain": [
       "array([[ 0.        , 11.21965745, 11.12189113, 14.06334694, 19.57949189,\n",
       "         0.        , 27.70934875,  4.03898878,  7.25882094, 16.96148527],\n",
       "       [11.21965745,  0.        ,  0.73489825,  5.08672372,  9.59918209,\n",
       "        11.21965745, 35.14683181, 11.15560151,  9.88042942, 24.91381115],\n",
       "       [11.12189113,  0.73489825,  0.        ,  4.49055299, 10.16821689,\n",
       "        11.12189113, 34.58116342, 11.32240308,  9.33721607, 24.40583385],\n",
       "       [14.06334694,  5.08672372,  4.49055299,  0.        , 12.04485454,\n",
       "        14.06334694, 33.97199142, 15.16491958,  9.80204643, 24.45361773],\n",
       "       [19.57949189,  9.59918209, 10.16821689, 12.04485454,  0.        ,\n",
       "        19.57949189, 44.74395475, 17.93121365, 19.47956225, 34.48626304],\n",
       "       [ 0.        , 11.21965745, 11.12189113, 14.06334694, 19.57949189,\n",
       "         0.        , 27.70934875,  4.03898878,  7.25882094, 16.96148527],\n",
       "       [27.70934875, 35.14683181, 34.58116342, 33.97199142, 44.74395475,\n",
       "        27.70934875,  0.        , 31.48980243, 25.27173918, 10.7487094 ],\n",
       "       [ 4.03898878, 11.15560151, 11.32240308, 15.16491958, 17.93121365,\n",
       "         4.03898878, 31.48980243,  0.        , 10.63934781, 20.76847237],\n",
       "       [ 7.25882094,  9.88042942,  9.33721607,  9.80204643, 19.47956225,\n",
       "         7.25882094, 25.27173918, 10.63934781,  0.        , 15.09011693],\n",
       "       [16.96148527, 24.91381115, 24.40583385, 24.45361773, 34.48626304,\n",
       "        16.96148527, 10.7487094 , 20.76847237, 15.09011693,  0.        ]])"
      ]
     },
     "execution_count": 17,
     "metadata": {},
     "output_type": "execute_result"
    }
   ],
   "source": [
    "distance_matrix = getDistanceMatrix(cordinates_all_days)\n",
    "distance_matrix"
   ]
  },
  {
   "cell_type": "code",
   "execution_count": 18,
   "metadata": {},
   "outputs": [],
   "source": [
    "import pandas as pd\n",
    "\n",
    "# Convert the array into a DataFrame (table)\n",
    "df = pd.DataFrame(distance_matrix)\n",
    "\n",
    "# Save the DataFrame to an Excel file\n",
    "df.to_excel('output.xlsx', index=False)"
   ]
  },
  {
   "cell_type": "code",
   "execution_count": 19,
   "metadata": {},
   "outputs": [],
   "source": [
    "def getHotelIndex(day,cordinates):\n",
    "    hotel_index = 0\n",
    "    if day > 0:\n",
    "        for j in range(day):\n",
    "            hotel_index += len(cordinates[j])\n",
    "    return hotel_index\n",
    "\n",
    "def totalCost_multiday(mask, pos, day, cordinates, n, visited, cost, info_lists):\n",
    "    visit_requirement = len(cordinates[day])\n",
    "    distance_list = []\n",
    "    i_list = []\n",
    "\n",
    "    hotel_index = getHotelIndex(day,cordinates)\n",
    "    # Base case: if all cities are visited, return the\n",
    "    # cost to return to the starting city (0)\n",
    "\n",
    "    if mask == (1 << n) - 1:\n",
    "        return cost[pos][hotel_index]\n",
    "\n",
    "    if visit_requirement == visited:\n",
    "        for i in range(n):\n",
    "            if (mask & (1 << i)) == 0: \n",
    "                i_list.append(i)\n",
    "                distance_list.append(cost[pos][i] + totalCost_multiday(mask | (1 << i), hotel_index, day + 1, cordinates, n, 1, cost, info_lists))\n",
    "        \n",
    "        info_list = [pos,i_list, distance_list]\n",
    "        info_lists.append(info_list)\n",
    "        \n",
    "        return min(distance_list) + cost[pos][hotel_index] # change this to the old hotel position\n",
    "    \n",
    "    # Try visiting every city that has not been visited yet\n",
    "    for i in range(n):\n",
    "        if (mask & (1 << i)) == 0: \n",
    "\n",
    "            i_list.append(i)\n",
    "            # If city i is not visited, visit it and \n",
    "             #  update the mask\n",
    "            distance_list.append(cost[pos][i] +\n",
    "                      totalCost_multiday(mask | (1 << i), i, day, cordinates, n, visited + 1, cost, info_lists))\n",
    "        \n",
    "\n",
    "    info_list = [pos,i_list, distance_list]\n",
    "    info_lists.append(info_list)\n",
    "  \n",
    "    return min(distance_list)"
   ]
  },
  {
   "cell_type": "code",
   "execution_count": 20,
   "metadata": {},
   "outputs": [],
   "source": [
    "n = len(distance_matrix)\n",
    "info_list = []\n",
    "#newMask will have all the hotels as 1 before the function.\n",
    "newMask = 1\n",
    "index_list = list(range(len(cordinates) - 1))\n",
    "index_list = index_list[::-1]\n",
    "newMask = 1\n",
    "for i in index_list:\n",
    "    newMask = (newMask << (len(cordinates[i]))) + 1\n",
    "\n",
    "optimized_distance = totalCost_multiday(newMask,0,0,cordinates,n,1,distance_matrix, info_list)"
   ]
  },
  {
   "cell_type": "code",
   "execution_count": null,
   "metadata": {},
   "outputs": [],
   "source": []
  },
  {
   "cell_type": "code",
   "execution_count": 21,
   "metadata": {},
   "outputs": [
    {
     "data": {
      "text/plain": [
       "np.float64(105.48895393859405)"
      ]
     },
     "execution_count": 21,
     "metadata": {},
     "output_type": "execute_result"
    }
   ],
   "source": [
    "optimized_distance"
   ]
  },
  {
   "cell_type": "markdown",
   "metadata": {},
   "source": [
    "This might be correct! The seperate ones are 47 + 67, and pretty optimized, but if the new number 105 seems pretty correct."
   ]
  },
  {
   "cell_type": "code",
   "execution_count": 22,
   "metadata": {},
   "outputs": [],
   "source": [
    "#test\n",
    "cordinates = [[(0,0),(0,0),(0,0)], [(0,0),(0,0),(0,0),(0,0)]]\n",
    "distance_matrix = [\n",
    "    [0,10,12, 1000, 13, 1000,1000],\n",
    "    [10,0,11,1000,1000,1000,1000],\n",
    "    [12,11,0,1000,1000,1000,1000],\n",
    "    [1000,1000,1000,0,14,1000,17],\n",
    "    [1000,1000,1000,14,0,15,1000,],\n",
    "    [1000,1000,1000,1000,15,0,16],\n",
    "    [1000,1000,1000,17,1000,16,0]\n",
    "]"
   ]
  },
  {
   "cell_type": "code",
   "execution_count": 23,
   "metadata": {},
   "outputs": [
    {
     "data": {
      "text/plain": [
       "2061"
      ]
     },
     "execution_count": 23,
     "metadata": {},
     "output_type": "execute_result"
    }
   ],
   "source": [
    "n = len(distance_matrix)\n",
    "info_list = []\n",
    "#newMask will have all the hotels as 1 before the function.\n",
    "newMask = 1\n",
    "index_list = list(range(len(cordinates) - 1))\n",
    "index_list = index_list[::-1]\n",
    "newMask = 1\n",
    "for i in index_list:\n",
    "    newMask = (newMask << (len(cordinates[i]))) + 1\n",
    "\n",
    "optimized_distance = totalCost_multiday(newMask,0,0,cordinates,n,1,distance_matrix, info_list)\n",
    "optimized_distance"
   ]
  },
  {
   "cell_type": "code",
   "execution_count": 24,
   "metadata": {},
   "outputs": [
    {
     "data": {
      "text/plain": [
       "7"
      ]
     },
     "execution_count": 24,
     "metadata": {},
     "output_type": "execute_result"
    }
   ],
   "source": [
    "n"
   ]
  },
  {
   "cell_type": "code",
   "execution_count": 25,
   "metadata": {},
   "outputs": [
    {
     "data": {
      "text/plain": [
       "9"
      ]
     },
     "execution_count": 25,
     "metadata": {},
     "output_type": "execute_result"
    }
   ],
   "source": [
    "newMask"
   ]
  },
  {
   "cell_type": "code",
   "execution_count": 26,
   "metadata": {},
   "outputs": [
    {
     "data": {
      "text/plain": [
       "3"
      ]
     },
     "execution_count": 26,
     "metadata": {},
     "output_type": "execute_result"
    }
   ],
   "source": [
    "len(cordinates[0])"
   ]
  },
  {
   "cell_type": "code",
   "execution_count": 27,
   "metadata": {},
   "outputs": [
    {
     "data": {
      "text/plain": [
       "3"
      ]
     },
     "execution_count": 27,
     "metadata": {},
     "output_type": "execute_result"
    }
   ],
   "source": [
    "getHotelIndex(1,cordinates)"
   ]
  },
  {
   "cell_type": "code",
   "execution_count": 28,
   "metadata": {},
   "outputs": [
    {
     "data": {
      "text/plain": [
       "[[5, [6], [33]],\n",
       " [6, [5], [1016]],\n",
       " [0, [5, 6], [1033, 2016]],\n",
       " [4, [6], [1017]],\n",
       " [6, [4], [1014]],\n",
       " [0, [4, 6], [1030, 2014]],\n",
       " [4, [5], [1015]],\n",
       " [5, [4], [29]],\n",
       " [0, [4, 5], [1028, 1029]],\n",
       " [2, [4, 5, 6], [2033, 2030, 2028]],\n",
       " [5, [6], [33]],\n",
       " [6, [5], [1016]],\n",
       " [0, [5, 6], [1033, 2016]],\n",
       " [2, [6], [1017]],\n",
       " [6, [2], [2000]],\n",
       " [0, [2, 6], [1029, 3000]],\n",
       " [2, [5], [2000]],\n",
       " [5, [2], [2000]],\n",
       " [0, [2, 5], [2012, 3000]],\n",
       " [4, [2, 5, 6], [2033, 1044, 3012]],\n",
       " [4, [6], [1017]],\n",
       " [6, [4], [1014]],\n",
       " [0, [4, 6], [1030, 2014]],\n",
       " [2, [6], [1017]],\n",
       " [6, [2], [2000]],\n",
       " [0, [2, 6], [1029, 3000]],\n",
       " [2, [4], [1014]],\n",
       " [4, [2], [2000]],\n",
       " [0, [2, 4], [1026, 2013]],\n",
       " [5, [2, 4, 6], [2030, 1044, 1042]],\n",
       " [4, [5], [1015]],\n",
       " [5, [4], [29]],\n",
       " [0, [4, 5], [1028, 1029]],\n",
       " [2, [5], [2000]],\n",
       " [5, [2], [2000]],\n",
       " [0, [2, 5], [2012, 3000]],\n",
       " [2, [4], [1014]],\n",
       " [4, [2], [2000]],\n",
       " [0, [2, 4], [1026, 2013]],\n",
       " [6, [2, 4, 5], [2028, 3012, 1042]],\n",
       " [1, [2, 4, 5, 6], [2051, 3044, 3042, 3042]],\n",
       " [5, [6], [33]],\n",
       " [6, [5], [1016]],\n",
       " [0, [5, 6], [1033, 2016]],\n",
       " [4, [6], [1017]],\n",
       " [6, [4], [1014]],\n",
       " [0, [4, 6], [1030, 2014]],\n",
       " [4, [5], [1015]],\n",
       " [5, [4], [29]],\n",
       " [0, [4, 5], [1028, 1029]],\n",
       " [1, [4, 5, 6], [2033, 2030, 2028]],\n",
       " [5, [6], [33]],\n",
       " [6, [5], [1016]],\n",
       " [0, [5, 6], [1033, 2016]],\n",
       " [1, [6], [1017]],\n",
       " [6, [1], [2000]],\n",
       " [0, [1, 6], [1027, 3000]],\n",
       " [1, [5], [2000]],\n",
       " [5, [1], [2000]],\n",
       " [0, [1, 5], [2010, 3000]],\n",
       " [4, [1, 5, 6], [2033, 1042, 3010]],\n",
       " [4, [6], [1017]],\n",
       " [6, [4], [1014]],\n",
       " [0, [4, 6], [1030, 2014]],\n",
       " [1, [6], [1017]],\n",
       " [6, [1], [2000]],\n",
       " [0, [1, 6], [1027, 3000]],\n",
       " [1, [4], [1014]],\n",
       " [4, [1], [2000]],\n",
       " [0, [1, 4], [1024, 2013]],\n",
       " [5, [1, 4, 6], [2030, 1042, 1040]],\n",
       " [4, [5], [1015]],\n",
       " [5, [4], [29]],\n",
       " [0, [4, 5], [1028, 1029]],\n",
       " [1, [5], [2000]],\n",
       " [5, [1], [2000]],\n",
       " [0, [1, 5], [2010, 3000]],\n",
       " [1, [4], [1014]],\n",
       " [4, [1], [2000]],\n",
       " [0, [1, 4], [1024, 2013]],\n",
       " [6, [1, 4, 5], [2028, 3010, 1040]],\n",
       " [2, [1, 4, 5, 6], [2049, 3042, 3040, 3040]],\n",
       " [5, [6], [33]],\n",
       " [6, [5], [1016]],\n",
       " [0, [5, 6], [1033, 2016]],\n",
       " [2, [6], [1017]],\n",
       " [6, [2], [2000]],\n",
       " [0, [2, 6], [1029, 3000]],\n",
       " [2, [5], [2000]],\n",
       " [5, [2], [2000]],\n",
       " [0, [2, 5], [2012, 3000]],\n",
       " [1, [2, 5, 6], [1044, 2029, 3012]],\n",
       " [5, [6], [33]],\n",
       " [6, [5], [1016]],\n",
       " [0, [5, 6], [1033, 2016]],\n",
       " [1, [6], [1017]],\n",
       " [6, [1], [2000]],\n",
       " [0, [1, 6], [1027, 3000]],\n",
       " [1, [5], [2000]],\n",
       " [5, [1], [2000]],\n",
       " [0, [1, 5], [2010, 3000]],\n",
       " [2, [1, 5, 6], [1044, 2027, 3010]],\n",
       " [2, [6], [1017]],\n",
       " [6, [2], [2000]],\n",
       " [0, [2, 6], [1029, 3000]],\n",
       " [1, [6], [1017]],\n",
       " [6, [1], [2000]],\n",
       " [0, [1, 6], [1027, 3000]],\n",
       " [1, [2], [1011]],\n",
       " [2, [1], [1011]],\n",
       " [0, [1, 2], [1021, 1023]],\n",
       " [5, [1, 2, 6], [2029, 2027, 1037]],\n",
       " [2, [5], [2000]],\n",
       " [5, [2], [2000]],\n",
       " [0, [2, 5], [2012, 3000]],\n",
       " [1, [5], [2000]],\n",
       " [5, [1], [2000]],\n",
       " [0, [1, 5], [2010, 3000]],\n",
       " [1, [2], [1011]],\n",
       " [2, [1], [1011]],\n",
       " [0, [1, 2], [1021, 1023]],\n",
       " [6, [1, 2, 5], [3012, 3010, 1037]],\n",
       " [4, [1, 2, 5, 6], [2054, 2056, 2052, 3037]],\n",
       " [4, [6], [1017]],\n",
       " [6, [4], [1014]],\n",
       " [0, [4, 6], [1030, 2014]],\n",
       " [2, [6], [1017]],\n",
       " [6, [2], [2000]],\n",
       " [0, [2, 6], [1029, 3000]],\n",
       " [2, [4], [1014]],\n",
       " [4, [2], [2000]],\n",
       " [0, [2, 4], [1026, 2013]],\n",
       " [1, [2, 4, 6], [1041, 2029, 2026]],\n",
       " [4, [6], [1017]],\n",
       " [6, [4], [1014]],\n",
       " [0, [4, 6], [1030, 2014]],\n",
       " [1, [6], [1017]],\n",
       " [6, [1], [2000]],\n",
       " [0, [1, 6], [1027, 3000]],\n",
       " [1, [4], [1014]],\n",
       " [4, [1], [2000]],\n",
       " [0, [1, 4], [1024, 2013]],\n",
       " [2, [1, 4, 6], [1041, 2027, 2024]],\n",
       " [2, [6], [1017]],\n",
       " [6, [2], [2000]],\n",
       " [0, [2, 6], [1029, 3000]],\n",
       " [1, [6], [1017]],\n",
       " [6, [1], [2000]],\n",
       " [0, [1, 6], [1027, 3000]],\n",
       " [1, [2], [1011]],\n",
       " [2, [1], [1011]],\n",
       " [0, [1, 2], [1021, 1023]],\n",
       " [4, [1, 2, 6], [2029, 2027, 2021]],\n",
       " [2, [4], [1014]],\n",
       " [4, [2], [2000]],\n",
       " [0, [2, 4], [1026, 2013]],\n",
       " [1, [4], [1014]],\n",
       " [4, [1], [2000]],\n",
       " [0, [1, 4], [1024, 2013]],\n",
       " [1, [2], [1011]],\n",
       " [2, [1], [1011]],\n",
       " [0, [1, 2], [1021, 1023]],\n",
       " [6, [1, 2, 4], [2026, 2024, 2021]],\n",
       " [5, [1, 2, 4, 6], [2051, 2053, 3036, 3037]],\n",
       " [4, [5], [1015]],\n",
       " [5, [4], [29]],\n",
       " [0, [4, 5], [1028, 1029]],\n",
       " [2, [5], [2000]],\n",
       " [5, [2], [2000]],\n",
       " [0, [2, 5], [2012, 3000]],\n",
       " [2, [4], [1014]],\n",
       " [4, [2], [2000]],\n",
       " [0, [2, 4], [1026, 2013]],\n",
       " [1, [2, 4, 5], [1039, 3012, 2026]],\n",
       " [4, [5], [1015]],\n",
       " [5, [4], [29]],\n",
       " [0, [4, 5], [1028, 1029]],\n",
       " [1, [5], [2000]],\n",
       " [5, [1], [2000]],\n",
       " [0, [1, 5], [2010, 3000]],\n",
       " [1, [4], [1014]],\n",
       " [4, [1], [2000]],\n",
       " [0, [1, 4], [1024, 2013]],\n",
       " [2, [1, 4, 5], [1039, 3010, 2024]],\n",
       " [2, [5], [2000]],\n",
       " [5, [2], [2000]],\n",
       " [0, [2, 5], [2012, 3000]],\n",
       " [1, [5], [2000]],\n",
       " [5, [1], [2000]],\n",
       " [0, [1, 5], [2010, 3000]],\n",
       " [1, [2], [1011]],\n",
       " [2, [1], [1011]],\n",
       " [0, [1, 2], [1021, 1023]],\n",
       " [4, [1, 2, 5], [3012, 3010, 1036]],\n",
       " [2, [4], [1014]],\n",
       " [4, [2], [2000]],\n",
       " [0, [2, 4], [1026, 2013]],\n",
       " [1, [4], [1014]],\n",
       " [4, [1], [2000]],\n",
       " [0, [1, 4], [1024, 2013]],\n",
       " [1, [2], [1011]],\n",
       " [2, [1], [1011]],\n",
       " [0, [1, 2], [1021, 1023]],\n",
       " [5, [1, 2, 4], [2026, 2024, 1036]],\n",
       " [6, [1, 2, 4, 5], [2049, 2051, 3036, 2052]],\n",
       " [0, [1, 2, 4, 5, 6], [2061, 2061, 2065, 3051, 3049]]]"
      ]
     },
     "execution_count": 28,
     "metadata": {},
     "output_type": "execute_result"
    }
   ],
   "source": [
    "info_list"
   ]
  },
  {
   "cell_type": "code",
   "execution_count": null,
   "metadata": {},
   "outputs": [],
   "source": []
  },
  {
   "cell_type": "code",
   "execution_count": 29,
   "metadata": {},
   "outputs": [
    {
     "data": {
      "text/plain": [
       "[[63, 5, [6], [33], 4, 3],\n",
       " [95, 6, [5], [1016], 4, 3],\n",
       " [31, 4, [5, 6], [48, 2016], 4, 2],\n",
       " [63, 4, [6], [1017], 4, 3],\n",
       " [111, 6, [4], [1014], 4, 3],\n",
       " [47, 5, [4, 6], [1032, 1030], 4, 2],\n",
       " [95, 4, [5], [1015], 4, 3],\n",
       " [111, 5, [4], [29], 4, 3],\n",
       " [79, 6, [4, 5], [2015, 45], 4, 2],\n",
       " [15, 2, [4, 5, 6], [61, 2030, 1045], 3, 3],\n",
       " [63, 5, [6], [33], 4, 3],\n",
       " [95, 6, [5], [1016], 4, 3],\n",
       " [31, 2, [5, 6], [1033, 2016], 4, 2],\n",
       " [63, 2, [6], [1017], 4, 3],\n",
       " [123, 6, [2], [2000], 4, 3],\n",
       " [59, 5, [2, 6], [2017, 2016], 4, 2],\n",
       " [95, 2, [5], [2000], 4, 3],\n",
       " [123, 5, [2], [2000], 4, 3],\n",
       " [91, 6, [2, 5], [3000, 2016], 4, 2],\n",
       " [27, 4, [2, 5, 6], [1045, 3016, 3016], 3, 3],\n",
       " [63, 4, [6], [1017], 4, 3],\n",
       " [111, 6, [4], [1014], 4, 3],\n",
       " [47, 2, [4, 6], [2017, 2014], 4, 2],\n",
       " [63, 2, [6], [1017], 4, 3],\n",
       " [123, 6, [2], [2000], 4, 3],\n",
       " [59, 4, [2, 6], [2017, 3000], 4, 2],\n",
       " [111, 2, [4], [1014], 4, 3],\n",
       " [123, 4, [2], [2000], 4, 3],\n",
       " [107, 6, [2, 4], [2014, 3000], 4, 2],\n",
       " [43, 5, [2, 4, 6], [2026, 2030, 3014], 3, 3],\n",
       " [95, 4, [5], [1015], 4, 3],\n",
       " [111, 5, [4], [29], 4, 3],\n",
       " [79, 2, [4, 5], [2015, 1029], 4, 2],\n",
       " [95, 2, [5], [2000], 4, 3],\n",
       " [123, 5, [2], [2000], 4, 3],\n",
       " [91, 4, [2, 5], [3000, 2015], 4, 2],\n",
       " [111, 2, [4], [1014], 4, 3],\n",
       " [123, 4, [2], [2000], 4, 3],\n",
       " [107, 5, [2, 4], [2014, 2015], 4, 2],\n",
       " [75, 6, [2, 4, 5], [1041, 2028, 3014], 3, 3],\n",
       " [11, 1, [2, 4, 5, 6], [84, 2058, 4026, 3041], 3, 2],\n",
       " [63, 5, [6], [33], 4, 3],\n",
       " [95, 6, [5], [1016], 4, 3],\n",
       " [31, 4, [5, 6], [48, 2016], 4, 2],\n",
       " [63, 4, [6], [1017], 4, 3],\n",
       " [111, 6, [4], [1014], 4, 3],\n",
       " [47, 5, [4, 6], [1032, 1030], 4, 2],\n",
       " [95, 4, [5], [1015], 4, 3],\n",
       " [111, 5, [4], [29], 4, 3],\n",
       " [79, 6, [4, 5], [2015, 45], 4, 2],\n",
       " [15, 1, [4, 5, 6], [61, 2030, 1045], 3, 3],\n",
       " [63, 5, [6], [33], 4, 3],\n",
       " [95, 6, [5], [1016], 4, 3],\n",
       " [31, 1, [5, 6], [1033, 2016], 4, 2],\n",
       " [63, 1, [6], [1017], 4, 3],\n",
       " [125, 6, [1], [2000], 4, 3],\n",
       " [61, 5, [1, 6], [2017, 2016], 4, 2],\n",
       " [95, 1, [5], [2000], 4, 3],\n",
       " [125, 5, [1], [2000], 4, 3],\n",
       " [93, 6, [1, 5], [3000, 2016], 4, 2],\n",
       " [29, 4, [1, 5, 6], [1043, 3016, 3016], 3, 3],\n",
       " [63, 4, [6], [1017], 4, 3],\n",
       " [111, 6, [4], [1014], 4, 3],\n",
       " [47, 1, [4, 6], [2017, 2014], 4, 2],\n",
       " [63, 1, [6], [1017], 4, 3],\n",
       " [125, 6, [1], [2000], 4, 3],\n",
       " [61, 4, [1, 6], [2017, 3000], 4, 2],\n",
       " [111, 1, [4], [1014], 4, 3],\n",
       " [125, 4, [1], [2000], 4, 3],\n",
       " [109, 6, [1, 4], [2014, 3000], 4, 2],\n",
       " [45, 5, [1, 4, 6], [2024, 2030, 3014], 3, 3],\n",
       " [95, 4, [5], [1015], 4, 3],\n",
       " [111, 5, [4], [29], 4, 3],\n",
       " [79, 1, [4, 5], [2015, 1029], 4, 2],\n",
       " [95, 1, [5], [2000], 4, 3],\n",
       " [125, 5, [1], [2000], 4, 3],\n",
       " [93, 4, [1, 5], [3000, 2015], 4, 2],\n",
       " [111, 1, [4], [1014], 4, 3],\n",
       " [125, 4, [1], [2000], 4, 3],\n",
       " [109, 5, [1, 4], [2014, 2015], 4, 2],\n",
       " [77, 6, [1, 4, 5], [1039, 2028, 3014], 3, 3],\n",
       " [13, 2, [1, 4, 5, 6], [82, 2056, 4024, 3039], 3, 2],\n",
       " [63, 5, [6], [33], 4, 3],\n",
       " [95, 6, [5], [1016], 4, 3],\n",
       " [31, 2, [5, 6], [1033, 2016], 4, 2],\n",
       " [63, 2, [6], [1017], 4, 3],\n",
       " [123, 6, [2], [2000], 4, 3],\n",
       " [59, 5, [2, 6], [2017, 2016], 4, 2],\n",
       " [95, 2, [5], [2000], 4, 3],\n",
       " [123, 5, [2], [2000], 4, 3],\n",
       " [91, 6, [2, 5], [3000, 2016], 4, 2],\n",
       " [27, 1, [2, 5, 6], [1045, 3016, 3016], 3, 3],\n",
       " [63, 5, [6], [33], 4, 3],\n",
       " [95, 6, [5], [1016], 4, 3],\n",
       " [31, 1, [5, 6], [1033, 2016], 4, 2],\n",
       " [63, 1, [6], [1017], 4, 3],\n",
       " [125, 6, [1], [2000], 4, 3],\n",
       " [61, 5, [1, 6], [2017, 2016], 4, 2],\n",
       " [95, 1, [5], [2000], 4, 3],\n",
       " [125, 5, [1], [2000], 4, 3],\n",
       " [93, 6, [1, 5], [3000, 2016], 4, 2],\n",
       " [29, 2, [1, 5, 6], [1043, 3016, 3016], 3, 3],\n",
       " [63, 2, [6], [1017], 4, 3],\n",
       " [123, 6, [2], [2000], 4, 3],\n",
       " [59, 1, [2, 6], [1028, 3000], 4, 2],\n",
       " [63, 1, [6], [1017], 4, 3],\n",
       " [125, 6, [1], [2000], 4, 3],\n",
       " [61, 2, [1, 6], [1028, 3000], 4, 2],\n",
       " [123, 1, [2], [1011], 4, 3],\n",
       " [125, 2, [1], [1011], 4, 3],\n",
       " [121, 6, [1, 2], [2011, 2011], 4, 2],\n",
       " [57, 5, [1, 2, 6], [1038, 1040, 3011], 3, 3],\n",
       " [95, 2, [5], [2000], 4, 3],\n",
       " [123, 5, [2], [2000], 4, 3],\n",
       " [91, 1, [2, 5], [2011, 3000], 4, 2],\n",
       " [95, 1, [5], [2000], 4, 3],\n",
       " [125, 5, [1], [2000], 4, 3],\n",
       " [93, 2, [1, 5], [2011, 3000], 4, 2],\n",
       " [123, 1, [2], [1011], 4, 3],\n",
       " [125, 2, [1], [1011], 4, 3],\n",
       " [121, 5, [1, 2], [2011, 2011], 4, 2],\n",
       " [89, 6, [1, 2, 5], [2021, 2023, 3011], 3, 3],\n",
       " [25, 4, [1, 2, 5, 6], [2055, 2055, 2053, 4021], 3, 2],\n",
       " [63, 4, [6], [1017], 4, 3],\n",
       " [111, 6, [4], [1014], 4, 3],\n",
       " [47, 2, [4, 6], [2017, 2014], 4, 2],\n",
       " [63, 2, [6], [1017], 4, 3],\n",
       " [123, 6, [2], [2000], 4, 3],\n",
       " [59, 4, [2, 6], [2017, 3000], 4, 2],\n",
       " [111, 2, [4], [1014], 4, 3],\n",
       " [123, 4, [2], [2000], 4, 3],\n",
       " [107, 6, [2, 4], [2014, 3000], 4, 2],\n",
       " [43, 1, [2, 4, 6], [2026, 2030, 3014], 3, 3],\n",
       " [63, 4, [6], [1017], 4, 3],\n",
       " [111, 6, [4], [1014], 4, 3],\n",
       " [47, 1, [4, 6], [2017, 2014], 4, 2],\n",
       " [63, 1, [6], [1017], 4, 3],\n",
       " [125, 6, [1], [2000], 4, 3],\n",
       " [61, 4, [1, 6], [2017, 3000], 4, 2],\n",
       " [111, 1, [4], [1014], 4, 3],\n",
       " [125, 4, [1], [2000], 4, 3],\n",
       " [109, 6, [1, 4], [2014, 3000], 4, 2],\n",
       " [45, 2, [1, 4, 6], [2024, 2030, 3014], 3, 3],\n",
       " [63, 2, [6], [1017], 4, 3],\n",
       " [123, 6, [2], [2000], 4, 3],\n",
       " [59, 1, [2, 6], [1028, 3000], 4, 2],\n",
       " [63, 1, [6], [1017], 4, 3],\n",
       " [125, 6, [1], [2000], 4, 3],\n",
       " [61, 2, [1, 6], [1028, 3000], 4, 2],\n",
       " [123, 1, [2], [1011], 4, 3],\n",
       " [125, 2, [1], [1011], 4, 3],\n",
       " [121, 6, [1, 2], [2011, 2011], 4, 2],\n",
       " [57, 4, [1, 2, 6], [1038, 1040, 3011], 3, 3],\n",
       " [111, 2, [4], [1014], 4, 3],\n",
       " [123, 4, [2], [2000], 4, 3],\n",
       " [107, 1, [2, 4], [1025, 3000], 4, 2],\n",
       " [111, 1, [4], [1014], 4, 3],\n",
       " [125, 4, [1], [2000], 4, 3],\n",
       " [109, 2, [1, 4], [1025, 3000], 4, 2],\n",
       " [123, 1, [2], [1011], 4, 3],\n",
       " [125, 2, [1], [1011], 4, 3],\n",
       " [121, 4, [1, 2], [2011, 2011], 4, 2],\n",
       " [105, 6, [1, 2, 4], [1035, 1037, 2024], 3, 3],\n",
       " [41, 5, [1, 2, 4, 6], [3036, 3036, 1066, 2051], 3, 2],\n",
       " [95, 4, [5], [1015], 4, 3],\n",
       " [111, 5, [4], [29], 4, 3],\n",
       " [79, 2, [4, 5], [2015, 1029], 4, 2],\n",
       " [95, 2, [5], [2000], 4, 3],\n",
       " [123, 5, [2], [2000], 4, 3],\n",
       " [91, 4, [2, 5], [3000, 2015], 4, 2],\n",
       " [111, 2, [4], [1014], 4, 3],\n",
       " [123, 4, [2], [2000], 4, 3],\n",
       " [107, 5, [2, 4], [2014, 2015], 4, 2],\n",
       " [75, 1, [2, 4, 5], [1041, 2028, 3014], 3, 3],\n",
       " [95, 4, [5], [1015], 4, 3],\n",
       " [111, 5, [4], [29], 4, 3],\n",
       " [79, 1, [4, 5], [2015, 1029], 4, 2],\n",
       " [95, 1, [5], [2000], 4, 3],\n",
       " [125, 5, [1], [2000], 4, 3],\n",
       " [93, 4, [1, 5], [3000, 2015], 4, 2],\n",
       " [111, 1, [4], [1014], 4, 3],\n",
       " [125, 4, [1], [2000], 4, 3],\n",
       " [109, 5, [1, 4], [2014, 2015], 4, 2],\n",
       " [77, 2, [1, 4, 5], [1039, 2028, 3014], 3, 3],\n",
       " [95, 2, [5], [2000], 4, 3],\n",
       " [123, 5, [2], [2000], 4, 3],\n",
       " [91, 1, [2, 5], [2011, 3000], 4, 2],\n",
       " [95, 1, [5], [2000], 4, 3],\n",
       " [125, 5, [1], [2000], 4, 3],\n",
       " [93, 2, [1, 5], [2011, 3000], 4, 2],\n",
       " [123, 1, [2], [1011], 4, 3],\n",
       " [125, 2, [1], [1011], 4, 3],\n",
       " [121, 5, [1, 2], [2011, 2011], 4, 2],\n",
       " [89, 4, [1, 2, 5], [2021, 2023, 3011], 3, 3],\n",
       " [111, 2, [4], [1014], 4, 3],\n",
       " [123, 4, [2], [2000], 4, 3],\n",
       " [107, 1, [2, 4], [1025, 3000], 4, 2],\n",
       " [111, 1, [4], [1014], 4, 3],\n",
       " [125, 4, [1], [2000], 4, 3],\n",
       " [109, 2, [1, 4], [1025, 3000], 4, 2],\n",
       " [123, 1, [2], [1011], 4, 3],\n",
       " [125, 2, [1], [1011], 4, 3],\n",
       " [121, 4, [1, 2], [2011, 2011], 4, 2],\n",
       " [105, 5, [1, 2, 4], [1035, 1037, 2024], 3, 3],\n",
       " [73, 6, [1, 2, 4, 5], [2051, 2051, 3034, 2051], 3, 2],\n",
       " [9, 0, [1, 2, 4, 5, 6], [94, 94, 2066, 2066, 3051], 3, 1]]"
      ]
     },
     "execution_count": 29,
     "metadata": {},
     "output_type": "execute_result"
    }
   ],
   "source": [
    "def getHotelIndex(day,cordinates):\n",
    "    hotel_index = 0\n",
    "    if day > 0:\n",
    "        for j in range(day):\n",
    "            hotel_index += len(cordinates[j])\n",
    "    return hotel_index\n",
    "\n",
    "def totalCost_multiday(mask, pos, day, cordinates, n, visited, cost, info_lists):\n",
    "    visit_requirement = len(cordinates[day])\n",
    "    distance_list = []\n",
    "    i_list = []\n",
    "\n",
    "    hotel_index = getHotelIndex(day,cordinates)\n",
    "    # Base case: if all cities are visited, return the\n",
    "    # cost to return to the starting city (0)\n",
    "\n",
    "    if mask == (1 << n) - 1:\n",
    "        return cost[pos][hotel_index]\n",
    "\n",
    "    if visit_requirement == visited:\n",
    "        for i in range(n):\n",
    "            if (mask & (1 << i)) == 0: \n",
    "                i_list.append(i)\n",
    "                distance_list.append(cost[hotel_index][i] + totalCost_multiday(mask | (1 << i), i, day + 1, cordinates, n, 2, cost, info_lists))\n",
    "        \n",
    "        info_list = [mask,pos,i_list, distance_list,visit_requirement,visited]\n",
    "        info_lists.append(info_list)\n",
    "        \n",
    "        return min(distance_list) + cost[pos][hotel_index] # change this to the old hotel position\n",
    "    \n",
    "    # Try visiting every city that has not been visited yet\n",
    "    for i in range(n):\n",
    "        if (mask & (1 << i)) == 0: \n",
    "\n",
    "            i_list.append(i)\n",
    "            # If city i is not visited, visit it and \n",
    "             #  update the mask\n",
    "            distance_list.append(cost[pos][i] +\n",
    "                      totalCost_multiday(mask | (1 << i), i, day, cordinates, n, visited + 1, cost, info_lists))\n",
    "        \n",
    "\n",
    "    info_list = [mask,pos,i_list, distance_list,visit_requirement,visited]\n",
    "    info_lists.append(info_list)\n",
    "  \n",
    "    return min(distance_list)\n",
    "\n",
    "#test\n",
    "cordinates = [[(0,0),(0,0),(0,0)], [(0,0),(0,0),(0,0),(0,0)]]\n",
    "distance_matrix = [\n",
    "    [0,10,12, 1000, 13, 1000,1000],\n",
    "    [10,0,11,1000,1000,1000,1000],\n",
    "    [12,11,0,1000,1000,1000,1000],\n",
    "    [1000,1000,1000,0,14,1000,17],\n",
    "    [13,1000,1000,14,0,15,1000,],\n",
    "    [1000,1000,1000,1000,15,0,16],\n",
    "    [1000,1000,1000,17,1000,16,0]\n",
    "]\n",
    "\n",
    "n = len(distance_matrix)\n",
    "info_list = []\n",
    "#newMask will have all the hotels as 1 before the function.\n",
    "newMask = 1\n",
    "index_list = list(range(len(cordinates) - 1))\n",
    "index_list = index_list[::-1]\n",
    "newMask = 1\n",
    "for i in index_list:\n",
    "    newMask = (newMask << (len(cordinates[i]))) + 1\n",
    "\n",
    "optimized_distance = totalCost_multiday(newMask,0,0,cordinates,n,1,distance_matrix, info_list)\n",
    "info_list"
   ]
  },
  {
   "cell_type": "code",
   "execution_count": 30,
   "metadata": {},
   "outputs": [
    {
     "name": "stdout",
     "output_type": "stream",
     "text": [
      "80\n"
     ]
    }
   ],
   "source": [
    "# Python program to find the shortest possible route\n",
    "# that visits every city exactly once and returns to\n",
    "# the starting point using memoization and bitmasking\n",
    "\n",
    "def totalCost(mask, curr, n, cost, memo):\n",
    "  \n",
    "    # Base case: if all cities are visited, return the\n",
    "    # cost to return to the starting city (0)\n",
    "    if mask == (1 << n) - 1:\n",
    "        return cost[curr][0]\n",
    "\n",
    "    # If the value has already been computed, return it\n",
    "    # from the memo table\n",
    "    if memo[curr][mask] != -1:\n",
    "        return memo[curr][mask]\n",
    "\n",
    "    ans = float('inf')\n",
    "\n",
    "    # Try visiting every city that has not been visited yet\n",
    "    for i in range(n):\n",
    "        if (mask & (1 << i)) == 0: \n",
    "          \n",
    "          # If city i is not visited\n",
    "          # Visit city i and update the mask\n",
    "            ans = min(ans, cost[curr][i] +\n",
    "                      totalCost(mask | (1 << i), i, n, cost, memo))\n",
    "\n",
    "    # Memoize the result\n",
    "    memo[curr][mask] = ans\n",
    "    return ans\n",
    "\n",
    "\n",
    "def tsp(cost):\n",
    "    n = len(cost)\n",
    "    \n",
    "    # Initialize memoization table with -1\n",
    "    # (indicating uncomputed states)\n",
    "    memo = [[-1] * (1 << n) for _ in range(n)]\n",
    "\n",
    "    # Start from city 0, with only city 0 visited initially (mask = 1)\n",
    "    return totalCost(1, 0, n, cost, memo)\n",
    "\n",
    " \n",
    "cost = [\n",
    "    [0, 10, 15, 20],\n",
    "    [10, 0, 35, 25],\n",
    "    [15, 35, 0, 30],\n",
    "    [20, 25, 30, 0]\n",
    "]\n",
    "res = tsp(cost)\n",
    "print(res)"
   ]
  }
 ],
 "metadata": {
  "kernelspec": {
   "display_name": "torchgpu",
   "language": "python",
   "name": "python3"
  },
  "language_info": {
   "codemirror_mode": {
    "name": "ipython",
    "version": 3
   },
   "file_extension": ".py",
   "mimetype": "text/x-python",
   "name": "python",
   "nbconvert_exporter": "python",
   "pygments_lexer": "ipython3",
   "version": "3.11.0"
  }
 },
 "nbformat": 4,
 "nbformat_minor": 2
}
