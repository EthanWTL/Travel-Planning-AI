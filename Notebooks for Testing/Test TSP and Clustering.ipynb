{
 "cells": [
  {
   "cell_type": "code",
   "execution_count": 173,
   "metadata": {},
   "outputs": [],
   "source": [
    "import json\n",
    "import numpy as np\n",
    "import sys"
   ]
  },
  {
   "cell_type": "code",
   "execution_count": 174,
   "metadata": {},
   "outputs": [],
   "source": [
    "plan = [{'days': '1',\n",
    "  'breakfast': 'TwnzM8mJn_nT2PJf1x-9kQ',\n",
    "  'morning_attractions': ['Ib9HV7ekw459jM1Ksdiyiw'],\n",
    "  'lunch': 'wHkYLlZyPXllrQRlvidUlg',\n",
    "  'afternoon_attractions': ['kbEVlzQLcYS3JSQPG9QMOQ',\n",
    "   '8_O6LXLyMgpq1g9CIwcW4w'],\n",
    "  'dinner': 'S8ZFYEgMejpChID8tzKo9A',\n",
    "  'night_attractions': ['pxZAz8pv18wK_t-m8WpN0g'],\n",
    "  'accommodation': '3QPAh9VvYNTnqAFgBeBcng'},\n",
    " {'days': '2',\n",
    "  'breakfast': 'rYqmaOIULRouz_1db07OdQ',\n",
    "  'morning_attractions': ['Qw7tz-UkPrpXaVidWuab4Q'],\n",
    "  'lunch': '6ajnOk0GcY9xbb5Ocaw8Gw',\n",
    "  'afternoon_attractions': ['4mWzXhD8vo0bABVCGAhlqA',\n",
    "   'ytynqOUb3hjKeJfRj5Tshw'],\n",
    "  'dinner': '05ev984NYfimRN0UiFrxaA',\n",
    "  'night_attractions': ['dBRWKIS7h-qZCi8EjUJ2HA'],\n",
    "  'accommodation': '3QPAh9VvYNTnqAFgBeBcng'}] \n",
    "\n",
    "with open('../Datasets/Attractions_task1.jsonl', 'r') as f:\n",
    "    data = [json.loads(line) for line in f]\n",
    "\n",
    "with open('../Datasets/Hotels_task1.jsonl', 'r') as f:\n",
    "    data_hotel = [json.loads(line) for line in f]\n",
    "\n",
    "def getCordinate(id):\n",
    "    for attraction in data:\n",
    "        if attraction['business_id'] == id:\n",
    "            return (attraction['latitude'], attraction['longitude'])\n",
    "def getCordinate_Hotel(id):\n",
    "    for hotel in data_hotel:\n",
    "        if hotel['business_id'] == id:\n",
    "            return (hotel['latitude'], hotel['longitude'])"
   ]
  },
  {
   "cell_type": "code",
   "execution_count": 175,
   "metadata": {},
   "outputs": [
    {
     "data": {
      "text/plain": [
       "[[(39.946396818, -75.1609669488),\n",
       "  (39.9488980012, -75.1500296367),\n",
       "  (39.9495774962, -75.1503095688),\n",
       "  (39.953893, -75.149068),\n",
       "  (39.9445424967, -75.1414754636)],\n",
       " [(39.946396818, -75.1609669488),\n",
       "  (39.965573, -75.180969),\n",
       "  (39.942712, -75.159313),\n",
       "  (39.9533414645, -75.1588545174),\n",
       "  (39.9582109, -75.1731373822)]]"
      ]
     },
     "execution_count": 175,
     "metadata": {},
     "output_type": "execute_result"
    }
   ],
   "source": [
    "#get the cordinates\n",
    "cordinates = []\n",
    "for day in plan:\n",
    "    cordinate_one_day = []\n",
    "    \n",
    "    cordinate_one_day.append(getCordinate_Hotel(day['accommodation']))\n",
    "    \n",
    "    for attraction in day['morning_attractions']:\n",
    "        cordinate_one_day.append(getCordinate(attraction))\n",
    "    for attraction in day['afternoon_attractions']:\n",
    "        cordinate_one_day.append(getCordinate(attraction))\n",
    "    for attraction in day['night_attractions']:\n",
    "        cordinate_one_day.append(getCordinate(attraction))\n",
    "            \n",
    "    cordinates.append(cordinate_one_day)\n",
    "cordinates"
   ]
  },
  {
   "cell_type": "code",
   "execution_count": 176,
   "metadata": {},
   "outputs": [],
   "source": [
    "def getDistanceMatrix(cordinates):\n",
    "    n = len(cordinates)\n",
    "    distance_matrix = np.zeros((n, n))\n",
    "    for i in range(n):\n",
    "        for j in range(i+1, n):\n",
    "            distance_matrix[i][j] = distance_matrix[j][i] = ((cordinates[i][0]*1000 - cordinates[j][0]*1000)**2 + (cordinates[i][1]*1000 - cordinates[j][1]*1000)**2)**0.5\n",
    "    return distance_matrix"
   ]
  },
  {
   "cell_type": "code",
   "execution_count": 177,
   "metadata": {},
   "outputs": [
    {
     "data": {
      "text/plain": [
       "array([[ 0.        , 11.21965745, 11.12189113, 14.06334694, 19.57949189],\n",
       "       [11.21965745,  0.        ,  0.73489825,  5.08672372,  9.59918209],\n",
       "       [11.12189113,  0.73489825,  0.        ,  4.49055299, 10.16821689],\n",
       "       [14.06334694,  5.08672372,  4.49055299,  0.        , 12.04485454],\n",
       "       [19.57949189,  9.59918209, 10.16821689, 12.04485454,  0.        ]])"
      ]
     },
     "execution_count": 177,
     "metadata": {},
     "output_type": "execute_result"
    }
   ],
   "source": [
    "cordinates_one_day = cordinates[0]\n",
    "\n",
    "distance_matrix = getDistanceMatrix(cordinates_one_day)\n",
    "distance_matrix"
   ]
  },
  {
   "cell_type": "code",
   "execution_count": 178,
   "metadata": {},
   "outputs": [],
   "source": [
    "def totalCost(mask, pos, n, cost, info_lists):\n",
    "    distance_list = []\n",
    "    i_list = []\n",
    "    # Base case: if all cities are visited, return the\n",
    "    # cost to return to the starting city (0)\n",
    "    if mask == (1 << n) - 1:\n",
    "        return cost[pos][0]\n",
    "\n",
    "    ans = sys.maxsize   \n",
    "\n",
    "    # Try visiting every city that has not been visited yet\n",
    "    for i in range(n):\n",
    "        if (mask & (1 << i)) == 0: \n",
    "            i_list.append(i)\n",
    "            # If city i is not visited, visit it and \n",
    "             #  update the mask\n",
    "            distance_list.append(cost[pos][i] +\n",
    "                      totalCost(mask | (1 << i), i, n, cost, info_lists))\n",
    "        \n",
    "\n",
    "    info_list = [i_list, distance_list]\n",
    "    info_lists.append(info_list)\n",
    "    \n",
    "    ans = min(distance_list)\n",
    "    return ans"
   ]
  },
  {
   "cell_type": "code",
   "execution_count": 179,
   "metadata": {},
   "outputs": [
    {
     "name": "stdout",
     "output_type": "stream",
     "text": [
      "the short distance is:  47.564172952389654\n"
     ]
    }
   ],
   "source": [
    "n = len(distance_matrix)\n",
    "info_list = []\n",
    "optimized_distance = totalCost(1, 0, n, distance_matrix,info_list)\n",
    "print(\"the short distance is: \", optimized_distance)"
   ]
  },
  {
   "cell_type": "code",
   "execution_count": 180,
   "metadata": {},
   "outputs": [
    {
     "name": "stdout",
     "output_type": "stream",
     "text": [
      " the shortest path is:  [[0, 2, 1, 3, 4], [0, 4, 3, 1, 2]]\n"
     ]
    }
   ],
   "source": [
    "#get a list of 1 to n\n",
    "candidates = list(range(n-1))\n",
    "#add 1 to the values\n",
    "candidates = [x+1 for x in candidates]\n",
    "\n",
    "moves = []\n",
    "\n",
    "while len(candidates) > 0:\n",
    "    #find the last one in the lnfo_list\n",
    "    for i in range(len(info_list)):\n",
    "        if info_list[i][0] == candidates:\n",
    "            next_move = info_list[i][0][np.argmin(info_list[i][1])]\n",
    "            moves.append(next_move)\n",
    "            #take next move out of candidates\n",
    "            candidates.remove(next_move)\n",
    "\n",
    "moves_reversed = moves[::-1]\n",
    "optimized_route = [[0] + moves, [0] + moves_reversed]\n",
    "print(\" the shortest path is: \", optimized_route)\n",
    "            "
   ]
  },
  {
   "cell_type": "markdown",
   "metadata": {},
   "source": [
    "Validation!"
   ]
  },
  {
   "cell_type": "code",
   "execution_count": 181,
   "metadata": {},
   "outputs": [],
   "source": [
    "distance_matrix = [\n",
    "        [0, 10, 15, 50],\n",
    "        [10, 0, 50, 25],\n",
    "        [15, 50, 0, 30],\n",
    "        [50, 25, 30, 0]\n",
    "    ]"
   ]
  },
  {
   "cell_type": "code",
   "execution_count": 182,
   "metadata": {},
   "outputs": [
    {
     "name": "stdout",
     "output_type": "stream",
     "text": [
      "80\n"
     ]
    }
   ],
   "source": [
    "n = len(distance_matrix)\n",
    "info_list = []\n",
    "optimized_distance = totalCost(1, 0, n, distance_matrix,info_list)\n",
    "print(optimized_distance)"
   ]
  },
  {
   "cell_type": "code",
   "execution_count": 183,
   "metadata": {},
   "outputs": [
    {
     "data": {
      "text/plain": [
       "[[[3], [80]],\n",
       " [[2], [45]],\n",
       " [[2, 3], [130, 70]],\n",
       " [[3], [75]],\n",
       " [[1], [35]],\n",
       " [[1, 3], [125, 65]],\n",
       " [[2], [65]],\n",
       " [[1], [60]],\n",
       " [[1, 2], [90, 90]],\n",
       " [[1, 2, 3], [80, 80, 140]]]"
      ]
     },
     "execution_count": 183,
     "metadata": {},
     "output_type": "execute_result"
    }
   ],
   "source": [
    "info_list"
   ]
  },
  {
   "cell_type": "code",
   "execution_count": 184,
   "metadata": {},
   "outputs": [
    {
     "name": "stdout",
     "output_type": "stream",
     "text": [
      "[[0, 1, 3, 2, 0], [0, 2, 3, 1, 0]]\n"
     ]
    }
   ],
   "source": [
    "#get a list of 1 to n\n",
    "candidates = list(range(n-1))\n",
    "#add 1 to the values\n",
    "candidates = [x+1 for x in candidates]\n",
    "\n",
    "moves = []\n",
    "\n",
    "while len(candidates) > 0:\n",
    "    #find the last one in the lnfo_list\n",
    "    for i in range(len(info_list)):\n",
    "        if info_list[i][0] == candidates:\n",
    "            next_move = info_list[i][0][np.argmin(info_list[i][1])]\n",
    "            moves.append(next_move)\n",
    "            #take next move out of candidates\n",
    "            candidates.remove(next_move)\n",
    "\n",
    "moves_reversed = moves[::-1]\n",
    "optimized_route = [[0] + moves + [0], [0] + moves_reversed + [0]]\n",
    "print(optimized_route)"
   ]
  },
  {
   "cell_type": "markdown",
   "metadata": {},
   "source": [
    "Multi day"
   ]
  },
  {
   "cell_type": "code",
   "execution_count": null,
   "metadata": {},
   "outputs": [],
   "source": []
  },
  {
   "cell_type": "code",
   "execution_count": null,
   "metadata": {},
   "outputs": [],
   "source": []
  },
  {
   "cell_type": "code",
   "execution_count": null,
   "metadata": {},
   "outputs": [],
   "source": []
  },
  {
   "cell_type": "code",
   "execution_count": 185,
   "metadata": {},
   "outputs": [],
   "source": [
    "def totalCost_multiday(mask, pos, day, n, cost, info_lists):\n",
    "    current_day_visits = len(cordinates[day])\n",
    "    distance_list = []\n",
    "    i_list = []\n",
    "    # Base case: if all cities are visited, return the\n",
    "    # cost to return to the starting city (0)\n",
    "    if mask == (1 << n) - 1:\n",
    "        return cost[pos][0]\n",
    "\n",
    "    ans = sys.maxsize   \n",
    "\n",
    "    # Try visiting every city that has not been visited yet\n",
    "    for i in range(n):\n",
    "        if (mask & (1 << i)) == 0: \n",
    "            i_list.append(i)\n",
    "            # If city i is not visited, visit it and \n",
    "             #  update the mask\n",
    "            distance_list.append(cost[pos][i] +\n",
    "                      totalCost(mask | (1 << i), i, day, n, cost, info_lists))\n",
    "        \n",
    "\n",
    "    info_list = [i_list, distance_list]\n",
    "    info_lists.append(info_list)\n",
    "    \n",
    "    ans = min(distance_list)\n",
    "    return ans"
   ]
  },
  {
   "cell_type": "code",
   "execution_count": 186,
   "metadata": {},
   "outputs": [
    {
     "data": {
      "text/plain": [
       "[[(39.946396818, -75.1609669488),\n",
       "  (39.9488980012, -75.1500296367),\n",
       "  (39.9495774962, -75.1503095688),\n",
       "  (39.953893, -75.149068),\n",
       "  (39.9445424967, -75.1414754636)],\n",
       " [(39.946396818, -75.1609669488),\n",
       "  (39.965573, -75.180969),\n",
       "  (39.942712, -75.159313),\n",
       "  (39.9533414645, -75.1588545174),\n",
       "  (39.9582109, -75.1731373822)]]"
      ]
     },
     "execution_count": 186,
     "metadata": {},
     "output_type": "execute_result"
    }
   ],
   "source": [
    "cordinates"
   ]
  },
  {
   "cell_type": "code",
   "execution_count": 187,
   "metadata": {},
   "outputs": [
    {
     "data": {
      "text/plain": [
       "(39.946396818, -75.1609669488)"
      ]
     },
     "execution_count": 187,
     "metadata": {},
     "output_type": "execute_result"
    }
   ],
   "source": [
    "cordinates[0][0]"
   ]
  },
  {
   "cell_type": "code",
   "execution_count": 188,
   "metadata": {},
   "outputs": [
    {
     "data": {
      "text/plain": [
       "[(39.946396818, -75.1609669488),\n",
       " (39.9488980012, -75.1500296367),\n",
       " (39.9495774962, -75.1503095688),\n",
       " (39.953893, -75.149068),\n",
       " (39.9445424967, -75.1414754636),\n",
       " (39.946396818, -75.1609669488),\n",
       " (39.965573, -75.180969),\n",
       " (39.942712, -75.159313),\n",
       " (39.9533414645, -75.1588545174),\n",
       " (39.9582109, -75.1731373822)]"
      ]
     },
     "execution_count": 188,
     "metadata": {},
     "output_type": "execute_result"
    }
   ],
   "source": [
    "cordinates_all_days = []\n",
    "for i in range(len(cordinates)):\n",
    "    for business in cordinates[i]:\n",
    "        cordinates_all_days.append(business)\n",
    "\n",
    "cordinates_all_days"
   ]
  },
  {
   "cell_type": "code",
   "execution_count": 189,
   "metadata": {},
   "outputs": [
    {
     "data": {
      "text/plain": [
       "array([[ 0.        , 11.21965745, 11.12189113, 14.06334694, 19.57949189,\n",
       "         0.        , 27.70934875,  4.03898878,  7.25882094, 16.96148527],\n",
       "       [11.21965745,  0.        ,  0.73489825,  5.08672372,  9.59918209,\n",
       "        11.21965745, 35.14683181, 11.15560151,  9.88042942, 24.91381115],\n",
       "       [11.12189113,  0.73489825,  0.        ,  4.49055299, 10.16821689,\n",
       "        11.12189113, 34.58116342, 11.32240308,  9.33721607, 24.40583385],\n",
       "       [14.06334694,  5.08672372,  4.49055299,  0.        , 12.04485454,\n",
       "        14.06334694, 33.97199142, 15.16491958,  9.80204643, 24.45361773],\n",
       "       [19.57949189,  9.59918209, 10.16821689, 12.04485454,  0.        ,\n",
       "        19.57949189, 44.74395475, 17.93121365, 19.47956225, 34.48626304],\n",
       "       [ 0.        , 11.21965745, 11.12189113, 14.06334694, 19.57949189,\n",
       "         0.        , 27.70934875,  4.03898878,  7.25882094, 16.96148527],\n",
       "       [27.70934875, 35.14683181, 34.58116342, 33.97199142, 44.74395475,\n",
       "        27.70934875,  0.        , 31.48980243, 25.27173918, 10.7487094 ],\n",
       "       [ 4.03898878, 11.15560151, 11.32240308, 15.16491958, 17.93121365,\n",
       "         4.03898878, 31.48980243,  0.        , 10.63934781, 20.76847237],\n",
       "       [ 7.25882094,  9.88042942,  9.33721607,  9.80204643, 19.47956225,\n",
       "         7.25882094, 25.27173918, 10.63934781,  0.        , 15.09011693],\n",
       "       [16.96148527, 24.91381115, 24.40583385, 24.45361773, 34.48626304,\n",
       "        16.96148527, 10.7487094 , 20.76847237, 15.09011693,  0.        ]])"
      ]
     },
     "execution_count": 189,
     "metadata": {},
     "output_type": "execute_result"
    }
   ],
   "source": [
    "distance_matrix = getDistanceMatrix(cordinates_all_days)\n",
    "distance_matrix"
   ]
  },
  {
   "cell_type": "code",
   "execution_count": 190,
   "metadata": {},
   "outputs": [],
   "source": [
    "import pandas as pd\n",
    "\n",
    "# Convert the array into a DataFrame (table)\n",
    "df = pd.DataFrame(distance_matrix)\n",
    "\n",
    "# Save the DataFrame to an Excel file\n",
    "df.to_excel('output.xlsx', index=False)"
   ]
  },
  {
   "cell_type": "code",
   "execution_count": 191,
   "metadata": {},
   "outputs": [],
   "source": [
    "def getHotelIndex(day,cordinates):\n",
    "    hotel_index = 0\n",
    "    if day > 0:\n",
    "        for j in range(day):\n",
    "            hotel_index += len(cordinates[j])\n",
    "    return hotel_index\n",
    "\n",
    "def totalCost_multiday(mask, pos, day, cordinates, n, visited, cost, info_lists):\n",
    "    visit_requirement = len(cordinates[day])\n",
    "    distance_list = []\n",
    "    i_list = []\n",
    "\n",
    "    hotel_index = getHotelIndex(day,cordinates)\n",
    "    hotel_index_next_day = getHotelIndex(day+1,cordinates)\n",
    "    # Base case: if all cities are visited, return the\n",
    "    # cost to return to the starting city (0)\n",
    "\n",
    "    if mask == (1 << n) - 1:\n",
    "        return cost[pos][hotel_index]\n",
    "\n",
    "    if visit_requirement == visited:\n",
    "        for i in range(n):\n",
    "            if (mask & (1 << i)) == 0: \n",
    "                i_list.append(i)\n",
    "                distance_list.append(cost[pos][i] +totalCost_multiday(mask | (1 << i), hotel_index_next_day, day + 1, cordinates, n, 1, cost, info_lists))\n",
    "        \n",
    "        info_list = [i_list, distance_list]\n",
    "        info_lists.append(info_list)\n",
    "        \n",
    "        return min(distance_list) + cost[pos][hotel_index] # change this to the old hotel position\n",
    "    \n",
    "    # Try visiting every city that has not been visited yet\n",
    "    for i in range(n):\n",
    "        if (mask & (1 << i)) == 0: \n",
    "\n",
    "            i_list.append(i)\n",
    "            # If city i is not visited, visit it and \n",
    "             #  update the mask\n",
    "            distance_list.append(cost[pos][i] +\n",
    "                      totalCost_multiday(mask | (1 << i), i, day, cordinates, n, visited + 1, cost, info_lists))\n",
    "        \n",
    "\n",
    "    info_list = [i_list, distance_list]\n",
    "    info_lists.append(info_list)\n",
    "  \n",
    "    return min(distance_list)"
   ]
  },
  {
   "cell_type": "code",
   "execution_count": 192,
   "metadata": {},
   "outputs": [],
   "source": [
    "n = len(distance_matrix)\n",
    "info_list = []\n",
    "#newMask will have all the hotels as 1 before the function.\n",
    "newMask = 1\n",
    "index_list = list(range(len(cordinates) - 1))\n",
    "index_list = index_list[::-1]\n",
    "newMask = 1\n",
    "for i in index_list:\n",
    "    newMask = (newMask << (len(cordinates[i]))) + 1\n",
    "\n",
    "optimized_distance = totalCost_multiday(newMask, 0,0,cordinates,n,1,distance_matrix, info_list)"
   ]
  },
  {
   "cell_type": "code",
   "execution_count": 193,
   "metadata": {},
   "outputs": [
    {
     "data": {
      "text/plain": [
       "10"
      ]
     },
     "execution_count": 193,
     "metadata": {},
     "output_type": "execute_result"
    }
   ],
   "source": [
    "n"
   ]
  },
  {
   "cell_type": "code",
   "execution_count": 194,
   "metadata": {},
   "outputs": [
    {
     "data": {
      "text/plain": [
       "33"
      ]
     },
     "execution_count": 194,
     "metadata": {},
     "output_type": "execute_result"
    }
   ],
   "source": [
    "newMask"
   ]
  },
  {
   "cell_type": "code",
   "execution_count": 195,
   "metadata": {},
   "outputs": [
    {
     "data": {
      "text/plain": [
       "np.float64(105.48895393859405)"
      ]
     },
     "execution_count": 195,
     "metadata": {},
     "output_type": "execute_result"
    }
   ],
   "source": [
    "optimized_distance"
   ]
  },
  {
   "cell_type": "markdown",
   "metadata": {},
   "source": [
    "This might be correct! The seperate ones are 47 + 67, and pretty optimized, but if the new number 105 seems pretty correct."
   ]
  },
  {
   "cell_type": "markdown",
   "metadata": {},
   "source": []
  }
 ],
 "metadata": {
  "kernelspec": {
   "display_name": "torchgpu",
   "language": "python",
   "name": "python3"
  },
  "language_info": {
   "codemirror_mode": {
    "name": "ipython",
    "version": 3
   },
   "file_extension": ".py",
   "mimetype": "text/x-python",
   "name": "python",
   "nbconvert_exporter": "python",
   "pygments_lexer": "ipython3",
   "version": "3.11.0"
  }
 },
 "nbformat": 4,
 "nbformat_minor": 2
}
