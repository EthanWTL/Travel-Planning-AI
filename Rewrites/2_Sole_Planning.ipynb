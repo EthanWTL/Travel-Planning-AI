{
 "cells": [
  {
   "cell_type": "code",
   "execution_count": 11,
   "metadata": {},
   "outputs": [
    {
     "name": "stdout",
     "output_type": "stream",
     "text": [
      "the model you choose is:  gpt4o  The planner LLM is:  gpt-4o-2024-11-20\n",
      "The task you choose is:  allDataNoRoute\n"
     ]
    }
   ],
   "source": [
    "\n",
    "import os\n",
    "import json\n",
    "from langchain_openai import ChatOpenAI\n",
    "from langchain.schema import HumanMessage\n",
    "from Utils.Prompt import planner_no_route_agent\n",
    "\n",
    "OPENAI_API_KEY = os.getenv('OPEN_AI_API')\n",
    "\n",
    "class SolePlanning:\n",
    "    def __init__(self,\n",
    "                 planner_llm) -> None:\n",
    "        \n",
    "        self.planner_llm = planner_llm\n",
    "\n",
    "        if self.planner_llm == 'gpt-4o-2024-11-20':\n",
    "            self.llm = ChatOpenAI(temperature=0,\n",
    "                        model_name='gpt-4o-2024-11-20',\n",
    "                        openai_api_key=OPENAI_API_KEY)\n",
    "            \n",
    "    def createPlan(self, prompt):\n",
    "        if self.planner_llm == 'gpt-4o-2024-11-20':\n",
    "            request = self.llm.invoke([HumanMessage(prompt)]).content\n",
    "            return request\n",
    "\n",
    "\n",
    "if __name__ == '__main__':\n",
    "    modelList = ['gpt4o','gemini']\n",
    "    model_map = {'gpt4o': 'gpt-4o-2024-11-20'}\n",
    "    taskList = ['allDataNoRoute', 'allDataRoutOP', 'filteredDataRouteOP']\n",
    "\n",
    "    #just choose the model and the task\n",
    "    #choose model\n",
    "    model = modelList[0]\n",
    "    planner_llm = model_map[model]\n",
    "    print(\"the model you choose is: \", model, \" The planner LLM is: \", planner_llm)\n",
    "    # choose task\n",
    "    task = taskList[0]\n",
    "    print(\"The task you choose is: \", task)\n",
    "    #number of plan\n",
    "    numPlan = 20\n",
    "    print(\"You will run: \" + str(numPlan) + \" plans\")\n",
    "    \n",
    "\n",
    "    \n",
    "\n",
    "    #load data (all/filtered)\n",
    "    if 'all' in task:\n",
    "        with open(f'Dataset/{model}/all_data.json', 'r') as file:\n",
    "            given_information = json.load(file)\n",
    "    else:\n",
    "        with open(f'Dataset/{model}/filtered_data.json', 'r') as file:\n",
    "            given_information = json.load(file)\n",
    "    \n",
    "    #iterate through all human querys\n",
    "    plans = []\n",
    "    for i in range(numPlan):\n",
    "        #load human query, allData only 100 plans, filteredData 500 plans.\n",
    "        with open ('Prompts/humanQuerys.jsonl', 'r') as file:\n",
    "            humanquerys = [json.loads(line.strip()) for line in file]\n",
    "        query = humanquerys[i]['query']\n",
    "        #print(query)\n",
    "        \n",
    "        #load prompt agent, and make the prompt\n",
    "        if task == 'allDataNoRoute':\n",
    "            prompt_agent = planner_no_route_agent\n",
    "            prompt = prompt_agent.format(given_information = given_information, query = query)\n",
    "            #print(prompt)\n",
    "        \n",
    "\n",
    "        #actual inference\n",
    "        solePlanning = SolePlanning(planner_llm=planner_llm)\n",
    "        plan = {\"index\": i+1, \"plan\": solePlanning.createPlan(prompt)}\n",
    "        plans.append(plan)\n",
    "\n",
    "    with open (f'Output/{model}/plans/{task}.jsonl', 'w') as file:\n",
    "        for plan in plans:\n",
    "            file.write(json.dumps(plan) + '\\n')"
   ]
  },
  {
   "cell_type": "code",
   "execution_count": 4,
   "metadata": {},
   "outputs": [
    {
     "data": {
      "text/plain": [
       "'I am planning a 3-day trip with an expensive budget. I would like to explore some nature-oriented attractions. Please recommend restaurants that serve US cuisine and offer good value. For accommodation, I am looking for a hotel with good service.'"
      ]
     },
     "execution_count": 4,
     "metadata": {},
     "output_type": "execute_result"
    }
   ],
   "source": [
    "query"
   ]
  },
  {
   "cell_type": "code",
   "execution_count": null,
   "metadata": {},
   "outputs": [],
   "source": []
  }
 ],
 "metadata": {
  "kernelspec": {
   "display_name": "torchgpu",
   "language": "python",
   "name": "python3"
  },
  "language_info": {
   "codemirror_mode": {
    "name": "ipython",
    "version": 3
   },
   "file_extension": ".py",
   "mimetype": "text/x-python",
   "name": "python",
   "nbconvert_exporter": "python",
   "pygments_lexer": "ipython3",
   "version": "3.11.0"
  }
 },
 "nbformat": 4,
 "nbformat_minor": 2
}
