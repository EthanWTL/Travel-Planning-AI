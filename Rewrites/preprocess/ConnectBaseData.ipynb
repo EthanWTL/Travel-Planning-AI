{
 "cells": [
  {
   "cell_type": "code",
   "execution_count": 6,
   "metadata": {},
   "outputs": [],
   "source": [
    "import json\n",
    "import pandas as pd\n",
    "import csv\n",
    "\n",
    "with open('Dataset/Base/Attractions.jsonl', 'r') as f:\n",
    "    attractions = [json.loads(line) for line in f]\n",
    "\n",
    "with open('Dataset/Base/Hotels.jsonl', 'r') as f:\n",
    "    hotels = [json.loads(line) for line in f]\n",
    "\n",
    "with open('Dataset/Base/Restaurants.jsonl', 'r') as f:\n",
    "    restaurants = [json.loads(line) for line in f]\n",
    "\n",
    "attractions_df = pd.DataFrame(attractions)\n",
    "hotels_df = pd.DataFrame(hotels)\n",
    "restaurants_df = pd.DataFrame(restaurants)\n",
    "\n",
    "attractions_df.to_csv('Dataset/Base/attractions.csv', index=False)\n",
    "with open ('Dataset/Base/attractions.csv', 'r') as f:\n",
    "    reader = csv.reader(f)\n",
    "    attractions_txt = ''\n",
    "    for row in reader:\n",
    "        attractions_txt += ','.join(row)+ '\\n'\n",
    "\n",
    "hotels_df.to_csv('Dataset/Base/hotels.csv', index=False)\n",
    "with open ('Dataset/Base/hotels.csv', 'r') as f:\n",
    "    reader = csv.reader(f)\n",
    "    hotels_txt = ''\n",
    "    for row in reader:\n",
    "        hotels_txt += ','.join(row)+ '\\n'\n",
    "\n",
    "restaurants_df.to_csv('Dataset/Base/restaurants.csv', index=False)\n",
    "with open ('Dataset/Base/restaurants.csv', 'r') as f:\n",
    "    reader = csv.reader(f)\n",
    "    restaurants_txt = ''\n",
    "    for row in reader:\n",
    "        restaurants_txt += ','.join(row)+ '\\n'\n",
    "\n",
    "data = [\n",
    "    {\n",
    "        \"Description\": \"Base information for hotel\",\n",
    "        \"Content\": hotels_txt\n",
    "    },\n",
    "    {\n",
    "        \"Description\": \"base information for attractions\",\n",
    "        \"Content\": attractions_txt\n",
    "    },{\n",
    "        \"Description\": \"base information for restaurants\",\n",
    "        \"Content\": restaurants_txt\n",
    "    }\n",
    "]\n",
    "\n",
    "with open('Dataset/Base/all_base_data.json', 'w') as file:\n",
    "    json.dump(data, file)"
   ]
  },
  {
   "cell_type": "code",
   "execution_count": null,
   "metadata": {},
   "outputs": [],
   "source": []
  }
 ],
 "metadata": {
  "kernelspec": {
   "display_name": "Python 3",
   "language": "python",
   "name": "python3"
  },
  "language_info": {
   "codemirror_mode": {
    "name": "ipython",
    "version": 3
   },
   "file_extension": ".py",
   "mimetype": "text/x-python",
   "name": "python",
   "nbconvert_exporter": "python",
   "pygments_lexer": "ipython3",
   "version": "3.11.11"
  }
 },
 "nbformat": 4,
 "nbformat_minor": 2
}
