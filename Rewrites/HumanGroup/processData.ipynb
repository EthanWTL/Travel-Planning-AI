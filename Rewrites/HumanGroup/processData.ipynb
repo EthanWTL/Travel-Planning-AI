{
 "cells": [
  {
   "cell_type": "code",
   "execution_count": 1,
   "metadata": {},
   "outputs": [],
   "source": [
    "import json\n",
    "\n",
    "with open ('restaurants.jsonl', 'r') as file:\n",
    "    restaurants = [json.loads(line.strip()) for line in file]\n",
    "\n",
    "with open ('hotels.jsonl', 'r') as file:\n",
    "    hotels = [json.loads(line.strip()) for line in file]\n",
    "\n",
    "with open ('attractions.jsonl', 'r') as file:\n",
    "    attractions = [json.loads(line.strip()) for line in file]"
   ]
  },
  {
   "cell_type": "code",
   "execution_count": 2,
   "metadata": {},
   "outputs": [],
   "source": [
    "data = {\n",
    "    \"restaurants\": restaurants,\n",
    "    \"hotels\": hotels,\n",
    "    \"attractions\": attractions\n",
    "}"
   ]
  },
  {
   "cell_type": "code",
   "execution_count": 4,
   "metadata": {},
   "outputs": [],
   "source": [
    "#save data into json file\n",
    "with open('data.json', 'w') as f:\n",
    "    json.dump(data, f)"
   ]
  },
  {
   "cell_type": "code",
   "execution_count": null,
   "metadata": {},
   "outputs": [],
   "source": []
  }
 ],
 "metadata": {
  "kernelspec": {
   "display_name": "torchgpu",
   "language": "python",
   "name": "python3"
  },
  "language_info": {
   "codemirror_mode": {
    "name": "ipython",
    "version": 3
   },
   "file_extension": ".py",
   "mimetype": "text/x-python",
   "name": "python",
   "nbconvert_exporter": "python",
   "pygments_lexer": "ipython3",
   "version": "3.11.0"
  }
 },
 "nbformat": 4,
 "nbformat_minor": 2
}
