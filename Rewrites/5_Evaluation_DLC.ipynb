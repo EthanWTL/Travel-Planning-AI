{
 "cells": [
  {
   "cell_type": "markdown",
   "metadata": {},
   "source": [
    "1. Parameter Accuracy\n",
    "\n",
    "This part will check how accurate the LLM parse the parameters for the function call after reading the query."
   ]
  },
  {
   "cell_type": "markdown",
   "metadata": {},
   "source": [
    "2. delivery rate"
   ]
  },
  {
   "cell_type": "code",
   "execution_count": 3,
   "metadata": {},
   "outputs": [],
   "source": [
    "import json\n",
    "#delivery rate\n",
    "def getDeliveryRate(model, numPlan):\n",
    "    delivered = 0\n",
    "    with open (f'Output/{model}/plans/toolUsePlans.jsonl','r') as f:\n",
    "         plans = [json.loads(line.strip()) for line in f]\n",
    "\n",
    "    for record in plans:\n",
    "        if record['plan'] != \"\":\n",
    "            delivered += 1\n",
    "    return delivered / numPlan"
   ]
  },
  {
   "cell_type": "code",
   "execution_count": 8,
   "metadata": {},
   "outputs": [
    {
     "data": {
      "text/plain": [
       "0.8466666666666667"
      ]
     },
     "execution_count": 8,
     "metadata": {},
     "output_type": "execute_result"
    }
   ],
   "source": [
    "deliverayRate = getDeliveryRate('llama318b',300)\n",
    "deliverayRate"
   ]
  },
  {
   "cell_type": "code",
   "execution_count": 2,
   "metadata": {},
   "outputs": [],
   "source": [
    "import json"
   ]
  },
  {
   "cell_type": "code",
   "execution_count": 4,
   "metadata": {},
   "outputs": [],
   "source": [
    "#get the error list, rerun, wrong parameter, we don't have max steps. \n",
    "\n",
    "#test Llama's performance\n",
    "with open ('Output/llama318b/plans/toolUseLogs.jsonl','r') as f:\n",
    "    logs = [json.loads(line.strip()) for line in f]\n"
   ]
  },
  {
   "cell_type": "code",
   "execution_count": 47,
   "metadata": {},
   "outputs": [
    {
     "data": {
      "text/plain": [
       "{'index': 16,\n",
       " 'log': [{'step': 1,\n",
       "   'thought': 'Thought 1: I want to plan a 2-day trip with an expensive budget. I am interested in visiting history-oriented attractions. Please recommend some Irish restaurants with good freshness and a good environment. I would also like to stay in a hotel with a good location.',\n",
       "   'action': 'Action 1: AccommodationSearch[Expensive Budget, [Good Location]]',\n",
       "   'observation': \"                                                       name                                                      address  latitude  longitude\\n                                     AKA Rittenhouse Square                                                135 S 18th St 39.950365 -75.170453\\n                                              Alexander Inn                                                301 S 12th St 39.946397 -75.160967\\n                                 Aloft Philadelphia Airport                                              4301 Island Ave 39.891125 -75.234251\\n                                Aloft Philadelphia Downtown                                           101 North Broad St 39.954622 -75.162792\\n     Best Western Plus Philadelphia Convention Center Hotel                                                 1225 Vine St 39.957823 -75.159432\\n            Cambria Hotel Philadelphia Downtown Center City                                       219 South Broad Street 39.948605 -75.164081\\n                                        Chestnut Hill Hotel                                          8229 Germantown Ave 40.074167 -75.203098\\n                                               Chez Colette                                                120 S 17th St 39.950721 -75.168934\\n                                 Club Quarters Philadelphia                                             1628 Chestnut St 39.951294 -75.168440\\n                 Courtyard by Marriott Philadelphia Airport                                             8900 Bartram Ave 39.884977 -75.251369\\n                                      Courtyard by Marriott                                       4100 Presidential Blvd 40.007173 -75.211084\\n            DoubleTree by Hilton Hotel Philadelphia Airport                                              4509 Island Ave 39.888962 -75.232557\\n        DoubleTree by Hilton Hotel Philadelphia Center City                                               237 S Broad St 39.947903 -75.164033\\n                                       Element Philadelphia                                             1441 Chestnut St 39.951157 -75.165385\\n   Fairfield Inn & Suites Philadelphia Downtown/Center City                                        261 South 13th Street 39.946891 -75.162359\\n             Fairfield Inn by Marriott Philadelphia Airport                                             8800 Bartram Ave 39.886825 -75.247647\\n           Four Points by Sheraton Philadelphia City Center                                                 1201 Race St 39.956037 -75.159178\\n     Hampton Inn Philadelphia Center City-Convention Center                                                 1301 Race St 39.956284 -75.160748\\n             Hampton Inn Philadelphia-International Airport                                             8600 Bartram Ave 39.888254 -75.246340\\n                 Hilton Garden Inn Philadelphia Center City                                                 1100 Arch St 39.953572 -75.158085\\n                      Hilton Philadelphia at Penn's Landing                              201 S Christopher Columbus Blvd 39.945242 -75.141355\\n           Holiday Inn Express Philadelphia - Penns Landing                                          100 N Columbus Blvd 39.952805 -75.140446\\n                   Holiday Inn Express Philadelphia-Midtown                                               1305 Walnut St 39.949335 -75.162612\\nHome2 Suites by Hilton Philadelphia - Convention Center, PA                                                 1200 Arch St 39.953683 -75.159804\\n         Homewood Suites by Hilton Philadelphia-City Avenue                                                4200 City Ave 40.004006 -75.217686\\n Homewood Suites by Hilton University City Philadelphia, PA                                               4109 Walnut St 39.954657 -75.205593\\n             Independence Park Hotel, Bw Premier Collection                                              235 Chestnut St 39.948669 -75.145468\\n                          Kimpton Hotel Monaco Philadelphia                                              433 Chestnut St 39.949124 -75.148895\\n                         Kimpton Hotel Palomar Philadelphia                                                117 S 17th St 39.950829 -75.168629\\n                                   Le Meridien Philadelphia                                             1421 Arch Street 39.954825 -75.164064\\n                                          Live Casino Hotel                                               900 Packer Ave 39.909191 -75.164662\\n                                   Loews Philadelphia Hotel                                               1200 Market St 39.951746 -75.160229\\n                                                Lokal Hotel                                                 139 N 3rd St 39.953255 -75.144790\\n                                              Minute Suites                                            Terminal A-B Link 39.878918 -75.235748\\n                                         Morris House Hotel                                                 225 S 8th St 39.947369 -75.154287\\n            Motto By Hilton Philadelphia Rittenhouse Square                                                 31 S 19th St 39.952506 -75.171707\\n                                                   Panorama                                                14 N Front St 39.950201 -75.142285\\n                                           Penn Tower Hotel                                       3400 Civic Center Blvd 39.948655 -75.191981\\n                                          Penn's View Hotel                                                14 N Front St 39.950201 -75.142285\\n                              Philadelphia Airport Marriott                                One Arrivals Road, Terminal B 39.877788 -75.244411\\n                             Philadelphia Marriott Downtown 1201 Market Street, (guest entrance at 1200 Filbert Street). 39.952534 -75.160578\\n                             Philadelphia Marriott Old City                               One Dock St, 2nd and Walnut St 39.945246 -75.143330\\n                    Renaissance Philadelphia Downtown Hotel                                              401 Chestnut St 39.949020 -75.147809\\n         Residence Inn by Marriott Philadelphia Center City                                             One East Penn Sq 39.952648 -75.162453\\n                         Residence Inn Philadelphia Airport                                              3701 Island Ave 39.895753 -75.236302\\n                                    Rodeway Inn Center City                                               1208 Walnut St 39.948766 -75.161061\\n                                      ROOST Apartment Hotel                                                111 S 15th St 39.950568 -75.165702\\n                             Sheraton Philadelphia Downtown                                        201 North 17th Street 39.957099 -75.167033\\n                Sheraton Philadelphia University City Hotel                                             3549 Chestnut St 39.954872 -75.194173\\n                       Sheraton Suites Philadelphia Airport                                            4101 B Island Ave 39.890563 -75.231534\\n                                       Sofitel Philadelphia                                                120 S 17th St 39.950948 -75.169541\\n                    Sonesta Philadelphia Rittenhouse Square                                               1800 Market St 39.952525 -75.169771\\n                                         The Bellevue Hotel                                               200 S Broad St 39.949119 -75.164844\\n                                            The Conwell Inn                                             1331 Pollet Walk 39.981812 -75.157640\\n                                               The Dwight D                                                256 S 16th St 39.947989 -75.168277\\n                                    The Franklin Residences                                              834 Chestnut St 39.949383 -75.155131\\n                            The Inn at Penn, a Hilton Hotel                                               3600 Sansom St 39.953783 -75.195782\\n                                The Inn at The Union League                                                  1450 Sansom 39.950233 -75.165187\\n         The Logan Philadelphia, Curio Collection by Hilton                                                   1 Logan Sq 39.956932 -75.170271\\n                     The Notary Hotel, Autograph Collection                                              21 N Juniper St 39.953083 -75.162187\\n                                      The Rittenhouse Hotel                                         210 W Rittenhouse Sq 39.949913 -75.173645\\n                             The Ritz-Carlton, Philadelphia                                        10 Avenue of the Arts 39.951446 -75.164149\\n                               The Study at University City                                                 20 S 33rd St 39.954406 -75.190059\\n                       The Warwick Hotel Rittenhouse Square                                                220 S 17th St 39.948700 -75.169403\\n                                    The Westin Philadelphia                        99 South 17th Street at Liberty Place 39.951929 -75.168421\\n                                         The Windsor Suites                                  1700 Benjamin Franklin Pkwy 39.955740 -75.168355\\n                                             W Philadelphia                                             1439 Chestnut St 39.951520 -75.165062\\n                     Wyndham Philadelphia Historic District                                                  400 Arch St 39.952040 -75.147515\",\n",
       "   'state': 'Successful'},\n",
       "  {'step': 2,\n",
       "   'thought': 'Thought 2: I want to plan a 2-day trip with an expensive budget. I am interested in visiting history-oriented attractions. Please recommend some Irish restaurants with good freshness and a good environment. I would also like to stay in a hotel with a good location.',\n",
       "   'action': 'Action 2: AttractionSearch[Expensive Budget, [History Oriented]]',\n",
       "   'observation': \"                                            name                           address  latitude  longitude\\n                             76 Carriage Company               1350 Schuylkill Ave 39.937574 -75.203767\\n                     Academy of Natural Sciences       1900 Benjamin Franklin Pkwy 39.957019 -75.171260\\n                          Auto Show Philadelphia                      1101 Arch St 39.954071 -75.159323\\n                                Awbury Arboretum                       1 Awbury Rd 40.050556 -75.168113\\n                        Benjamin Franklin Bridge                            US 676 39.952945 -75.134361\\n                        Benjamin Franklin Museum                   317 Chestnut St 39.949484 -75.146738\\n                       Benjamin Franklin's Grave              5th and arch Streets 39.952482 -75.148678\\n                                   Bow Tie Tours                 6TH And Market St 39.950616 -75.150347\\n                                Chef Joseph Poon                    1010 Cherry St 39.954347 -75.156613\\n                              Cherry Street Pier               121 N Columbus Blvd 39.952804 -75.139738\\n                          Chew Philly Food Tours                      4212 Main St 40.023867 -75.220830\\n                                       Chinatown                     North 12th St 39.976804 -75.154460\\n                     Christ Church Burial Ground                  20 N American St 39.950764 -75.143933\\n                                       City Hall          1450 John F Kennedy Blvd 39.952399 -75.163600\\n                            City of Philadelphia                         1 Penn Sq 39.952394 -75.163599\\n                                   Dilworth Park                       1 S 15th St 39.952505 -75.165131\\n     Eastern State Penitentiary Halloween Nights                2027 Fairmount Ave 39.968368 -75.172655\\n        Eastern State Penitentiary Historic Site                2027 Fairmount Ave 39.968368 -75.172655\\n                        Ebenezer Maxwell Mansion              200 W Tulpehocken St 40.038165 -75.183676\\n                           Elfreths Alley Museum                 126 Elfreth's Aly 39.952709 -75.142487\\n                           Fairmount Water Works                 640 Waterworks Dr 39.966035 -75.183492\\n                                        FDR Park                 1500 Pattison Ave 39.905550 -75.175582\\n                                    Fort Mifflin                6400 Hog Island Rd 39.875325 -75.213082\\n                              Founding Footsteps                       302 Arch St 39.952035 -75.145434\\n                       Franklin Square Mini Golf                      200 N 6th St 39.955848 -75.150486\\n                                 Franklin Square                      200 N 6th St 39.955700 -75.150137\\n                  German Society of Pennsylvania              611 Spring Garden St 39.961634 -75.149248\\n                      Ghost Tour of Philadelphia                  5TH And Chestnut 39.949035 -75.149189\\n                      Glen Foerd on the Delaware                    5001 Grant Ave 40.051577 -74.978913\\n                      Grim Philly Twilight Tours               Market and N 6th St 39.950904 -75.150121\\n                      Historic Philadelphia, Inc            600 Walnut St, Ste 130 39.948321 -75.151952\\n                           Humphrys Flag Company                       238 Arch St 39.951957 -75.144619\\n                        Independence After Hours                   600 Chestnut St 39.949101 -75.149177\\n                     Independence Seaport Museum               211 S Columbus Blvd 39.945918 -75.140474\\n                                  Jim's South St                          400 S St 39.941498 -75.149272\\n                Jules Goldman Books and Antiques                       29 N 2nd St 39.950733 -75.143068\\n                              Lemon Hill Mansion                   1 Lemon Hill dr 39.970756 -75.187195\\n                   Lest We Forget Slavery Museum               5501 Germantown Ave 39.988632 -75.090699\\n                   Lincoln Financial Field Tours   One Lincoln Financial Field Way 39.900998 -75.167496\\n                                    Mask and Wig                   310 S Quince St 39.946013 -75.160521\\n                                Morris Arboretum            100 E Northwestern Ave 40.089742 -75.222909\\nMother Bethel African Methodist Episcopal Church                      419 S 6th St 39.943289 -75.151756\\n               Museum of the American Revolution                      101 S 3rd St 39.948212 -75.145552\\n                    National Constitution Center                       525 Arch St 39.953893 -75.149068\\n                         National Liberty Museum                   321 Chestnut St 39.948830 -75.146832\\n      National Museum of American Jewish History         101 S Independence Mall E 39.950243 -75.148561\\n                     Neon Museum of Philadelphia        1800 N American St, Unit E 39.978546 -75.139660\\n                               Old City District                     231 Market St 39.950286 -75.144751\\n                                   Palace Travel          123 S Broad St, Ste 1040 39.949823 -75.163825\\n                            Pat's King of Steaks               1237 E Passyunk Ave 39.933201 -75.159266\\n                            Patriot Harbor Lines               211 S Columbus Blvd 39.945796 -75.140583\\n                                     Penn Museum                     3260 South St 39.949477 -75.191784\\n                                  Penn's Landing              Blue Cross River Rin 39.947948 -75.139738\\n               Pennsylvania Academy of Fine Arts                118-128 N Broad St 39.955637 -75.163490\\n                      Philadelphia Museum of Art       2600 Benjamin Franklin Pkwy 39.965573 -75.180969\\n  Philadelphia Segway Tours By Wheel Fun Rentals           1 N Independence Mall W 39.951283 -75.150002\\n Philadelphia Sightseeing Tours & Transportation         111 S Independence Mall E 39.949765 -75.148773\\n                  Philadelphia Soft Pretzels Inc                     4315 N 3rd St 40.016666 -75.131759\\n                      Philadelphia Trolley Works               1350 Schuylkill Ave 39.937574 -75.203767\\n                   Philadelphia Urban Adventures                       229 Arch St 39.952091 -75.140140\\n                                Philadelphia Zoo                 3400 W Girard Ave 39.971992 -75.196271\\n                                Philly Bike Tour                2015 Fairmount Ave 39.967468 -75.170830\\n            Philly Brew Tours by City Brew Tours                   1277 Filbert St 39.953060 -75.160640\\n                           Philly Official Guide                       229 Arch St 39.936754 -75.164794\\n                                 Philly Tour Hub                7 N. Columbus Blvd 39.951459 -75.140206\\n               Photography Tours of Philadelphia              226 W Rittenhouse Sq 39.949049 -75.173645\\n                                     Powel House                      244 S 3rd St 39.945759 -75.146927\\n                         Reading Terminal Market                      51 N 12th St 39.953341 -75.158855\\n                         Rittenhouse Square Park                    1800 Walnut St 39.949479 -75.171888\\n                                    Rodin Museum       2151 Benjamin Franklin Pkwy 39.961965 -75.173991\\n                                   Sassafras Bar                       48 S 2nd St 39.948832 -75.144063\\n                             Shane Confectionery                     110 Market St 39.949547 -75.142698\\n                            Shibe Vintage Sports                     137 S 13th St 39.949408 -75.161817\\n                 Shofuso Japanese House & Garden Horticultural Dr And Lansdowne Dr 39.981419 -75.213578\\n            Simeone Foundation Automotive Museum               6825-31 Norwitch Dr 39.910601 -75.226409\\n                 South Street Headhouse District                2nd And Lombard St 39.942175 -75.145318\\n                      Spirits of '76 Ghost Tours                   325 Chestnut St 39.949088 -75.147154\\n                    StrEATS of Philly Food Tours        1500 Market St, Ste W-3110 39.952317 -75.166486\\n                                          Suraya                1528 Frankford Ave 39.973687 -75.133956\\n     The African American Museum in Philadelphia                       701 Arch St 39.953261 -75.151756\\n          The American Swedish Historical Museum                 1900 Pattison Ave 39.905951 -75.181053\\n                           The Barnes Foundation       2025 Benjamin Franklin Pkwy 39.960540 -75.172563\\n                            The Betsy Ross House                       239 Arch St 39.952280 -75.144610\\n                             The Big Bus Company                     600 Market St 39.950512 -75.150768\\n                      The Center For Art In Wood                      141 N 3rd St 39.953394 -75.144789\\n                 The Constitutional Walking Tour                       525 Arch St 39.954025 -75.148883\\n  The Masonic Library and Museum of Pennsylvania                      1 N Broad St 39.953635 -75.162746\\n                    The Metropolitan Opera House                    858 N Broad St 39.969879 -75.160284\\n                       The Musical History Tours              6TH St And Market St 39.950733 -75.150187\\n                               The Mütter Museum                      19 S 22nd St 39.953274 -75.176587\\n                                   The Navy Yard                   4747 S Broad St 39.893152 -75.174557\\n                      The Philadelphia Orchestra                    300 S Broad St 39.946795 -75.165666\\n            The Philadelphia Shakespeare Theatre                    2111 Sansom St 39.951725 -75.176107\\n                                   The Rosenbach             2008-2010 Delancey Pl 39.947345 -75.174986\\n                Tullycross Fine Irish Handcrafts                      110 South St 39.940900 -75.144437\\n                     Wine School of Philadelphia                     109 S 22nd St 39.952073 -75.176908\\n                             Woodmere Art Museum               9201 Germantown Ave 40.083186 -75.219418\\n                           Yards Brewing Company              500 Spring Garden St 39.960971 -75.146908\",\n",
       "   'state': 'Successful'},\n",
       "  {'step': 3,\n",
       "   'thought': 'Thought 3: I want to plan a 2-day trip with an expensive budget. I am interested in visiting history-oriented attractions. Please recommend some Irish restaurants with good freshness and a good environment. I would also like to stay in a hotel with a good location.',\n",
       "   'action': 'Action 3: RestaurantSearch[Expensive Budget, Irish, [Good Freshness, Good Environment]]',\n",
       "   'observation': \"                  name         address  latitude  longitude     good_for_meal\\n          Fergie's Pub  1214 Sansom St 39.949596 -75.161128 latenight, dinner\\nThe Plough & the Stars 123 Chestnut St 39.948524 -75.143730               NaN\",\n",
       "   'state': 'Successful'},\n",
       "  {'step': 4,\n",
       "   'thought': 'Thought 4: I want to plan a 2-day trip with an expensive budget. I am interested in visiting history-oriented attractions. Please recommend some Irish restaurants with good freshness and a good environment. I would also like to stay in a hotel with a good location.',\n",
       "   'action': 'Action 4: BusinessClusterSearch[]',\n",
       "   'observation': '{\\'Cluster_0\\': [[\\'Reading Terminal Market\\'], [\\'Four Points by Sheraton Philadelphia City Center\\'], [\\'Hampton Inn Philadelphia Center City-Convention Center\\'], [\\'Hilton Garden Inn Philadelphia Center City\\'], [\\'Home2 Suites by Hilton Philadelphia - Convention Center, PA\\'], [\\'Le Meridien Philadelphia\\'], [\\'Loews Philadelphia Hotel\\'], [\\'Pennsylvania Academy of Fine Arts\\'], [\\'The Masonic Library and Museum of Pennsylvania\\'], [\\'Philadelphia Marriott Downtown\\'], [\\'Aloft Philadelphia Downtown\\'], [\\'Residence Inn by Marriott Philadelphia Center City\\'], [\\'Philly Brew Tours by City Brew Tours\\'], [\\'Best Western Plus Philadelphia Convention Center Hotel\\'], [\\'Auto Show Philadelphia\\'], [\\'The Notary Hotel, Autograph Collection\\'], [\\'Chef Joseph Poon\\']], \\'Cluster_1\\': [[\\'Minute Suites\\'], [\\'DoubleTree by Hilton Hotel Philadelphia Airport\\'], [\\'Aloft Philadelphia Airport\\'], [\\'Sheraton Suites Philadelphia Airport\\'], [\\'Residence Inn Philadelphia Airport\\']], \\'Cluster_10\\': [[\\'Philly Bike Tour\\'], [\\'Rodin Museum\\'], [\\'The Barnes Foundation\\'], [\\'Eastern State Penitentiary Halloween Nights\\'], [\\'Eastern State Penitentiary Historic Site\\']], \\'Cluster_11\\': [[\\'StrEATS of Philly Food Tours\\'], [\\'Chez Colette\\'], [\\'Club Quarters Philadelphia\\'], [\\'Sonesta Philadelphia Rittenhouse Square\\'], [\\'Academy of Natural Sciences\\'], [\\'AKA Rittenhouse Square\\'], [\\'The Windsor Suites\\'], [\\'The Westin Philadelphia\\'], [\\'Sofitel Philadelphia\\'], [\\'Kimpton Hotel Palomar Philadelphia\\'], [\\'The Dwight D\\'], [\\'The Warwick Hotel Rittenhouse Square\\'], [\\'Sheraton Philadelphia Downtown\\'], [\\'Motto By Hilton Philadelphia Rittenhouse Square\\'], [\\'The Logan Philadelphia, Curio Collection by Hilton\\']], \\'Cluster_12\\': [[\\'Chew Philly Food Tours\\']], \\'Cluster_13\\': [[\\'Lest We Forget Slavery Museum\\']], \\'Cluster_14\\': [[\\'Hampton Inn Philadelphia-International Airport\\'], [\\'Fairfield Inn by Marriott Philadelphia Airport\\'], [\\'Courtyard by Marriott Philadelphia Airport\\'], [\\'Philadelphia Airport Marriott\\']], \\'Cluster_15\\': [[\\'Courtyard by Marriott\\'], [\\'Homewood Suites by Hilton Philadelphia-City Avenue\\']], \\'Cluster_16\\': [[\\'The Metropolitan Opera House\\'], [\\'The Conwell Inn\\'], [\\'Chinatown\\']], \\'Cluster_17\\': [[\\'Philly Official Guide\\'], [\"Pat\\'s King of Steaks\"]], \\'Cluster_18\\': [[\\'Philadelphia Soft Pretzels Inc\\']], \\'Cluster_19\\': [[\\'Chestnut Hill Hotel\\']], \\'Cluster_2\\': [[\\'Awbury Arboretum\\']], \\'Cluster_20\\': [[\\'Philadelphia Trolley Works\\'], [\\'76 Carriage Company\\']], \\'Cluster_21\\': [[\\'Lemon Hill Mansion\\'], [\\'Philadelphia Museum of Art\\'], [\\'Fairmount Water Works\\'], [\\'Philadelphia Zoo\\']], \\'Cluster_22\\': [[\\'The Musical History Tours\\'], [\\'Kimpton Hotel Monaco Philadelphia\\'], [\\'Morris House Hotel\\'], [\\'The Constitutional Walking Tour\\'], [\\'The Big Bus Company\\'], [\\'Renaissance Philadelphia Downtown Hotel\\'], [\\'The Franklin Residences\\'], [\\'The African American Museum in Philadelphia\\'], [\"Spirits of \\'76 Ghost Tours\"], [\\'Wyndham Philadelphia Historic District\\'], [\\'National Museum of American Jewish History\\'], [\\'Franklin Square\\'], [\\'Ghost Tour of Philadelphia\\'], [\\'Grim Philly Twilight Tours\\'], [\\'Historic Philadelphia, Inc\\'], [\\'Independence After Hours\\'], [\\'National Constitution Center\\'], [\\'National Liberty Museum\\'], [\\'Philadelphia Segway Tours By Wheel Fun Rentals\\'], [\\'Philadelphia Sightseeing Tours & Transportation\\'], [\\'Bow Tie Tours\\'], [\\'Franklin Square Mini Golf\\'], [\\'Benjamin Franklin Museum\\'], [\"Benjamin Franklin\\'s Grave\"]], \\'Cluster_23\\': [[\\'Fort Mifflin\\']], \\'Cluster_24\\': [[\\'German Society of Pennsylvania\\'], [\\'Yards Brewing Company\\']], \\'Cluster_25\\': [[\\'Simeone Foundation Automotive Museum\\']], \\'Cluster_26\\': [[\\'Photography Tours of Philadelphia\\'], [\\'Rittenhouse Square Park\\'], [\\'Wine School of Philadelphia\\'], [\\'The Rittenhouse Hotel\\'], [\\'The Rosenbach\\'], [\\'The Mütter Museum\\'], [\\'The Philadelphia Shakespeare Theatre\\']], \\'Cluster_27\\': [[\\'Ebenezer Maxwell Mansion\\']], \\'Cluster_28\\': [[\\'Holiday Inn Express Philadelphia-Midtown\\'], [\\'Mask and Wig\\'], [\\'The Bellevue Hotel\\'], [\\'ROOST Apartment Hotel\\'], [\\'The Philadelphia Orchestra\\'], [\\'Fairfield Inn & Suites Philadelphia Downtown/Center City\\'], [\\'Element Philadelphia\\'], [\\'DoubleTree by Hilton Hotel Philadelphia Center City\\'], [\\'Dilworth Park\\'], [\\'City of Philadelphia\\'], [\\'City Hall\\'], [\\'Shibe Vintage Sports\\'], [\\'Palace Travel\\'], [\\'Cambria Hotel Philadelphia Downtown Center City\\'], [\\'Rodeway Inn Center City\\'], [\\'The Inn at The Union League\\'], [\\'The Ritz-Carlton, Philadelphia\\'], [\\'Alexander Inn\\'], [\\'W Philadelphia\\']], \\'Cluster_29\\': [[\\'The Navy Yard\\']], \\'Cluster_3\\': [[\\'Glen Foerd on the Delaware\\']], \\'Cluster_30\\': [[\\'Independence Seaport Museum\\'], [\\'Benjamin Franklin Bridge\\'], [\"Hilton Philadelphia at Penn\\'s Landing\"], [\\'Philadelphia Marriott Old City\\'], [\\'Patriot Harbor Lines\\'], [\"Penn\\'s Landing\"]], \\'Cluster_31\\': [[\\'Tullycross Fine Irish Handcrafts\\'], [\\'Mother Bethel African Methodist Episcopal Church\\'], [\"Jim\\'s South St\"], [\\'South Street Headhouse District\\'], [\\'Powel House\\']], \\'Cluster_32\\': [[\\'Live Casino Hotel\\'], [\\'Lincoln Financial Field Tours\\']], \\'Cluster_4\\': [[\\'Shofuso Japanese House & Garden\\']], \\'Cluster_5\\': [[\\'FDR Park\\'], [\\'The American Swedish Historical Museum\\']], \\'Cluster_6\\': [[\\'Elfreths Alley Museum\\'], [\\'Christ Church Burial Ground\\'], [\\'Founding Footsteps\\'], [\\'Cherry Street Pier\\'], [\\'Holiday Inn Express Philadelphia - Penns Landing\\'], [\\'Old City District\\'], [\\'Shane Confectionery\\'], [\\'Sassafras Bar\\'], [\\'The Center For Art In Wood\\'], [\\'Philly Tour Hub\\'], [\\'Philadelphia Urban Adventures\\'], [\"Penn\\'s View Hotel\"], [\\'Museum of the American Revolution\\'], [\\'The Betsy Ross House\\'], [\\'Jules Goldman Books and Antiques\\'], [\\'Independence Park Hotel, Bw Premier Collection\\'], [\\'Humphrys Flag Company\\'], [\\'Lokal Hotel\\'], [\\'Panorama\\']], \\'Cluster_7\\': [[\\'Homewood Suites by Hilton University City Philadelphia, PA\\'], [\\'The Inn at Penn, a Hilton Hotel\\'], [\\'Penn Museum\\'], [\\'Sheraton Philadelphia University City Hotel\\'], [\\'The Study at University City\\'], [\\'Penn Tower Hotel\\']], \\'Cluster_8\\': [[\\'Woodmere Art Museum\\'], [\\'Morris Arboretum\\']], \\'Cluster_9\\': [[\\'Neon Museum of Philadelphia\\'], [\\'Suraya\\']]}',\n",
       "   'state': 'Successful'},\n",
       "  {'step': 5,\n",
       "   'thought': 'Thought 5: I want to plan a 2-day trip with an expensive budget. I am interested in visiting history-oriented attractions. Please recommend some Irish restaurants with good freshness and a good environment. I would also like to stay in a hotel with a good location.',\n",
       "   'action': 'Action 5: Planner[Give me a 2-day trip plan in Philadelphia]',\n",
       "   'observation': \"Based on the given information and query, I will generate a 2-day travel plan for Philadelphia. I will consider the expensive budget, history-oriented attractions, and good environment for Japanese restaurants.\\n\\n**Day 1:**\\n\\n- **Accommodation:**\\n  - Name: The Rittenhouse Hotel\\n    Address: 210 W Rittenhouse Sq, Philadelphia, PA 19103\\n    Latitude: 39.949913\\n    Longitude: -75.173645\\n\\n- **Breakfast:**\\n  - Name: Fergie's Pub\\n    Address: 1214 Sansom St, Philadelphia, PA 19107\\n    Latitude: 39.949596\\n    Longitude: -75.161128\\n\\n- **Morning Attraction:**\\n  - Name: Independence Hall\\n    Address: 520 Chestnut St, Philadelphia, PA 19106\\n    Latitude: 39.949484\\n    Longitude: -75.146738\\n\\n- **Lunch:**\\n  - Name: The Plough & the Stars\\n    Address: 123 Chestnut St, Philadelphia, PA 19106\\n    Latitude: 39.948524\\n    Longitude: -75.143730\\n\\n- **Afternoon Attraction:**\\n  - Name: Liberty Bell\\n    Address: 526 Market St, Philadelphia, PA 19106\\n    Latitude: 39.949484\\n    Longitude: -75.146738\\n  - Name: Eastern State Penitentiary Historic Site\\n    Address: 2027 Fairmount Ave, Philadelphia, PA 19130\\n    Latitude: 39.968368\\n    Longitude: -75.172655\\n\\n- **Dinner:**\\n  - Name: Sushi Nakamura\\n    Address: 123 S 18th St, Philadelphia, PA 19103\\n    Latitude: 39.950365\\n    Longitude: -75.170453\\n\\n- **Night Attraction:**\\n  - Name: One Liberty Observation Deck\\n    Address: 1650 Market St, Philadelphia, PA 19103\\n    Latitude: 39.953572\\n    Longitude: -75.158085\\n\\n**Day 2:**\\n\\n- **Breakfast:**\\n  - Name: Green Eggs Cafe\\n    Address: 212 S 13th St, Philadelphia, PA 19107\\n    Latitude: 39.947903\\n    Longitude: -75.164033\\n\\n- **Morning Attraction:**\\n  - Name: Philadelphia Museum of Art\\n    Address: 2600 Benjamin Franklin Pkwy, Philadelphia, PA 19130\\n    Latitude: 39.965573\\n    Longitude: -75.180969\\n\\n- **Lunch:**\\n  - Name: Distrito\\n    Address: 33 S 23rd St, Philadelphia, PA 19103\\n    Latitude: 39.949913\\n    Longitude: -75.173645\\n\\n- **Afternoon Attraction:**\\n  - Name: Reading Terminal Market\\n    Address: 51 N 12th St, Philadelphia, PA 19107\\n    Latitude: 39.953341\\n    Longitude: -75.158855\\n  - Name: National Constitution Center\\n    Address: 525 Arch St, Philadelphia, PA 19106\\n    Latitude: 39.953893\\n    Longitude: -75.149068\\n\\n- **Dinner:**\\n  - Name: Sushi Sake\\n    Address: 123 S 18th St, Philadelphia, PA 19103\\n    Latitude: 39.950365\\n    Longitude: -75.170453\\n\\n- **Night Attraction:**\\n  - Name: Magic Gardens\\n    Address: 1020 South St, Philadelphia, PA 19147\\n    Latitude: 39.943289\\n    Longitude: -75.151756\\n\\nNote: The above plan is optimized for the given information and query. However, please check the opening hours, ticket prices, and availability of the attractions and restaurants before your trip.\",\n",
       "   'state': 'Successful'}]}"
      ]
     },
     "execution_count": 47,
     "metadata": {},
     "output_type": "execute_result"
    }
   ],
   "source": [
    "logs[15]"
   ]
  },
  {
   "cell_type": "code",
   "execution_count": 42,
   "metadata": {},
   "outputs": [
    {
     "name": "stdout",
     "output_type": "stream",
     "text": [
      "medium budget\n"
     ]
    },
    {
     "ename": "ValueError",
     "evalue": "Wrong budget Input, valid ones include: cheap budget, moderate budget and expensive budget. Please try again.",
     "output_type": "error",
     "traceback": [
      "\u001b[0;31m---------------------------------------------------------------------------\u001b[0m",
      "\u001b[0;31mValueError\u001b[0m                                Traceback (most recent call last)",
      "Cell \u001b[0;32mIn[42], line 1\u001b[0m\n\u001b[0;32m----> 1\u001b[0m \u001b[43mvalidate_restaurant_parameters_format\u001b[49m\u001b[43m(\u001b[49m\u001b[38;5;124;43m'\u001b[39;49m\u001b[38;5;124;43mMedium Budget, Middle Eastern, [Good Freshness]\u001b[39;49m\u001b[38;5;124;43m'\u001b[39;49m\u001b[43m)\u001b[49m\n",
      "Cell \u001b[0;32mIn[39], line 17\u001b[0m, in \u001b[0;36mvalidate_restaurant_parameters_format\u001b[0;34m(action_arg)\u001b[0m\n\u001b[1;32m     15\u001b[0m     budgetInRange \u001b[38;5;241m=\u001b[39m \u001b[38;5;28;01mTrue\u001b[39;00m\n\u001b[1;32m     16\u001b[0m \u001b[38;5;28;01mif\u001b[39;00m \u001b[38;5;129;01mnot\u001b[39;00m budgetInRange:\n\u001b[0;32m---> 17\u001b[0m     \u001b[38;5;28;01mraise\u001b[39;00m \u001b[38;5;167;01mValueError\u001b[39;00m(\u001b[38;5;124m\"\u001b[39m\u001b[38;5;124mWrong budget Input, valid ones include: cheap budget, moderate budget and expensive budget. Please try again.\u001b[39m\u001b[38;5;124m\"\u001b[39m)\n\u001b[1;32m     19\u001b[0m cuisine_accepted \u001b[38;5;241m=\u001b[39m [\u001b[38;5;124m\"\u001b[39m\u001b[38;5;124mus\u001b[39m\u001b[38;5;124m\"\u001b[39m,\u001b[38;5;124m\"\u001b[39m\u001b[38;5;124mmexican\u001b[39m\u001b[38;5;124m\"\u001b[39m,\u001b[38;5;124m\"\u001b[39m\u001b[38;5;124mirish\u001b[39m\u001b[38;5;124m\"\u001b[39m,\u001b[38;5;124m\"\u001b[39m\u001b[38;5;124mfrench\u001b[39m\u001b[38;5;124m\"\u001b[39m,\u001b[38;5;124m\"\u001b[39m\u001b[38;5;124mitalian\u001b[39m\u001b[38;5;124m\"\u001b[39m,\u001b[38;5;124m\"\u001b[39m\u001b[38;5;124mgreek\u001b[39m\u001b[38;5;124m\"\u001b[39m,\u001b[38;5;124m\"\u001b[39m\u001b[38;5;124mindian\u001b[39m\u001b[38;5;124m\"\u001b[39m,\u001b[38;5;124m\"\u001b[39m\u001b[38;5;124mchinese\u001b[39m\u001b[38;5;124m\"\u001b[39m,\u001b[38;5;124m\"\u001b[39m\u001b[38;5;124mjapanese\u001b[39m\u001b[38;5;124m\"\u001b[39m,\u001b[38;5;124m\"\u001b[39m\u001b[38;5;124mkorean\u001b[39m\u001b[38;5;124m\"\u001b[39m,\u001b[38;5;124m\"\u001b[39m\u001b[38;5;124mvietnamese\u001b[39m\u001b[38;5;124m\"\u001b[39m,\u001b[38;5;124m\"\u001b[39m\u001b[38;5;124mthai\u001b[39m\u001b[38;5;124m\"\u001b[39m,\u001b[38;5;124m\"\u001b[39m\u001b[38;5;124masian fusion\u001b[39m\u001b[38;5;124m\"\u001b[39m,\u001b[38;5;124m\"\u001b[39m\u001b[38;5;124mmiddle eastern\u001b[39m\u001b[38;5;124m\"\u001b[39m]\n\u001b[1;32m     20\u001b[0m \u001b[38;5;28mprint\u001b[39m(cuisine)\n",
      "\u001b[0;31mValueError\u001b[0m: Wrong budget Input, valid ones include: cheap budget, moderate budget and expensive budget. Please try again."
     ]
    }
   ],
   "source": [
    "validate_restaurant_parameters_format('Medium Budget, Middle Eastern, [Good Freshness]')"
   ]
  },
  {
   "cell_type": "code",
   "execution_count": 32,
   "metadata": {},
   "outputs": [
    {
     "name": "stdout",
     "output_type": "stream",
     "text": [
      "11 3 Illegal args. Parameter Error Action 3: RestaurantSearch[Expensive Budget, US Cuisine, [Good Environment]]\n",
      "11 4 Illegal args. Parameter Error Action 4: RestaurantSearch[Expensive Budget, US Cuisine, [Good Environment]]\n",
      "11 5 same action 3 times repeated Action 5: RestaurantSearch[Expensive Budget, US Cuisine, [Good Environment]]\n",
      "20 2 Illegal args. Parameter Error Action 2: RestaurantSearch[Good Value, Korean, [Good Flavor]]\n",
      "20 3 Illegal args. Parameter Error Action 3: RestaurantSearch[Good Value, Korean, [Good Flavor]]\n",
      "20 4 same action 3 times repeated Action 4: RestaurantSearch[Good Value, Korean, [Good Flavor]]\n",
      "22 3 Illegal args. Parameter Error Action 3: RestaurantSearch[Expensive Budget, US Cuisine, [Good Environment, Good Flavor, Good Freshness]]\n",
      "22 4 Illegal args. Parameter Error Action 4: RestaurantSearch[Expensive Budget, US Cuisine, [Good Environment, Good Flavor, Good Freshness]]\n",
      "22 5 same action 3 times repeated Action 5: RestaurantSearch[Expensive Budget, US Cuisine, [Good Environment, Good Flavor, Good Freshness]]\n",
      "26 1 Illegal args. Parameter Error Action 1: AttractionSearch[Medium Budget, [History Oriented]]\n",
      "26 2 Illegal args. Parameter Error Action 2: RestaurantSearch[Medium Budget, Middle Eastern, [Good Freshness]]\n",
      "26 3 Illegal args. Parameter Error Action 3: RestaurantSearch[Medium Budget, Middle Eastern, [Good Freshness]]\n",
      "26 4 same action 3 times repeated Action 4: RestaurantSearch[Medium Budget, Middle Eastern, [Good Freshness]]\n",
      "29 1 Illegal args. Parameter Error Action 1: AccommodationSearch[Moderate Budget,[]]\n",
      "29 2 Illegal args. Parameter Error Action 2: AccommodationSearch[Moderate Budget,[]]\n",
      "29 3 same action 3 times repeated Action 3: AccommodationSearch[Moderate Budget,[]]\n",
      "30 2 Illegal args. Parameter Error Action 2: RestaurantSearch[Cheap Budget, US Cuisine, [Good Freshness]]\n",
      "30 3 Illegal args. Parameter Error Action 3: RestaurantSearch[Cheap Budget, US Cuisine, [Good Freshness]]\n",
      "30 4 same action 3 times repeated Action 4: RestaurantSearch[Cheap Budget, US Cuisine, [Good Freshness]]\n",
      "36 3 Illegal args. Other Error Action 3: BusinessClusterSearch[]\n",
      "36 4 Illegal args. Other Error Action 4: BusinessClusterSearch[]\n",
      "36 5 same action 3 times repeated Action 5: BusinessClusterSearch[]\n",
      "44 3 Illegal args. Other Error Action 3: BusinessClusterSearch[]\n",
      "44 4 Illegal args. Other Error Action 4: BusinessClusterSearch[]\n",
      "44 5 same action 3 times repeated Action 5: BusinessClusterSearch[]\n",
      "56 3 Illegal args. Other Error Action 3: BusinessClusterSearch[]\n",
      "56 4 Illegal args. Other Error Action 4: BusinessClusterSearch[]\n",
      "56 5 same action 3 times repeated Action 5: BusinessClusterSearch[]\n",
      "60 3 Illegal args. Other Error Action 3: BusinessClusterSearch[]\n",
      "60 4 Illegal args. Other Error Action 4: BusinessClusterSearch[]\n",
      "60 5 same action 3 times repeated Action 5: BusinessClusterSearch[]\n",
      "66 3 Illegal args. Parameter Error Action 3: RestaurantSearch[Expensive Budget, US Cuisine, [Good Flavor]]\n",
      "66 4 Illegal args. Parameter Error Action 4: RestaurantSearch[Expensive Budget, US Cuisine, [Good Flavor]]\n",
      "66 5 same action 3 times repeated Action 5: RestaurantSearch[Expensive Budget, US Cuisine, [Good Flavor]]\n",
      "70 3 Illegal args. Parameter Error Action 3: RestaurantSearch[cheap budget, Irish cuisine, [good value]]\n",
      "70 4 Illegal args. Parameter Error Action 4: RestaurantSearch[cheap budget, Irish cuisine, [good value]]\n",
      "70 5 same action 3 times repeated Action 5: RestaurantSearch[cheap budget, Irish cuisine, [good value]]\n",
      "75 3 Illegal args. Other Error Action 3: BusinessClusterSearch[]\n",
      "75 4 Illegal args. Other Error Action 4: BusinessClusterSearch[]\n",
      "75 5 same action 3 times repeated Action 5: BusinessClusterSearch[]\n",
      "78 3 Illegal args. Other Error Action 3: BusinessClusterSearch[]\n",
      "78 4 Illegal args. Other Error Action 4: BusinessClusterSearch[]\n",
      "78 5 same action 3 times repeated Action 5: BusinessClusterSearch[]\n",
      "95 3 Illegal args. Other Error Action 3: BusinessClusterSearch[]\n",
      "95 4 Illegal args. Other Error Action 4: BusinessClusterSearch[]\n",
      "95 5 same action 3 times repeated Action 5: BusinessClusterSearch[]\n",
      "100 3 Illegal args. Other Error Action 3: BusinessClusterSearch[]\n",
      "100 4 Illegal args. Other Error Action 4: BusinessClusterSearch[]\n",
      "100 5 same action 3 times repeated Action 5: BusinessClusterSearch[]\n",
      "102 3 Illegal args. Parameter Error Action 3: RestaurantSearch[cheap budget, Indian cuisine, [good environment]]\n",
      "102 4 Illegal args. Parameter Error Action 4: RestaurantSearch[cheap budget, Indian cuisine, [good environment]]\n",
      "102 5 same action 3 times repeated Action 5: RestaurantSearch[cheap budget, Indian cuisine, [good environment]]\n",
      "103 3 Illegal args. Other Error Action 3: BusinessClusterSearch[]\n",
      "103 4 Illegal args. Other Error Action 4: BusinessClusterSearch[]\n",
      "103 5 same action 3 times repeated Action 5: BusinessClusterSearch[]\n",
      "108 3 Illegal args. Other Error Action 3: BusinessClusterSearch[]\n",
      "108 4 Illegal args. Other Error Action 4: BusinessClusterSearch[]\n",
      "108 5 same action 3 times repeated Action 5: BusinessClusterSearch[]\n",
      "122 3 Illegal args. Other Error Action 3: BusinessClusterSearch[]\n",
      "122 4 Illegal args. Other Error Action 4: BusinessClusterSearch[]\n",
      "122 5 same action 3 times repeated Action 5: BusinessClusterSearch[]\n",
      "141 3 Illegal args. Parameter Error Action 3: RestaurantSearch[Cheap budget, [Good Flavor]]\n",
      "146 2 Illegal args. Parameter Error Action 2: RestaurantSearch[Expensive budget, US cuisine, [Good Environment, Good Flavor]]\n",
      "146 3 Illegal args. Parameter Error Action 3: RestaurantSearch[Expensive budget, US cuisine, [Good Environment, Good Flavor]]\n",
      "146 4 same action 3 times repeated Action 4: RestaurantSearch[Expensive budget, US cuisine, [Good Environment, Good Flavor]]\n",
      "148 3 Illegal args. Parameter Error Action 3: RestaurantSearch[Cheap budget, US cuisine, [Good Service]]\n",
      "148 4 Illegal args. Parameter Error Action 4: RestaurantSearch[Cheap budget, US cuisine, [Good Service]]\n",
      "148 5 same action 3 times repeated Action 5: RestaurantSearch[Cheap budget, US cuisine, [Good Service]]\n",
      "158 3 Illegal args. Parameter Error Action 3: RestaurantSearch[Expensive Budget, Irish Cuisine, [Good Environment]]\n",
      "158 4 Illegal args. Parameter Error Action 4: RestaurantSearch[Expensive Budget, Irish Cuisine, [Good Environment]]\n",
      "158 5 same action 3 times repeated Action 5: RestaurantSearch[Expensive Budget, Irish Cuisine, [Good Environment]]\n",
      "164 3 Illegal args. Other Error Action 3: BusinessClusterSearch[]\n",
      "164 4 Illegal args. Other Error Action 4: BusinessClusterSearch[]\n",
      "164 5 same action 3 times repeated Action 5: BusinessClusterSearch[]\n",
      "166 3 Illegal args. Parameter Error Action 3: RestaurantSearch[Expensive Budget, US Cuisine, [Good Flavor]]\n",
      "166 4 Illegal args. Parameter Error Action 4: RestaurantSearch[Expensive Budget, US Cuisine, [Good Flavor]]\n",
      "166 5 same action 3 times repeated Action 5: RestaurantSearch[Expensive Budget, US Cuisine, [Good Flavor]]\n",
      "181 3 Illegal args. Other Error Action 3: BusinessClusterSearch[]\n",
      "181 4 Illegal args. Other Error Action 4: BusinessClusterSearch[]\n",
      "181 5 same action 3 times repeated Action 5: BusinessClusterSearch[]\n",
      "182 3 Illegal args. Other Error Action 3: BusinessClusterSearch[]\n",
      "182 4 Illegal args. Other Error Action 4: BusinessClusterSearch[]\n",
      "182 5 same action 3 times repeated Action 5: BusinessClusterSearch[]\n",
      "183 3 Illegal args. Other Error Action 3: BusinessClusterSearch[]\n",
      "183 4 Illegal args. Other Error Action 4: BusinessClusterSearch[]\n",
      "183 5 same action 3 times repeated Action 5: BusinessClusterSearch[]\n",
      "184 3 Illegal args. Parameter Error Action 3: RestaurantSearch[Expensive Budget, Irish Cuisine, [Good Environment]]\n",
      "184 4 Illegal args. Parameter Error Action 4: RestaurantSearch[Expensive Budget, Irish Cuisine, [Good Environment]]\n",
      "184 5 same action 3 times repeated Action 5: RestaurantSearch[Expensive Budget, Irish Cuisine, [Good Environment]]\n",
      "188 3 Illegal args. Other Error Action 3: BusinessClusterSearch[]\n",
      "188 4 Illegal args. Other Error Action 4: BusinessClusterSearch[]\n",
      "188 5 same action 3 times repeated Action 5: BusinessClusterSearch[]\n",
      "192 3 Illegal args. Other Error Action 3: BusinessClusterSearch[]\n",
      "192 4 Illegal args. Other Error Action 4: BusinessClusterSearch[]\n",
      "192 5 same action 3 times repeated Action 5: BusinessClusterSearch[]\n",
      "194 1 Illegal args. Parameter Error Action 1: AccommodationSearch[Moderate Budget,[]]\n",
      "194 2 Illegal args. Parameter Error Action 2: AccommodationSearch[Moderate Budget,[]]\n",
      "194 3 same action 3 times repeated Action 3: AccommodationSearch[Moderate Budget,[]]\n",
      "201 3 Illegal args. Other Error Action 3: BusinessClusterSearch[]\n",
      "201 4 Illegal args. Other Error Action 4: BusinessClusterSearch[]\n",
      "201 5 same action 3 times repeated Action 5: BusinessClusterSearch[]\n",
      "206 3 same action 3 times repeated Action 3: AttractionSearch[Expensive budget, [Shopping Oriented]]\n",
      "209 3 Illegal args. Other Error Action 3: BusinessClusterSearch[]\n",
      "209 4 Illegal args. Other Error Action 4: BusinessClusterSearch[]\n",
      "209 5 same action 3 times repeated Action 5: BusinessClusterSearch[]\n",
      "210 3 Illegal args. Other Error Action 3: BusinessClusterSearch[]\n",
      "210 4 Illegal args. Other Error Action 4: BusinessClusterSearch[]\n",
      "210 5 same action 3 times repeated Action 5: BusinessClusterSearch[]\n",
      "212 3 Illegal args. Parameter Error Action 3: RestaurantSearch[Expensive budget, [Good Freshness]]\n",
      "212 4 Illegal args. Parameter Error Action 4: RestaurantSearch[Expensive budget, [Good Freshness]]\n",
      "212 5 same action 3 times repeated Action 5: RestaurantSearch[Expensive budget, [Good Freshness]]\n",
      "218 3 Illegal args. Parameter Error Action 3: RestaurantSearch[Expensive Budget, Thai, [Good Quality, Good Service]]\n",
      "228 2 Illegal args. Parameter Error Action 2: RestaurantSearch[Cheap budget, US, [Good Environment, Good Quality]]\n",
      "237 3 Illegal args. Other Error Action 3: BusinessClusterSearch[]\n",
      "237 4 Illegal args. Other Error Action 4: BusinessClusterSearch[]\n",
      "237 5 same action 3 times repeated Action 5: BusinessClusterSearch[]\n",
      "240 3 Illegal args. Parameter Error Action 3: RestaurantSearch[Expensive Budget, Indian Cuisine, [Good Environment]]\n",
      "240 4 Illegal args. Parameter Error Action 4: RestaurantSearch[Expensive Budget, Indian Cuisine, [Good Environment]]\n",
      "240 5 same action 3 times repeated Action 5: RestaurantSearch[Expensive Budget, Indian Cuisine, [Good Environment]]\n",
      "244 2 Illegal args. Parameter Error Action 2: AttractionSearch[2 days, [Family Oriented]]\n",
      "244 3 Illegal args. Parameter Error Action 3: AttractionSearch[2 days, [Family Oriented]]\n",
      "244 4 same action 3 times repeated Action 4: AttractionSearch[2 days, [Family Oriented]]\n",
      "268 3 Illegal args. Parameter Error Action 3: RestaurantSearch[cheap budget, Irish cuisine, [good environment]]\n",
      "268 4 Illegal args. Parameter Error Action 4: RestaurantSearch[cheap budget, Irish cuisine, [good environment]]\n",
      "268 5 same action 3 times repeated Action 5: RestaurantSearch[cheap budget, Irish cuisine, [good environment]]\n",
      "271 3 Illegal args. Parameter Error Action 3: RestaurantSearch[cheap budget, Irish cuisine, [good value]]\n",
      "271 4 Illegal args. Parameter Error Action 4: RestaurantSearch[cheap budget, Irish cuisine, [good value]]\n",
      "271 5 same action 3 times repeated Action 5: RestaurantSearch[cheap budget, Irish cuisine, [good value]]\n",
      "279 3 Illegal args. Other Error Action 3: BusinessClusterSearch[]\n",
      "279 4 Illegal args. Other Error Action 4: BusinessClusterSearch[]\n",
      "279 5 same action 3 times repeated Action 5: BusinessClusterSearch[]\n",
      "283 3 Illegal args. Parameter Error Action 3: RestaurantSearch[Cheap budget, US Cuisine, [Good Freshness, Good Flavor]]\n",
      "283 4 Illegal args. Parameter Error Action 4: RestaurantSearch[Cheap budget, US Cuisine, [Good Freshness, Good Flavor]]\n",
      "283 5 same action 3 times repeated Action 5: RestaurantSearch[Cheap budget, US Cuisine, [Good Freshness, Good Flavor]]\n",
      "286 3 Illegal args. Other Error Action 3: BusinessClusterSearch[]\n",
      "286 4 Illegal args. Other Error Action 4: BusinessClusterSearch[]\n",
      "286 5 same action 3 times repeated Action 5: BusinessClusterSearch[]\n",
      "295 3 Illegal args. Parameter Error Action 3: RestaurantSearch[Expensive Budget, Irish Cuisine, [Good Flavor]]\n",
      "295 4 Illegal args. Parameter Error Action 4: RestaurantSearch[Expensive Budget, Irish Cuisine, [Good Flavor]]\n",
      "295 5 same action 3 times repeated Action 5: RestaurantSearch[Expensive Budget, Irish Cuisine, [Good Flavor]]\n"
     ]
    }
   ],
   "source": [
    "for log in logs:\n",
    "    for step in log['log']:\n",
    "        if step['state'] != 'Successful':\n",
    "            print(log['index'], step['step'],step['state'], step['action'])"
   ]
  },
  {
   "cell_type": "code",
   "execution_count": 45,
   "metadata": {},
   "outputs": [
    {
     "data": {
      "text/plain": [
       "{'index': 75,\n",
       " 'log': [{'step': 1,\n",
       "   'thought': 'Thought 1: I need to find the attractions that matches the preference.',\n",
       "   'action': 'Action 1: AttractionSearch[Cheap budget,[Food Oriented]]',\n",
       "   'observation': \"                                    name                              address  latitude  longitude\\n                     16th Street Seafood                       1542 Tasker St 39.930746 -75.171552\\n                                Avril 50                       3406 Sansom St 39.953514 -75.192556\\n                            Banh Mi Cali                          900 Arch St 39.953399 -75.154682\\n                         Belmont Plateau              2000 Belmont Mansion Dr 39.990327 -75.212665\\n                           Bloktoberfest                    17 Washington Ave 39.943856 -75.167177\\n                                   Bui's                  38th St & Spruce St 39.951290 -75.199277\\n             Campo's Philly Cheesesteaks                        214 Market St 39.949701 -75.144274\\n                              Cedar Park              50th St & Baltimore Ave 39.948219 -75.222648\\n                      Cherry Street Pier                  121 N Columbus Blvd 39.952804 -75.139738\\n               Chinatown Friendship Gate                       10th & Arch St 39.953710 -75.156232\\n                               Chinatown                        North 12th St 39.976804 -75.154460\\n                              Cira Green                         80 S 30th St 39.952673 -75.183339\\n                  Clark Park Flea Market            43RD St And Baltimore Ave 39.949554 -75.209240\\n                              Clark Park                   43RD And Baltimore 39.949554 -75.209240\\n                                 Comcast                      One Comcast Ctr 39.954703 -75.168496\\n                                 Comcast                       1500 Market St 39.952317 -75.166486\\n              Devil's Alley Bar & Grille                     1907 Chestnut St 39.952140 -75.172216\\n                           Dilworth Park                          1 S 15th St 39.952505 -75.165131\\n                     Dock Street Brewery                        701 S 50th St 39.947731 -75.222776\\n                             El Provocon                      6620 Castor Ave 40.042672 -75.074387\\n                    Fante's Kitchen Shop                        1006 S 9th St 39.937373 -75.158346\\n                                FDR Park                    1500 Pattison Ave 39.905550 -75.175582\\n             Fishtown Rivercity Festival                  1199 N Delaware Ave 39.966444 -75.130128\\n                    Flying Monkey Bakery                    12th St & Arch St 39.953808 -75.158630\\n                      Free Tours By Foot                 20 N 3rd St, Ste 201 39.950940 -75.145868\\n                Glory Beer Bar & Kitchen                      126 Chestnut St 39.948179 -75.143545\\n                              Green Farm                  10690 Bustleton Ave 40.109901 -75.025233\\n                        Greensgrow Farms                 2501 E Cumberland St 39.978170 -75.120856\\n             Historic Strawberry Mansion           2450 Strawberry Mansion Dr 39.994293 -75.190387\\n                Independence Beer Garden            100 S Independence Mall W 39.950294 -75.150981\\n             Independence Visitor Center                        599 Market St 39.950976 -75.150013\\n                               Jezabel's                    206-208 S 45th St 39.954922 -75.211871\\n                          Jim's South St                             400 S St 39.941498 -75.149272\\n                    John F. Collins Park                     1707 Chestnut St 39.951769 -75.169062\\n                        John's Water Ice                     701 Christian St 39.938285 -75.154894\\n                              LeBus Cafe   Philadelphia International Airport 39.865466 -75.274156\\n                              Lee's Deli                   4700 Baltimore Ave 39.948441 -75.217116\\n              Maxi's Pizza, Subs and Bar                  1926 Liacouras Walk 39.982210 -75.155986\\n           Midtown Village Fall Festival                       1300 Walnut St 39.948887 -75.162323\\n                            Night Market             1617 John F Kennedy Blvd 39.954268 -75.167899\\n                           Oregon Steaks                       2654 S 10th St 39.915790 -75.165388\\n                    Pat's King of Steaks                  1237 E Passyunk Ave 39.933201 -75.159266\\n                          Penn's Landing      601 N Christopher Columbus Blvd 39.960024 -75.137156\\n                          Penn's Landing                 Blue Cross River Rin 39.947948 -75.139738\\n                       Phil's Live Crabs                 10 St And Oregon Ave 39.915990 -75.164498\\n               Philadelphia Art Alliance                        251 S 18th St 39.948209 -75.170818\\n                Philadelphia Flower Show                         1101 Arch St 39.954623 -75.158040\\n          Philadelphia Soft Pretzels Inc                        4315 N 3rd St 40.016666 -75.131759\\n           Philadelphia Urban Adventures                          229 Arch St 39.952091 -75.140140\\n     Philadelphia Weekly Taste of Philly                 100 East Penn Square 39.951294 -75.161927\\nPhiladelphia's 9th Street Italian Market                         919 S 9th St 39.938906 -75.157853\\n                  Philly Pretzel Factory                       1532 Sansom St 39.950452 -75.167022\\n                         Philly Tour Hub                   7 N. Columbus Blvd 39.951459 -75.140206\\n                             Pizza Brain                   2313 Frankford Ave 39.980675 -75.128097\\n                                Pollyodd                  1908 E Passyunk Ave 39.926397 -75.167749\\n               Popeyes Louisiana Kitchen                      4501 Castor Ave 40.016768 -75.096429\\n                            Pretzel Park                   4300 Silverwood St 40.025550 -75.221071\\n                            PrimoHoagies                     1528 W Ritner St 39.920927 -75.173306\\n                   Punk Rock Flea Market                       461 N Ninth St 39.960400 -75.152852\\n             R & R Produce Garden Center                       7100 Ridge Ave 40.044372 -75.230106\\n                 Reading Terminal Market                         51 N 12th St 39.953341 -75.158855\\n                         Restaurant Week                      660 Chestnut St 39.952335 -75.163789\\n                         S and J Seafood                        713 S 52nd St 39.948509 -75.227008\\n                           Sassafras Bar                          48 S 2nd St 39.948832 -75.144063\\n                        Scanlon's Saloon                    4201 Manayunk Ave 40.026384 -75.215418\\n                     Shane Confectionery                        110 Market St 39.949547 -75.142698\\n                      Shaxian Delicacies                        106 N 10th St 39.953906 -75.156320\\n           Side of the Road Jerk Chicken               6554 North Lambert St. 40.054608 -75.154515\\n                        Singing Fountain             Passyunk Ave And 11th St 39.930270 -75.162997\\n                      Sister Cities Park 18th St & the Benjamin Franklin Pkwy 39.957945 -75.169675\\n                   Sonny's Famous Steaks                        228 Market St 39.949918 -75.144792\\n         South Street Headhouse District                   2nd And Lombard St 39.942175 -75.145318\\n                            Standard Tap                         901 N 2nd St 39.964140 -75.140514\\n                           Strangelove's                        216 S 11th St 39.948089 -75.159211\\n                         Tableau at PAFA                       128 N Broad St 39.955624 -75.163439\\n                            Tattooed Mom                         530 South St 39.941680 -75.151916\\n                          Terakawa Ramen                         204 N 9th St 39.955402 -75.154484\\n                      Terry Cheese Steak                  3601-3699 Spruce St 39.950941 -75.196313\\n                             The A-Space                   4722 Baltimore Ave 39.948343 -75.217720\\n  The American Swedish Historical Museum                    1900 Pattison Ave 39.905951 -75.181053\\n                 The Horticulture Center               100 N Horticultural Dr 39.983408 -75.210456\\n         The Hubble Bubble Hookah Lounge                      1000 Diamond St 39.983480 -75.149932\\n                           The Navy Yard                      4747 S Broad St 39.893152 -75.174557\\n                                The Oval                          Eakins Oval 39.963766 -75.178530\\n        The Porch At 30th Street Station                       2955 Market St 39.954910 -75.182339\\n                   Xenos Candy 'N' Gifts                      231 Chestnut St 39.948695 -75.145269\\n                   Yards Brewing Company                 500 Spring Garden St 39.960971 -75.146908\",\n",
       "   'state': 'Successful'},\n",
       "  {'step': 2,\n",
       "   'thought': 'Thought 2: I need to find the restaurants that matches the preference.',\n",
       "   'action': 'Action 2: RestaurantSearch[Expensive budget, Mexican, [Good Value, Good Service, Good Freshness]]',\n",
       "   'observation': '                 name            address  latitude  longitude    good_for_meal\\n            Blue Corn       940 S 9th St 39.937765 -75.158324    lunch, dinner\\n      La Calaca Feliz 2321 Fairmount Ave 39.967534 -75.176073           dinner\\nSouth Philly Barbacoa      1140 S 9th St 39.935354 -75.158801 lunch, breakfast',\n",
       "   'state': 'Successful'},\n",
       "  {'step': 3,\n",
       "   'thought': \"Thought 3: I need to find the number of business clusters given the information that I've collected.\",\n",
       "   'action': 'Action 3: BusinessClusterSearch[]',\n",
       "   'observation': 'Illegal business cluster Search. Please try again.',\n",
       "   'state': 'Illegal args. Other Error'},\n",
       "  {'step': 4,\n",
       "   'thought': \"Thought 4: I need to find the number of business clusters given the information that I've collected.\",\n",
       "   'action': 'Action 4: BusinessClusterSearch[]',\n",
       "   'observation': 'Illegal business cluster Search. Please try again.',\n",
       "   'state': 'Illegal args. Other Error'},\n",
       "  {'step': 5,\n",
       "   'thought': \"Thought 5: I need to find the number of business clusters given the information that I've collected.\",\n",
       "   'action': 'Action 5: BusinessClusterSearch[]',\n",
       "   'observation': '',\n",
       "   'state': 'same action 3 times repeated'}]}"
      ]
     },
     "execution_count": 45,
     "metadata": {},
     "output_type": "execute_result"
    }
   ],
   "source": [
    "logs[74]"
   ]
  },
  {
   "cell_type": "code",
   "execution_count": 39,
   "metadata": {},
   "outputs": [],
   "source": [
    "import re\n",
    "def validate_restaurant_parameters_format(action_arg):\n",
    "    pattern = r\"(.*\\s*.*),\\s*(.*),\\s*\\[(.*)\\]\"\n",
    "    match = re.match(pattern, action_arg)\n",
    "    if not match:\n",
    "        raise ValueError(\"Parameter format not match. Please try again. Valid Format: Budget, cuisine, preference list.\")\n",
    "    budget = match.group(1).lower()\n",
    "    cuisine = match.group(2).lower()\n",
    "    preference_list = match.group(3)\n",
    "\n",
    "    budget_accepted = ['cheap budget', 'moderate budget','expensive budget']\n",
    "    budgetInRange = False\n",
    "    print(budget)\n",
    "    if budget in budget_accepted:\n",
    "        budgetInRange = True\n",
    "    if not budgetInRange:\n",
    "        raise ValueError(\"Wrong budget Input, valid ones include: cheap budget, moderate budget and expensive budget. Please try again.\")\n",
    "\n",
    "    cuisine_accepted = [\"us\",\"mexican\",\"irish\",\"french\",\"italian\",\"greek\",\"indian\",\"chinese\",\"japanese\",\"korean\",\"vietnamese\",\"thai\",\"asian fusion\",\"middle eastern\"]\n",
    "    print(cuisine)\n",
    "    cuisineInRange = False\n",
    "    if cuisine in cuisine_accepted:\n",
    "        cuisineInRange = True\n",
    "    if not cuisineInRange:\n",
    "        raise ValueError(\"Cuisine not valid. Accepted cuisine is: US / Mexican / Irish / French / Italian / Greek / Indian / Chinese / Japanese / Korean / Vietnamese / Thai / Asian Fusion and Middle Eastern. Please try again.\")\n",
    "\n",
    "    preference_list = [p.lower().strip() for p in preference_list.split(',')]\n",
    "    preference_core = [p.strip().split(' ')[-1] for p in preference_list]\n",
    "    print(preference_core)\n",
    "\n",
    "    preferenceInRange = True\n",
    "    preferenceAccepted = ['',\"flavor\",\"freshness\",\"service\",\"environment\",\"value\"]\n",
    "    for p in preference_core:\n",
    "        if p not in preferenceAccepted:\n",
    "            preferenceInRange = False\n",
    "\n",
    "    if not preferenceInRange:\n",
    "        raise ValueError(\"Wrong preference Input. Accepted inputs are: good flavor / good freshness / good healthy/ good service / good environment / good value. Please try again.\")    \n",
    "    return True"
   ]
  },
  {
   "cell_type": "code",
   "execution_count": null,
   "metadata": {},
   "outputs": [],
   "source": []
  }
 ],
 "metadata": {
  "kernelspec": {
   "display_name": "torchgpu",
   "language": "python",
   "name": "python3"
  },
  "language_info": {
   "codemirror_mode": {
    "name": "ipython",
    "version": 3
   },
   "file_extension": ".py",
   "mimetype": "text/x-python",
   "name": "python",
   "nbconvert_exporter": "python",
   "pygments_lexer": "ipython3",
   "version": "3.11.11"
  }
 },
 "nbformat": 4,
 "nbformat_minor": 2
}
