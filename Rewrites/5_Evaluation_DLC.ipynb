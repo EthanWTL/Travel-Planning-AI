{
 "cells": [
  {
   "cell_type": "markdown",
   "metadata": {},
   "source": [
    "1. Parameter Accuracy\n",
    "\n",
    "This part will check how accurate the LLM parse the parameters for the function call after reading the query."
   ]
  },
  {
   "cell_type": "markdown",
   "metadata": {},
   "source": [
    "2. delivery rate"
   ]
  },
  {
   "cell_type": "code",
   "execution_count": 3,
   "metadata": {},
   "outputs": [],
   "source": [
    "import json\n",
    "#delivery rate\n",
    "def getDeliveryRate(model, numPlan):\n",
    "    delivered = 0\n",
    "    with open (f'Output/{model}/plans/toolUsePlans.jsonl','r') as f:\n",
    "         plans = [json.loads(line.strip()) for line in f]\n",
    "\n",
    "    for record in plans:\n",
    "        if record['plan'] != \"\":\n",
    "            delivered += 1\n",
    "    return delivered / numPlan"
   ]
  },
  {
   "cell_type": "code",
   "execution_count": 8,
   "metadata": {},
   "outputs": [
    {
     "data": {
      "text/plain": [
       "0.8466666666666667"
      ]
     },
     "execution_count": 8,
     "metadata": {},
     "output_type": "execute_result"
    }
   ],
   "source": [
    "deliverayRate = getDeliveryRate('llama318b',300)\n",
    "deliverayRate"
   ]
  },
  {
   "cell_type": "code",
   "execution_count": null,
   "metadata": {},
   "outputs": [],
   "source": [
    "#get the error list, rerun, wrong parameter, we don't have max steps. "
   ]
  }
 ],
 "metadata": {
  "kernelspec": {
   "display_name": "torchgpu",
   "language": "python",
   "name": "python3"
  },
  "language_info": {
   "codemirror_mode": {
    "name": "ipython",
    "version": 3
   },
   "file_extension": ".py",
   "mimetype": "text/x-python",
   "name": "python",
   "nbconvert_exporter": "python",
   "pygments_lexer": "ipython3",
   "version": "3.11.11"
  }
 },
 "nbformat": 4,
 "nbformat_minor": 2
}
