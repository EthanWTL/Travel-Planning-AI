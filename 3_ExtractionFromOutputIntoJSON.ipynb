{
 "cells": [
  {
   "cell_type": "code",
   "execution_count": 8,
   "metadata": {},
   "outputs": [],
   "source": [
    "import os\n",
    "from openai import OpenAI\n",
    "from pydantic import BaseModel\n",
    "import json"
   ]
  },
  {
   "cell_type": "code",
   "execution_count": 9,
   "metadata": {},
   "outputs": [],
   "source": [
    "client = OpenAI(\n",
    "    api_key = os.getenv('OPEN_AI_API')\n",
    ")"
   ]
  },
  {
   "cell_type": "code",
   "execution_count": 10,
   "metadata": {},
   "outputs": [],
   "source": [
    "class breakfast(BaseModel):\n",
    "    name: str\n",
    "    address: str\n",
    "\n",
    "class morning_attraction(BaseModel):\n",
    "    name: str\n",
    "    address: str\n",
    "\n",
    "class lunch(BaseModel):\n",
    "    name: str\n",
    "    address: str\n",
    "\n",
    "class afternoon_attraction(BaseModel):\n",
    "    name: str\n",
    "    address: str\n",
    "\n",
    "class dinner(BaseModel):\n",
    "    name: str\n",
    "    address: str\n",
    "\n",
    "class night_attraction(BaseModel):\n",
    "    name: str\n",
    "    address: str\n",
    "\n",
    "class accommodation(BaseModel):\n",
    "    name: str\n",
    "    address: str\n",
    "\n",
    "class OneDay(BaseModel):\n",
    "    days: str\n",
    "    breakfast: breakfast\n",
    "    morning_attractions: list[morning_attraction]\n",
    "    lunch: lunch\n",
    "    afternoon_attractions: list[afternoon_attraction]\n",
    "    dinner: dinner\n",
    "    night_attractions: list[night_attraction]\n",
    "    accommodation: accommodation\n",
    "\n",
    "class WholePlan(BaseModel):\n",
    "    itinerary: list[OneDay]"
   ]
  },
  {
   "cell_type": "code",
   "execution_count": 11,
   "metadata": {},
   "outputs": [],
   "source": [
    "with open('Outputs/Task1/Task1_1.txt', 'r') as file:\n",
    "    user_prompt = file.read()\n",
    "\n",
    "with open('Prompts/Task1_extract/Task1_extraction_prompt.txt', 'r') as file:\n",
    "    system_prompt = file.read()"
   ]
  },
  {
   "cell_type": "code",
   "execution_count": 12,
   "metadata": {},
   "outputs": [],
   "source": [
    "chat_completion = client.beta.chat.completions.parse(\n",
    "    model=\"gpt-4o-mini\",\n",
    "    temperature=0,\n",
    "    messages=[\n",
    "        {\"role\": \"system\",\"content\": system_prompt,},\n",
    "        {\"role\": \"user\",\"content\": user_prompt,}\n",
    "    ],\n",
    "    response_format=WholePlan\n",
    ")"
   ]
  },
  {
   "cell_type": "code",
   "execution_count": 13,
   "metadata": {},
   "outputs": [
    {
     "data": {
      "text/plain": [
       "{'itinerary': [{'days': '1',\n",
       "   'breakfast': {'name': 'Cafe Lift',\n",
       "    'address': '428 N 13th St, Philadelphia, PA 19123'},\n",
       "   'morning_attractions': [{'name': 'Independence Hall',\n",
       "     'address': '520 Chestnut St, Philadelphia, PA 19106'}],\n",
       "   'lunch': {'name': \"Campo's Philly Cheesesteaks\",\n",
       "    'address': '214 Market St, Philadelphia, PA 19106'},\n",
       "   'afternoon_attractions': [{'name': 'Liberty Bell Center',\n",
       "     'address': '6th St & Chestnut St, Philadelphia, PA 19106'},\n",
       "    {'name': 'National Constitution Center',\n",
       "     'address': '525 Arch St, Philadelphia, PA 19106'}],\n",
       "   'dinner': {'name': 'Amada',\n",
       "    'address': '217 Chestnut St, Philadelphia, PA 19106'},\n",
       "   'night_attractions': [{'name': 'Spruce Street Harbor Park',\n",
       "     'address': '121 N Columbus Blvd, Philadelphia, PA 19106'}],\n",
       "   'accommodation': {'name': 'Alexander Inn',\n",
       "    'address': '301 S 12th St, Philadelphia, PA 19107'}},\n",
       "  {'days': '2',\n",
       "   'breakfast': {'name': 'Green Eggs Cafe',\n",
       "    'address': '1306 Dickinson St, Philadelphia, PA 19146'},\n",
       "   'morning_attractions': [{'name': 'Philadelphia Museum of Art',\n",
       "     'address': '2600 Benjamin Franklin Pkwy, Philadelphia, PA 19130'}],\n",
       "   'lunch': {'name': 'Barbuzzo',\n",
       "    'address': '110 S 13th St, Philadelphia, PA 19107'},\n",
       "   'afternoon_attractions': [{'name': \"Philadelphia's Magic Gardens\",\n",
       "     'address': '1020 S St, Philadelphia, PA 19147'},\n",
       "    {'name': 'Reading Terminal Market',\n",
       "     'address': '51 N 12th St, Philadelphia, PA 19107'}],\n",
       "   'dinner': {'name': 'Osteria',\n",
       "    'address': '640 N Broad St, Philadelphia, PA 19130'},\n",
       "   'night_attractions': [{'name': 'The Franklin Institute',\n",
       "     'address': '222 N 20th St, Philadelphia, PA 19103'}],\n",
       "   'accommodation': {'name': 'Alexander Inn',\n",
       "    'address': '301 S 12th St, Philadelphia, PA 19107'}}]}"
      ]
     },
     "execution_count": 13,
     "metadata": {},
     "output_type": "execute_result"
    }
   ],
   "source": [
    "result = json.loads(chat_completion.choices[0].message.parsed.json())\n",
    "result"
   ]
  },
  {
   "cell_type": "code",
   "execution_count": 14,
   "metadata": {},
   "outputs": [],
   "source": [
    "with open('Outputs/Task1_json/Task1_json_1.json', 'w') as file:\n",
    "    json.dump(result, file, indent=4)"
   ]
  },
  {
   "cell_type": "code",
   "execution_count": null,
   "metadata": {},
   "outputs": [],
   "source": []
  },
  {
   "cell_type": "markdown",
   "metadata": {},
   "source": [
    "Test extraction from a plan missing info"
   ]
  },
  {
   "cell_type": "code",
   "execution_count": 35,
   "metadata": {},
   "outputs": [
    {
     "data": {
      "text/plain": [
       "{'itinerary': [{'days': '1',\n",
       "   'breakfast': {'name': '-', 'address': '-'},\n",
       "   'morning_attractions': [{'name': 'Independence Hall',\n",
       "     'address': '520 Chestnut St, Philadelphia, PA 19106'}],\n",
       "   'lunch': {'name': \"Campo's Philly Cheesesteaks\",\n",
       "    'address': '214 Market St, Philadelphia, PA 19106'},\n",
       "   'afternoon_attractions': [],\n",
       "   'dinner': {'name': 'Amada',\n",
       "    'address': '217 Chestnut St, Philadelphia, PA 19106'},\n",
       "   'night_attractions': [{'name': 'Spruce Street Harbor Park',\n",
       "     'address': '121 N Columbus Blvd, Philadelphia, PA 19106'}],\n",
       "   'accommodation': {'name': '-', 'address': '-'}},\n",
       "  {'days': '2',\n",
       "   'breakfast': {'name': 'Green Eggs Cafe',\n",
       "    'address': '1306 Dickinson St, Philadelphia, PA 19146'},\n",
       "   'morning_attractions': [{'name': 'Philadelphia Museum of Art',\n",
       "     'address': '2600 Benjamin Franklin Pkwy, Philadelphia, PA 19130'}],\n",
       "   'lunch': {'name': 'Barbuzzo',\n",
       "    'address': '110 S 13th St, Philadelphia, PA 19107'},\n",
       "   'afternoon_attractions': [{'name': \"Philadelphia's Magic Gardens\",\n",
       "     'address': '1020 S St, Philadelphia, PA 19147'},\n",
       "    {'name': 'Reading Terminal Market',\n",
       "     'address': '51 N 12th St, Philadelphia, PA 19107'}],\n",
       "   'dinner': {'name': 'Osteria',\n",
       "    'address': '640 N Broad St, Philadelphia, PA 19130'},\n",
       "   'night_attractions': [],\n",
       "   'accommodation': {'name': '-', 'address': '-'}}]}"
      ]
     },
     "execution_count": 35,
     "metadata": {},
     "output_type": "execute_result"
    }
   ],
   "source": [
    "with open('Outputs/Task1/Task1_1_missingInfo.txt', 'r') as file:\n",
    "    user_prompt = file.read()\n",
    "\n",
    "with open('Prompts/Task1_extract/Task1_extraction_prompt.txt', 'r') as file:\n",
    "    system_prompt = file.read()\n",
    "\n",
    "chat_completion = client.beta.chat.completions.parse(\n",
    "    model=\"gpt-4o-mini\",\n",
    "    temperature=0,\n",
    "    messages=[\n",
    "        {\"role\": \"system\",\"content\": system_prompt,},\n",
    "        {\"role\": \"user\",\"content\": user_prompt,}\n",
    "    ],\n",
    "    response_format=WholePlan\n",
    ")\n",
    "\n",
    "result = json.loads(chat_completion.choices[0].message.parsed.json())\n",
    "result"
   ]
  },
  {
   "cell_type": "code",
   "execution_count": 36,
   "metadata": {},
   "outputs": [],
   "source": [
    "with open('Outputs/Task1_json/Task1_json_1_missingInfo.json', 'w') as file:\n",
    "    json.dump(result, file, indent=4)"
   ]
  },
  {
   "cell_type": "code",
   "execution_count": null,
   "metadata": {},
   "outputs": [],
   "source": []
  },
  {
   "cell_type": "markdown",
   "metadata": {},
   "source": [
    "Test from a plan from out of pool and missing info"
   ]
  },
  {
   "cell_type": "code",
   "execution_count": 37,
   "metadata": {},
   "outputs": [
    {
     "data": {
      "text/plain": [
       "{'itinerary': [{'days': '1',\n",
       "   'breakfast': {'name': '-', 'address': '-'},\n",
       "   'morning_attractions': [{'name': 'Independence Hall',\n",
       "     'address': '520 Chestnut St, Philadelphia, PA 19106'}],\n",
       "   'lunch': {'name': 'Some Restaurant',\n",
       "    'address': '123 Road, Philadelphia, PA 19106'},\n",
       "   'afternoon_attractions': [],\n",
       "   'dinner': {'name': 'Amada',\n",
       "    'address': '217 Chestnut St, Philadelphia, PA 19106'},\n",
       "   'night_attractions': [{'name': 'Spruce Street Harbor Park',\n",
       "     'address': '121 N Columbus Blvd, Philadelphia, PA 19106'}],\n",
       "   'accommodation': {'name': '-', 'address': '-'}},\n",
       "  {'days': '2',\n",
       "   'breakfast': {'name': 'Green Eggs Cafe',\n",
       "    'address': '1306 Dickinson St, Philadelphia, PA 19146'},\n",
       "   'morning_attractions': [{'name': 'Philadelphia Museum of Art',\n",
       "     'address': '2600 Benjamin Franklin Pkwy, Philadelphia, PA 19130'}],\n",
       "   'lunch': {'name': 'Barbuzzo',\n",
       "    'address': '110 S 13th St, Philadelphia, PA 19107'},\n",
       "   'afternoon_attractions': [{'name': \"Ethan's shop\",\n",
       "     'address': '777 blvd N St, Philadelphia, PA 19147'},\n",
       "    {'name': 'Reading Terminal Market',\n",
       "     'address': '51 N 12th St, Philadelphia, PA 19107'}],\n",
       "   'dinner': {'name': 'Osteria',\n",
       "    'address': '640 N Broad St, Philadelphia, PA 19130'},\n",
       "   'night_attractions': [],\n",
       "   'accommodation': {'name': '-', 'address': '-'}}]}"
      ]
     },
     "execution_count": 37,
     "metadata": {},
     "output_type": "execute_result"
    }
   ],
   "source": [
    "with open('Outputs/Task1/Task1_1_outOfPool.txt', 'r') as file:\n",
    "    user_prompt = file.read()\n",
    "\n",
    "with open('Prompts/Task1_extract/Task1_extraction_prompt.txt', 'r') as file:\n",
    "    system_prompt = file.read()\n",
    "\n",
    "chat_completion = client.beta.chat.completions.parse(\n",
    "    model=\"gpt-4o-mini\",\n",
    "    temperature=0,\n",
    "    messages=[\n",
    "        {\"role\": \"system\",\"content\": system_prompt,},\n",
    "        {\"role\": \"user\",\"content\": user_prompt,}\n",
    "    ],\n",
    "    response_format=WholePlan\n",
    ")\n",
    "\n",
    "result = json.loads(chat_completion.choices[0].message.parsed.json())\n",
    "result"
   ]
  },
  {
   "cell_type": "code",
   "execution_count": 38,
   "metadata": {},
   "outputs": [],
   "source": [
    "with open('Outputs/Task1_json/Task1_json_1_outOfPool.json', 'w') as file:\n",
    "    json.dump(result, file, indent=4)"
   ]
  },
  {
   "cell_type": "code",
   "execution_count": null,
   "metadata": {},
   "outputs": [],
   "source": []
  }
 ],
 "metadata": {
  "kernelspec": {
   "display_name": "torchgpu",
   "language": "python",
   "name": "python3"
  },
  "language_info": {
   "codemirror_mode": {
    "name": "ipython",
    "version": 3
   },
   "file_extension": ".py",
   "mimetype": "text/x-python",
   "name": "python",
   "nbconvert_exporter": "python",
   "pygments_lexer": "ipython3",
   "version": "3.11.0"
  }
 },
 "nbformat": 4,
 "nbformat_minor": 2
}
