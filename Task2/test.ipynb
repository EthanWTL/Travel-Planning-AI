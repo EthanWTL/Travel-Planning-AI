{
 "cells": [
  {
   "cell_type": "code",
   "execution_count": 1,
   "metadata": {},
   "outputs": [
    {
     "data": {
      "application/vnd.jupyter.widget-view+json": {
       "model_id": "87a81daeaaf14a73bd9df341296ab143",
       "version_major": 2,
       "version_minor": 0
      },
      "text/plain": [
       "VBox(children=(HTML(value='<center> <img\\nsrc=https://huggingface.co/front/assets/huggingface_logo-noborder.sv…"
      ]
     },
     "metadata": {},
     "output_type": "display_data"
    }
   ],
   "source": [
    "from huggingface_hub import login\n",
    "login()"
   ]
  },
  {
   "cell_type": "code",
   "execution_count": 2,
   "metadata": {},
   "outputs": [],
   "source": [
    "user_prompt = \"\"\"Collect information for a query plan using interleaving 'Thought', 'Action', and 'Observation' steps. Ensure you gather valid information related to transportation, dining, attractions, and accommodation. All information should be written in Notebook, which will then be input into the Planner tool. Note that the nested use of tools is prohibited. 'Thought' can reason about the current situation, and 'Action' can have 3 different types:\n",
    "\n",
    "(1) AccommodationSearch[Budget,Preference]:\n",
    "Description: Find the accommodation that matches the preference.\n",
    "Parameters:\n",
    "Preference: A list of preferences mentioned in the query.\n",
    "Example: AccommodationSearch[Moderate Budget,[Good Location, Good Service]] would return the moderate price hotel that has a good or excellent location, as well as a good or excellent service.\n",
    "\n",
    "(2) AttractionSearch[Budget, Preference]:\n",
    "Description: Find the attractions that matches the preference.\n",
    "Parameters:\n",
    "Budget: The budget mentioned in the query.\n",
    "Preference: A list of preferences mentioned in the query.\n",
    "Example: AttractionSearch[Cheap budget,[Nature Oriented]] would return the cheap price and nature - oriented attractions.\n",
    "\n",
    "(3) RestaurantSearch[Budget, Cuisine, Preference]:\n",
    "Description: Find the restaurants that matches the preference.\n",
    "Parameters:\n",
    "Budget: The budget mentioned in the query.\n",
    "Cuisine: The cuisine mentioned in the query.\n",
    "Preference: A list of preferences mentioned in the query.\n",
    "Example: RestaurantSearch[Expensive budget, Vietnamese, [Good Flavor, Good Value]] would return the expensive restaurants that offer Vietnamese cuisine, with good or excellent flavor and good or excellent value.\n",
    "\n",
    "(4) Planner[Query]\n",
    "Description: A smart planning tool that crafts detailed plans based on user input and the information stroed in Notebook.\n",
    "Parameters: \n",
    "Query: The query from user.\n",
    "Example: Planner[Give me a 3-day trip plan in Philadelphia] would return a detailed 3-day trip plan.\n",
    "\n",
    "You should use as many as possible steps to collect engough information to input to the Planner tool. \n",
    "\n",
    "Each action only calls one function once. Do not add any description in the action.\n",
    "\n",
    "Query: Please generate a detailed travel itinerary for a 3-day trip with a cheap budget. The plan should focus on activity-oriented attractions, include recommendations for Indian restaurants that offer good flavor and good value, and suggest accommodations that are in a good location. All relevant business information will be provided following. Ensure that all recommendations and their addresses are organized in chronological order for each day. Be concise and well-structured.\n",
    "----- Example Starts -----\n",
    "Day X:\n",
    "- Accommodation: \n",
    "  - Name: XXXX\n",
    "    Address: XXXX, XXXX\n",
    "\n",
    "- Breakfast: \n",
    "  - Name: XXXX \n",
    "    Address: XXXX, XXXX\n",
    "\n",
    "- Morning Attraction: \n",
    "  - Name: XXXX \n",
    "    Address: XXXX, XXXX \n",
    "\n",
    "- Lunch: \n",
    "  - Name: XXXX \n",
    "    Address: XXXX, XXXX \n",
    "\n",
    "- Afternoon Attraction: \n",
    "  - Name: XXXX \n",
    "    Address: XXXX, XXXX \n",
    "  - Name: XXXX \n",
    "    Address: XXXX, XXXX \n",
    "\n",
    "- Dinner: \n",
    "  - Name: XXXX \n",
    "    Address: XXXX, XXXX \n",
    "\n",
    "- Night Attraction: \n",
    "  - Name: XXXX \n",
    "    Address: XXXX, XXXX \n",
    "----- Example Ends ----- \"\"\""
   ]
  },
  {
   "cell_type": "code",
   "execution_count": 4,
   "metadata": {},
   "outputs": [],
   "source": [
    "messages=[\n",
    "    {\"role\": \"user\",\"content\": user_prompt}\n",
    "]"
   ]
  },
  {
   "cell_type": "code",
   "execution_count": 7,
   "metadata": {},
   "outputs": [
    {
     "data": {
      "application/vnd.jupyter.widget-view+json": {
       "model_id": "0c5029a41d2446a191ca95e5fc9d8bd9",
       "version_major": 2,
       "version_minor": 0
      },
      "text/plain": [
       "Loading checkpoint shards:   0%|          | 0/4 [00:00<?, ?it/s]"
      ]
     },
     "metadata": {},
     "output_type": "display_data"
    },
    {
     "name": "stderr",
     "output_type": "stream",
     "text": [
      "Device set to use cuda:0\n",
      "Setting `pad_token_id` to `eos_token_id`:128001 for open-end generation.\n"
     ]
    },
    {
     "name": "stdout",
     "output_type": "stream",
     "text": [
      "<s>[INST] <<SYS>> You are a helpful assistant. <</SYS>> Collect information for a query plan using interleaving 'Thought', 'Action', and 'Observation' steps. Ensure you gather valid information related to transportation, dining, attractions, and accommodation. All information should be written in Notebook, which will then be input into the Planner tool. Note that the nested use of tools is prohibited. 'Thought' can reason about the current situation, and 'Action' can have 3 different types:\n",
      "\n",
      "(1) AccommodationSearch[Budget,Preference]:\n",
      "Description: Find the accommodation that matches the preference.\n",
      "Parameters:\n",
      "Preference: A list of preferences mentioned in the query.\n",
      "Example: AccommodationSearch[Moderate Budget,[Good Location, Good Service]] would return the moderate price hotel that has a good or excellent location, as well as a good or excellent service.\n",
      "\n",
      "(2) AttractionSearch[Budget, Preference]:\n",
      "Description: Find the attractions that matches the preference.\n",
      "Parameters:\n",
      "Budget: The budget mentioned in the query.\n",
      "Preference: A list of preferences mentioned in the query.\n",
      "Example: AttractionSearch[Cheap budget,[Nature Oriented]] would return the cheap price and nature - oriented attractions.\n",
      "\n",
      "(3) RestaurantSearch[Budget, Cuisine, Preference]:\n",
      "Description: Find the restaurants that matches the preference.\n",
      "Parameters:\n",
      "Budget: The budget mentioned in the query.\n",
      "Cuisine: The cuisine mentioned in the query.\n",
      "Preference: A list of preferences mentioned in the query.\n",
      "Example: RestaurantSearch[Expensive budget, Vietnamese, [Good Flavor, Good Value]] would return the expensive restaurants that offer Vietnamese cuisine, with good or excellent flavor and good or excellent value.\n",
      "\n",
      "(4) Planner[Query]\n",
      "Description: A smart planning tool that crafts detailed plans based on user input and the information stroed in Notebook.\n",
      "Parameters: \n",
      "Query: The query from user.\n",
      "Example: Planner[Give me a 3-day trip plan in Philadelphia] would return a detailed 3-day trip plan.\n",
      "\n",
      "You should use as many as possible steps to collect engough information to input to the Planner tool. \n",
      "\n",
      "Each action only calls one function once. Do not add any description in the action.\n",
      "\n",
      "Query: Please generate a detailed travel itinerary for a 3-day trip with a cheap budget. The plan should focus on activity-oriented attractions, include recommendations for Indian restaurants that offer good flavor and good value, and suggest accommodations that are in a good location. All relevant business information will be provided following. Ensure that all recommendations and their addresses are organized in chronological order for each day. Be concise and well-structured.\n",
      "----- Example Starts -----\n",
      "Day X:\n",
      "- Accommodation: \n",
      "  - Name: XXXX\n",
      "    Address: XXXX, XXXX\n",
      "\n",
      "- Breakfast: \n",
      "  - Name: XXXX \n",
      "    Address: XXXX, XXXX\n",
      "\n",
      "- Morning Attraction: \n",
      "  - Name: XXXX \n",
      "    Address: XXXX, XXXX \n",
      "\n",
      "- Lunch: \n",
      "  - Name: XXXX \n",
      "    Address: XXXX, XXXX \n",
      "\n",
      "- Afternoon Attraction: \n",
      "  - Name: XXXX \n",
      "    Address: XXXX, XXXX \n",
      "  - Name: XXXX \n",
      "    Address: XXXX, XXXX \n",
      "\n",
      "- Dinner: \n",
      "  - Name: XXXX \n",
      "    Address: XXXX, XXXX \n",
      "\n",
      "- Night Attraction: \n",
      "  - Name: XXXX \n",
      "    Address: XXXX, XXXX \n",
      "----- Example Ends -----  [/INST] \n",
      "\n",
      "<s>[INST] <<SYS>> I am ready to assist you. <</SYS>> \n",
      "\n"
     ]
    }
   ],
   "source": [
    "from langchain.llms import HuggingFacePipeline\n",
    "from transformers import pipeline\n",
    "\n",
    "generator = pipeline(\"text-generation\", model=\"meta-llama/Meta-Llama-3.1-8B-Instruct\")\n",
    "llm = HuggingFacePipeline(pipeline=generator)\n",
    "response = llm(\n",
    "    f\"<s>[INST] <<SYS>> You are a helpful assistant. <</SYS>> {user_prompt} [/INST]\",\n",
    "    stop=[\"</s>\", \"User:\", \"Assistant:\"],  # Stops generation before unintended text\n",
    ")\n",
    "print(response)"
   ]
  },
  {
   "cell_type": "code",
   "execution_count": null,
   "metadata": {},
   "outputs": [],
   "source": []
  }
 ],
 "metadata": {
  "kernelspec": {
   "display_name": "Python 3",
   "language": "python",
   "name": "python3"
  },
  "language_info": {
   "codemirror_mode": {
    "name": "ipython",
    "version": 3
   },
   "file_extension": ".py",
   "mimetype": "text/x-python",
   "name": "python",
   "nbconvert_exporter": "python",
   "pygments_lexer": "ipython3",
   "version": "3.11.11"
  }
 },
 "nbformat": 4,
 "nbformat_minor": 2
}
