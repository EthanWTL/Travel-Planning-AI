{
 "cells": [
  {
   "cell_type": "code",
   "execution_count": 1,
   "metadata": {},
   "outputs": [],
   "source": [
    "import os\n",
    "import re\n",
    "import importlib\n",
    "from langchain.chat_models import ChatOpenAI\n",
    "from langchain.schema import (\n",
    "    AIMessage,\n",
    "    HumanMessage,\n",
    "    SystemMessage\n",
    ")\n",
    "from Prompts.ReACT.prompts import zeroshot_react_agent_prompt\n",
    "from typing import List, Dict, Any\n",
    "from pandas import DataFrame\n",
    "\n",
    "\n",
    "OPENAI_API_KEY = os.getenv('OPEN_AI_API')"
   ]
  },
  {
   "cell_type": "code",
   "execution_count": 2,
   "metadata": {},
   "outputs": [],
   "source": [
    "class ReactAgent:\n",
    "    def __init__(self,\n",
    "                 react_llm_name,\n",
    "                 planner_llm_name,\n",
    "                 mode: str = 'zero_shot',\n",
    "                 tools: List[str] = None,\n",
    "                 ) -> None: \n",
    "        self.react_name = react_llm_name\n",
    "        self.answer = ''\n",
    "        self.json_log = []\n",
    "        self.mode = mode\n",
    "        self.planner_name = planner_llm_name\n",
    "        self.notebook = []\n",
    "        \n",
    "        self.current_observation = ''\n",
    "        self.current_data = None\n",
    "\n",
    "        self.tools = self.load_tools(tools, planner_model_name=planner_llm_name)\n",
    "        \n",
    "\n",
    "        if self.mode == 'zero_shot':\n",
    "            self.agent_prompt = zeroshot_react_agent_prompt\n",
    "\n",
    "        if 'gpt-4o-mini' in react_llm_name:\n",
    "            stop_list = ['\\n']\n",
    "            self.max_token_length = 15000\n",
    "            self.llm = ChatOpenAI(temperature=1,\n",
    "                     max_tokens=256,\n",
    "                     model_name=react_llm_name,\n",
    "                     openai_api_key=OPENAI_API_KEY,\n",
    "                     model_kwargs={\"stop\": stop_list})\n",
    "\n",
    "    def run(self,query, reset=True) -> None:\n",
    "        self.query = query\n",
    "\n",
    "        if reset:\n",
    "            self.__reset_agent()\n",
    "\n",
    "        while not self.is_finished():\n",
    "            self.step()\n",
    "        \n",
    "        return self.answer, self.scratchpad, self.json_log\n",
    "\n",
    "    \n",
    "    def step(self) -> None:\n",
    "        #record the log\n",
    "        self.json_log.append({\"step\": self.step_n, \"thought\":\"\",\n",
    "                              \"action\": \"\", \"observation\": \"\", \"state\":\"\"})\n",
    "        #thought\n",
    "        self.scratchpad += f'\\nThought {self.step_n}:'\n",
    "        self.scratchpad += ' ' + self.prompt_agent() #\n",
    "        print(self.scratchpad.split('\\n')[-1])\n",
    "        self.json_log[-1]['thought'] = self.scratchpad.split('\\n')[-1].replace(f'\\nThought {self.step_n}:',\"\")\n",
    "        \n",
    "        \n",
    "        #act\n",
    "        self.scratchpad += f'\\nAction {self.step_n}:'\n",
    "        action = self.prompt_agent()\n",
    "        self.scratchpad += ' ' + action\n",
    "        print(self.scratchpad.split('\\n')[-1])\n",
    "        self.json_log[-1]['action'] = self.scratchpad.split('\\n')[-1].replace(f'\\nAction {self.step_n}:',\"\")\n",
    "        \n",
    "        #observation\n",
    "        self.scratchpad += f'\\nObservation {self.step_n}: '\n",
    "        action_type, action_arg = parse_action(action)\n",
    "        #print(action_arg)\n",
    "        if action_type == 'AccommodationSearch':\n",
    "            self.scratchpad = self.scratchpad.replace(to_string(self.current_data).strip(),'Masked due to limited length. Make sure the data has been written in Notebook.')\n",
    "            self.current_data = self.tools['accommodations'].run(action_arg.split(',')[0],[p.strip() for p in action_arg.split('[')[1].strip('[]').split(',')])\n",
    "            self.current_observation = str(to_string(self.current_data))\n",
    "            self.scratchpad += self.current_observation\n",
    "            self.notebook.append({'Description': 'Accommodation Choice', 'Content': self.current_data})\n",
    "            self.json_log[-1]['state'] = f'Successful'\n",
    "\n",
    "        elif action_type == 'AttractionSearch':\n",
    "            self.scratchpad = self.scratchpad.replace(to_string(self.current_data).strip(),'Masked due to limited length. Make sure the data has been written in Notebook.')\n",
    "            self.current_data = self.tools['attractions'].run(action_arg.split(',')[0],[action_arg.split(',')[1].strip()[1:][:-1]])\n",
    "            self.current_observation = str(to_string(self.current_data))\n",
    "            self.scratchpad += self.current_observation \n",
    "            self.notebook.append({'Description': 'Attraction Choice', 'Content': self.current_data})\n",
    "            self.json_log[-1]['state'] = f'Successful'\n",
    "\n",
    "        elif action_type == 'RestaurantSearch': #action_arg = 'Cheap Budget, Indian, [Good Flavor, Good Value]'\n",
    "            self.scratchpad = self.scratchpad.replace(to_string(self.current_data).strip(),'Masked due to limited length. Make sure the data has been written in Notebook.')\n",
    "            self.current_data = self.tools['restaurants'].run(action_arg.split('[')[0].split(',')[0].strip(),action_arg.split('[')[0].split(',')[1].strip(),[a.strip() for a in action_arg.split('[')[1].strip()[:-1].split(',')])\n",
    "            self.current_observation = str(to_string(self.current_data))\n",
    "            self.scratchpad += self.current_observation\n",
    "            self.notebook.append({'Description': 'Restaurant Choice', 'Content': self.current_data})\n",
    "            self.json_log[-1]['state'] = f'Successful'\n",
    "\n",
    "        #elif action_type == 'NotebookWrite':\n",
    "        #    self.scratchpad = self.scratchpad.replace(to_string(self.current_data).strip(),'Masked due to limited length. Make sure the data has been written in Notebook.')\n",
    "        #    self.current_observation = str(self.tools['notebook'].write(self.current_data, action_arg))\n",
    "        #    self.scratchpad  +=  self.current_observation\n",
    "        #    self.json_log[-1]['state'] = f'Successful'\n",
    "\n",
    "        elif action_type == 'Planner':\n",
    "            self.current_observation = str(self.tools['planner'].run(str(self.notebook),action_arg))\n",
    "            self.scratchpad  +=  self.current_observation\n",
    "            self.answer = self.current_observation\n",
    "            self.json_log[-1]['state'] = f'Successful'\n",
    "        else:\n",
    "            print('invalid action type')\n",
    "        \n",
    "        self.step_n += 1\n",
    "\n",
    "\n",
    "        if action_type and action_type == 'Planner':\n",
    "            self.finished = True\n",
    "            self.answer = self.current_observation\n",
    "\n",
    "            #print(self.scratchpad)\n",
    "            #print(self.json_log)\n",
    "            #print(self.notebook) \n",
    "        return\n",
    "    \n",
    "    \n",
    "    \n",
    "    \n",
    "    def is_finished(self) -> bool:\n",
    "        return self.finished\n",
    "    \n",
    "    #def is_halted(self) -> bool:\n",
    "    #    return ((self.step_n > self.max_steps) or (\n",
    "    #                len(self.enc.encode(self._build_agent_prompt())) > self.max_token_length)) and not self.finished\n",
    "    \n",
    "    def __reset_agent(self) -> None:\n",
    "        self.step_n = 1\n",
    "        self.finished = False\n",
    "        self.answer = ''\n",
    "        self.scratchpad: str = ''\n",
    "        self.json_log = []\n",
    "\n",
    "    def prompt_agent(self) -> str:\n",
    "        while True:\n",
    "            request = format_step(self.llm([HumanMessage(content=self._build_agent_prompt())]).content)\n",
    "            return request  \n",
    "        \n",
    "        \n",
    "    def _build_agent_prompt(self) -> str:\n",
    "        if self.mode == \"zero_shot\":\n",
    "            return self.agent_prompt.format(\n",
    "                query=self.query,\n",
    "                scratchpad=self.scratchpad)\n",
    "        \n",
    "    def load_tools(self, tools: List[str], planner_model_name=None) -> Dict[str, Any]:\n",
    "        tools_map = {}\n",
    "        for tool_name in tools:\n",
    "            module = importlib.import_module(\"tools.{}.apis\".format(tool_name)) #\n",
    "            \n",
    "            # Avoid instantiating the planner tool twice, need to finish planner module before uncomment this\n",
    "            if tool_name == 'planner' and planner_model_name is not None:\n",
    "                tools_map[tool_name] = getattr(module, tool_name[0].upper()+tool_name[1:])(model_name=planner_model_name)\n",
    "            else:\n",
    "                tools_map[tool_name] = getattr(module, tool_name[0].upper()+tool_name[1:])()\n",
    "        #print(tools_map)\n",
    "        return tools_map\n",
    "        \n",
    "\n",
    "def format_step(step: str) -> str:\n",
    "    return step.strip('\\n').strip().replace('\\n', '')\n",
    "\n",
    "def parse_action(string):\n",
    "    pattern = r'^(\\w+)\\[(.+)\\]$'\n",
    "    match = re.match(pattern, string)\n",
    "    action_type = match.group(1)\n",
    "    action_arg = match.group(2)\n",
    "    return action_type,action_arg\n",
    "\n",
    "#def parse action arg\n",
    "\n",
    "def to_string(data) -> str:\n",
    "    if data is not None:\n",
    "        if type(data) == DataFrame:\n",
    "            return data.to_string(index=False)\n",
    "        else:\n",
    "            return str(data)\n",
    "    else:\n",
    "        return str(None)"
   ]
  },
  {
   "cell_type": "code",
   "execution_count": 3,
   "metadata": {},
   "outputs": [
    {
     "name": "stderr",
     "output_type": "stream",
     "text": [
      "n:\\Travel-Planning-AI\\Task2\\tools\\planner\\apis.py:16: LangChainDeprecationWarning: The class `ChatOpenAI` was deprecated in LangChain 0.0.10 and will be removed in 1.0. An updated version of the class exists in the :class:`~langchain-openai package and should be used instead. To use it run `pip install -U :class:`~langchain-openai` and import as `from :class:`~langchain_openai import ChatOpenAI``.\n",
      "  self.llm = ChatOpenAI(model_name=model_name, temperature=0, max_tokens=15000, openai_api_key=OPENAI_API_KEY)\n",
      "C:\\Users\\Ethan\\AppData\\Local\\Temp\\ipykernel_10220\\3233278168.py:136: LangChainDeprecationWarning: The method `BaseChatModel.__call__` was deprecated in langchain-core 0.1.7 and will be removed in 1.0. Use :meth:`~invoke` instead.\n",
      "  request = format_step(self.llm([HumanMessage(content=self._build_agent_prompt())]).content)\n"
     ]
    },
    {
     "name": "stdout",
     "output_type": "stream",
     "text": [
      "Thought 1: To create a comprehensive travel itinerary for a 4-day trip, we need to collect information about family-oriented attractions, Middle Eastern restaurants, and quality accommodations, all while staying within a cheap budget.\n",
      "Action 1: AccommodationSearch[Cheap budget,[Good Quality]]\n",
      "Thought 2: We have gathered a selection of quality accommodations. Next, we need to find family-oriented attractions that fit within a cheap budget.\n",
      "Action 2: AttractionSearch[Cheap budget,[Family Oriented]]\n",
      "family oriented\n",
      "Index(['name', 'address', 'latitude', 'longitude', 'stars', 'price',\n",
      "       'attraction_type', 'perks', 'family oriented', 'history oriented',\n",
      "       'activity oriented', 'nature oriented', 'food oriented',\n",
      "       'shopping oriented'],\n",
      "      dtype='object')\n",
      "Thought 3: Next, we need to find Middle Eastern restaurants that fit within the cheap budget and have good quality.\n",
      "Action 3: RestaurantSearch[Cheap budget, Middle Eastern, [Good Quality]]\n",
      "Thought 4: Now that we have retrieved information about accommodations, attractions, and Middle Eastern restaurants, we can construct a detailed travel itinerary for a 4-day trip. I'll need to organize the details chronologically, ensuring we include all relevant information for each day.\n",
      "Action 4: Planner[Generate a detailed travel itinerary for a 4-day trip with a cheap budget focusing on family-oriented attractions, Middle Eastern restaurants, and good quality accommodations.]\n"
     ]
    }
   ],
   "source": [
    "tools_list = [\"notebook\",\"attractions\",\"accommodations\",\"restaurants\",\"planner\"]\n",
    "model_name = 'gpt-4o-mini'\n",
    "\n",
    "agent = ReactAgent(tools=tools_list,react_llm_name = model_name, planner_llm_name = model_name)\n",
    "\n",
    "for filename in os.listdir('Prompts/prompts'):\n",
    "    index = filename[:-4][7:]\n",
    "    with open(f'Prompts/prompts/{filename}', 'r') as file:\n",
    "        query = file.read()\n",
    "    planner_results, scratchpad, action_log  = agent.run(query)\n",
    "    with open(f'Outputs/plans/gpt4omini/Plan_{index}.txt', 'w') as f:\n",
    "        f.write(planner_results)\n"
   ]
  },
  {
   "cell_type": "code",
   "execution_count": null,
   "metadata": {},
   "outputs": [],
   "source": []
  },
  {
   "cell_type": "code",
   "execution_count": 4,
   "metadata": {},
   "outputs": [],
   "source": [
    "action_arg = ', Irish, []'"
   ]
  },
  {
   "cell_type": "code",
   "execution_count": 5,
   "metadata": {},
   "outputs": [
    {
     "data": {
      "text/plain": [
       "''"
      ]
     },
     "execution_count": 5,
     "metadata": {},
     "output_type": "execute_result"
    }
   ],
   "source": [
    "action_arg.split('[')[0].split(',')[0].strip()\n"
   ]
  },
  {
   "cell_type": "code",
   "execution_count": 6,
   "metadata": {},
   "outputs": [
    {
     "data": {
      "text/plain": [
       "'Irish'"
      ]
     },
     "execution_count": 6,
     "metadata": {},
     "output_type": "execute_result"
    }
   ],
   "source": [
    "action_arg.split('[')[0].split(',')[1].strip()\n"
   ]
  },
  {
   "cell_type": "code",
   "execution_count": 7,
   "metadata": {},
   "outputs": [
    {
     "data": {
      "text/plain": [
       "1"
      ]
     },
     "execution_count": 7,
     "metadata": {},
     "output_type": "execute_result"
    }
   ],
   "source": [
    "len([a.strip() for a in action_arg.split('[')[1].strip()[:-1].split(',')])"
   ]
  },
  {
   "cell_type": "code",
   "execution_count": 8,
   "metadata": {},
   "outputs": [
    {
     "ename": "KeyError",
     "evalue": "''",
     "output_type": "error",
     "traceback": [
      "\u001b[1;31m---------------------------------------------------------------------------\u001b[0m",
      "\u001b[1;31mKeyError\u001b[0m                                  Traceback (most recent call last)",
      "Cell \u001b[1;32mIn[8], line 3\u001b[0m\n\u001b[0;32m      1\u001b[0m budget \u001b[38;5;241m=\u001b[39m action_arg\u001b[38;5;241m.\u001b[39msplit(\u001b[38;5;124m'\u001b[39m\u001b[38;5;124m[\u001b[39m\u001b[38;5;124m'\u001b[39m)[\u001b[38;5;241m0\u001b[39m]\u001b[38;5;241m.\u001b[39msplit(\u001b[38;5;124m'\u001b[39m\u001b[38;5;124m,\u001b[39m\u001b[38;5;124m'\u001b[39m)[\u001b[38;5;241m0\u001b[39m]\u001b[38;5;241m.\u001b[39mstrip()\n\u001b[0;32m      2\u001b[0m price_map \u001b[38;5;241m=\u001b[39m {\u001b[38;5;124m'\u001b[39m\u001b[38;5;124mcheap budget\u001b[39m\u001b[38;5;124m'\u001b[39m:[\u001b[38;5;124m'\u001b[39m\u001b[38;5;124m$\u001b[39m\u001b[38;5;124m'\u001b[39m,\u001b[38;5;124m'\u001b[39m\u001b[38;5;124m$$\u001b[39m\u001b[38;5;124m'\u001b[39m],\u001b[38;5;124m'\u001b[39m\u001b[38;5;124mmoderate budget\u001b[39m\u001b[38;5;124m'\u001b[39m:[\u001b[38;5;124m'\u001b[39m\u001b[38;5;124m$\u001b[39m\u001b[38;5;124m'\u001b[39m,\u001b[38;5;124m'\u001b[39m\u001b[38;5;124m$$\u001b[39m\u001b[38;5;124m'\u001b[39m,\u001b[38;5;124m'\u001b[39m\u001b[38;5;124m$$$\u001b[39m\u001b[38;5;124m'\u001b[39m],\u001b[38;5;124m'\u001b[39m\u001b[38;5;124mexpensive budget\u001b[39m\u001b[38;5;124m'\u001b[39m:[\u001b[38;5;124m'\u001b[39m\u001b[38;5;124m$$\u001b[39m\u001b[38;5;124m'\u001b[39m,\u001b[38;5;124m'\u001b[39m\u001b[38;5;124m$$$\u001b[39m\u001b[38;5;124m'\u001b[39m,\u001b[38;5;124m'\u001b[39m\u001b[38;5;124m$$$$\u001b[39m\u001b[38;5;124m'\u001b[39m]}\n\u001b[1;32m----> 3\u001b[0m price_limit \u001b[38;5;241m=\u001b[39m \u001b[43mprice_map\u001b[49m\u001b[43m[\u001b[49m\u001b[43mbudget\u001b[49m\u001b[38;5;241;43m.\u001b[39;49m\u001b[43mlower\u001b[49m\u001b[43m(\u001b[49m\u001b[43m)\u001b[49m\u001b[43m]\u001b[49m\n",
      "\u001b[1;31mKeyError\u001b[0m: ''"
     ]
    }
   ],
   "source": [
    "budget = action_arg.split('[')[0].split(',')[0].strip()\n",
    "price_map = {'cheap budget':['$','$$'],'moderate budget':['$','$$','$$$'],'expensive budget':['$$','$$$','$$$$']}\n",
    "price_limit = price_map[budget.lower()]"
   ]
  },
  {
   "cell_type": "code",
   "execution_count": 4,
   "metadata": {},
   "outputs": [
    {
     "data": {
      "text/plain": [
       "['fanily oriented']"
      ]
     },
     "execution_count": 4,
     "metadata": {},
     "output_type": "execute_result"
    }
   ],
   "source": [
    "\n",
    "from difflib import get_close_matches\n",
    "\n",
    "col = get_close_matches('famaily oriented', ['fanily oriented','asdif'], n=1, cutoff=0.6)\n",
    "col"
   ]
  },
  {
   "cell_type": "code",
   "execution_count": null,
   "metadata": {},
   "outputs": [],
   "source": []
  }
 ],
 "metadata": {
  "kernelspec": {
   "display_name": "torchgpu",
   "language": "python",
   "name": "python3"
  },
  "language_info": {
   "codemirror_mode": {
    "name": "ipython",
    "version": 3
   },
   "file_extension": ".py",
   "mimetype": "text/x-python",
   "name": "python",
   "nbconvert_exporter": "python",
   "pygments_lexer": "ipython3",
   "version": "3.11.0"
  }
 },
 "nbformat": 4,
 "nbformat_minor": 2
}
