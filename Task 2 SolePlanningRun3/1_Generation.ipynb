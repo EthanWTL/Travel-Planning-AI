{
 "cells": [
  {
   "cell_type": "code",
   "execution_count": 1,
   "metadata": {},
   "outputs": [
    {
     "data": {
      "text/plain": [
       "True"
      ]
     },
     "execution_count": 1,
     "metadata": {},
     "output_type": "execute_result"
    }
   ],
   "source": [
    "import torch\n",
    "torch.cuda.is_available()"
   ]
  },
  {
   "cell_type": "code",
   "execution_count": 2,
   "metadata": {},
   "outputs": [],
   "source": [
    "#gpt4omini, llama317B\n",
    "generation_model = 'llama317B'"
   ]
  },
  {
   "cell_type": "code",
   "execution_count": 3,
   "metadata": {},
   "outputs": [],
   "source": [
    "import os\n",
    "from openai import OpenAI\n",
    "from pydantic import BaseModel\n",
    "import json"
   ]
  },
  {
   "cell_type": "code",
   "execution_count": 4,
   "metadata": {},
   "outputs": [],
   "source": [
    "if(generation_model == 'gpt4omini'):\n",
    "    client = OpenAI(\n",
    "        api_key = os.getenv('OPEN_AI_API')\n",
    "    )\n",
    "\n",
    "    def create_travel_plan(system_prompt, user_prompt):\n",
    "        chat_completion = client.chat.completions.create(\n",
    "            model=\"gpt-4o-mini\",\n",
    "            temperature=0,\n",
    "            messages=[\n",
    "                {\"role\": \"system\",\"content\": system_prompt,},\n",
    "                {\"role\": \"user\",\"content\": user_prompt,}\n",
    "            ]\n",
    "        )\n",
    "\n",
    "        return chat_completion.choices[0].message.content\n",
    "\n",
    "    for i in range (10):\n",
    "        with open(f'Prompts/prompts_routesOP/Prompt_{i+1}.txt', 'r') as file:\n",
    "            system_prompt = file.read()\n",
    "        with open(f'FilteredData/data_{i+1}.json', 'r') as file:\n",
    "            user_prompt = str(json.load(file))\n",
    "        #print(system_prompt)\n",
    "        #print(user_prompt)\n",
    "        plan = create_travel_plan(system_prompt, user_prompt)\n",
    "        with open(f'Outputs/plans/gpt4omini/Plan_{i+1}.txt', 'w') as f:\n",
    "            f.write(plan)"
   ]
  },
  {
   "cell_type": "code",
   "execution_count": null,
   "metadata": {},
   "outputs": [],
   "source": []
  },
  {
   "cell_type": "code",
   "execution_count": null,
   "metadata": {},
   "outputs": [],
   "source": []
  },
  {
   "cell_type": "code",
   "execution_count": 5,
   "metadata": {},
   "outputs": [
    {
     "data": {
      "application/vnd.jupyter.widget-view+json": {
       "model_id": "46b53fa547054f95a878b887af743ca8",
       "version_major": 2,
       "version_minor": 0
      },
      "text/plain": [
       "VBox(children=(HTML(value='<center> <img\\nsrc=https://huggingface.co/front/assets/huggingface_logo-noborder.sv…"
      ]
     },
     "metadata": {},
     "output_type": "display_data"
    }
   ],
   "source": [
    "from huggingface_hub import login\n",
    "login()"
   ]
  },
  {
   "cell_type": "code",
   "execution_count": 6,
   "metadata": {},
   "outputs": [
    {
     "data": {
      "text/plain": [
       "'NVIDIA GeForce RTX 3090 Ti'"
      ]
     },
     "execution_count": 6,
     "metadata": {},
     "output_type": "execute_result"
    }
   ],
   "source": [
    "torch.cuda.get_device_name(device=None)"
   ]
  },
  {
   "cell_type": "code",
   "execution_count": 7,
   "metadata": {},
   "outputs": [],
   "source": [
    "if(generation_model == 'llama317B'):\n",
    "    import transformers\n",
    "    import torch\n",
    "    \n",
    "    model_id = \"meta-llama/Meta-Llama-3.1-8B-Instruct\"\n",
    "    pipeline = transformers.pipeline(\n",
    "        \"text-generation\",\n",
    "        model=model_id,\n",
    "        model_kwargs={\"torch_dtype\": torch.bfloat16},\n",
    "        device=\"cuda\",\n",
    "    )\n",
    "    \n",
    "    for filename in os.listdir('Prompts/prompts_routesOP'):\n",
    "        \n",
    "        #testing purpose\n",
    "        #if(filename == 'Prompt_1.txt'):\n",
    "        #    continue\n",
    "\n",
    "        index = filename[:-4][7:]\n",
    "        with open(f'Prompts/prompts_routesOP/{filename}', 'r') as file:\n",
    "            system_prompt = file.read()\n",
    "        \n",
    "        messages = [\n",
    "            {\"role\": \"system\", \"content\": system_prompt},\n",
    "            {\"role\": \"user\", \"content\": user_prompt},\n",
    "        ]\n",
    "\n",
    "        outputs = pipeline(\n",
    "            messages,\n",
    "            max_new_tokens=5000, # the llama 3.1 won't increase the detail with more token limit, neither decrese detail with less token, so just create a token limit that won't cut off the text.\n",
    "            do_sample = False\n",
    "        )\n",
    "\n",
    "        with open(f'Outputs/plans/Llama317B/Plan_{index}.txt', 'w') as f:\n",
    "                    f.write(outputs[0][\"generated_text\"][-1]['content'])"
   ]
  },
  {
   "cell_type": "code",
   "execution_count": null,
   "metadata": {},
   "outputs": [],
   "source": []
  }
 ],
 "metadata": {
  "kernelspec": {
   "display_name": "torchgpu",
   "language": "python",
   "name": "python3"
  },
  "language_info": {
   "codemirror_mode": {
    "name": "ipython",
    "version": 3
   },
   "file_extension": ".py",
   "mimetype": "text/x-python",
   "name": "python",
   "nbconvert_exporter": "python",
   "pygments_lexer": "ipython3",
   "version": "3.11.11"
  }
 },
 "nbformat": 4,
 "nbformat_minor": 2
}
