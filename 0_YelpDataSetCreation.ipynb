{
 "cells": [
  {
   "cell_type": "markdown",
   "metadata": {},
   "source": [
    "Parse JSON for only Phil"
   ]
  },
  {
   "cell_type": "code",
   "execution_count": 1,
   "metadata": {},
   "outputs": [],
   "source": [
    "import numpy as np\n",
    "import pandas as pd\n",
    "import json\n",
    "import matplotlib.pyplot as plt\n",
    "import csv\n",
    "import random"
   ]
  },
  {
   "cell_type": "code",
   "execution_count": 3,
   "metadata": {},
   "outputs": [],
   "source": [
    "json_array = []\n",
    "\n",
    "# Open the file and read it line by line\n",
    "with open('yelp_academic_dataset_business.json', 'r') as file:\n",
    "    for line in file:\n",
    "        # Parse each line as a JSON object and append to the list\n",
    "        json_obj = json.loads(line.strip())  # strip() removes any leading/trailing whitespace\n",
    "        json_array.append(json_obj)"
   ]
  },
  {
   "cell_type": "code",
   "execution_count": null,
   "metadata": {},
   "outputs": [],
   "source": [
    "Phil_only = [obj for obj in json_array if obj['city'] == 'Philadelphia']\n",
    "len(Phil_only)"
   ]
  },
  {
   "cell_type": "code",
   "execution_count": 5,
   "metadata": {},
   "outputs": [],
   "source": [
    "with open('Philadelphia.jsonl', 'w') as json_file:\n",
    "    for item in Phil_only:\n",
    "        json.dump(item, json_file)\n",
    "        json_file.write('\\n') "
   ]
  },
  {
   "cell_type": "markdown",
   "metadata": {},
   "source": [
    "Hotel for Phil"
   ]
  },
  {
   "cell_type": "code",
   "execution_count": 6,
   "metadata": {},
   "outputs": [],
   "source": [
    "Phil_hotel = []\n",
    "for obj in Phil_only:\n",
    "    if(obj['categories']):\n",
    "        for i in obj['categories'].strip().split(','):\n",
    "            if i == ' Hotels' or i == 'Hotels':\n",
    "                Phil_hotel.append(obj)"
   ]
  },
  {
   "cell_type": "code",
   "execution_count": 7,
   "metadata": {},
   "outputs": [],
   "source": [
    "with open('Philadelphia_Hotels.jsonl', 'w') as json_file:\n",
    "    for item in Phil_hotel:\n",
    "        json.dump(item, json_file)\n",
    "        json_file.write('\\n') "
   ]
  },
  {
   "cell_type": "markdown",
   "metadata": {},
   "source": [
    "Resturants"
   ]
  },
  {
   "cell_type": "code",
   "execution_count": 8,
   "metadata": {},
   "outputs": [],
   "source": [
    "Phil_restaurant = []\n",
    "for obj in Phil_only:\n",
    "    if(obj['categories']):\n",
    "        if ('Restaurants' in obj['categories'].strip()) or (' Restaurants' in obj['categories'].strip()):\n",
    "            Phil_restaurant.append(obj)"
   ]
  },
  {
   "cell_type": "code",
   "execution_count": 9,
   "metadata": {},
   "outputs": [],
   "source": [
    "with open('Philadelphia_Restaurants.jsonl', 'w') as json_file:\n",
    "    for item in Phil_restaurant:\n",
    "        json.dump(item, json_file)\n",
    "        json_file.write('\\n') "
   ]
  },
  {
   "cell_type": "markdown",
   "metadata": {},
   "source": [
    "Attractions"
   ]
  },
  {
   "cell_type": "code",
   "execution_count": 10,
   "metadata": {},
   "outputs": [],
   "source": [
    "Phil_attractions = []\n",
    "seen = set()"
   ]
  },
  {
   "cell_type": "markdown",
   "metadata": {},
   "source": [
    "1. museum"
   ]
  },
  {
   "cell_type": "code",
   "execution_count": null,
   "metadata": {},
   "outputs": [],
   "source": [
    "for obj in Phil_only:\n",
    "    if(obj['categories']):\n",
    "        if ('Museums' in obj['categories'].strip().split(',')) or (' Museums' in obj['categories'].strip().split(',')):\n",
    "            identifier = obj['business_id']\n",
    "            if identifier not in seen:\n",
    "                seen.add(identifier)\n",
    "                Phil_attractions.append(obj)\n",
    "print(f'new record: {len(Phil_attractions)}')"
   ]
  },
  {
   "cell_type": "markdown",
   "metadata": {},
   "source": [
    "2. Park"
   ]
  },
  {
   "cell_type": "code",
   "execution_count": null,
   "metadata": {},
   "outputs": [],
   "source": [
    "for obj in Phil_only:\n",
    "    if(obj['categories']):\n",
    "        if ('Parks' in obj['categories'].strip().split(',')) or (' Parks' in obj['categories'].strip().split(',')):\n",
    "            identifier = obj['business_id']\n",
    "            if identifier not in seen:\n",
    "                seen.add(identifier)\n",
    "                Phil_attractions.append(obj)\n",
    "print(f'new record: {len(Phil_attractions)}')"
   ]
  },
  {
   "cell_type": "markdown",
   "metadata": {},
   "source": [
    "3.Local Flavor"
   ]
  },
  {
   "cell_type": "code",
   "execution_count": null,
   "metadata": {},
   "outputs": [],
   "source": [
    "for obj in Phil_only:\n",
    "    if(obj['categories']):\n",
    "        if ('Local Flavor' in obj['categories'].strip().split(',')) or (' Local Flavor' in obj['categories'].strip().split(',')):\n",
    "            identifier = obj['business_id']\n",
    "            if identifier not in seen:\n",
    "                seen.add(identifier)\n",
    "                Phil_attractions.append(obj)\n",
    "print(f'new record: {len(Phil_attractions)}')"
   ]
  },
  {
   "cell_type": "markdown",
   "metadata": {},
   "source": [
    "4. Zoo"
   ]
  },
  {
   "cell_type": "code",
   "execution_count": null,
   "metadata": {},
   "outputs": [],
   "source": [
    "for obj in Phil_only:\n",
    "    if(obj['categories']):\n",
    "        if ('Zoos' in obj['categories'].strip().split(',')) or (' Zoos' in obj['categories'].strip().split(',')):\n",
    "            identifier = obj['business_id']\n",
    "            if identifier not in seen:\n",
    "                seen.add(identifier)\n",
    "                Phil_attractions.append(obj)\n",
    "print(f'new record: {len(Phil_attractions)}')"
   ]
  },
  {
   "cell_type": "markdown",
   "metadata": {},
   "source": [
    "5. Tours"
   ]
  },
  {
   "cell_type": "code",
   "execution_count": null,
   "metadata": {},
   "outputs": [],
   "source": [
    "for obj in Phil_only:\n",
    "    if(obj['categories']):\n",
    "        if ('Tours' in obj['categories'].strip().split(',')) or (' Tours' in obj['categories'].strip().split(',')):\n",
    "            identifier = obj['business_id']\n",
    "            if identifier not in seen:\n",
    "                seen.add(identifier)\n",
    "                Phil_attractions.append(obj)\n",
    "print(f'new record: {len(Phil_attractions)}')"
   ]
  },
  {
   "cell_type": "markdown",
   "metadata": {},
   "source": [
    "6. Historical tours"
   ]
  },
  {
   "cell_type": "code",
   "execution_count": null,
   "metadata": {},
   "outputs": [],
   "source": [
    "for obj in Phil_only:\n",
    "    if(obj['categories']):\n",
    "        if ('Historical Tours' in obj['categories'].strip().split(',')) or (' Historical Tours' in obj['categories'].strip().split(',')):\n",
    "            identifier = obj['business_id']\n",
    "            if identifier not in seen:\n",
    "                seen.add(identifier)\n",
    "                Phil_attractions.append(obj)\n",
    "print(f'new record: {len(Phil_attractions)}')"
   ]
  },
  {
   "cell_type": "markdown",
   "metadata": {},
   "source": [
    "7. Landmark and historical buildings"
   ]
  },
  {
   "cell_type": "code",
   "execution_count": null,
   "metadata": {},
   "outputs": [],
   "source": [
    "for obj in Phil_only:\n",
    "    if(obj['categories']):\n",
    "        if ('Landmarks & Historical Buildings' in obj['categories'].strip().split(',')) or (' Landmarks & Historical Buildings' in obj['categories'].strip().split(',')):\n",
    "            identifier = obj['business_id']\n",
    "            if identifier not in seen:\n",
    "                seen.add(identifier)\n",
    "                Phil_attractions.append(obj)\n",
    "print(f'new record: {len(Phil_attractions)}')"
   ]
  },
  {
   "cell_type": "markdown",
   "metadata": {},
   "source": [
    "8. sourvenir shops"
   ]
  },
  {
   "cell_type": "code",
   "execution_count": null,
   "metadata": {},
   "outputs": [],
   "source": [
    "for obj in Phil_only:\n",
    "    if(obj['categories']):\n",
    "        if ('Souvenir Shops' in obj['categories'].strip().split(',')) or (' Souvenir Shops' in obj['categories'].strip().split(',')):\n",
    "            identifier = obj['business_id']\n",
    "            if identifier not in seen:\n",
    "                seen.add(identifier)\n",
    "                Phil_attractions.append(obj)\n",
    "print(f'new record: {len(Phil_attractions)}')"
   ]
  },
  {
   "cell_type": "code",
   "execution_count": 19,
   "metadata": {},
   "outputs": [],
   "source": [
    "with open('Philadelphia_Attractions.jsonl', 'w') as json_file:\n",
    "    for item in Phil_attractions:\n",
    "        json.dump(item, json_file)\n",
    "        json_file.write('\\n') "
   ]
  },
  {
   "cell_type": "markdown",
   "metadata": {},
   "source": [
    "All the reviews"
   ]
  },
  {
   "cell_type": "code",
   "execution_count": 3,
   "metadata": {},
   "outputs": [],
   "source": [
    "json_array = []\n",
    "\n",
    "# Open the file and read it line by line\n",
    "with open('yelp_academic_dataset_review.json', 'r') as file:\n",
    "    for line in file:\n",
    "        # Parse each line as a JSON object and append to the list\n",
    "        json_obj = json.loads(line.strip())  # strip() removes any leading/trailing whitespace\n",
    "        json_array.append(json_obj)"
   ]
  },
  {
   "cell_type": "code",
   "execution_count": null,
   "metadata": {},
   "outputs": [],
   "source": [
    "json_array[0]"
   ]
  },
  {
   "cell_type": "markdown",
   "metadata": {},
   "source": [
    "1. Reviews for Hotels"
   ]
  },
  {
   "cell_type": "code",
   "execution_count": 22,
   "metadata": {},
   "outputs": [],
   "source": [
    "hotel_json_array = []\n",
    "\n",
    "# Open the file and read it line by line\n",
    "with open('Philadelphia_Hotels.jsonl', 'r') as file:\n",
    "    for line in file:\n",
    "        # Parse each line as a JSON object and append to the list\n",
    "        json_obj = json.loads(line.strip())  # strip() removes any leading/trailing whitespace\n",
    "        hotel_json_array.append(json_obj)"
   ]
  },
  {
   "cell_type": "code",
   "execution_count": null,
   "metadata": {},
   "outputs": [],
   "source": [
    "review_json_array = []\n",
    "for hotel in hotel_json_array:\n",
    "    biz_id = hotel['business_id']\n",
    "    for review in json_array:\n",
    "        if review['business_id'] == biz_id:\n",
    "            review_json_array.append(review)"
   ]
  },
  {
   "cell_type": "code",
   "execution_count": 41,
   "metadata": {},
   "outputs": [],
   "source": [
    "with open('Philadelphia_Hotels_Reviews.jsonl', 'w') as json_file:\n",
    "    for item in review_json_array:\n",
    "        json.dump(item, json_file)\n",
    "        json_file.write('\\n') "
   ]
  },
  {
   "cell_type": "markdown",
   "metadata": {},
   "source": [
    "2. Reviews for Attractions"
   ]
  },
  {
   "cell_type": "code",
   "execution_count": 42,
   "metadata": {},
   "outputs": [],
   "source": [
    "attraction_json_array = []\n",
    "\n",
    "# Open the file and read it line by line\n",
    "with open('Philadelphia_Attractions.jsonl', 'r') as file:\n",
    "    for line in file:\n",
    "        # Parse each line as a JSON object and append to the list\n",
    "        json_obj = json.loads(line.strip())  # strip() removes any leading/trailing whitespace\n",
    "        attraction_json_array.append(json_obj)"
   ]
  },
  {
   "cell_type": "code",
   "execution_count": 43,
   "metadata": {},
   "outputs": [],
   "source": [
    "review_json_array = []\n",
    "for attraction in attraction_json_array:\n",
    "    biz_id = attraction['business_id']\n",
    "    for review in json_array:\n",
    "        if review['business_id'] == biz_id:\n",
    "            review_json_array.append(review)"
   ]
  },
  {
   "cell_type": "code",
   "execution_count": 44,
   "metadata": {},
   "outputs": [],
   "source": [
    "with open('Philadelphia_Attractions_Reviews.jsonl', 'w') as json_file:\n",
    "    for item in review_json_array:\n",
    "        json.dump(item, json_file)\n",
    "        json_file.write('\\n') "
   ]
  },
  {
   "cell_type": "markdown",
   "metadata": {},
   "source": [
    "3. Reviews for Restaurants"
   ]
  },
  {
   "cell_type": "code",
   "execution_count": 45,
   "metadata": {},
   "outputs": [],
   "source": [
    "restaurant_json_array = []\n",
    "\n",
    "# Open the file and read it line by line\n",
    "with open('Philadelphia_Restaurants.jsonl', 'r') as file:\n",
    "    for line in file:\n",
    "        # Parse each line as a JSON object and append to the list\n",
    "        json_obj = json.loads(line.strip())  # strip() removes any leading/trailing whitespace\n",
    "        restaurant_json_array.append(json_obj)"
   ]
  },
  {
   "cell_type": "code",
   "execution_count": 46,
   "metadata": {},
   "outputs": [],
   "source": [
    "review_json_array = []\n",
    "for restaurant in restaurant_json_array:\n",
    "    biz_id = restaurant['business_id']\n",
    "    for review in json_array:\n",
    "        if review['business_id'] == biz_id:\n",
    "            review_json_array.append(review)"
   ]
  },
  {
   "cell_type": "code",
   "execution_count": 47,
   "metadata": {},
   "outputs": [],
   "source": [
    "with open('Philadelphia_Restaurants_Reviews.jsonl', 'w') as json_file:\n",
    "    for item in review_json_array:\n",
    "        json.dump(item, json_file)\n",
    "        json_file.write('\\n') "
   ]
  },
  {
   "cell_type": "markdown",
   "metadata": {},
   "source": [
    "Validation of the integrity of the data retrived (if the review counts match)"
   ]
  },
  {
   "cell_type": "code",
   "execution_count": 5,
   "metadata": {},
   "outputs": [],
   "source": [
    "#just to get one review for \"6I_DA3uqOox50rBvjrQ_-g\"\n",
    "review_json_array = []\n",
    "biz_id = '6I_DA3uqOox50rBvjrQ_-g'\n",
    "for review in json_array:\n",
    "    if review['business_id'] == biz_id:\n",
    "        review_json_array.append(review)\n",
    "        break"
   ]
  },
  {
   "cell_type": "code",
   "execution_count": 7,
   "metadata": {},
   "outputs": [],
   "source": [
    "review_json_array[0]"
   ]
  },
  {
   "cell_type": "markdown",
   "metadata": {},
   "source": [
    "Get rid of not open anymore places"
   ]
  },
  {
   "cell_type": "markdown",
   "metadata": {},
   "source": [
    "1. Hotel"
   ]
  },
  {
   "cell_type": "code",
   "execution_count": 2,
   "metadata": {},
   "outputs": [],
   "source": [
    "hotels = []\n",
    "\n",
    "# Open the file and read it line by line\n",
    "with open('Philadelphia_Hotels.jsonl', 'r') as file:\n",
    "    for line in file:\n",
    "        # Parse each line as a JSON object and append to the list\n",
    "        json_obj = json.loads(line.strip())  # strip() removes any leading/trailing whitespace\n",
    "        hotels.append(json_obj)"
   ]
  },
  {
   "cell_type": "code",
   "execution_count": 6,
   "metadata": {},
   "outputs": [],
   "source": [
    "openning_hotels = []\n",
    "\n",
    "for hotel in hotels:\n",
    "    if(hotel['is_open'] == 1):\n",
    "        openning_hotels.append(hotel)\n",
    "len(openning_hotels)\n",
    "\n",
    "#write the cleaned data to a new jsonl file\n",
    "with open('Hotels.jsonl', 'w') as json_file:    \n",
    "    for item in openning_hotels:\n",
    "        json.dump(item, json_file)\n",
    "        json_file.write('\\n')"
   ]
  },
  {
   "cell_type": "code",
   "execution_count": 8,
   "metadata": {},
   "outputs": [],
   "source": [
    "hotel_reviews = []\n",
    "\n",
    "# Open the file and read it line by line\n",
    "with open('Philadelphia_Hotels_Reviews.jsonl', 'r') as file:\n",
    "    for line in file:\n",
    "        # Parse each line as a JSON object and append to the list\n",
    "        json_obj = json.loads(line.strip())  # strip() removes any leading/trailing whitespace\n",
    "        hotel_reviews.append(json_obj)"
   ]
  },
  {
   "cell_type": "code",
   "execution_count": 12,
   "metadata": {},
   "outputs": [],
   "source": [
    "openning_hotels_reviews = []\n",
    "\n",
    "for hotel in openning_hotels:\n",
    "    biz_id = hotel['business_id']\n",
    "    for review in hotel_reviews:\n",
    "        if review['business_id'] == biz_id:\n",
    "            openning_hotels_reviews.append(review)\n",
    "\n",
    "with open('Hotels_Reviews.jsonl', 'w') as json_file:    \n",
    "    for item in openning_hotels_reviews:\n",
    "        json.dump(item, json_file)\n",
    "        json_file.write('\\n')"
   ]
  },
  {
   "cell_type": "markdown",
   "metadata": {},
   "source": [
    "2. Attractions"
   ]
  },
  {
   "cell_type": "code",
   "execution_count": 2,
   "metadata": {},
   "outputs": [],
   "source": [
    "attractions = []\n",
    "\n",
    "# Open the file and read it line by line\n",
    "with open('Philadelphia_Attractions.jsonl', 'r') as file:\n",
    "    for line in file:\n",
    "        # Parse each line as a JSON object and append to the list\n",
    "        json_obj = json.loads(line.strip())  # strip() removes any leading/trailing whitespace\n",
    "        attractions.append(json_obj)"
   ]
  },
  {
   "cell_type": "code",
   "execution_count": 4,
   "metadata": {},
   "outputs": [],
   "source": [
    "openning_attractions = []\n",
    "\n",
    "for attraction in attractions:\n",
    "    if(attraction['is_open'] == 1):\n",
    "        openning_attractions.append(attraction)\n",
    "\n",
    "#write the cleaned data to a new jsonl file\n",
    "with open('Attractions.jsonl', 'w') as json_file:    \n",
    "    for item in openning_attractions:\n",
    "        json.dump(item, json_file)\n",
    "        json_file.write('\\n')"
   ]
  },
  {
   "cell_type": "code",
   "execution_count": 5,
   "metadata": {},
   "outputs": [],
   "source": [
    "attractions_reviews = []\n",
    "\n",
    "# Open the file and read it line by line\n",
    "with open('Philadelphia_Attractions_Reviews.jsonl', 'r') as file:\n",
    "    for line in file:\n",
    "        # Parse each line as a JSON object and append to the list\n",
    "        json_obj = json.loads(line.strip())  # strip() removes any leading/trailing whitespace\n",
    "        attractions_reviews.append(json_obj)"
   ]
  },
  {
   "cell_type": "code",
   "execution_count": 7,
   "metadata": {},
   "outputs": [],
   "source": [
    "openning_attractions_reviews = []\n",
    "\n",
    "for attraction in openning_attractions:\n",
    "    biz_id = attraction['business_id']\n",
    "    for review in attractions_reviews:\n",
    "        if review['business_id'] == biz_id:\n",
    "            openning_attractions_reviews.append(review)\n",
    "\n",
    "with open('Attractions_Reviews.jsonl', 'w') as json_file:    \n",
    "    for item in openning_attractions_reviews:\n",
    "        json.dump(item, json_file)\n",
    "        json_file.write('\\n')"
   ]
  },
  {
   "cell_type": "code",
   "execution_count": null,
   "metadata": {},
   "outputs": [],
   "source": []
  },
  {
   "cell_type": "markdown",
   "metadata": {},
   "source": [
    "3. Restaurants"
   ]
  },
  {
   "cell_type": "markdown",
   "metadata": {},
   "source": []
  },
  {
   "cell_type": "code",
   "execution_count": 3,
   "metadata": {},
   "outputs": [],
   "source": [
    "restaurants = []\n",
    "\n",
    "# Open the file and read it line by line\n",
    "with open('Philadelphia_Restaurants.jsonl', 'r') as file:\n",
    "    for line in file:\n",
    "        # Parse each line as a JSON object and append to the list\n",
    "        json_obj = json.loads(line.strip())  # strip() removes any leading/trailing whitespace\n",
    "        restaurants.append(json_obj)"
   ]
  },
  {
   "cell_type": "code",
   "execution_count": 4,
   "metadata": {},
   "outputs": [],
   "source": [
    "openning_restaurants = []\n",
    "\n",
    "for restaurant in restaurants:\n",
    "    if(restaurant['is_open'] == 1):\n",
    "        openning_restaurants.append(restaurant)\n",
    "\n",
    "#write the cleaned data to a new jsonl file\n",
    "with open('Restaurants.jsonl', 'w') as json_file:    \n",
    "    for item in openning_restaurants:\n",
    "        json.dump(item, json_file)\n",
    "        json_file.write('\\n')"
   ]
  },
  {
   "cell_type": "code",
   "execution_count": 5,
   "metadata": {},
   "outputs": [],
   "source": [
    "restaurants_reviews = []\n",
    "\n",
    "# Open the file and read it line by line\n",
    "with open('Philadelphia_Restaurants_Reviews.jsonl', 'r') as file:\n",
    "    for line in file:\n",
    "        # Parse each line as a JSON object and append to the list\n",
    "        json_obj = json.loads(line.strip())  # strip() removes any leading/trailing whitespace\n",
    "        restaurants_reviews.append(json_obj)"
   ]
  },
  {
   "cell_type": "code",
   "execution_count": 6,
   "metadata": {},
   "outputs": [],
   "source": [
    "openning_restaurants_reviews = []\n",
    "\n",
    "for restaurant in openning_restaurants:\n",
    "    biz_id = restaurant['business_id']\n",
    "    for review in restaurants_reviews:\n",
    "        if review['business_id'] == biz_id:\n",
    "            openning_restaurants_reviews.append(review)\n",
    "\n",
    "with open('Restaurants_Reviews.jsonl', 'w') as json_file:    \n",
    "    for item in openning_restaurants_reviews:\n",
    "        json.dump(item, json_file)\n",
    "        json_file.write('\\n')"
   ]
  },
  {
   "cell_type": "markdown",
   "metadata": {},
   "source": [
    "For restaurants, keep top 1000 review count restaurants"
   ]
  },
  {
   "cell_type": "code",
   "execution_count": 2,
   "metadata": {},
   "outputs": [],
   "source": [
    "restaurants = []\n",
    "\n",
    "# Open the file and read it line by line\n",
    "with open('Datasets/Restaurants.jsonl', 'r') as file:\n",
    "    for line in file:\n",
    "        # Parse each line as a JSON object and append to the list\n",
    "        json_obj = json.loads(line.strip())  # strip() removes any leading/trailing whitespace\n",
    "        restaurants.append(json_obj)"
   ]
  },
  {
   "cell_type": "code",
   "execution_count": 4,
   "metadata": {},
   "outputs": [],
   "source": [
    "#sort restaurants by review count descending\n",
    "sorted_restaurants = sorted(restaurants, key=lambda x: x['review_count'], reverse=True)\n",
    "top_1000 = sorted_restaurants[:1000]\n",
    "#write the cleaned data to a new jsonl file\n",
    "with open('Datasets/Restaurants_top1000.jsonl', 'w') as json_file:    \n",
    "    for item in top_1000:\n",
    "        json.dump(item, json_file)\n",
    "        json_file.write('\\n')"
   ]
  },
  {
   "cell_type": "code",
   "execution_count": 5,
   "metadata": {},
   "outputs": [],
   "source": [
    "#find the reviews for the top 1000 restaurants\n",
    "restaurants_reviews = []\n",
    "\n",
    "# Open the file and read it line by line\n",
    "with open('Datasets/Restaurants_Reviews.jsonl', 'r') as file:\n",
    "    for line in file:\n",
    "        # Parse each line as a JSON object and append to the list\n",
    "        json_obj = json.loads(line.strip())  # strip() removes any leading/trailing whitespace\n",
    "        restaurants_reviews.append(json_obj)\n",
    "\n",
    "top1000_restaurants_reviews = []\n",
    "\n",
    "for restaurant in top_1000:\n",
    "    biz_id = restaurant['business_id']\n",
    "    for review in restaurants_reviews:\n",
    "        if review['business_id'] == biz_id:\n",
    "            top1000_restaurants_reviews.append(review)\n",
    "\n",
    "with open('Datasets/Restaurants_top1000_Reviews.jsonl', 'w') as json_file:    \n",
    "    for item in top1000_restaurants_reviews:\n",
    "        json.dump(item, json_file)\n",
    "        json_file.write('\\n')"
   ]
  },
  {
   "cell_type": "markdown",
   "metadata": {},
   "source": [
    "Combine origial and detail, and clean up uncessray attributes"
   ]
  },
  {
   "cell_type": "code",
   "execution_count": 3,
   "metadata": {},
   "outputs": [],
   "source": [
    "hotels = []\n",
    "\n",
    "# Open the file and read it line by line\n",
    "with open('Datasets/Hotels.jsonl', 'r') as file:\n",
    "    for line in file:\n",
    "        # Parse each line as a JSON object and append to the list\n",
    "        json_obj = json.loads(line.strip())  # strip() removes any leading/trailing whitespace\n",
    "        hotels.append(json_obj)"
   ]
  },
  {
   "cell_type": "code",
   "execution_count": 4,
   "metadata": {},
   "outputs": [],
   "source": [
    "hotels_detail = []\n",
    "\n",
    "# Open the file and read it line by line\n",
    "with open('Datasets/Hotels_detail.jsonl', 'r') as file:\n",
    "    for line in file:\n",
    "        # Parse each line as a JSON object and append to the list\n",
    "        json_obj = json.loads(line.strip())  # strip() removes any leading/trailing whitespace\n",
    "        hotels_detail.append(json_obj)"
   ]
  },
  {
   "cell_type": "code",
   "execution_count": 6,
   "metadata": {},
   "outputs": [],
   "source": [
    "hotel_clean_attributes = ['business_id','name','address','city','stars','review_count']\n",
    "\n",
    "hotel_clean = [{attr: record[attr] for attr in hotel_clean_attributes} for record in hotels]"
   ]
  },
  {
   "cell_type": "code",
   "execution_count": 9,
   "metadata": {},
   "outputs": [],
   "source": [
    "hotel_detail_clean_attributes = ['id','price']\n",
    "\n",
    "hotel_detail_clean = [{attr: record.get(attr) for attr in hotel_detail_clean_attributes} for record in hotels_detail]"
   ]
  },
  {
   "cell_type": "code",
   "execution_count": 11,
   "metadata": {},
   "outputs": [],
   "source": [
    "df1 = pd.DataFrame(hotel_clean)\n",
    "df2 = pd.DataFrame(hotel_detail_clean)"
   ]
  },
  {
   "cell_type": "code",
   "execution_count": null,
   "metadata": {},
   "outputs": [],
   "source": [
    "df2 = df2.rename(columns =  {'id':'business_id'})"
   ]
  },
  {
   "cell_type": "code",
   "execution_count": 13,
   "metadata": {},
   "outputs": [
    {
     "data": {
      "text/plain": [
       "107"
      ]
     },
     "execution_count": 13,
     "metadata": {},
     "output_type": "execute_result"
    }
   ],
   "source": [
    "merged_df = pd.merge(df1, df2, on='business_id', how='outer')\n",
    "merged_array = merged_df.to_dict('records')\n",
    "len(merged_array)"
   ]
  },
  {
   "cell_type": "code",
   "execution_count": 14,
   "metadata": {},
   "outputs": [],
   "source": [
    "with open('Datasets/Hotels_pruned.jsonl', 'w') as json_file:    \n",
    "    for item in merged_array:\n",
    "        json.dump(item, json_file)\n",
    "        json_file.write('\\n')"
   ]
  },
  {
   "cell_type": "markdown",
   "metadata": {},
   "source": [
    "Attractions"
   ]
  },
  {
   "cell_type": "code",
   "execution_count": 19,
   "metadata": {},
   "outputs": [],
   "source": [
    "attractions = []\n",
    "\n",
    "# Open the file and read it line by line\n",
    "with open('Datasets/Attractions.jsonl', 'r') as file:\n",
    "    for line in file:\n",
    "        # Parse each line as a JSON object and append to the list\n",
    "        json_obj = json.loads(line.strip())  # strip() removes any leading/trailing whitespace\n",
    "        attractions.append(json_obj)"
   ]
  },
  {
   "cell_type": "code",
   "execution_count": 20,
   "metadata": {},
   "outputs": [],
   "source": [
    "attraction_attr = ['business_id','name','address','city','stars','review_count','categories','hours']\n",
    "\n",
    "\n",
    "attraction_clean=[{attr:record.get(attr) for attr in attraction_attr}for record in attractions]"
   ]
  },
  {
   "cell_type": "code",
   "execution_count": 22,
   "metadata": {},
   "outputs": [],
   "source": [
    "attractions_detail = []\n",
    "\n",
    "# Open the file and read it line by line\n",
    "with open('Datasets/Attractions_detail.jsonl', 'r') as file:\n",
    "    for line in file:\n",
    "        # Parse each line as a JSON object and append to the list\n",
    "        json_obj = json.loads(line.strip())  # strip() removes any leading/trailing whitespace\n",
    "        attractions_detail.append(json_obj)"
   ]
  },
  {
   "cell_type": "code",
   "execution_count": 23,
   "metadata": {},
   "outputs": [],
   "source": [
    "attractions_detail_attr = ['id','price']\n",
    "attraction_detail_clean=[{attr:record.get(attr) for attr in attractions_detail_attr}for record in attractions_detail]"
   ]
  },
  {
   "cell_type": "code",
   "execution_count": 24,
   "metadata": {},
   "outputs": [],
   "source": [
    "df1 = pd.DataFrame(attraction_clean)\n",
    "df2 = pd.DataFrame(attraction_detail_clean)"
   ]
  },
  {
   "cell_type": "code",
   "execution_count": 25,
   "metadata": {},
   "outputs": [],
   "source": [
    "df2 = df2.rename(columns =  {'id':'business_id'})"
   ]
  },
  {
   "cell_type": "code",
   "execution_count": 26,
   "metadata": {},
   "outputs": [
    {
     "data": {
      "text/plain": [
       "347"
      ]
     },
     "execution_count": 26,
     "metadata": {},
     "output_type": "execute_result"
    }
   ],
   "source": [
    "merged_df = pd.merge(df1, df2, on='business_id', how='outer')\n",
    "merged_array = merged_df.to_dict('records')\n",
    "len(merged_array)"
   ]
  },
  {
   "cell_type": "code",
   "execution_count": 27,
   "metadata": {},
   "outputs": [],
   "source": [
    "with open('Datasets/Attractions_pruned.jsonl', 'w') as json_file:    \n",
    "    for item in merged_array:\n",
    "        json.dump(item, json_file)\n",
    "        json_file.write('\\n')"
   ]
  },
  {
   "cell_type": "markdown",
   "metadata": {},
   "source": [
    "Restaurants"
   ]
  },
  {
   "cell_type": "code",
   "execution_count": 40,
   "metadata": {},
   "outputs": [],
   "source": [
    "restaurants = []\n",
    "\n",
    "# Open the file and read it line by line\n",
    "with open('Datasets/Restaurants_top1000.jsonl', 'r') as file:\n",
    "    for line in file:\n",
    "        # Parse each line as a JSON object and append to the list\n",
    "        json_obj = json.loads(line.strip())  # strip() removes any leading/trailing whitespace\n",
    "        restaurants.append(json_obj)"
   ]
  },
  {
   "cell_type": "code",
   "execution_count": 41,
   "metadata": {},
   "outputs": [],
   "source": [
    "restaurants_attr = ['business_id','name','address','city','stars','review_count','good_for_meal','categories']\n",
    "#also want the GoodForMeal in attributes\n",
    "for record in restaurants:\n",
    "    record['good_for_meal'] = record.get('attributes', {}).get('GoodForMeal', \"None\")"
   ]
  },
  {
   "cell_type": "code",
   "execution_count": 42,
   "metadata": {},
   "outputs": [],
   "source": [
    "restaurants_clean = [{attr:record.get(attr) for attr in restaurants_attr}for record in restaurants]"
   ]
  },
  {
   "cell_type": "code",
   "execution_count": 43,
   "metadata": {},
   "outputs": [],
   "source": [
    "restaurants_detail = []\n",
    "\n",
    "# Open the file and read it line by line\n",
    "with open('Datasets/Restaurants_top1000_detail.jsonl', 'r') as file:\n",
    "    for line in file:\n",
    "        # Parse each line as a JSON object and append to the list\n",
    "        json_obj = json.loads(line.strip())  # strip() removes any leading/trailing whitespace\n",
    "        restaurants_detail.append(json_obj)"
   ]
  },
  {
   "cell_type": "code",
   "execution_count": 44,
   "metadata": {},
   "outputs": [],
   "source": [
    "restaurants_detail_attr = ['id','price']\n",
    "restaurants_detail_clean=[{attr:record.get(attr) for attr in restaurants_detail_attr}for record in restaurants_detail]"
   ]
  },
  {
   "cell_type": "code",
   "execution_count": 45,
   "metadata": {},
   "outputs": [],
   "source": [
    "df1 = pd.DataFrame(restaurants_clean)\n",
    "df2 = pd.DataFrame(restaurants_detail_clean)\n",
    "df2 = df2.rename(columns =  {'id':'business_id'})\n",
    "merged_df = pd.merge(df1, df2, on='business_id', how='outer')\n",
    "merged_array = merged_df.to_dict('records')"
   ]
  },
  {
   "cell_type": "code",
   "execution_count": 46,
   "metadata": {},
   "outputs": [],
   "source": [
    "with open('Datasets/Restaurants_pruned.jsonl', 'w') as json_file:    \n",
    "    for item in merged_array:\n",
    "        json.dump(item, json_file)\n",
    "        json_file.write('\\n')"
   ]
  },
  {
   "cell_type": "markdown",
   "metadata": {},
   "source": [
    "process restaurants, mainly open up good for meal attribute"
   ]
  },
  {
   "cell_type": "code",
   "execution_count": 50,
   "metadata": {},
   "outputs": [],
   "source": [
    "restaurants = []\n",
    "\n",
    "# Open the file and read it line by line\n",
    "with open('Datasets/Restaurants_pruned.jsonl', 'r') as file:\n",
    "    for line in file:\n",
    "        # Parse each line as a JSON object and append to the list\n",
    "        json_obj = json.loads(line.strip())  # strip() removes any leading/trailing whitespace\n",
    "        restaurants.append(json_obj)"
   ]
  },
  {
   "cell_type": "code",
   "execution_count": 51,
   "metadata": {},
   "outputs": [],
   "source": [
    "checkedAttr = ['dessert', 'latenight', 'lunch', 'dinner', 'brunch', 'breakfast']\n",
    "\n",
    "for record in restaurants:\n",
    "    processed = ''\n",
    "    if(record.get('good_for_meal') != 'None'):\n",
    "        invlid_json = record['good_for_meal']\n",
    "        valid_json = invlid_json.replace(\"u'\", \"'\").replace(\"'\", '\"').replace(\"None\", \"null\").replace(\"True\", \"true\").replace(\"False\", \"false\")\n",
    "        json_obj = json.loads(valid_json)\n",
    "        for attr in checkedAttr:\n",
    "            if json_obj.get(attr) == True:\n",
    "                processed = ', '.join([processed, attr])\n",
    "        record['good_for_meal'] = processed[2:]\n",
    "    else:\n",
    "        record['good_for_meal'] = 'Unknown'"
   ]
  },
  {
   "cell_type": "code",
   "execution_count": 53,
   "metadata": {},
   "outputs": [],
   "source": [
    "with open('Datasets/Restaurants_pruned.jsonl', 'w') as json_file:    \n",
    "    for item in restaurants:\n",
    "        json.dump(item, json_file)\n",
    "        json_file.write('\\n')"
   ]
  },
  {
   "cell_type": "markdown",
   "metadata": {},
   "source": [
    "Post process:\n",
    "1. process price level, turn 'None' into 'No Price info'"
   ]
  },
  {
   "cell_type": "code",
   "execution_count": 12,
   "metadata": {},
   "outputs": [],
   "source": [
    "hotels = []\n",
    "\n",
    "# Open the file and read it line by line\n",
    "with open('Datasets/Hotels_pruned.jsonl', 'r') as file:\n",
    "    for line in file:\n",
    "        # Parse each line as a JSON object and append to the list\n",
    "        json_obj = json.loads(line.strip())  # strip() removes any leading/trailing whitespace\n",
    "        hotels.append(json_obj)"
   ]
  },
  {
   "cell_type": "code",
   "execution_count": 14,
   "metadata": {},
   "outputs": [],
   "source": [
    "hotels_new = []\n",
    "for hotel in hotels:\n",
    "    if hotel['price'] == None:\n",
    "        hotel['price'] = 'Unknown price'\n",
    "    hotels_new.append(hotel)\n",
    "\n",
    "#write into jsonl file\n",
    "with open('Datasets/Hotels_pruned.jsonl', 'w') as json_file:    \n",
    "    for item in hotels_new:\n",
    "        json.dump(item, json_file)\n",
    "        json_file.write('\\n')"
   ]
  },
  {
   "cell_type": "code",
   "execution_count": 60,
   "metadata": {},
   "outputs": [],
   "source": [
    "attractions = []\n",
    "\n",
    "# Open the file and read it line by line\n",
    "with open('Datasets/Attractions_pruned.jsonl', 'r') as file:\n",
    "    for line in file:\n",
    "        # Parse each line as a JSON object and append to the list\n",
    "        json_obj = json.loads(line.strip())  # strip() removes any leading/trailing whitespace\n",
    "        attractions.append(json_obj)"
   ]
  },
  {
   "cell_type": "code",
   "execution_count": 61,
   "metadata": {},
   "outputs": [],
   "source": [
    "# address = \"\", hour = null, price = null\n",
    "attractions_new = []\n",
    "\n",
    "for record in attractions:\n",
    "    if record.get('address') == \"\":\n",
    "        record['address'] = 'Unknown address'\n",
    "    if record.get('hours') == None:\n",
    "        record['hours'] = 'Unknown hours'\n",
    "    if record.get('price') == None:\n",
    "        record['price'] = 'Unknown price'\n",
    "    attractions_new.append(record)"
   ]
  },
  {
   "cell_type": "code",
   "execution_count": 62,
   "metadata": {},
   "outputs": [],
   "source": [
    "with open('Datasets/Attractions_pruned.jsonl', 'w') as json_file:    \n",
    "    for item in attractions_new:\n",
    "        json.dump(item, json_file)\n",
    "        json_file.write('\\n')"
   ]
  },
  {
   "cell_type": "code",
   "execution_count": 63,
   "metadata": {},
   "outputs": [],
   "source": [
    "restaurants = []\n",
    "\n",
    "# Open the file and read it line by line\n",
    "with open('Datasets/Restaurants_pruned.jsonl', 'r') as file:\n",
    "    for line in file:\n",
    "        # Parse each line as a JSON object and append to the list\n",
    "        json_obj = json.loads(line.strip())  # strip() removes any leading/trailing whitespace\n",
    "        restaurants.append(json_obj)"
   ]
  },
  {
   "cell_type": "code",
   "execution_count": 64,
   "metadata": {},
   "outputs": [],
   "source": [
    "#\"address\": \"\"; \"price\": null; \"good_for_meal\": \"\";\n",
    "restaurants_new = []\n",
    "\n",
    "for record in restaurants:\n",
    "    if record.get('address') == \"\":\n",
    "        record['address'] = 'Unknown address'\n",
    "    if record.get('price') == None:\n",
    "        record['price'] = 'Unknown price'\n",
    "    if record.get('good_for_meal') == \"\":\n",
    "        record['good_for_meal'] = 'Unknown'\n",
    "    restaurants_new.append(record)"
   ]
  },
  {
   "cell_type": "code",
   "execution_count": 65,
   "metadata": {},
   "outputs": [],
   "source": [
    "with open('Datasets/Restaurants_pruned_test.jsonl', 'w') as json_file:    \n",
    "    for item in restaurants_new:\n",
    "        json.dump(item, json_file)\n",
    "        json_file.write('\\n')"
   ]
  },
  {
   "cell_type": "markdown",
   "metadata": {},
   "source": [
    "All pruned together"
   ]
  },
  {
   "cell_type": "code",
   "execution_count": 2,
   "metadata": {},
   "outputs": [],
   "source": [
    "import json\n",
    "\n",
    "all = []\n",
    "\n",
    "# Open the file and read it line by line\n",
    "with open('Datasets/Restaurants_pruned.jsonl', 'r') as file:\n",
    "    for line in file:\n",
    "        # Parse each line as a JSON object and append to the list\n",
    "        json_obj = json.loads(line.strip())  # strip() removes any leading/trailing whitespace\n",
    "        all.append(json_obj)\n",
    "\n",
    "# Open the file and read it line by line\n",
    "with open('Datasets/Hotels_pruned.jsonl', 'r') as file:\n",
    "    for line in file:\n",
    "        # Parse each line as a JSON object and append to the list\n",
    "        json_obj = json.loads(line.strip())  # strip() removes any leading/trailing whitespace\n",
    "        all.append(json_obj)\n",
    "\n",
    "# Open the file and read it line by line\n",
    "with open('Datasets/Attractions_pruned.jsonl', 'r') as file:\n",
    "    for line in file:\n",
    "        # Parse each line as a JSON object and append to the list\n",
    "        json_obj = json.loads(line.strip())  # strip() removes any leading/trailing whitespace\n",
    "        all.append(json_obj)\n",
    "\n",
    "with open('Datasets/all_pruned.jsonl', 'w') as json_file:    \n",
    "    for item in all:\n",
    "        json.dump(item, json_file)\n",
    "        json_file.write('\\n')"
   ]
  },
  {
   "cell_type": "markdown",
   "metadata": {},
   "source": [
    "Drop duplicates in all_pruned for testing purpose, the duplicate not from error, just same business both collected as attraction and restaurants."
   ]
  },
  {
   "cell_type": "code",
   "execution_count": null,
   "metadata": {},
   "outputs": [
    {
     "ename": "",
     "evalue": "",
     "output_type": "error",
     "traceback": [
      "\u001b[1;31mThe Kernel crashed while executing code in the current cell or a previous cell. \n",
      "\u001b[1;31mPlease review the code in the cell(s) to identify a possible cause of the failure. \n",
      "\u001b[1;31mClick <a href='https://aka.ms/vscodeJupyterKernelCrash'>here</a> for more info. \n",
      "\u001b[1;31mView Jupyter <a href='command:jupyter.viewOutput'>log</a> for further details."
     ]
    }
   ],
   "source": [
    "#drop duplicates in all_pruned.jsonl\n",
    "\n",
    "import json\n",
    "import pandas as pd\n",
    "\n",
    "all = []\n",
    "\n",
    "#load all_pruned.jsonl into a list of dictionaries\n",
    "with open('Datasets/all_pruned.jsonl', 'r') as file:\n",
    "    for line in file:\n",
    "        # Parse each line as a JSON object and append to the list\n",
    "        json_obj = json.loads(line.strip())  # strip() removes any leading/trailing whitespace\n",
    "        all.append(json_obj)\n",
    "\n",
    "df = pd.DataFrame(all)\n",
    "#drop duplicates in df based on business_id\n",
    "df = df.drop_duplicates(subset='business_id', keep='first')\n",
    "\n",
    "#write into jsonl file\n",
    "with open('Datasets/all_pruned.jsonl', 'w') as json_file:    \n",
    "    for item in df.to_dict('records'):\n",
    "        json.dump(item, json_file)\n",
    "        json_file.write('\\n')\n"
   ]
  },
  {
   "cell_type": "markdown",
   "metadata": {},
   "source": [
    "Create CSV"
   ]
  },
  {
   "cell_type": "markdown",
   "metadata": {},
   "source": [
    "Restaurants"
   ]
  },
  {
   "cell_type": "code",
   "execution_count": 1,
   "metadata": {},
   "outputs": [
    {
     "data": {
      "text/html": [
       "<div>\n",
       "<style scoped>\n",
       "    .dataframe tbody tr th:only-of-type {\n",
       "        vertical-align: middle;\n",
       "    }\n",
       "\n",
       "    .dataframe tbody tr th {\n",
       "        vertical-align: top;\n",
       "    }\n",
       "\n",
       "    .dataframe thead th {\n",
       "        text-align: right;\n",
       "    }\n",
       "</style>\n",
       "<table border=\"1\" class=\"dataframe\">\n",
       "  <thead>\n",
       "    <tr style=\"text-align: right;\">\n",
       "      <th></th>\n",
       "      <th>business_id</th>\n",
       "      <th>name</th>\n",
       "      <th>address</th>\n",
       "      <th>latitude</th>\n",
       "      <th>longitude</th>\n",
       "      <th>stars</th>\n",
       "      <th>good_for_meal</th>\n",
       "      <th>price</th>\n",
       "      <th>restaurant_type_1</th>\n",
       "      <th>restaurant_type_2</th>\n",
       "      <th>cuisine_1</th>\n",
       "      <th>cuisine_2</th>\n",
       "      <th>perks</th>\n",
       "      <th>flavor</th>\n",
       "      <th>freshness</th>\n",
       "      <th>healthy</th>\n",
       "      <th>service</th>\n",
       "      <th>enviornment</th>\n",
       "      <th>value</th>\n",
       "    </tr>\n",
       "  </thead>\n",
       "  <tbody>\n",
       "    <tr>\n",
       "      <th>0</th>\n",
       "      <td>wuH4TPUo8oJo4E59xZKsNg</td>\n",
       "      <td>&amp;pizza - Walnut</td>\n",
       "      <td>430 Walnut St</td>\n",
       "      <td>39.949207</td>\n",
       "      <td>-75.165920</td>\n",
       "      <td>4.5</td>\n",
       "      <td>latenight, lunch, dinner</td>\n",
       "      <td>$$</td>\n",
       "      <td>Restaurants</td>\n",
       "      <td>Not Applicable</td>\n",
       "      <td>Pizza</td>\n",
       "      <td>Vegetarian</td>\n",
       "      <td>Vegan</td>\n",
       "      <td>good flavor</td>\n",
       "      <td>excellent freshness</td>\n",
       "      <td>good healthy</td>\n",
       "      <td>average service</td>\n",
       "      <td>good enviornment</td>\n",
       "      <td>good value</td>\n",
       "    </tr>\n",
       "    <tr>\n",
       "      <th>1</th>\n",
       "      <td>rVGxva6cx2eID4ghDLVHJg</td>\n",
       "      <td>1225Raw Sushi and Sake Lounge</td>\n",
       "      <td>1225 Sansom St</td>\n",
       "      <td>39.949849</td>\n",
       "      <td>-75.161549</td>\n",
       "      <td>3.5</td>\n",
       "      <td>dinner</td>\n",
       "      <td>$$</td>\n",
       "      <td>Restaurants</td>\n",
       "      <td>Sushi Bars</td>\n",
       "      <td>Japanese</td>\n",
       "      <td>Korean</td>\n",
       "      <td>Not Applicable</td>\n",
       "      <td>average flavor</td>\n",
       "      <td>average freshness</td>\n",
       "      <td>average healthy</td>\n",
       "      <td>below average service</td>\n",
       "      <td>good enviornment</td>\n",
       "      <td>below average value</td>\n",
       "    </tr>\n",
       "    <tr>\n",
       "      <th>2</th>\n",
       "      <td>r4eDzodjjoxk79ydS7V67Q</td>\n",
       "      <td>1518 Bar &amp; Grill</td>\n",
       "      <td>1518 Sansom St</td>\n",
       "      <td>39.950198</td>\n",
       "      <td>-75.166639</td>\n",
       "      <td>4.0</td>\n",
       "      <td>lunch</td>\n",
       "      <td>$$</td>\n",
       "      <td>Restaurants</td>\n",
       "      <td>Bars</td>\n",
       "      <td>American (New)</td>\n",
       "      <td>American (Traditional)</td>\n",
       "      <td>Cocktail Bars</td>\n",
       "      <td>average flavor</td>\n",
       "      <td>average freshness</td>\n",
       "      <td>average healthy</td>\n",
       "      <td>average service</td>\n",
       "      <td>average enviornment</td>\n",
       "      <td>good value</td>\n",
       "    </tr>\n",
       "    <tr>\n",
       "      <th>3</th>\n",
       "      <td>jEasa4Sbzy4NdLyzPPgQyg</td>\n",
       "      <td>2nd Story Brewing</td>\n",
       "      <td>117 Chestnut St</td>\n",
       "      <td>39.948474</td>\n",
       "      <td>-75.143556</td>\n",
       "      <td>4.0</td>\n",
       "      <td>latenight, lunch, dinner</td>\n",
       "      <td>$$</td>\n",
       "      <td>Restaurants</td>\n",
       "      <td>Bars</td>\n",
       "      <td>American (New)</td>\n",
       "      <td>Not Applicable</td>\n",
       "      <td>Breweries</td>\n",
       "      <td>good flavor</td>\n",
       "      <td>good freshness</td>\n",
       "      <td>average healthy</td>\n",
       "      <td>average service</td>\n",
       "      <td>good enviornment</td>\n",
       "      <td>good value</td>\n",
       "    </tr>\n",
       "    <tr>\n",
       "      <th>4</th>\n",
       "      <td>KYPhGJIibu_7ePIX4HNs6A</td>\n",
       "      <td>48th Street Grille</td>\n",
       "      <td>310 S 48th St</td>\n",
       "      <td>39.953137</td>\n",
       "      <td>-75.218661</td>\n",
       "      <td>4.5</td>\n",
       "      <td>lunch, dinner</td>\n",
       "      <td>$$</td>\n",
       "      <td>Restaurants</td>\n",
       "      <td>Cafes</td>\n",
       "      <td>American (New)</td>\n",
       "      <td>Seafood</td>\n",
       "      <td>Chicken Wings</td>\n",
       "      <td>good flavor</td>\n",
       "      <td>good freshness</td>\n",
       "      <td>average healthy</td>\n",
       "      <td>average service</td>\n",
       "      <td>good enviornment</td>\n",
       "      <td>average value</td>\n",
       "    </tr>\n",
       "  </tbody>\n",
       "</table>\n",
       "</div>"
      ],
      "text/plain": [
       "              business_id                           name          address  \\\n",
       "0  wuH4TPUo8oJo4E59xZKsNg                &pizza - Walnut    430 Walnut St   \n",
       "1  rVGxva6cx2eID4ghDLVHJg  1225Raw Sushi and Sake Lounge   1225 Sansom St   \n",
       "2  r4eDzodjjoxk79ydS7V67Q               1518 Bar & Grill   1518 Sansom St   \n",
       "3  jEasa4Sbzy4NdLyzPPgQyg              2nd Story Brewing  117 Chestnut St   \n",
       "4  KYPhGJIibu_7ePIX4HNs6A             48th Street Grille    310 S 48th St   \n",
       "\n",
       "    latitude  longitude  stars             good_for_meal price  \\\n",
       "0  39.949207 -75.165920    4.5  latenight, lunch, dinner    $$   \n",
       "1  39.949849 -75.161549    3.5                    dinner    $$   \n",
       "2  39.950198 -75.166639    4.0                     lunch    $$   \n",
       "3  39.948474 -75.143556    4.0  latenight, lunch, dinner    $$   \n",
       "4  39.953137 -75.218661    4.5             lunch, dinner    $$   \n",
       "\n",
       "  restaurant_type_1 restaurant_type_2       cuisine_1               cuisine_2  \\\n",
       "0       Restaurants    Not Applicable           Pizza              Vegetarian   \n",
       "1       Restaurants        Sushi Bars        Japanese                  Korean   \n",
       "2       Restaurants              Bars  American (New)  American (Traditional)   \n",
       "3       Restaurants              Bars  American (New)          Not Applicable   \n",
       "4       Restaurants             Cafes  American (New)                 Seafood   \n",
       "\n",
       "            perks          flavor            freshness          healthy  \\\n",
       "0           Vegan     good flavor  excellent freshness     good healthy   \n",
       "1  Not Applicable  average flavor    average freshness  average healthy   \n",
       "2   Cocktail Bars  average flavor    average freshness  average healthy   \n",
       "3       Breweries     good flavor       good freshness  average healthy   \n",
       "4   Chicken Wings     good flavor       good freshness  average healthy   \n",
       "\n",
       "                 service          enviornment                value  \n",
       "0        average service     good enviornment           good value  \n",
       "1  below average service     good enviornment  below average value  \n",
       "2        average service  average enviornment           good value  \n",
       "3        average service     good enviornment           good value  \n",
       "4        average service     good enviornment        average value  "
      ]
     },
     "execution_count": 1,
     "metadata": {},
     "output_type": "execute_result"
    }
   ],
   "source": [
    "import json\n",
    "import pandas as pd\n",
    "\n",
    "data = []\n",
    "with open('Datasets/Restaurants_task1.jsonl', 'r') as f:\n",
    "    for line in f:\n",
    "        data.append(json.loads(line))\n",
    "\n",
    "df = pd.DataFrame(data)\n",
    "df.head()"
   ]
  },
  {
   "cell_type": "code",
   "execution_count": 2,
   "metadata": {},
   "outputs": [
    {
     "data": {
      "text/html": [
       "<div>\n",
       "<style scoped>\n",
       "    .dataframe tbody tr th:only-of-type {\n",
       "        vertical-align: middle;\n",
       "    }\n",
       "\n",
       "    .dataframe tbody tr th {\n",
       "        vertical-align: top;\n",
       "    }\n",
       "\n",
       "    .dataframe thead th {\n",
       "        text-align: right;\n",
       "    }\n",
       "</style>\n",
       "<table border=\"1\" class=\"dataframe\">\n",
       "  <thead>\n",
       "    <tr style=\"text-align: right;\">\n",
       "      <th></th>\n",
       "      <th>name</th>\n",
       "      <th>address</th>\n",
       "      <th>latitude</th>\n",
       "      <th>longitude</th>\n",
       "      <th>stars</th>\n",
       "      <th>good_for_meal</th>\n",
       "      <th>price</th>\n",
       "      <th>restaurant_type_1</th>\n",
       "      <th>restaurant_type_2</th>\n",
       "      <th>cuisine_1</th>\n",
       "      <th>cuisine_2</th>\n",
       "      <th>perks</th>\n",
       "      <th>flavor</th>\n",
       "      <th>freshness</th>\n",
       "      <th>healthy</th>\n",
       "      <th>service</th>\n",
       "      <th>enviornment</th>\n",
       "      <th>value</th>\n",
       "    </tr>\n",
       "  </thead>\n",
       "  <tbody>\n",
       "    <tr>\n",
       "      <th>0</th>\n",
       "      <td>&amp;pizza - Walnut</td>\n",
       "      <td>430 Walnut St</td>\n",
       "      <td>39.949207</td>\n",
       "      <td>-75.165920</td>\n",
       "      <td>4.5</td>\n",
       "      <td>latenight, lunch, dinner</td>\n",
       "      <td>$$</td>\n",
       "      <td>Restaurants</td>\n",
       "      <td>Not Applicable</td>\n",
       "      <td>Pizza</td>\n",
       "      <td>Vegetarian</td>\n",
       "      <td>Vegan</td>\n",
       "      <td>good flavor</td>\n",
       "      <td>excellent freshness</td>\n",
       "      <td>good healthy</td>\n",
       "      <td>average service</td>\n",
       "      <td>good enviornment</td>\n",
       "      <td>good value</td>\n",
       "    </tr>\n",
       "    <tr>\n",
       "      <th>1</th>\n",
       "      <td>1225Raw Sushi and Sake Lounge</td>\n",
       "      <td>1225 Sansom St</td>\n",
       "      <td>39.949849</td>\n",
       "      <td>-75.161549</td>\n",
       "      <td>3.5</td>\n",
       "      <td>dinner</td>\n",
       "      <td>$$</td>\n",
       "      <td>Restaurants</td>\n",
       "      <td>Sushi Bars</td>\n",
       "      <td>Japanese</td>\n",
       "      <td>Korean</td>\n",
       "      <td>Not Applicable</td>\n",
       "      <td>average flavor</td>\n",
       "      <td>average freshness</td>\n",
       "      <td>average healthy</td>\n",
       "      <td>below average service</td>\n",
       "      <td>good enviornment</td>\n",
       "      <td>below average value</td>\n",
       "    </tr>\n",
       "    <tr>\n",
       "      <th>2</th>\n",
       "      <td>1518 Bar &amp; Grill</td>\n",
       "      <td>1518 Sansom St</td>\n",
       "      <td>39.950198</td>\n",
       "      <td>-75.166639</td>\n",
       "      <td>4.0</td>\n",
       "      <td>lunch</td>\n",
       "      <td>$$</td>\n",
       "      <td>Restaurants</td>\n",
       "      <td>Bars</td>\n",
       "      <td>American (New)</td>\n",
       "      <td>American (Traditional)</td>\n",
       "      <td>Cocktail Bars</td>\n",
       "      <td>average flavor</td>\n",
       "      <td>average freshness</td>\n",
       "      <td>average healthy</td>\n",
       "      <td>average service</td>\n",
       "      <td>average enviornment</td>\n",
       "      <td>good value</td>\n",
       "    </tr>\n",
       "    <tr>\n",
       "      <th>3</th>\n",
       "      <td>2nd Story Brewing</td>\n",
       "      <td>117 Chestnut St</td>\n",
       "      <td>39.948474</td>\n",
       "      <td>-75.143556</td>\n",
       "      <td>4.0</td>\n",
       "      <td>latenight, lunch, dinner</td>\n",
       "      <td>$$</td>\n",
       "      <td>Restaurants</td>\n",
       "      <td>Bars</td>\n",
       "      <td>American (New)</td>\n",
       "      <td>Not Applicable</td>\n",
       "      <td>Breweries</td>\n",
       "      <td>good flavor</td>\n",
       "      <td>good freshness</td>\n",
       "      <td>average healthy</td>\n",
       "      <td>average service</td>\n",
       "      <td>good enviornment</td>\n",
       "      <td>good value</td>\n",
       "    </tr>\n",
       "    <tr>\n",
       "      <th>4</th>\n",
       "      <td>48th Street Grille</td>\n",
       "      <td>310 S 48th St</td>\n",
       "      <td>39.953137</td>\n",
       "      <td>-75.218661</td>\n",
       "      <td>4.5</td>\n",
       "      <td>lunch, dinner</td>\n",
       "      <td>$$</td>\n",
       "      <td>Restaurants</td>\n",
       "      <td>Cafes</td>\n",
       "      <td>American (New)</td>\n",
       "      <td>Seafood</td>\n",
       "      <td>Chicken Wings</td>\n",
       "      <td>good flavor</td>\n",
       "      <td>good freshness</td>\n",
       "      <td>average healthy</td>\n",
       "      <td>average service</td>\n",
       "      <td>good enviornment</td>\n",
       "      <td>average value</td>\n",
       "    </tr>\n",
       "  </tbody>\n",
       "</table>\n",
       "</div>"
      ],
      "text/plain": [
       "                            name          address   latitude  longitude  \\\n",
       "0                &pizza - Walnut    430 Walnut St  39.949207 -75.165920   \n",
       "1  1225Raw Sushi and Sake Lounge   1225 Sansom St  39.949849 -75.161549   \n",
       "2               1518 Bar & Grill   1518 Sansom St  39.950198 -75.166639   \n",
       "3              2nd Story Brewing  117 Chestnut St  39.948474 -75.143556   \n",
       "4             48th Street Grille    310 S 48th St  39.953137 -75.218661   \n",
       "\n",
       "   stars             good_for_meal price restaurant_type_1 restaurant_type_2  \\\n",
       "0    4.5  latenight, lunch, dinner    $$       Restaurants    Not Applicable   \n",
       "1    3.5                    dinner    $$       Restaurants        Sushi Bars   \n",
       "2    4.0                     lunch    $$       Restaurants              Bars   \n",
       "3    4.0  latenight, lunch, dinner    $$       Restaurants              Bars   \n",
       "4    4.5             lunch, dinner    $$       Restaurants             Cafes   \n",
       "\n",
       "        cuisine_1               cuisine_2           perks          flavor  \\\n",
       "0           Pizza              Vegetarian           Vegan     good flavor   \n",
       "1        Japanese                  Korean  Not Applicable  average flavor   \n",
       "2  American (New)  American (Traditional)   Cocktail Bars  average flavor   \n",
       "3  American (New)          Not Applicable       Breweries     good flavor   \n",
       "4  American (New)                 Seafood   Chicken Wings     good flavor   \n",
       "\n",
       "             freshness          healthy                service  \\\n",
       "0  excellent freshness     good healthy        average service   \n",
       "1    average freshness  average healthy  below average service   \n",
       "2    average freshness  average healthy        average service   \n",
       "3       good freshness  average healthy        average service   \n",
       "4       good freshness  average healthy        average service   \n",
       "\n",
       "           enviornment                value  \n",
       "0     good enviornment           good value  \n",
       "1     good enviornment  below average value  \n",
       "2  average enviornment           good value  \n",
       "3     good enviornment           good value  \n",
       "4     good enviornment        average value  "
      ]
     },
     "execution_count": 2,
     "metadata": {},
     "output_type": "execute_result"
    }
   ],
   "source": [
    "df = df.loc[:, ['name', 'address', 'latitude','longitude', 'stars', 'good_for_meal', 'price', 'restaurant_type_1','restaurant_type_2','cuisine_1','cuisine_2','perks','flavor','freshness','healthy','service','enviornment','value']]\n",
    "df.head()"
   ]
  },
  {
   "cell_type": "code",
   "execution_count": 3,
   "metadata": {},
   "outputs": [],
   "source": [
    "df.to_csv('Datasets/Restaurants_task1.csv', index=False)"
   ]
  },
  {
   "cell_type": "markdown",
   "metadata": {},
   "source": [
    "Hotels"
   ]
  },
  {
   "cell_type": "code",
   "execution_count": 4,
   "metadata": {},
   "outputs": [
    {
     "data": {
      "text/html": [
       "<div>\n",
       "<style scoped>\n",
       "    .dataframe tbody tr th:only-of-type {\n",
       "        vertical-align: middle;\n",
       "    }\n",
       "\n",
       "    .dataframe tbody tr th {\n",
       "        vertical-align: top;\n",
       "    }\n",
       "\n",
       "    .dataframe thead th {\n",
       "        text-align: right;\n",
       "    }\n",
       "</style>\n",
       "<table border=\"1\" class=\"dataframe\">\n",
       "  <thead>\n",
       "    <tr style=\"text-align: right;\">\n",
       "      <th></th>\n",
       "      <th>business_id</th>\n",
       "      <th>name</th>\n",
       "      <th>address</th>\n",
       "      <th>latitude</th>\n",
       "      <th>longitude</th>\n",
       "      <th>stars</th>\n",
       "      <th>price</th>\n",
       "      <th>quality</th>\n",
       "      <th>location</th>\n",
       "      <th>service</th>\n",
       "      <th>safety</th>\n",
       "    </tr>\n",
       "  </thead>\n",
       "  <tbody>\n",
       "    <tr>\n",
       "      <th>0</th>\n",
       "      <td>-D_3emciINpjvYXsHCf8OA</td>\n",
       "      <td>AKA Rittenhouse Square</td>\n",
       "      <td>135 S 18th St</td>\n",
       "      <td>39.950365</td>\n",
       "      <td>-75.170453</td>\n",
       "      <td>4.5</td>\n",
       "      <td>$$$</td>\n",
       "      <td>average quality</td>\n",
       "      <td>excellent location</td>\n",
       "      <td>good service</td>\n",
       "      <td>average safety</td>\n",
       "    </tr>\n",
       "    <tr>\n",
       "      <th>1</th>\n",
       "      <td>oZxSL3PFX15Lzr8cjszmgQ</td>\n",
       "      <td>AKA University City</td>\n",
       "      <td>2929 Walnut St</td>\n",
       "      <td>39.951936</td>\n",
       "      <td>-75.183911</td>\n",
       "      <td>4.0</td>\n",
       "      <td>Unknown price</td>\n",
       "      <td>good quality</td>\n",
       "      <td>good location</td>\n",
       "      <td>average service</td>\n",
       "      <td>good safety</td>\n",
       "    </tr>\n",
       "    <tr>\n",
       "      <th>2</th>\n",
       "      <td>3QPAh9VvYNTnqAFgBeBcng</td>\n",
       "      <td>Alexander Inn</td>\n",
       "      <td>301 S 12th St</td>\n",
       "      <td>39.946397</td>\n",
       "      <td>-75.160967</td>\n",
       "      <td>4.5</td>\n",
       "      <td>$$</td>\n",
       "      <td>average quality</td>\n",
       "      <td>excellent location</td>\n",
       "      <td>good service</td>\n",
       "      <td>average safety</td>\n",
       "    </tr>\n",
       "    <tr>\n",
       "      <th>3</th>\n",
       "      <td>6I_DA3uqOox50rBvjrQ_-g</td>\n",
       "      <td>Aloft Philadelphia Airport</td>\n",
       "      <td>4301 Island Ave</td>\n",
       "      <td>39.891125</td>\n",
       "      <td>-75.234251</td>\n",
       "      <td>3.0</td>\n",
       "      <td>$$</td>\n",
       "      <td>below average quality</td>\n",
       "      <td>average location</td>\n",
       "      <td>average service</td>\n",
       "      <td>below average safety</td>\n",
       "    </tr>\n",
       "    <tr>\n",
       "      <th>4</th>\n",
       "      <td>EaBgGhjd8rB9KVvCXKaiAw</td>\n",
       "      <td>Aloft Philadelphia Downtown</td>\n",
       "      <td>101 North Broad St</td>\n",
       "      <td>39.954622</td>\n",
       "      <td>-75.162792</td>\n",
       "      <td>3.5</td>\n",
       "      <td>$$</td>\n",
       "      <td>below average quality</td>\n",
       "      <td>good location</td>\n",
       "      <td>below average service</td>\n",
       "      <td>below average safety</td>\n",
       "    </tr>\n",
       "  </tbody>\n",
       "</table>\n",
       "</div>"
      ],
      "text/plain": [
       "              business_id                         name             address  \\\n",
       "0  -D_3emciINpjvYXsHCf8OA       AKA Rittenhouse Square       135 S 18th St   \n",
       "1  oZxSL3PFX15Lzr8cjszmgQ          AKA University City      2929 Walnut St   \n",
       "2  3QPAh9VvYNTnqAFgBeBcng                Alexander Inn       301 S 12th St   \n",
       "3  6I_DA3uqOox50rBvjrQ_-g   Aloft Philadelphia Airport     4301 Island Ave   \n",
       "4  EaBgGhjd8rB9KVvCXKaiAw  Aloft Philadelphia Downtown  101 North Broad St   \n",
       "\n",
       "    latitude  longitude  stars          price                quality  \\\n",
       "0  39.950365 -75.170453    4.5            $$$        average quality   \n",
       "1  39.951936 -75.183911    4.0  Unknown price           good quality   \n",
       "2  39.946397 -75.160967    4.5             $$        average quality   \n",
       "3  39.891125 -75.234251    3.0             $$  below average quality   \n",
       "4  39.954622 -75.162792    3.5             $$  below average quality   \n",
       "\n",
       "             location                service                safety  \n",
       "0  excellent location           good service        average safety  \n",
       "1       good location        average service           good safety  \n",
       "2  excellent location           good service        average safety  \n",
       "3    average location        average service  below average safety  \n",
       "4       good location  below average service  below average safety  "
      ]
     },
     "execution_count": 4,
     "metadata": {},
     "output_type": "execute_result"
    }
   ],
   "source": [
    "data = []\n",
    "with open('Datasets/Hotels_task1.jsonl', 'r') as f:\n",
    "    for line in f:\n",
    "        data.append(json.loads(line))\n",
    "\n",
    "df = pd.DataFrame(data)\n",
    "df.head()"
   ]
  },
  {
   "cell_type": "code",
   "execution_count": 5,
   "metadata": {},
   "outputs": [
    {
     "data": {
      "text/html": [
       "<div>\n",
       "<style scoped>\n",
       "    .dataframe tbody tr th:only-of-type {\n",
       "        vertical-align: middle;\n",
       "    }\n",
       "\n",
       "    .dataframe tbody tr th {\n",
       "        vertical-align: top;\n",
       "    }\n",
       "\n",
       "    .dataframe thead th {\n",
       "        text-align: right;\n",
       "    }\n",
       "</style>\n",
       "<table border=\"1\" class=\"dataframe\">\n",
       "  <thead>\n",
       "    <tr style=\"text-align: right;\">\n",
       "      <th></th>\n",
       "      <th>name</th>\n",
       "      <th>address</th>\n",
       "      <th>latitude</th>\n",
       "      <th>longitude</th>\n",
       "      <th>stars</th>\n",
       "      <th>price</th>\n",
       "      <th>quality</th>\n",
       "      <th>location</th>\n",
       "      <th>service</th>\n",
       "      <th>safety</th>\n",
       "    </tr>\n",
       "  </thead>\n",
       "  <tbody>\n",
       "    <tr>\n",
       "      <th>0</th>\n",
       "      <td>AKA Rittenhouse Square</td>\n",
       "      <td>135 S 18th St</td>\n",
       "      <td>39.950365</td>\n",
       "      <td>-75.170453</td>\n",
       "      <td>4.5</td>\n",
       "      <td>$$$</td>\n",
       "      <td>average quality</td>\n",
       "      <td>excellent location</td>\n",
       "      <td>good service</td>\n",
       "      <td>average safety</td>\n",
       "    </tr>\n",
       "    <tr>\n",
       "      <th>1</th>\n",
       "      <td>AKA University City</td>\n",
       "      <td>2929 Walnut St</td>\n",
       "      <td>39.951936</td>\n",
       "      <td>-75.183911</td>\n",
       "      <td>4.0</td>\n",
       "      <td>Unknown price</td>\n",
       "      <td>good quality</td>\n",
       "      <td>good location</td>\n",
       "      <td>average service</td>\n",
       "      <td>good safety</td>\n",
       "    </tr>\n",
       "    <tr>\n",
       "      <th>2</th>\n",
       "      <td>Alexander Inn</td>\n",
       "      <td>301 S 12th St</td>\n",
       "      <td>39.946397</td>\n",
       "      <td>-75.160967</td>\n",
       "      <td>4.5</td>\n",
       "      <td>$$</td>\n",
       "      <td>average quality</td>\n",
       "      <td>excellent location</td>\n",
       "      <td>good service</td>\n",
       "      <td>average safety</td>\n",
       "    </tr>\n",
       "    <tr>\n",
       "      <th>3</th>\n",
       "      <td>Aloft Philadelphia Airport</td>\n",
       "      <td>4301 Island Ave</td>\n",
       "      <td>39.891125</td>\n",
       "      <td>-75.234251</td>\n",
       "      <td>3.0</td>\n",
       "      <td>$$</td>\n",
       "      <td>below average quality</td>\n",
       "      <td>average location</td>\n",
       "      <td>average service</td>\n",
       "      <td>below average safety</td>\n",
       "    </tr>\n",
       "    <tr>\n",
       "      <th>4</th>\n",
       "      <td>Aloft Philadelphia Downtown</td>\n",
       "      <td>101 North Broad St</td>\n",
       "      <td>39.954622</td>\n",
       "      <td>-75.162792</td>\n",
       "      <td>3.5</td>\n",
       "      <td>$$</td>\n",
       "      <td>below average quality</td>\n",
       "      <td>good location</td>\n",
       "      <td>below average service</td>\n",
       "      <td>below average safety</td>\n",
       "    </tr>\n",
       "  </tbody>\n",
       "</table>\n",
       "</div>"
      ],
      "text/plain": [
       "                          name             address   latitude  longitude  \\\n",
       "0       AKA Rittenhouse Square       135 S 18th St  39.950365 -75.170453   \n",
       "1          AKA University City      2929 Walnut St  39.951936 -75.183911   \n",
       "2                Alexander Inn       301 S 12th St  39.946397 -75.160967   \n",
       "3   Aloft Philadelphia Airport     4301 Island Ave  39.891125 -75.234251   \n",
       "4  Aloft Philadelphia Downtown  101 North Broad St  39.954622 -75.162792   \n",
       "\n",
       "   stars          price                quality            location  \\\n",
       "0    4.5            $$$        average quality  excellent location   \n",
       "1    4.0  Unknown price           good quality       good location   \n",
       "2    4.5             $$        average quality  excellent location   \n",
       "3    3.0             $$  below average quality    average location   \n",
       "4    3.5             $$  below average quality       good location   \n",
       "\n",
       "                 service                safety  \n",
       "0           good service        average safety  \n",
       "1        average service           good safety  \n",
       "2           good service        average safety  \n",
       "3        average service  below average safety  \n",
       "4  below average service  below average safety  "
      ]
     },
     "execution_count": 5,
     "metadata": {},
     "output_type": "execute_result"
    }
   ],
   "source": [
    "df = df.loc[:, ['name', 'address', 'latitude','longitude', 'stars', 'price','quality','location','service','safety']]\n",
    "df.head()"
   ]
  },
  {
   "cell_type": "code",
   "execution_count": 6,
   "metadata": {},
   "outputs": [],
   "source": [
    "df.to_csv('Datasets/Hotels_task1.csv', index=False)"
   ]
  },
  {
   "cell_type": "markdown",
   "metadata": {},
   "source": [
    "Attractions"
   ]
  },
  {
   "cell_type": "code",
   "execution_count": 7,
   "metadata": {},
   "outputs": [
    {
     "data": {
      "text/html": [
       "<div>\n",
       "<style scoped>\n",
       "    .dataframe tbody tr th:only-of-type {\n",
       "        vertical-align: middle;\n",
       "    }\n",
       "\n",
       "    .dataframe tbody tr th {\n",
       "        vertical-align: top;\n",
       "    }\n",
       "\n",
       "    .dataframe thead th {\n",
       "        text-align: right;\n",
       "    }\n",
       "</style>\n",
       "<table border=\"1\" class=\"dataframe\">\n",
       "  <thead>\n",
       "    <tr style=\"text-align: right;\">\n",
       "      <th></th>\n",
       "      <th>business_id</th>\n",
       "      <th>name</th>\n",
       "      <th>address</th>\n",
       "      <th>latitude</th>\n",
       "      <th>longitude</th>\n",
       "      <th>stars</th>\n",
       "      <th>price</th>\n",
       "      <th>attraction_type</th>\n",
       "      <th>perks</th>\n",
       "      <th>family_oriented</th>\n",
       "      <th>history_oriented</th>\n",
       "      <th>activity_oriented</th>\n",
       "      <th>nature_oriented</th>\n",
       "      <th>food_oriented</th>\n",
       "      <th>shopping_oriented</th>\n",
       "    </tr>\n",
       "  </thead>\n",
       "  <tbody>\n",
       "    <tr>\n",
       "      <th>0</th>\n",
       "      <td>DSGHZnDLRbR9wk-u1trRUQ</td>\n",
       "      <td>16th Street Seafood</td>\n",
       "      <td>1542 Tasker St</td>\n",
       "      <td>39.930746</td>\n",
       "      <td>-75.171552</td>\n",
       "      <td>4.0</td>\n",
       "      <td>$$</td>\n",
       "      <td>Local Flavor</td>\n",
       "      <td>Seafood</td>\n",
       "      <td>low family oriented</td>\n",
       "      <td>no history oriented</td>\n",
       "      <td>low activity oriented</td>\n",
       "      <td>no nature oriented</td>\n",
       "      <td>high food oriented</td>\n",
       "      <td>no shopping oriented</td>\n",
       "    </tr>\n",
       "    <tr>\n",
       "      <th>1</th>\n",
       "      <td>AGR4G6RCCjzmtVk0xjLTrg</td>\n",
       "      <td>76 Carriage Company</td>\n",
       "      <td>1350 Schuylkill Ave</td>\n",
       "      <td>39.937574</td>\n",
       "      <td>-75.203767</td>\n",
       "      <td>4.5</td>\n",
       "      <td>$$$</td>\n",
       "      <td>Tours</td>\n",
       "      <td>Local Flavor</td>\n",
       "      <td>high family oriented</td>\n",
       "      <td>high history oriented</td>\n",
       "      <td>low activity oriented</td>\n",
       "      <td>low nature oriented</td>\n",
       "      <td>no food oriented</td>\n",
       "      <td>no shopping oriented</td>\n",
       "    </tr>\n",
       "    <tr>\n",
       "      <th>2</th>\n",
       "      <td>uX2TOURTQP1RshDcGyiIPA</td>\n",
       "      <td>A Love Letter for You</td>\n",
       "      <td>Market St</td>\n",
       "      <td>39.960685</td>\n",
       "      <td>-75.230811</td>\n",
       "      <td>5.0</td>\n",
       "      <td>$</td>\n",
       "      <td>Art Galleries</td>\n",
       "      <td>Public Art</td>\n",
       "      <td>medium family oriented</td>\n",
       "      <td>medium history oriented</td>\n",
       "      <td>low activity oriented</td>\n",
       "      <td>no nature oriented</td>\n",
       "      <td>medium food oriented</td>\n",
       "      <td>no shopping oriented</td>\n",
       "    </tr>\n",
       "    <tr>\n",
       "      <th>3</th>\n",
       "      <td>HHL5AD3DQo2DEoIE8xL62w</td>\n",
       "      <td>AAA Philadelphia Northeast</td>\n",
       "      <td>9475 Roosevelt Blvd</td>\n",
       "      <td>40.079338</td>\n",
       "      <td>-75.027546</td>\n",
       "      <td>3.0</td>\n",
       "      <td>$$</td>\n",
       "      <td>Not Applicable</td>\n",
       "      <td>Not Applicable</td>\n",
       "      <td>low family oriented</td>\n",
       "      <td>no history oriented</td>\n",
       "      <td>low activity oriented</td>\n",
       "      <td>no nature oriented</td>\n",
       "      <td>no food oriented</td>\n",
       "      <td>low shopping oriented</td>\n",
       "    </tr>\n",
       "    <tr>\n",
       "      <th>4</th>\n",
       "      <td>QFzJKnSUtkgSs1lKOOxXeA</td>\n",
       "      <td>Academy of Natural Sciences</td>\n",
       "      <td>1900 Benjamin Franklin Pkwy</td>\n",
       "      <td>39.957019</td>\n",
       "      <td>-75.171260</td>\n",
       "      <td>4.0</td>\n",
       "      <td>$$$</td>\n",
       "      <td>Museums</td>\n",
       "      <td>Not Applicable</td>\n",
       "      <td>high family oriented</td>\n",
       "      <td>medium history oriented</td>\n",
       "      <td>medium activity oriented</td>\n",
       "      <td>high nature oriented</td>\n",
       "      <td>low food oriented</td>\n",
       "      <td>low shopping oriented</td>\n",
       "    </tr>\n",
       "  </tbody>\n",
       "</table>\n",
       "</div>"
      ],
      "text/plain": [
       "              business_id                         name  \\\n",
       "0  DSGHZnDLRbR9wk-u1trRUQ          16th Street Seafood   \n",
       "1  AGR4G6RCCjzmtVk0xjLTrg          76 Carriage Company   \n",
       "2  uX2TOURTQP1RshDcGyiIPA        A Love Letter for You   \n",
       "3  HHL5AD3DQo2DEoIE8xL62w   AAA Philadelphia Northeast   \n",
       "4  QFzJKnSUtkgSs1lKOOxXeA  Academy of Natural Sciences   \n",
       "\n",
       "                       address   latitude  longitude  stars price  \\\n",
       "0               1542 Tasker St  39.930746 -75.171552    4.0    $$   \n",
       "1          1350 Schuylkill Ave  39.937574 -75.203767    4.5   $$$   \n",
       "2                    Market St  39.960685 -75.230811    5.0     $   \n",
       "3          9475 Roosevelt Blvd  40.079338 -75.027546    3.0    $$   \n",
       "4  1900 Benjamin Franklin Pkwy  39.957019 -75.171260    4.0   $$$   \n",
       "\n",
       "  attraction_type           perks         family_oriented  \\\n",
       "0    Local Flavor         Seafood     low family oriented   \n",
       "1           Tours    Local Flavor    high family oriented   \n",
       "2   Art Galleries      Public Art  medium family oriented   \n",
       "3  Not Applicable  Not Applicable     low family oriented   \n",
       "4         Museums  Not Applicable    high family oriented   \n",
       "\n",
       "          history_oriented         activity_oriented       nature_oriented  \\\n",
       "0      no history oriented     low activity oriented    no nature oriented   \n",
       "1    high history oriented     low activity oriented   low nature oriented   \n",
       "2  medium history oriented     low activity oriented    no nature oriented   \n",
       "3      no history oriented     low activity oriented    no nature oriented   \n",
       "4  medium history oriented  medium activity oriented  high nature oriented   \n",
       "\n",
       "          food_oriented      shopping_oriented  \n",
       "0    high food oriented   no shopping oriented  \n",
       "1      no food oriented   no shopping oriented  \n",
       "2  medium food oriented   no shopping oriented  \n",
       "3      no food oriented  low shopping oriented  \n",
       "4     low food oriented  low shopping oriented  "
      ]
     },
     "execution_count": 7,
     "metadata": {},
     "output_type": "execute_result"
    }
   ],
   "source": [
    "data = []\n",
    "with open('Datasets/Attractions_task1.jsonl', 'r') as f:\n",
    "    for line in f:\n",
    "        data.append(json.loads(line))\n",
    "\n",
    "df = pd.DataFrame(data)\n",
    "df.head()"
   ]
  },
  {
   "cell_type": "code",
   "execution_count": 8,
   "metadata": {},
   "outputs": [
    {
     "data": {
      "text/html": [
       "<div>\n",
       "<style scoped>\n",
       "    .dataframe tbody tr th:only-of-type {\n",
       "        vertical-align: middle;\n",
       "    }\n",
       "\n",
       "    .dataframe tbody tr th {\n",
       "        vertical-align: top;\n",
       "    }\n",
       "\n",
       "    .dataframe thead th {\n",
       "        text-align: right;\n",
       "    }\n",
       "</style>\n",
       "<table border=\"1\" class=\"dataframe\">\n",
       "  <thead>\n",
       "    <tr style=\"text-align: right;\">\n",
       "      <th></th>\n",
       "      <th>name</th>\n",
       "      <th>address</th>\n",
       "      <th>latitude</th>\n",
       "      <th>longitude</th>\n",
       "      <th>stars</th>\n",
       "      <th>price</th>\n",
       "      <th>attraction_type</th>\n",
       "      <th>perks</th>\n",
       "      <th>family_oriented</th>\n",
       "      <th>history_oriented</th>\n",
       "      <th>activity_oriented</th>\n",
       "      <th>nature_oriented</th>\n",
       "      <th>food_oriented</th>\n",
       "      <th>shopping_oriented</th>\n",
       "    </tr>\n",
       "  </thead>\n",
       "  <tbody>\n",
       "    <tr>\n",
       "      <th>0</th>\n",
       "      <td>16th Street Seafood</td>\n",
       "      <td>1542 Tasker St</td>\n",
       "      <td>39.930746</td>\n",
       "      <td>-75.171552</td>\n",
       "      <td>4.0</td>\n",
       "      <td>$$</td>\n",
       "      <td>Local Flavor</td>\n",
       "      <td>Seafood</td>\n",
       "      <td>low family oriented</td>\n",
       "      <td>no history oriented</td>\n",
       "      <td>low activity oriented</td>\n",
       "      <td>no nature oriented</td>\n",
       "      <td>high food oriented</td>\n",
       "      <td>no shopping oriented</td>\n",
       "    </tr>\n",
       "    <tr>\n",
       "      <th>1</th>\n",
       "      <td>76 Carriage Company</td>\n",
       "      <td>1350 Schuylkill Ave</td>\n",
       "      <td>39.937574</td>\n",
       "      <td>-75.203767</td>\n",
       "      <td>4.5</td>\n",
       "      <td>$$$</td>\n",
       "      <td>Tours</td>\n",
       "      <td>Local Flavor</td>\n",
       "      <td>high family oriented</td>\n",
       "      <td>high history oriented</td>\n",
       "      <td>low activity oriented</td>\n",
       "      <td>low nature oriented</td>\n",
       "      <td>no food oriented</td>\n",
       "      <td>no shopping oriented</td>\n",
       "    </tr>\n",
       "    <tr>\n",
       "      <th>2</th>\n",
       "      <td>A Love Letter for You</td>\n",
       "      <td>Market St</td>\n",
       "      <td>39.960685</td>\n",
       "      <td>-75.230811</td>\n",
       "      <td>5.0</td>\n",
       "      <td>$</td>\n",
       "      <td>Art Galleries</td>\n",
       "      <td>Public Art</td>\n",
       "      <td>medium family oriented</td>\n",
       "      <td>medium history oriented</td>\n",
       "      <td>low activity oriented</td>\n",
       "      <td>no nature oriented</td>\n",
       "      <td>medium food oriented</td>\n",
       "      <td>no shopping oriented</td>\n",
       "    </tr>\n",
       "    <tr>\n",
       "      <th>3</th>\n",
       "      <td>AAA Philadelphia Northeast</td>\n",
       "      <td>9475 Roosevelt Blvd</td>\n",
       "      <td>40.079338</td>\n",
       "      <td>-75.027546</td>\n",
       "      <td>3.0</td>\n",
       "      <td>$$</td>\n",
       "      <td>Not Applicable</td>\n",
       "      <td>Not Applicable</td>\n",
       "      <td>low family oriented</td>\n",
       "      <td>no history oriented</td>\n",
       "      <td>low activity oriented</td>\n",
       "      <td>no nature oriented</td>\n",
       "      <td>no food oriented</td>\n",
       "      <td>low shopping oriented</td>\n",
       "    </tr>\n",
       "    <tr>\n",
       "      <th>4</th>\n",
       "      <td>Academy of Natural Sciences</td>\n",
       "      <td>1900 Benjamin Franklin Pkwy</td>\n",
       "      <td>39.957019</td>\n",
       "      <td>-75.171260</td>\n",
       "      <td>4.0</td>\n",
       "      <td>$$$</td>\n",
       "      <td>Museums</td>\n",
       "      <td>Not Applicable</td>\n",
       "      <td>high family oriented</td>\n",
       "      <td>medium history oriented</td>\n",
       "      <td>medium activity oriented</td>\n",
       "      <td>high nature oriented</td>\n",
       "      <td>low food oriented</td>\n",
       "      <td>low shopping oriented</td>\n",
       "    </tr>\n",
       "  </tbody>\n",
       "</table>\n",
       "</div>"
      ],
      "text/plain": [
       "                          name                      address   latitude  \\\n",
       "0          16th Street Seafood               1542 Tasker St  39.930746   \n",
       "1          76 Carriage Company          1350 Schuylkill Ave  39.937574   \n",
       "2        A Love Letter for You                    Market St  39.960685   \n",
       "3   AAA Philadelphia Northeast          9475 Roosevelt Blvd  40.079338   \n",
       "4  Academy of Natural Sciences  1900 Benjamin Franklin Pkwy  39.957019   \n",
       "\n",
       "   longitude  stars price attraction_type           perks  \\\n",
       "0 -75.171552    4.0    $$    Local Flavor         Seafood   \n",
       "1 -75.203767    4.5   $$$           Tours    Local Flavor   \n",
       "2 -75.230811    5.0     $   Art Galleries      Public Art   \n",
       "3 -75.027546    3.0    $$  Not Applicable  Not Applicable   \n",
       "4 -75.171260    4.0   $$$         Museums  Not Applicable   \n",
       "\n",
       "          family_oriented         history_oriented         activity_oriented  \\\n",
       "0     low family oriented      no history oriented     low activity oriented   \n",
       "1    high family oriented    high history oriented     low activity oriented   \n",
       "2  medium family oriented  medium history oriented     low activity oriented   \n",
       "3     low family oriented      no history oriented     low activity oriented   \n",
       "4    high family oriented  medium history oriented  medium activity oriented   \n",
       "\n",
       "        nature_oriented         food_oriented      shopping_oriented  \n",
       "0    no nature oriented    high food oriented   no shopping oriented  \n",
       "1   low nature oriented      no food oriented   no shopping oriented  \n",
       "2    no nature oriented  medium food oriented   no shopping oriented  \n",
       "3    no nature oriented      no food oriented  low shopping oriented  \n",
       "4  high nature oriented     low food oriented  low shopping oriented  "
      ]
     },
     "execution_count": 8,
     "metadata": {},
     "output_type": "execute_result"
    }
   ],
   "source": [
    "df = df.loc[:, ['name', 'address', 'latitude','longitude','stars', 'price','attraction_type','perks','family_oriented','history_oriented','activity_oriented','nature_oriented','food_oriented','shopping_oriented']]\n",
    "df.head()"
   ]
  },
  {
   "cell_type": "code",
   "execution_count": 9,
   "metadata": {},
   "outputs": [],
   "source": [
    "df.to_csv('Datasets/Attractions_task1.csv', index=False)"
   ]
  },
  {
   "cell_type": "code",
   "execution_count": null,
   "metadata": {},
   "outputs": [],
   "source": []
  },
  {
   "cell_type": "markdown",
   "metadata": {},
   "source": [
    "Create background information prompt"
   ]
  },
  {
   "cell_type": "code",
   "execution_count": 19,
   "metadata": {},
   "outputs": [],
   "source": [
    "import csv\n",
    "with open('Datasets/Hotels_task1.csv', 'r') as f:\n",
    "    reader = csv.reader(f)\n",
    "    text = ''\n",
    "    for row in reader:\n",
    "        #put each row into a string\n",
    "        text += ','.join(row)+ '\\n'\n",
    "with open(\"Datasets/hotel_prompt_task1.txt\", \"w\") as f:\n",
    "    f.write(text)\n",
    "\n",
    "\n",
    "#1926 tokens for 100 hotel: 20 token/hotel"
   ]
  },
  {
   "cell_type": "code",
   "execution_count": 20,
   "metadata": {},
   "outputs": [],
   "source": [
    "with open('Datasets/Restaurants_task1.csv', 'r') as f:\n",
    "    reader = csv.reader(f)\n",
    "    text = ''\n",
    "    for row in reader:\n",
    "        #put each row into a string\n",
    "        text += ','.join(row)+ '\\n'\n",
    "with open(\"Datasets/restaurants_prompt_task1.txt\", \"w\") as f:\n",
    "    f.write(text)\n",
    "#\n",
    "\n",
    "#36074 for 1000 restaurants: 36 token/restaurant"
   ]
  },
  {
   "cell_type": "code",
   "execution_count": 21,
   "metadata": {},
   "outputs": [],
   "source": [
    "with open('Datasets/Attractions_task1.csv', 'r') as f:\n",
    "    reader = csv.reader(f)\n",
    "    text = ''\n",
    "    for row in reader:\n",
    "        #put each row into a string\n",
    "        text += ','.join(row)+ '\\n'\n",
    "with open(\"Datasets/attractions_prompt_task1.txt\", \"w\") as f:\n",
    "    f.write(text)\n",
    "\n",
    "\n",
    "#11904 tokens for 347 attractions: 34 token/attraction"
   ]
  },
  {
   "cell_type": "markdown",
   "metadata": {},
   "source": [
    "All of them in one prompt"
   ]
  },
  {
   "cell_type": "code",
   "execution_count": 22,
   "metadata": {},
   "outputs": [],
   "source": [
    "with open('Datasets/hotel_prompt_task1.txt', 'r') as f:\n",
    "    hotel_text = f.read().replace('\\n', '. ')\n",
    "\n",
    "with open('Datasets/attractions_prompt_task1.txt', 'r') as f:\n",
    "    attraction_text = f.read().replace('\\n', '. ')\n",
    "\n",
    "with open('Datasets/restaurants_prompt_task1.txt', 'r') as f:\n",
    "    restaurant_text = f.read().replace('\\n', '. ')\n",
    "\n",
    "data = [\n",
    "    {\n",
    "        \"Description\": \"Accommodations in Philadelphia\",\n",
    "        \"Content\": hotel_text\n",
    "    },\n",
    "    {\n",
    "        \"Description\": \"Attractions in Philadelphia\",\n",
    "        \"Content\": attraction_text\n",
    "    },{\n",
    "        \"Description\": \"Restaurants in Philadelphia\",\n",
    "        \"Content\": restaurant_text\n",
    "    }\n",
    "]\n",
    "\n",
    "\n",
    "# Write the JSON file\n",
    "with open('Datasets/all_prompts_task1.json', 'w') as f:\n",
    "    json.dump(data, f, indent=4)"
   ]
  },
  {
   "cell_type": "markdown",
   "metadata": {},
   "source": [
    "Try adding a code for each business"
   ]
  },
  {
   "cell_type": "code",
   "execution_count": null,
   "metadata": {},
   "outputs": [],
   "source": [
    "import pandas as pd\n",
    "\n",
    "hotels = pd.read_csv('Datasets/Hotels.csv')\n",
    "restaurants = pd.read_csv('Datasets/Restaurants.csv')\n",
    "attractions = pd.read_csv('Datasets/Attractions.csv')\n",
    "\n",
    "#add a column in the front of the dataframe called code and fill it with natural numbers for each df\n",
    "hotels.insert(0, 'code', range(1, len(hotels) + 1))\n",
    "restaurants.insert(0, 'code', range(1, len(restaurants) + 1))\n",
    "attractions.insert(0, 'code', range(1, len(attractions) + 1))\n",
    "\n",
    "hotels.to_csv('Datasets/Hotels_indexed.csv', index=False)\n",
    "restaurants.to_csv('Datasets/Restarunts_indexed.csv', index=False)\n",
    "attractions.to_csv('Datasets/Attractions_indexed.csv', index=False)"
   ]
  },
  {
   "cell_type": "code",
   "execution_count": 7,
   "metadata": {},
   "outputs": [],
   "source": [
    "import csv\n",
    "\n",
    "with open('Datasets/Hotels_indexed.csv', 'r') as f:\n",
    "    reader = csv.reader(f)\n",
    "    text = ''\n",
    "    for row in reader:\n",
    "        #put each row into a string\n",
    "        text += ','.join(row)+ '\\n'\n",
    "with open(\"Datasets/hotel_indexed_prompt.txt\", \"w\") as f:\n",
    "    f.write(text)\n",
    "\n",
    "\n",
    "#1926 tokens for 100 hotel: 20 token/hotel"
   ]
  },
  {
   "cell_type": "code",
   "execution_count": 8,
   "metadata": {},
   "outputs": [],
   "source": [
    "with open('Datasets/Restarunts_indexed.csv', 'r') as f:\n",
    "    reader = csv.reader(f)\n",
    "    text = ''\n",
    "    for row in reader:\n",
    "        #put each row into a string\n",
    "        text += ','.join(row)+ '\\n'\n",
    "with open(\"Datasets/restaurants_indexed_prompt.txt\", \"w\") as f:\n",
    "    f.write(text)\n",
    "#\n",
    "\n",
    "#36074 for 1000 restaurants: 36 token/restaurant"
   ]
  },
  {
   "cell_type": "code",
   "execution_count": 9,
   "metadata": {},
   "outputs": [],
   "source": [
    "with open('Datasets/Attractions_indexed.csv', 'r') as f:\n",
    "    reader = csv.reader(f)\n",
    "    text = ''\n",
    "    for row in reader:\n",
    "        #put each row into a string\n",
    "        text += ','.join(row)+ '\\n'\n",
    "with open(\"Datasets/attractions_indexed_prompt.txt\", \"w\") as f:\n",
    "    f.write(text)\n",
    "\n",
    "\n",
    "#11904 tokens for 347 attractions: 34 token/attraction"
   ]
  },
  {
   "cell_type": "code",
   "execution_count": 11,
   "metadata": {},
   "outputs": [],
   "source": [
    "import json\n",
    "with open('Datasets/hotel_indexed_prompt.txt', 'r') as f:\n",
    "    hotel_text = f.read().replace('\\n', '. ')\n",
    "\n",
    "with open('Datasets/attractions_indexed_prompt.txt', 'r') as f:\n",
    "    attraction_text = f.read().replace('\\n', '. ')\n",
    "\n",
    "with open('Datasets/restaurants_indexed_prompt.txt', 'r') as f:\n",
    "    restaurant_text = f.read().replace('\\n', '. ')\n",
    "\n",
    "data = [\n",
    "    {\n",
    "        \"Description\": \"Accommodations in Philadelphia\",\n",
    "        \"Content\": hotel_text\n",
    "    },\n",
    "    {\n",
    "        \"Description\": \"Attractions in Philadelphia\",\n",
    "        \"Content\": attraction_text\n",
    "    },{\n",
    "        \"Description\": \"Restaurants in Philadelphia\",\n",
    "        \"Content\": restaurant_text\n",
    "    }\n",
    "]\n",
    "\n",
    "\n",
    "# Write the JSON file\n",
    "with open('Datasets/all_indexed_prompts.json', 'w') as f:\n",
    "    json.dump(data, f, indent=4)"
   ]
  },
  {
   "cell_type": "markdown",
   "metadata": {},
   "source": [
    "take 50 from each and make a small reference for test, i really need a helper function"
   ]
  },
  {
   "cell_type": "code",
   "execution_count": 30,
   "metadata": {},
   "outputs": [],
   "source": [
    "#attrtactions\n",
    "with open('Datasets/Attractions.csv', 'r') as f:\n",
    "    reader = csv.reader(f)\n",
    "    rows = list(reader)\n",
    "    header = rows[0]  # extract the header row\n",
    "    data_rows = rows[1:]  # extract the data rows\n",
    "    random_rows = random.sample(data_rows, 50)\n",
    "    attractions = '' + str(header).replace('[','').replace(']','') + '\\n'\n",
    "    for row in random_rows:\n",
    "        attractions += ','.join(row) + '\\n'\n",
    "    attractions = attractions.replace('\\n', '. ')\n",
    "\n",
    "#restaurants\n",
    "with open('Datasets/Restaurants.csv', 'r') as f:\n",
    "    reader = csv.reader(f)\n",
    "    rows = list(reader)\n",
    "    header = rows[0]  # extract the header row\n",
    "    data_rows = rows[1:]  # extract the data rows\n",
    "    random_rows = random.sample(data_rows, 50)\n",
    "    restaurants = '' + str(header).replace('[','').replace(']','') + '\\n'\n",
    "    for row in random_rows:\n",
    "        restaurants += ','.join(row) + '\\n'\n",
    "    restaurants = restaurants.replace('\\n', '. ')\n",
    "\n",
    "#hotels \n",
    "with open('Datasets/Hotels.csv', 'r') as f:\n",
    "    reader = csv.reader(f)\n",
    "    rows = list(reader)\n",
    "    header = rows[0]  # extract the header row\n",
    "    data_rows = rows[1:]  # extract the data rows\n",
    "    random_rows = random.sample(data_rows, 50)\n",
    "    hotels = '' + str(header).replace('[','').replace(']','') + '\\n'\n",
    "    for row in random_rows:\n",
    "        hotels += ','.join(row) + '\\n'\n",
    "    hotels = hotels.replace('\\n', '. ')\n",
    "\n",
    "data = [\n",
    "    {\n",
    "        \"Description\": \"Accommodations in Philadelphia\",\n",
    "        \"Content\": hotels\n",
    "    },\n",
    "    {\n",
    "        \"Description\": \"Attractions in Philadelphia\",\n",
    "        \"Content\": attractions\n",
    "    },\n",
    "    {\n",
    "        \"Description\": \"Restaurants in Philadelphia\",\n",
    "        \"Content\": restaurants\n",
    "    }\n",
    "]\n",
    "\n",
    "\n",
    "# Write the JSON file\n",
    "with open('Datasets/all_prompts_random50.json', 'w') as f:\n",
    "    json.dump(data, f, indent=4)"
   ]
  },
  {
   "cell_type": "markdown",
   "metadata": {},
   "source": [
    "Make task 1 dataset:"
   ]
  },
  {
   "cell_type": "code",
   "execution_count": 1,
   "metadata": {},
   "outputs": [],
   "source": [
    "import json"
   ]
  },
  {
   "cell_type": "code",
   "execution_count": 3,
   "metadata": {},
   "outputs": [],
   "source": [
    "attractions_primary = []\n",
    "\n",
    "# Open the file and read it line by line\n",
    "with open('Datasets/Attractions_pruned.jsonl', 'r') as file:\n",
    "    for line in file:\n",
    "        # Parse each line as a JSON object and append to the list\n",
    "        json_obj = json.loads(line.strip())  # strip() removes any leading/trailing whitespace\n",
    "        attractions_primary.append(json_obj)"
   ]
  },
  {
   "cell_type": "code",
   "execution_count": 5,
   "metadata": {},
   "outputs": [],
   "source": [
    "attractions_basic = []\n",
    "\n",
    "for attraction in attractions_primary:\n",
    "    attraction_basic = {key: attraction[key] for key in ['business_id', 'name','address','stars','price']}\n",
    "    attractions_basic.append(attraction_basic)"
   ]
  },
  {
   "cell_type": "code",
   "execution_count": 14,
   "metadata": {},
   "outputs": [],
   "source": [
    "attractions_openup = []\n",
    "\n",
    "# Open the file and read it line by line\n",
    "with open('Datasets/Attractions_open_cat.jsonl', 'r') as file:\n",
    "    for line in file:\n",
    "        # Parse each line as a JSON object and append to the list\n",
    "        json_obj = json.loads(line.strip())  # strip() removes any leading/trailing whitespace\n",
    "        attractions_openup.append(json_obj)"
   ]
  },
  {
   "cell_type": "code",
   "execution_count": 15,
   "metadata": {},
   "outputs": [],
   "source": [
    "attractions_task1 = []\n",
    "for i,j in zip(attractions_basic,attractions_openup):\n",
    "    #this means we can just append them together\n",
    "    assert(i['business_id'] == j['business_id'])\n",
    "    \n",
    "    merged = {'business_id': i['business_id'], 'name': i['name'], 'address': i['address'], 'stars': i['stars'], 'price': i['price'], 'attraction_type': j['attraction_type'], 'perks': j['perks']}\n",
    "    attractions_task1.append(merged)"
   ]
  },
  {
   "cell_type": "code",
   "execution_count": 16,
   "metadata": {},
   "outputs": [],
   "source": [
    "# write attractions_task1 into jsonl\n",
    "with open('Datasets/Attractions_task1.jsonl', 'w') as json_file:    \n",
    "    for item in attractions_task1:\n",
    "        json.dump(item, json_file)\n",
    "        json_file.write('\\n')\n",
    "# we still missing location cluster"
   ]
  },
  {
   "cell_type": "code",
   "execution_count": 2,
   "metadata": {},
   "outputs": [],
   "source": [
    "attractions_task1 = []\n",
    "# Open the file and read it line by line\n",
    "with open('Datasets/Attractions_task1.jsonl', 'r') as file:\n",
    "    for line in file:\n",
    "        # Parse each line as a JSON object and append to the list\n",
    "        json_obj = json.loads(line.strip())  # strip() removes any leading/trailing whitespace\n",
    "        attractions_task1.append(json_obj)"
   ]
  },
  {
   "cell_type": "code",
   "execution_count": 5,
   "metadata": {},
   "outputs": [],
   "source": [
    "attractions_allattr = []\n",
    "# Open the file and read it line by line\n",
    "with open('Datasets/Attractions.jsonl', 'r') as file:\n",
    "    for line in file:\n",
    "        # Parse each line as a JSON object and append to the list\n",
    "        json_obj = json.loads(line.strip())  # strip() removes any leading/trailing whitespace\n",
    "        attractions_allattr.append(json_obj)"
   ]
  },
  {
   "cell_type": "code",
   "execution_count": 8,
   "metadata": {},
   "outputs": [],
   "source": [
    "attractions_task1_finished = []\n",
    "for i in attractions_task1:\n",
    "    for j in attractions_allattr:\n",
    "        if(i['business_id'] == j['business_id']):\n",
    "            merged = {'business_id': i['business_id'], 'name': i['name'], 'address': i['address'], 'latitude': j['latitude'], 'longitude': j['longitude'],'stars': i['stars'], 'price': i['price'], 'attraction_type': i['attraction_type'], 'perks': i['perks']}\n",
    "            attractions_task1_finished.append(merged)\n",
    "\n",
    "with open('Datasets/Attractions_task1.jsonl', 'w') as json_file:\n",
    "    for item in attractions_task1_finished:\n",
    "        json.dump(item, json_file)\n",
    "        json_file.write('\\n')"
   ]
  },
  {
   "cell_type": "code",
   "execution_count": null,
   "metadata": {},
   "outputs": [],
   "source": []
  },
  {
   "cell_type": "code",
   "execution_count": null,
   "metadata": {},
   "outputs": [],
   "source": []
  },
  {
   "cell_type": "code",
   "execution_count": null,
   "metadata": {},
   "outputs": [],
   "source": []
  },
  {
   "cell_type": "code",
   "execution_count": 2,
   "metadata": {},
   "outputs": [],
   "source": [
    "hotels_primary = []\n",
    "\n",
    "# Open the file and read it line by line\n",
    "with open('Datasets/Hotels_pruned.jsonl', 'r') as file:\n",
    "    for line in file:\n",
    "        # Parse each line as a JSON object and append to the list\n",
    "        json_obj = json.loads(line.strip())  # strip() removes any leading/trailing whitespace\n",
    "        hotels_primary.append(json_obj)"
   ]
  },
  {
   "cell_type": "code",
   "execution_count": 6,
   "metadata": {},
   "outputs": [],
   "source": [
    "hotels_basic = []\n",
    "\n",
    "for hotel in hotels_primary:\n",
    "    hotel_basic = {key: hotel[key] for key in ['business_id', 'name','address','stars','price']}\n",
    "    hotels_basic.append(hotel_basic)"
   ]
  },
  {
   "cell_type": "code",
   "execution_count": 8,
   "metadata": {},
   "outputs": [],
   "source": [
    "# write attractions_task1 into jsonl\n",
    "with open('Datasets/Hotels_task1.jsonl', 'w') as json_file:    \n",
    "    for item in hotels_basic:\n",
    "        json.dump(item, json_file)\n",
    "        json_file.write('\\n')\n",
    "# we still missing location cluster"
   ]
  },
  {
   "cell_type": "code",
   "execution_count": 9,
   "metadata": {},
   "outputs": [],
   "source": [
    "hotels_task1 = []\n",
    "# Open the file and read it line by line\n",
    "with open('Datasets/Hotels_task1.jsonl', 'r') as file:\n",
    "    for line in file:\n",
    "        # Parse each line as a JSON object and append to the list\n",
    "        json_obj = json.loads(line.strip())  # strip() removes any leading/trailing whitespace\n",
    "        hotels_task1.append(json_obj)"
   ]
  },
  {
   "cell_type": "code",
   "execution_count": 10,
   "metadata": {},
   "outputs": [],
   "source": [
    "hotels_allattr = []\n",
    "# Open the file and read it line by line\n",
    "with open('Datasets/Hotels.jsonl', 'r') as file:\n",
    "    for line in file:\n",
    "        # Parse each line as a JSON object and append to the list\n",
    "        json_obj = json.loads(line.strip())  # strip() removes any leading/trailing whitespace\n",
    "        hotels_allattr.append(json_obj)"
   ]
  },
  {
   "cell_type": "code",
   "execution_count": 11,
   "metadata": {},
   "outputs": [
    {
     "data": {
      "text/plain": [
       "{'business_id': '-D_3emciINpjvYXsHCf8OA',\n",
       " 'name': 'AKA Rittenhouse Square',\n",
       " 'address': '135 S 18th St',\n",
       " 'stars': 4.5,\n",
       " 'price': '$$$'}"
      ]
     },
     "execution_count": 11,
     "metadata": {},
     "output_type": "execute_result"
    }
   ],
   "source": [
    "hotels_task1[0]"
   ]
  },
  {
   "cell_type": "code",
   "execution_count": 12,
   "metadata": {},
   "outputs": [],
   "source": [
    "hotels_task1_finished = []\n",
    "for i in hotels_task1:\n",
    "    for j in hotels_allattr:\n",
    "        if(i['business_id'] == j['business_id']):\n",
    "            merged = {'business_id': i['business_id'], 'name': i['name'], 'address': i['address'], 'latitude': j['latitude'], 'longitude': j['longitude'],'stars': i['stars'], 'price': i['price']}\n",
    "            hotels_task1_finished.append(merged)\n",
    "\n",
    "with open('Datasets/Hotels_task1.jsonl', 'w') as json_file:\n",
    "    for item in hotels_task1_finished:\n",
    "        json.dump(item, json_file)\n",
    "        json_file.write('\\n')"
   ]
  },
  {
   "cell_type": "code",
   "execution_count": null,
   "metadata": {},
   "outputs": [],
   "source": []
  },
  {
   "cell_type": "code",
   "execution_count": 22,
   "metadata": {},
   "outputs": [],
   "source": [
    "restaurants_primary = []\n",
    "\n",
    "# Open the file and read it line by line\n",
    "with open('Datasets/Restaurants_pruned.jsonl', 'r') as file:\n",
    "    for line in file:\n",
    "        # Parse each line as a JSON object and append to the list\n",
    "        json_obj = json.loads(line.strip())  # strip() removes any leading/trailing whitespace\n",
    "        restaurants_primary.append(json_obj)"
   ]
  },
  {
   "cell_type": "code",
   "execution_count": 24,
   "metadata": {},
   "outputs": [],
   "source": [
    "restaurants_basic = []\n",
    "\n",
    "for restaurant in restaurants_primary:\n",
    "    restaurant_basic = {key: restaurant[key] for key in ['business_id', 'name','address','stars','good_for_meal','price']}\n",
    "    restaurants_basic.append(restaurant_basic)"
   ]
  },
  {
   "cell_type": "code",
   "execution_count": 27,
   "metadata": {},
   "outputs": [],
   "source": [
    "restaurants_openup = []\n",
    "\n",
    "# Open the file and read it line by line\n",
    "with open('Datasets/Restaurants_open_cat.jsonl', 'r') as file:\n",
    "    for line in file:\n",
    "        # Parse each line as a JSON object and append to the list\n",
    "        json_obj = json.loads(line.strip())  # strip() removes any leading/trailing whitespace\n",
    "        restaurants_openup.append(json_obj)"
   ]
  },
  {
   "cell_type": "code",
   "execution_count": 29,
   "metadata": {},
   "outputs": [],
   "source": [
    "restaurants_task1 = []\n",
    "for i,j in zip(restaurants_basic,restaurants_openup):\n",
    "    #this means we can just append them together\n",
    "    assert(i['business_id'] == j['business_id'])\n",
    "    \n",
    "    merged = {'business_id': i['business_id'], 'name': i['name'], 'address': i['address'], 'stars': i['stars'], 'good_for_meal': i['good_for_meal'], 'price': i['price'], 'restaurant_type_1': j['restaurant_type_1'], 'restaurant_type_2': j['restaurant_type_2'], 'cuisine_1': j['cuisine_1'], 'cuisine_2': j['cuisine_2'], 'perks': j['perks']}\n",
    "    restaurants_task1.append(merged)"
   ]
  },
  {
   "cell_type": "code",
   "execution_count": 30,
   "metadata": {},
   "outputs": [],
   "source": [
    "# write attractions_task1 into jsonl\n",
    "with open('Datasets/Restaurants_task1.jsonl', 'w') as json_file:    \n",
    "    for item in restaurants_task1:\n",
    "        json.dump(item, json_file)\n",
    "        json_file.write('\\n')\n",
    "# we still missing location cluster"
   ]
  },
  {
   "cell_type": "code",
   "execution_count": 13,
   "metadata": {},
   "outputs": [],
   "source": [
    "restaurants_task1 = []\n",
    "# Open the file and read it line by line\n",
    "with open('Datasets/Restaurants_task1.jsonl', 'r') as file:\n",
    "    for line in file:\n",
    "        # Parse each line as a JSON object and append to the list\n",
    "        json_obj = json.loads(line.strip())  # strip() removes any leading/trailing whitespace\n",
    "        restaurants_task1.append(json_obj)"
   ]
  },
  {
   "cell_type": "code",
   "execution_count": 14,
   "metadata": {},
   "outputs": [],
   "source": [
    "restaurants_allattr = []\n",
    "# Open the file and read it line by line\n",
    "with open('Datasets/Restaurants.jsonl', 'r') as file:\n",
    "    for line in file:\n",
    "        # Parse each line as a JSON object and append to the list\n",
    "        json_obj = json.loads(line.strip())  # strip() removes any leading/trailing whitespace\n",
    "        restaurants_allattr.append(json_obj)"
   ]
  },
  {
   "cell_type": "code",
   "execution_count": 15,
   "metadata": {},
   "outputs": [
    {
     "data": {
      "text/plain": [
       "{'business_id': '-0TffRSXXIlBYVbb5AwfTg',\n",
       " 'name': 'IndeBlue Modern Indian Food & Spirits',\n",
       " 'address': '205 South 13th St',\n",
       " 'stars': 4.5,\n",
       " 'good_for_meal': 'dinner',\n",
       " 'price': '$$',\n",
       " 'restaurant_type_1': 'Restaurants',\n",
       " 'restaurant_type_2': 'Bars',\n",
       " 'cuisine_1': 'Indian',\n",
       " 'cuisine_2': 'Not Applicable',\n",
       " 'perks': 'Not Applicable'}"
      ]
     },
     "execution_count": 15,
     "metadata": {},
     "output_type": "execute_result"
    }
   ],
   "source": [
    "restaurants_task1[0]"
   ]
  },
  {
   "cell_type": "code",
   "execution_count": 16,
   "metadata": {},
   "outputs": [],
   "source": [
    "restaurants_task1_finished = []\n",
    "for i in restaurants_task1:\n",
    "    for j in restaurants_allattr:\n",
    "        if(i['business_id'] == j['business_id']):\n",
    "            merged = {'business_id': i['business_id'], 'name': i['name'], 'address': i['address'], 'latitude': j['latitude'], 'longitude': j['longitude'],'stars': i['stars'], 'good_for_meal': i['good_for_meal'], 'price': i['price'], 'restaurant_type_1': i['restaurant_type_1'], 'restaurant_type_2': i['restaurant_type_2'], 'cuisine_1': i['cuisine_1'], 'cuisine_2': i['cuisine_2'], 'perks': i['perks']}\n",
    "            restaurants_task1_finished.append(merged)\n",
    "\n"
   ]
  },
  {
   "cell_type": "code",
   "execution_count": 17,
   "metadata": {},
   "outputs": [
    {
     "data": {
      "text/plain": [
       "{'business_id': '-0TffRSXXIlBYVbb5AwfTg',\n",
       " 'name': 'IndeBlue Modern Indian Food & Spirits',\n",
       " 'address': '205 South 13th St',\n",
       " 'latitude': 39.9485078263,\n",
       " 'longitude': -75.1619688173,\n",
       " 'stars': 4.5,\n",
       " 'good_for_meal': 'dinner',\n",
       " 'price': '$$',\n",
       " 'restaurant_type_1': 'Restaurants',\n",
       " 'restaurant_type_2': 'Bars',\n",
       " 'cuisine_1': 'Indian',\n",
       " 'cuisine_2': 'Not Applicable',\n",
       " 'perks': 'Not Applicable'}"
      ]
     },
     "execution_count": 17,
     "metadata": {},
     "output_type": "execute_result"
    }
   ],
   "source": [
    "restaurants_task1_finished[0]"
   ]
  },
  {
   "cell_type": "code",
   "execution_count": 18,
   "metadata": {},
   "outputs": [],
   "source": [
    "with open('Datasets/Restaurants_task1.jsonl', 'w') as json_file:\n",
    "    for item in restaurants_task1_finished:\n",
    "        json.dump(item, json_file)\n",
    "        json_file.write('\\n')"
   ]
  },
  {
   "cell_type": "markdown",
   "metadata": {},
   "source": [
    "##### Get rid of unknown address for attractions"
   ]
  },
  {
   "cell_type": "code",
   "execution_count": 2,
   "metadata": {},
   "outputs": [],
   "source": [
    "with open ('Datasets/Attractions_task1.jsonl', 'r') as file:\n",
    "    attractions = [json.loads(line.strip()) for line in file]"
   ]
  },
  {
   "cell_type": "code",
   "execution_count": 3,
   "metadata": {},
   "outputs": [
    {
     "data": {
      "text/plain": [
       "{'business_id': 'DSGHZnDLRbR9wk-u1trRUQ',\n",
       " 'name': '16th Street Seafood',\n",
       " 'address': '1542 Tasker St',\n",
       " 'latitude': 39.9307459,\n",
       " 'longitude': -75.1715522,\n",
       " 'stars': 4.0,\n",
       " 'price': '$$',\n",
       " 'attraction_type': 'Local Flavor',\n",
       " 'perks': 'Seafood',\n",
       " 'family_oriented': 'low family oriented',\n",
       " 'history_oriented': 'no history oriented',\n",
       " 'activity_oriented': 'low activity oriented',\n",
       " 'nature_oriented': 'no nature oriented',\n",
       " 'food_oriented': 'high food oriented',\n",
       " 'shopping_oriented': 'no shopping oriented'}"
      ]
     },
     "execution_count": 3,
     "metadata": {},
     "output_type": "execute_result"
    }
   ],
   "source": [
    "attractions[0]"
   ]
  },
  {
   "cell_type": "code",
   "execution_count": 9,
   "metadata": {},
   "outputs": [],
   "source": [
    "attraction_keep = []\n",
    "\n",
    "for attraction in attractions:\n",
    "    if attraction['address'] != \"Unknown address\":\n",
    "        attraction_keep.append(attraction)\n",
    "\n",
    "#save into jsonl\n",
    "with open('Datasets/Attractions_task1.jsonl', 'w') as json_file:\n",
    "    for item in attraction_keep:\n",
    "        json.dump(item, json_file)\n",
    "        json_file.write('\\n')\n"
   ]
  },
  {
   "cell_type": "code",
   "execution_count": null,
   "metadata": {},
   "outputs": [],
   "source": []
  }
 ],
 "metadata": {
  "kernelspec": {
   "display_name": "torchgpu",
   "language": "python",
   "name": "python3"
  },
  "language_info": {
   "codemirror_mode": {
    "name": "ipython",
    "version": 3
   },
   "file_extension": ".py",
   "mimetype": "text/x-python",
   "name": "python",
   "nbconvert_exporter": "python",
   "pygments_lexer": "ipython3",
   "version": "3.11.0"
  }
 },
 "nbformat": 4,
 "nbformat_minor": 2
}
