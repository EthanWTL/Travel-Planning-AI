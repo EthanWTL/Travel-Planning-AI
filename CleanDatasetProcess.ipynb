{
 "cells": [
  {
   "cell_type": "code",
   "execution_count": 1,
   "metadata": {},
   "outputs": [],
   "source": [
    "import json"
   ]
  },
  {
   "cell_type": "code",
   "execution_count": 2,
   "metadata": {},
   "outputs": [],
   "source": [
    "with open ('Datasets/Restaurants_task1.jsonl', 'r') as file:\n",
    "    restaurants = [json.loads(line.strip()) for line in file]\n",
    "\n",
    "with open ('Datasets/Hotels_task1.jsonl', 'r') as file:\n",
    "    hotels = [json.loads(line.strip()) for line in file]\n",
    "\n",
    "with open ('Datasets/Attractions_task1.jsonl', 'r') as file:\n",
    "    attractions = [json.loads(line.strip()) for line in file]"
   ]
  },
  {
   "cell_type": "code",
   "execution_count": 11,
   "metadata": {},
   "outputs": [],
   "source": [
    "key_list = ['business_id','name', 'address','latitude','longitude','stars','good_for_meal','price','cuisine_1','cuisine_2']\n",
    "restaurants_clean = []\n",
    "for res in restaurants:\n",
    "    new_dict = {key: value for key, value in res.items() if key in key_list}\n",
    "    restaurants_clean.append(new_dict)\n",
    "len(restaurants_clean)\n",
    "with open('Datasets/Clean/Restaurants.jsonl', 'w') as json_file:\n",
    "    for item in restaurants_clean:\n",
    "        json.dump(item, json_file)\n",
    "        json_file.write('\\n') "
   ]
  },
  {
   "cell_type": "code",
   "execution_count": 12,
   "metadata": {},
   "outputs": [],
   "source": [
    "key_list = ['business_id','name', 'address','latitude','longitude','stars','price']\n",
    "hotels_clean = []\n",
    "for hotel in hotels:\n",
    "    new_dict = {key: value for key, value in hotel.items() if key in key_list}\n",
    "    hotels_clean.append(new_dict)\n",
    "len(hotels_clean)\n",
    "with open('Datasets/Clean/Hotels.jsonl', 'w') as json_file:\n",
    "    for item in hotels_clean:\n",
    "        json.dump(item, json_file)\n",
    "        json_file.write('\\n') "
   ]
  },
  {
   "cell_type": "code",
   "execution_count": 13,
   "metadata": {},
   "outputs": [],
   "source": [
    "key_list = ['business_id','name', 'address','latitude','longitude','stars','price']\n",
    "attractions_clean = []\n",
    "for attraction in attractions:\n",
    "    new_dict = {key: value for key, value in attraction.items() if key in key_list}\n",
    "    attractions_clean.append(new_dict)\n",
    "len(attractions_clean)\n",
    "with open('Datasets/Clean/Attractions.jsonl', 'w') as json_file:\n",
    "    for item in attractions_clean:\n",
    "        json.dump(item, json_file)\n",
    "        json_file.write('\\n')"
   ]
  },
  {
   "cell_type": "markdown",
   "metadata": {},
   "source": [
    "reviews"
   ]
  },
  {
   "cell_type": "code",
   "execution_count": 14,
   "metadata": {},
   "outputs": [
    {
     "name": "stdout",
     "output_type": "stream",
     "text": [
      "Number of files: 346\n"
     ]
    }
   ],
   "source": [
    "import os\n",
    "\n",
    "path = 'Datasets/Reviews/Attractions/'\n",
    "\n",
    "# get a list of files in the directory\n",
    "files = os.listdir(path)\n",
    "\n",
    "# count the number of files\n",
    "num_files = len(files)\n",
    "\n",
    "print(f\"Number of files: {num_files}\")"
   ]
  },
  {
   "cell_type": "code",
   "execution_count": null,
   "metadata": {},
   "outputs": [],
   "source": []
  }
 ],
 "metadata": {
  "kernelspec": {
   "display_name": "torchgpu",
   "language": "python",
   "name": "python3"
  },
  "language_info": {
   "codemirror_mode": {
    "name": "ipython",
    "version": 3
   },
   "file_extension": ".py",
   "mimetype": "text/x-python",
   "name": "python",
   "nbconvert_exporter": "python",
   "pygments_lexer": "ipython3",
   "version": "3.11.0"
  }
 },
 "nbformat": 4,
 "nbformat_minor": 2
}
