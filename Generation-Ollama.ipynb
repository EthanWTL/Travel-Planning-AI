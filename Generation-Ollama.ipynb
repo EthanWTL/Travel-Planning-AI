{
 "cells": [
  {
   "cell_type": "code",
   "execution_count": 1,
   "metadata": {},
   "outputs": [],
   "source": [
    "import ollama"
   ]
  },
  {
   "cell_type": "markdown",
   "metadata": {},
   "source": [
    "choose the dataset and the generation prompt"
   ]
  },
  {
   "cell_type": "code",
   "execution_count": 2,
   "metadata": {},
   "outputs": [],
   "source": [
    "with open('Datasets/all_prompts.json', 'r') as f:\n",
    "    dataset_text = f.read()\n",
    "\n",
    "with open('Generation Prompts/Museum Theme 3d2n.txt', 'r') as f:\n",
    "    prompt_detail = f.read()"
   ]
  },
  {
   "cell_type": "markdown",
   "metadata": {},
   "source": [
    "make the generation"
   ]
  },
  {
   "cell_type": "code",
   "execution_count": 3,
   "metadata": {},
   "outputs": [
    {
     "data": {
      "text/plain": [
       "175565"
      ]
     },
     "execution_count": 3,
     "metadata": {},
     "output_type": "execute_result"
    }
   ],
   "source": [
    "prompt = dataset_text + prompt_detail\n",
    "len(prompt)"
   ]
  },
  {
   "cell_type": "code",
   "execution_count": 4,
   "metadata": {},
   "outputs": [],
   "source": [
    "response = ollama.generate(model='llama3.1', prompt=prompt, options={'num_ctx': 70000})\n",
    "with open(\"Outputs/Preference/Theme_Museum_3d2n_1.txt\", \"w\") as f:\n",
    "    f.write(response['response'])"
   ]
  },
  {
   "cell_type": "code",
   "execution_count": null,
   "metadata": {},
   "outputs": [],
   "source": []
  },
  {
   "cell_type": "code",
   "execution_count": null,
   "metadata": {},
   "outputs": [],
   "source": []
  },
  {
   "cell_type": "code",
   "execution_count": null,
   "metadata": {},
   "outputs": [],
   "source": []
  },
  {
   "cell_type": "code",
   "execution_count": 21,
   "metadata": {},
   "outputs": [
    {
     "ename": "NameError",
     "evalue": "name 'text' is not defined",
     "output_type": "error",
     "traceback": [
      "\u001b[1;31m---------------------------------------------------------------------------\u001b[0m",
      "\u001b[1;31mNameError\u001b[0m                                 Traceback (most recent call last)",
      "Cell \u001b[1;32mIn[21], line 1\u001b[0m\n\u001b[1;32m----> 1\u001b[0m prompt \u001b[38;5;241m=\u001b[39m \u001b[43mtext\u001b[49m \u001b[38;5;241m+\u001b[39m \u001b[38;5;124m'\u001b[39m\u001b[38;5;124m. given the above information, plan a trip in Philadelphia, make detailed time arrangements for restaurants, accomodations, and attractions. Requirements: 2 day 1 night. Preference: low budget (less than or equal to $$ in price level).\u001b[39m\u001b[38;5;124m'\u001b[39m\n\u001b[0;32m      2\u001b[0m response \u001b[38;5;241m=\u001b[39m ollama\u001b[38;5;241m.\u001b[39mgenerate(model\u001b[38;5;241m=\u001b[39m\u001b[38;5;124m'\u001b[39m\u001b[38;5;124mllama3.1\u001b[39m\u001b[38;5;124m'\u001b[39m, prompt\u001b[38;5;241m=\u001b[39mprompt, options\u001b[38;5;241m=\u001b[39m{\u001b[38;5;124m'\u001b[39m\u001b[38;5;124mnum_ctx\u001b[39m\u001b[38;5;124m'\u001b[39m: \u001b[38;5;241m70000\u001b[39m})\n\u001b[0;32m      3\u001b[0m \u001b[38;5;28;01mwith\u001b[39;00m \u001b[38;5;28mopen\u001b[39m(\u001b[38;5;124m\"\u001b[39m\u001b[38;5;124mOutputs/Budget/1.txt\u001b[39m\u001b[38;5;124m\"\u001b[39m, \u001b[38;5;124m\"\u001b[39m\u001b[38;5;124mw\u001b[39m\u001b[38;5;124m\"\u001b[39m) \u001b[38;5;28;01mas\u001b[39;00m f:\n",
      "\u001b[1;31mNameError\u001b[0m: name 'text' is not defined"
     ]
    }
   ],
   "source": [
    "prompt = text + '. given the above information, plan a trip in Philadelphia, make detailed time arrangements for restaurants, accomodations, and attractions. Requirements: 2 day 1 night. Preference: low budget (less than or equal to $$ in price level).'\n",
    "response = ollama.generate(model='llama3.1', prompt=prompt, options={'num_ctx': 70000})\n",
    "with open(\"Outputs/Budget/1.txt\", \"w\") as f:\n",
    "    f.write(response['response'])"
   ]
  },
  {
   "cell_type": "code",
   "execution_count": null,
   "metadata": {},
   "outputs": [],
   "source": [
    "prompt = text + '. given the above information, plan a trip in Philadelphia, make detailed time arrangements for restaurants, accomodations, and attractions. Requirements: 2 day 1 night. Preference: Museum Theme.'\n",
    "response = ollama.generate(model='llama3.1', prompt=prompt, options={'num_ctx': 70000})\n",
    "with open(\"Outputs/Theme/2.txt\", \"w\") as f:\n",
    "    f.write(response['response'])"
   ]
  },
  {
   "cell_type": "code",
   "execution_count": null,
   "metadata": {},
   "outputs": [],
   "source": [
    "prompt = text + '. given the above information, plan a trip in Philadelphia, make detailed time arrangements for restaurants, accomodations, and attractions. Requirements: 2 day 1 night. Preference: Must include Please Touch Museum.'\n",
    "response = ollama.generate(model='llama3.1', prompt=prompt, options={'num_ctx': 70000})\n",
    "with open(\"Outputs/MustGo/2.txt\", \"w\") as f:\n",
    "    f.write(response['response'])"
   ]
  },
  {
   "cell_type": "code",
   "execution_count": null,
   "metadata": {},
   "outputs": [],
   "source": [
    "prompt = text + '. given the above information, plan a trip in Philadelphia, make detailed time arrangements for restaurants, accomodations, and attractions. Requirements: 2 day 1 night. Preference: Museum Theme, low budget (less than or equal to $$ in price level).'\n",
    "response = ollama.generate(model='llama3.1', prompt=prompt, options={'num_ctx': 70000})\n",
    "with open(\"Outputs/Mixed/budget+museum.txt\", \"w\") as f:\n",
    "    f.write(response['response'])"
   ]
  },
  {
   "cell_type": "code",
   "execution_count": null,
   "metadata": {},
   "outputs": [],
   "source": []
  }
 ],
 "metadata": {
  "kernelspec": {
   "display_name": "torchgpu",
   "language": "python",
   "name": "python3"
  },
  "language_info": {
   "codemirror_mode": {
    "name": "ipython",
    "version": 3
   },
   "file_extension": ".py",
   "mimetype": "text/x-python",
   "name": "python",
   "nbconvert_exporter": "python",
   "pygments_lexer": "ipython3",
   "version": "3.11.0"
  }
 },
 "nbformat": 4,
 "nbformat_minor": 2
}
