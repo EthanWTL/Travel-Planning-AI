{
 "cells": [
  {
   "cell_type": "code",
   "execution_count": 3,
   "metadata": {},
   "outputs": [],
   "source": [
    "import ollama\n",
    "\n",
    "with open('Datasets/all_prompts.json', 'r') as f:\n",
    "    text = f.read()"
   ]
  },
  {
   "cell_type": "code",
   "execution_count": null,
   "metadata": {},
   "outputs": [],
   "source": [
    "prompt = text + '. given the above information, plan a trip in Philadelphia, make detailed time arrangements for restaurants, accomodations, and attractions. Requirements: 2 day 1 night. Preference: low budget (less than or equal to $$ in price level).'\n",
    "response = ollama.generate(model='llama3.1', prompt=prompt, options={'num_ctx': 70000})\n",
    "with open(\"Outputs/Budget/1.txt\", \"w\") as f:\n",
    "    f.write(response['response'])"
   ]
  },
  {
   "cell_type": "code",
   "execution_count": null,
   "metadata": {},
   "outputs": [],
   "source": [
    "prompt = text + '. given the above information, plan a trip in Philadelphia, make detailed time arrangements for restaurants, accomodations, and attractions. Requirements: 2 day 1 night. Preference: Museum Theme.'\n",
    "response = ollama.generate(model='llama3.1', prompt=prompt, options={'num_ctx': 70000})\n",
    "with open(\"Outputs/Theme/2.txt\", \"w\") as f:\n",
    "    f.write(response['response'])"
   ]
  },
  {
   "cell_type": "code",
   "execution_count": 23,
   "metadata": {},
   "outputs": [],
   "source": [
    "prompt = text + '. given the above information, plan a trip in Philadelphia, make detailed time arrangements for restaurants, accomodations, and attractions. Requirements: 2 day 1 night. Preference: Must include Please Touch Museum.'\n",
    "response = ollama.generate(model='llama3.1', prompt=prompt, options={'num_ctx': 70000})\n",
    "with open(\"Outputs/MustGo/2.txt\", \"w\") as f:\n",
    "    f.write(response['response'])"
   ]
  },
  {
   "cell_type": "code",
   "execution_count": 24,
   "metadata": {},
   "outputs": [],
   "source": [
    "prompt = text + '. given the above information, plan a trip in Philadelphia, make detailed time arrangements for restaurants, accomodations, and attractions. Requirements: 2 day 1 night. Preference: Museum Theme, low budget (less than or equal to $$ in price level).'\n",
    "response = ollama.generate(model='llama3.1', prompt=prompt, options={'num_ctx': 70000})\n",
    "with open(\"Outputs/Mixed/budget+museum.txt\", \"w\") as f:\n",
    "    f.write(response['response'])"
   ]
  },
  {
   "cell_type": "code",
   "execution_count": null,
   "metadata": {},
   "outputs": [],
   "source": []
  }
 ],
 "metadata": {
  "kernelspec": {
   "display_name": "torchgpu",
   "language": "python",
   "name": "python3"
  },
  "language_info": {
   "codemirror_mode": {
    "name": "ipython",
    "version": 3
   },
   "file_extension": ".py",
   "mimetype": "text/x-python",
   "name": "python",
   "nbconvert_exporter": "python",
   "pygments_lexer": "ipython3",
   "version": "3.11.0"
  }
 },
 "nbformat": 4,
 "nbformat_minor": 2
}
