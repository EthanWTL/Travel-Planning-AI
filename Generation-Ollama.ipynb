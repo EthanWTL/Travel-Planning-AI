{
 "cells": [
  {
   "cell_type": "code",
   "execution_count": 31,
   "metadata": {},
   "outputs": [],
   "source": [
    "import ollama\n",
    "import json"
   ]
  },
  {
   "cell_type": "markdown",
   "metadata": {},
   "source": [
    "make the generation in json format"
   ]
  },
  {
   "cell_type": "code",
   "execution_count": null,
   "metadata": {},
   "outputs": [],
   "source": [
    "with open('Datasets/all_prompts.json', 'r') as f:\n",
    "    dataset_text = f.read()\n",
    "\n",
    "with open('Generation Prompts/Theme Museum 3d2n.txt', 'r') as f:\n",
    "    prompt_detail = f.read()\n",
    "\n",
    "prompt = dataset_text + prompt_detail\n",
    "\n",
    "for i in range (5):\n",
    "    response = ollama.generate(model='llama3.1', prompt=prompt, options={'num_ctx': 70000})\n",
    "\n",
    "    with open(f\"Outputs/Preference/Natural/Theme_Museum_3d2n_{i}.txt\", \"w\") as f:\n",
    "        f.write(response['response'])"
   ]
  },
  {
   "cell_type": "code",
   "execution_count": null,
   "metadata": {},
   "outputs": [],
   "source": []
  },
  {
   "cell_type": "code",
   "execution_count": null,
   "metadata": {},
   "outputs": [],
   "source": []
  }
 ],
 "metadata": {
  "kernelspec": {
   "display_name": "torchgpu",
   "language": "python",
   "name": "python3"
  },
  "language_info": {
   "codemirror_mode": {
    "name": "ipython",
    "version": 3
   },
   "file_extension": ".py",
   "mimetype": "text/x-python",
   "name": "python",
   "nbconvert_exporter": "python",
   "pygments_lexer": "ipython3",
   "version": "3.11.0"
  }
 },
 "nbformat": 4,
 "nbformat_minor": 2
}
