{
 "cells": [
  {
   "cell_type": "code",
   "execution_count": 11,
   "metadata": {},
   "outputs": [],
   "source": [
    "import os\n",
    "import re\n",
    "import importlib\n",
    "from langchain.chat_models import ChatOpenAI\n",
    "from langchain.schema import (\n",
    "    AIMessage,\n",
    "    HumanMessage,\n",
    "    SystemMessage\n",
    ")\n",
    "from Prompts.ReACT.prompts import zeroshot_react_agent_prompt\n",
    "from typing import List, Dict, Any\n",
    "from pandas import DataFrame\n",
    "\n",
    "\n",
    "OPENAI_API_KEY = os.getenv('OPEN_AI_API')"
   ]
  },
  {
   "cell_type": "code",
   "execution_count": 12,
   "metadata": {},
   "outputs": [],
   "source": [
    "class ReactAgent:\n",
    "    def __init__(self,\n",
    "                 react_llm_name = 'gpt-4o-mini',\n",
    "                 planner_llm_name = 'gpt-4o-mini',\n",
    "                 mode: str = 'zero_shot',\n",
    "                 tools: List[str] = None,\n",
    "                 ) -> None: \n",
    "        self.react_name = react_llm_name\n",
    "        self.answer = ''\n",
    "        self.json_log = []\n",
    "        self.mode = mode\n",
    "        self.planner_name = planner_llm_name\n",
    "        self.notebook = []\n",
    "        \n",
    "        self.current_observation = ''\n",
    "        self.current_data = None\n",
    "\n",
    "        self.tools = self.load_tools(tools, planner_model_name=planner_llm_name)\n",
    "        \n",
    "\n",
    "        if self.mode == 'zero_shot':\n",
    "            self.agent_prompt = zeroshot_react_agent_prompt\n",
    "\n",
    "        if 'gpt-4o-mini' in react_llm_name:\n",
    "            stop_list = ['\\n']\n",
    "            self.max_token_length = 15000\n",
    "            self.llm = ChatOpenAI(temperature=1,\n",
    "                     max_tokens=256,\n",
    "                     model_name=react_llm_name,\n",
    "                     openai_api_key=OPENAI_API_KEY,\n",
    "                     model_kwargs={\"stop\": stop_list})\n",
    "\n",
    "    def run(self,query, reset=True) -> None:\n",
    "        self.query = query\n",
    "\n",
    "        if reset:\n",
    "            self.__reset_agent()\n",
    "\n",
    "        while not self.is_finished():\n",
    "            self.step()\n",
    "        \n",
    "        return self.answer, self.scratchpad, self.json_log\n",
    "\n",
    "    \n",
    "    def step(self) -> None:\n",
    "        #record the log\n",
    "        self.json_log.append({\"step\": self.step_n, \"thought\":\"\",\n",
    "                              \"action\": \"\", \"observation\": \"\", \"state\":\"\"})\n",
    "        #thought\n",
    "        self.scratchpad += f'\\nThought {self.step_n}:'\n",
    "        self.scratchpad += ' ' + self.prompt_agent() #\n",
    "        print(self.scratchpad.split('\\n')[-1])\n",
    "        self.json_log[-1]['thought'] = self.scratchpad.split('\\n')[-1].replace(f'\\nThought {self.step_n}:',\"\")\n",
    "        \n",
    "        \n",
    "        #act\n",
    "        self.scratchpad += f'\\nAction {self.step_n}:'\n",
    "        action = self.prompt_agent()\n",
    "        self.scratchpad += ' ' + action\n",
    "        print(self.scratchpad.split('\\n')[-1])\n",
    "        self.json_log[-1]['action'] = self.scratchpad.split('\\n')[-1].replace(f'\\nAction {self.step_n}:',\"\")\n",
    "        \n",
    "        #observation\n",
    "        self.scratchpad += f'\\nObservation {self.step_n}: '\n",
    "        action_type, action_arg = parse_action(action)\n",
    "        #print(action_arg)\n",
    "        if action_type == 'AccommodationSearch':\n",
    "            self.scratchpad = self.scratchpad.replace(to_string(self.current_data).strip(),'Masked due to limited length. Make sure the data has been written in Notebook.')\n",
    "            self.current_data = self.tools['accommodations'].run(action_arg.split(',')[0],[p.strip() for p in action_arg.split('[')[1].strip('[]').split(',')])\n",
    "            self.current_observation = str(to_string(self.current_data))\n",
    "            self.scratchpad += self.current_observation\n",
    "            self.notebook.append({'Description': 'Accommodation Choice', 'Content': self.current_data})\n",
    "            self.json_log[-1]['state'] = f'Successful'\n",
    "\n",
    "        elif action_type == 'AttractionSearch':\n",
    "            self.scratchpad = self.scratchpad.replace(to_string(self.current_data).strip(),'Masked due to limited length. Make sure the data has been written in Notebook.')\n",
    "            self.current_data = self.tools['attractions'].run(action_arg.split(',')[0],[action_arg.split(',')[1].strip()[1:][:-1]])\n",
    "            self.current_observation = str(to_string(self.current_data))\n",
    "            self.scratchpad += self.current_observation\n",
    "            self.notebook.append({'Description': 'Attraction Choice', 'Content': self.current_data})\n",
    "            self.json_log[-1]['state'] = f'Successful'\n",
    "\n",
    "        elif action_type == 'RestaurantSearch': #action_arg = 'Cheap Budget, Indian, [Good Flavor, Good Value]'\n",
    "            self.scratchpad = self.scratchpad.replace(to_string(self.current_data).strip(),'Masked due to limited length. Make sure the data has been written in Notebook.')\n",
    "            self.current_data = self.tools['restaurants'].run(action_arg.split('[')[0].split(',')[0].strip(),action_arg.split('[')[0].split(',')[1].strip(),[a.strip() for a in action_arg.split('[')[1].strip()[:-1].split(',')])\n",
    "            self.current_observation = str(to_string(self.current_data))\n",
    "            self.scratchpad += self.current_observation\n",
    "            self.notebook.append({'Description': 'Restaurant Choice', 'Content': self.current_data})\n",
    "            self.json_log[-1]['state'] = f'Successful'\n",
    "\n",
    "        #elif action_type == 'NotebookWrite':\n",
    "        #    self.scratchpad = self.scratchpad.replace(to_string(self.current_data).strip(),'Masked due to limited length. Make sure the data has been written in Notebook.')\n",
    "        #    self.current_observation = str(self.tools['notebook'].write(self.current_data, action_arg))\n",
    "        #    self.scratchpad  +=  self.current_observation\n",
    "        #    self.json_log[-1]['state'] = f'Successful'\n",
    "\n",
    "        elif action_type == 'Planner':\n",
    "            self.current_observation = str(self.tools['planner'].run(str(self.notebook),action_arg))\n",
    "            self.scratchpad  +=  self.current_observation\n",
    "            self.answer = self.current_observation\n",
    "            self.json_log[-1]['state'] = f'Successful'\n",
    "            print(self.current_observation)\n",
    "        else:\n",
    "            print('invalid action type')\n",
    "        \n",
    "        self.step_n += 1\n",
    "\n",
    "\n",
    "        if action_type  and action_type == 'Planner':\n",
    "            self.finished = True\n",
    "\n",
    "            #print(self.scratchpad)\n",
    "            #print(self.json_log)\n",
    "            #print(self.notebook)\n",
    "\n",
    "            \n",
    "        return\n",
    "    \n",
    "    \n",
    "    \n",
    "    \n",
    "    def is_finished(self) -> bool:\n",
    "        return self.finished\n",
    "    \n",
    "    #def is_halted(self) -> bool:\n",
    "    #    return ((self.step_n > self.max_steps) or (\n",
    "    #                len(self.enc.encode(self._build_agent_prompt())) > self.max_token_length)) and not self.finished\n",
    "    \n",
    "    def __reset_agent(self) -> None:\n",
    "        self.step_n = 1\n",
    "        self.finished = False\n",
    "        self.answer = ''\n",
    "        self.scratchpad: str = ''\n",
    "        self.json_log = []\n",
    "\n",
    "    def prompt_agent(self) -> str:\n",
    "        while True:\n",
    "            request = format_step(self.llm([HumanMessage(content=self._build_agent_prompt())]).content)\n",
    "            return request  \n",
    "        \n",
    "        \n",
    "    def _build_agent_prompt(self) -> str:\n",
    "        if self.mode == \"zero_shot\":\n",
    "            return self.agent_prompt.format(\n",
    "                query=self.query,\n",
    "                scratchpad=self.scratchpad)\n",
    "        \n",
    "    def load_tools(self, tools: List[str], planner_model_name=None) -> Dict[str, Any]:\n",
    "        tools_map = {}\n",
    "        for tool_name in tools:\n",
    "            module = importlib.import_module(\"tools.{}.apis\".format(tool_name)) #\n",
    "            \n",
    "            # Avoid instantiating the planner tool twice, need to finish planner module before uncomment this\n",
    "            if tool_name == 'planner' and planner_model_name is not None:\n",
    "                tools_map[tool_name] = getattr(module, tool_name[0].upper()+tool_name[1:])(model_name=planner_model_name)\n",
    "            else:\n",
    "                tools_map[tool_name] = getattr(module, tool_name[0].upper()+tool_name[1:])()\n",
    "        #print(tools_map)\n",
    "        return tools_map\n",
    "        \n",
    "\n",
    "def format_step(step: str) -> str:\n",
    "    return step.strip('\\n').strip().replace('\\n', '')\n",
    "\n",
    "def parse_action(string):\n",
    "    pattern = r'^(\\w+)\\[(.+)\\]$'\n",
    "    match = re.match(pattern, string)\n",
    "    action_type = match.group(1)\n",
    "    action_arg = match.group(2)\n",
    "    return action_type,action_arg\n",
    "\n",
    "#def parse action arg\n",
    "\n",
    "def to_string(data) -> str:\n",
    "    if data is not None:\n",
    "        if type(data) == DataFrame:\n",
    "            return data.to_string(index=False)\n",
    "        else:\n",
    "            return str(data)\n",
    "    else:\n",
    "        return str(None)"
   ]
  },
  {
   "cell_type": "code",
   "execution_count": 13,
   "metadata": {},
   "outputs": [
    {
     "name": "stdout",
     "output_type": "stream",
     "text": [
      "Thought 1: I need to gather information relevant to a 4-day itinerary focusing on family-oriented attractions, Greek cuisine restaurants with a good environment, and quality accommodations in a prime location while keeping a moderate budget in mind.\n",
      "Action 1: AccommodationSearch[Moderate Budget,[Good Location, Good Service]]\n",
      "Thought 2: I have gathered a range of accommodations that meet the criteria for good location and quality service. Now I need to find restaurants that serve Greek cuisine and have a good environment while also being within a moderate budget.\n",
      "Action 2: RestaurantSearch[Moderate Budget, Greek, [Good Environment]]\n"
     ]
    },
    {
     "ename": "TypeError",
     "evalue": "can only concatenate str (not \"list\") to str",
     "output_type": "error",
     "traceback": [
      "\u001b[1;31m---------------------------------------------------------------------------\u001b[0m",
      "\u001b[1;31mTypeError\u001b[0m                                 Traceback (most recent call last)",
      "Cell \u001b[1;32mIn[13], line 6\u001b[0m\n\u001b[0;32m      3\u001b[0m \u001b[38;5;28;01mwith\u001b[39;00m \u001b[38;5;28mopen\u001b[39m(\u001b[38;5;124m'\u001b[39m\u001b[38;5;124m../Task1/Prompts/prompts/Prompt_2.txt\u001b[39m\u001b[38;5;124m'\u001b[39m,\u001b[38;5;124m'\u001b[39m\u001b[38;5;124mr\u001b[39m\u001b[38;5;124m'\u001b[39m) \u001b[38;5;28;01mas\u001b[39;00m f:\n\u001b[0;32m      4\u001b[0m     query \u001b[38;5;241m=\u001b[39m f\u001b[38;5;241m.\u001b[39mread()\n\u001b[1;32m----> 6\u001b[0m planner_results, scratchpad, action_log  \u001b[38;5;241m=\u001b[39m \u001b[43magent\u001b[49m\u001b[38;5;241;43m.\u001b[39;49m\u001b[43mrun\u001b[49m\u001b[43m(\u001b[49m\u001b[43mquery\u001b[49m\u001b[43m)\u001b[49m\n\u001b[0;32m      7\u001b[0m \u001b[38;5;66;03m# find out why notebook write is used that less, compare the code carefully hehe\u001b[39;00m\n",
      "Cell \u001b[1;32mIn[12], line 40\u001b[0m, in \u001b[0;36mReactAgent.run\u001b[1;34m(self, query, reset)\u001b[0m\n\u001b[0;32m     37\u001b[0m     \u001b[38;5;28mself\u001b[39m\u001b[38;5;241m.\u001b[39m__reset_agent()\n\u001b[0;32m     39\u001b[0m \u001b[38;5;28;01mwhile\u001b[39;00m \u001b[38;5;129;01mnot\u001b[39;00m \u001b[38;5;28mself\u001b[39m\u001b[38;5;241m.\u001b[39mis_finished():\n\u001b[1;32m---> 40\u001b[0m     \u001b[38;5;28;43mself\u001b[39;49m\u001b[38;5;241;43m.\u001b[39;49m\u001b[43mstep\u001b[49m\u001b[43m(\u001b[49m\u001b[43m)\u001b[49m\n\u001b[0;32m     42\u001b[0m \u001b[38;5;28;01mreturn\u001b[39;00m \u001b[38;5;28mself\u001b[39m\u001b[38;5;241m.\u001b[39manswer, \u001b[38;5;28mself\u001b[39m\u001b[38;5;241m.\u001b[39mscratchpad, \u001b[38;5;28mself\u001b[39m\u001b[38;5;241m.\u001b[39mjson_log\n",
      "Cell \u001b[1;32mIn[12], line 85\u001b[0m, in \u001b[0;36mReactAgent.step\u001b[1;34m(self)\u001b[0m\n\u001b[0;32m     83\u001b[0m \u001b[38;5;28;01melif\u001b[39;00m action_type \u001b[38;5;241m==\u001b[39m \u001b[38;5;124m'\u001b[39m\u001b[38;5;124mRestaurantSearch\u001b[39m\u001b[38;5;124m'\u001b[39m: \u001b[38;5;66;03m#action_arg = 'Cheap Budget, Indian, [Good Flavor, Good Value]'\u001b[39;00m\n\u001b[0;32m     84\u001b[0m     \u001b[38;5;28mself\u001b[39m\u001b[38;5;241m.\u001b[39mscratchpad \u001b[38;5;241m=\u001b[39m \u001b[38;5;28mself\u001b[39m\u001b[38;5;241m.\u001b[39mscratchpad\u001b[38;5;241m.\u001b[39mreplace(to_string(\u001b[38;5;28mself\u001b[39m\u001b[38;5;241m.\u001b[39mcurrent_data)\u001b[38;5;241m.\u001b[39mstrip(),\u001b[38;5;124m'\u001b[39m\u001b[38;5;124mMasked due to limited length. Make sure the data has been written in Notebook.\u001b[39m\u001b[38;5;124m'\u001b[39m)\n\u001b[1;32m---> 85\u001b[0m     \u001b[38;5;28mself\u001b[39m\u001b[38;5;241m.\u001b[39mcurrent_data \u001b[38;5;241m=\u001b[39m \u001b[38;5;28;43mself\u001b[39;49m\u001b[38;5;241;43m.\u001b[39;49m\u001b[43mtools\u001b[49m\u001b[43m[\u001b[49m\u001b[38;5;124;43m'\u001b[39;49m\u001b[38;5;124;43mrestaurants\u001b[39;49m\u001b[38;5;124;43m'\u001b[39;49m\u001b[43m]\u001b[49m\u001b[38;5;241;43m.\u001b[39;49m\u001b[43mrun\u001b[49m\u001b[43m(\u001b[49m\u001b[43maction_arg\u001b[49m\u001b[38;5;241;43m.\u001b[39;49m\u001b[43msplit\u001b[49m\u001b[43m(\u001b[49m\u001b[38;5;124;43m'\u001b[39;49m\u001b[38;5;124;43m[\u001b[39;49m\u001b[38;5;124;43m'\u001b[39;49m\u001b[43m)\u001b[49m\u001b[43m[\u001b[49m\u001b[38;5;241;43m0\u001b[39;49m\u001b[43m]\u001b[49m\u001b[38;5;241;43m.\u001b[39;49m\u001b[43msplit\u001b[49m\u001b[43m(\u001b[49m\u001b[38;5;124;43m'\u001b[39;49m\u001b[38;5;124;43m,\u001b[39;49m\u001b[38;5;124;43m'\u001b[39;49m\u001b[43m)\u001b[49m\u001b[43m[\u001b[49m\u001b[38;5;241;43m0\u001b[39;49m\u001b[43m]\u001b[49m\u001b[38;5;241;43m.\u001b[39;49m\u001b[43mstrip\u001b[49m\u001b[43m(\u001b[49m\u001b[43m)\u001b[49m\u001b[43m,\u001b[49m\u001b[43maction_arg\u001b[49m\u001b[38;5;241;43m.\u001b[39;49m\u001b[43msplit\u001b[49m\u001b[43m(\u001b[49m\u001b[38;5;124;43m'\u001b[39;49m\u001b[38;5;124;43m[\u001b[39;49m\u001b[38;5;124;43m'\u001b[39;49m\u001b[43m)\u001b[49m\u001b[43m[\u001b[49m\u001b[38;5;241;43m0\u001b[39;49m\u001b[43m]\u001b[49m\u001b[38;5;241;43m.\u001b[39;49m\u001b[43msplit\u001b[49m\u001b[43m(\u001b[49m\u001b[38;5;124;43m'\u001b[39;49m\u001b[38;5;124;43m,\u001b[39;49m\u001b[38;5;124;43m'\u001b[39;49m\u001b[43m)\u001b[49m\u001b[43m[\u001b[49m\u001b[38;5;241;43m1\u001b[39;49m\u001b[43m]\u001b[49m\u001b[38;5;241;43m.\u001b[39;49m\u001b[43mstrip\u001b[49m\u001b[43m(\u001b[49m\u001b[43m)\u001b[49m\u001b[43m,\u001b[49m\u001b[43m[\u001b[49m\u001b[43ma\u001b[49m\u001b[38;5;241;43m.\u001b[39;49m\u001b[43mstrip\u001b[49m\u001b[43m(\u001b[49m\u001b[43m)\u001b[49m\u001b[43m \u001b[49m\u001b[38;5;28;43;01mfor\u001b[39;49;00m\u001b[43m \u001b[49m\u001b[43ma\u001b[49m\u001b[43m \u001b[49m\u001b[38;5;129;43;01min\u001b[39;49;00m\u001b[43m \u001b[49m\u001b[43maction_arg\u001b[49m\u001b[38;5;241;43m.\u001b[39;49m\u001b[43msplit\u001b[49m\u001b[43m(\u001b[49m\u001b[38;5;124;43m'\u001b[39;49m\u001b[38;5;124;43m[\u001b[39;49m\u001b[38;5;124;43m'\u001b[39;49m\u001b[43m)\u001b[49m\u001b[43m[\u001b[49m\u001b[38;5;241;43m1\u001b[39;49m\u001b[43m]\u001b[49m\u001b[38;5;241;43m.\u001b[39;49m\u001b[43mstrip\u001b[49m\u001b[43m(\u001b[49m\u001b[43m)\u001b[49m\u001b[43m[\u001b[49m\u001b[43m:\u001b[49m\u001b[38;5;241;43m-\u001b[39;49m\u001b[38;5;241;43m1\u001b[39;49m\u001b[43m]\u001b[49m\u001b[38;5;241;43m.\u001b[39;49m\u001b[43msplit\u001b[49m\u001b[43m(\u001b[49m\u001b[38;5;124;43m'\u001b[39;49m\u001b[38;5;124;43m,\u001b[39;49m\u001b[38;5;124;43m'\u001b[39;49m\u001b[43m)\u001b[49m\u001b[43m]\u001b[49m\u001b[43m)\u001b[49m\n\u001b[0;32m     86\u001b[0m     \u001b[38;5;28mself\u001b[39m\u001b[38;5;241m.\u001b[39mcurrent_observation \u001b[38;5;241m=\u001b[39m \u001b[38;5;28mstr\u001b[39m(to_string(\u001b[38;5;28mself\u001b[39m\u001b[38;5;241m.\u001b[39mcurrent_data))\n\u001b[0;32m     87\u001b[0m     \u001b[38;5;28mself\u001b[39m\u001b[38;5;241m.\u001b[39mscratchpad \u001b[38;5;241m+\u001b[39m\u001b[38;5;241m=\u001b[39m \u001b[38;5;28mself\u001b[39m\u001b[38;5;241m.\u001b[39mcurrent_observation\n",
      "File \u001b[1;32mn:\\Travel-Planning-AI\\Task1\\tools\\restaurants\\apis.py:39\u001b[0m, in \u001b[0;36mRestaurants.run\u001b[1;34m(self, budget, cuisine, preference)\u001b[0m\n\u001b[0;32m     37\u001b[0m         col \u001b[38;5;241m=\u001b[39m get_close_matches(col, \u001b[38;5;28mself\u001b[39m\u001b[38;5;241m.\u001b[39mdata\u001b[38;5;241m.\u001b[39mcolumns, n\u001b[38;5;241m=\u001b[39m\u001b[38;5;241m1\u001b[39m, cutoff\u001b[38;5;241m=\u001b[39m\u001b[38;5;241m0.6\u001b[39m)  \n\u001b[0;32m     38\u001b[0m     \u001b[38;5;66;03m#print(col)\u001b[39;00m\n\u001b[1;32m---> 39\u001b[0m     pref_list \u001b[38;5;241m=\u001b[39m [\u001b[38;5;124;43m'\u001b[39;49m\u001b[38;5;124;43mgood \u001b[39;49m\u001b[38;5;124;43m'\u001b[39;49m\u001b[43m \u001b[49m\u001b[38;5;241;43m+\u001b[39;49m\u001b[43m \u001b[49m\u001b[43mcol\u001b[49m, \u001b[38;5;124m'\u001b[39m\u001b[38;5;124mexcellent \u001b[39m\u001b[38;5;124m'\u001b[39m \u001b[38;5;241m+\u001b[39m col]\n\u001b[0;32m     40\u001b[0m     result \u001b[38;5;241m=\u001b[39m result[result[col]\u001b[38;5;241m.\u001b[39misin(pref_list)]\n\u001b[0;32m     42\u001b[0m result\u001b[38;5;241m.\u001b[39mto_csv(\u001b[38;5;124m'\u001b[39m\u001b[38;5;124mtest_csv.csv\u001b[39m\u001b[38;5;124m'\u001b[39m, index\u001b[38;5;241m=\u001b[39m\u001b[38;5;28;01mFalse\u001b[39;00m)\n",
      "\u001b[1;31mTypeError\u001b[0m: can only concatenate str (not \"list\") to str"
     ]
    }
   ],
   "source": [
    "tools_list = [\"notebook\",\"attractions\",\"accommodations\",\"restaurants\",\"planner\"]\n",
    "agent = ReactAgent(tools=tools_list)\n",
    "with open('../Task1/Prompts/prompts/Prompt_2.txt','r') as f:\n",
    "    query = f.read()\n",
    "\n",
    "planner_results, scratchpad, action_log  = agent.run(query)\n",
    "# find out why notebook write is used that less, compare the code carefully hehe"
   ]
  },
  {
   "cell_type": "code",
   "execution_count": null,
   "metadata": {},
   "outputs": [],
   "source": []
  },
  {
   "cell_type": "code",
   "execution_count": null,
   "metadata": {},
   "outputs": [],
   "source": []
  },
  {
   "cell_type": "code",
   "execution_count": null,
   "metadata": {},
   "outputs": [],
   "source": []
  },
  {
   "cell_type": "code",
   "execution_count": null,
   "metadata": {},
   "outputs": [],
   "source": []
  },
  {
   "cell_type": "code",
   "execution_count": null,
   "metadata": {},
   "outputs": [],
   "source": []
  },
  {
   "cell_type": "code",
   "execution_count": 7,
   "metadata": {},
   "outputs": [],
   "source": [
    "#create a check the completeness of the notebook, or check the log file later"
   ]
  },
  {
   "cell_type": "code",
   "execution_count": null,
   "metadata": {},
   "outputs": [],
   "source": []
  },
  {
   "cell_type": "code",
   "execution_count": null,
   "metadata": {},
   "outputs": [],
   "source": []
  },
  {
   "cell_type": "code",
   "execution_count": null,
   "metadata": {},
   "outputs": [],
   "source": []
  },
  {
   "cell_type": "code",
   "execution_count": 8,
   "metadata": {},
   "outputs": [
    {
     "data": {
      "text/plain": [
       "'Cheap Budget'"
      ]
     },
     "execution_count": 8,
     "metadata": {},
     "output_type": "execute_result"
    }
   ],
   "source": [
    "arg = 'Cheap Budget, Indian, [Good Flavor, Good Value]'\n",
    "arg.split('[')[0].split(',')[0].strip()"
   ]
  },
  {
   "cell_type": "code",
   "execution_count": 9,
   "metadata": {},
   "outputs": [
    {
     "data": {
      "text/plain": [
       "'Indian'"
      ]
     },
     "execution_count": 9,
     "metadata": {},
     "output_type": "execute_result"
    }
   ],
   "source": [
    "arg.split('[')[0].split(',')[1].strip()"
   ]
  },
  {
   "cell_type": "code",
   "execution_count": 10,
   "metadata": {},
   "outputs": [
    {
     "data": {
      "text/plain": [
       "['Good Flavor', 'Good Value']"
      ]
     },
     "execution_count": 10,
     "metadata": {},
     "output_type": "execute_result"
    }
   ],
   "source": [
    "[a.strip() for a in arg.split('[')[1].strip()[:-1].split(',')]"
   ]
  },
  {
   "cell_type": "code",
   "execution_count": null,
   "metadata": {},
   "outputs": [],
   "source": []
  }
 ],
 "metadata": {
  "kernelspec": {
   "display_name": "torchgpu",
   "language": "python",
   "name": "python3"
  },
  "language_info": {
   "codemirror_mode": {
    "name": "ipython",
    "version": 3
   },
   "file_extension": ".py",
   "mimetype": "text/x-python",
   "name": "python",
   "nbconvert_exporter": "python",
   "pygments_lexer": "ipython3",
   "version": "3.11.0"
  }
 },
 "nbformat": 4,
 "nbformat_minor": 2
}
