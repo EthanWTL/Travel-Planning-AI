{
 "cells": [
  {
   "cell_type": "code",
   "execution_count": 11,
   "metadata": {},
   "outputs": [],
   "source": [
    "#gpt4omini, llama317B\n",
    "generation_model = 'llama317B'"
   ]
  },
  {
   "cell_type": "code",
   "execution_count": 12,
   "metadata": {},
   "outputs": [],
   "source": [
    "import os\n",
    "from openai import OpenAI\n",
    "from pydantic import BaseModel\n",
    "import json\n",
    "import ollama"
   ]
  },
  {
   "cell_type": "code",
   "execution_count": 13,
   "metadata": {},
   "outputs": [],
   "source": [
    "with open('../Datasets/all_prompts_task1.json', 'r') as file:\n",
    "    user_prompt = file.read()"
   ]
  },
  {
   "cell_type": "code",
   "execution_count": 14,
   "metadata": {},
   "outputs": [],
   "source": [
    "if(generation_model == 'gpt4omini'):\n",
    "    client = OpenAI(\n",
    "        api_key = os.getenv('OPEN_AI_API')\n",
    "    )\n",
    "\n",
    "    def create_travel_plan(system_prompt, user_prompt):\n",
    "        chat_completion = client.chat.completions.create(\n",
    "            model=\"gpt-4o-mini\",\n",
    "            temperature=0,\n",
    "            messages=[\n",
    "                {\"role\": \"system\",\"content\": system_prompt,},\n",
    "                {\"role\": \"user\",\"content\": user_prompt,}\n",
    "            ]\n",
    "        )\n",
    "\n",
    "        return chat_completion.choices[0].message.content\n",
    "\n",
    "\n",
    "    for filename in os.listdir('Prompts/prompts'):\n",
    "        index = filename[:-4][7:]\n",
    "        with open(f'Prompts/prompts/{filename}', 'r') as file:\n",
    "            system_prompt = file.read()\n",
    "            plan = create_travel_plan(system_prompt, user_prompt)\n",
    "            with open(f'Outputs/plans/Plan_{index}.txt', 'w') as f:\n",
    "                f.write(plan)"
   ]
  },
  {
   "cell_type": "code",
   "execution_count": 15,
   "metadata": {},
   "outputs": [],
   "source": [
    "if(generation_model == 'llama317B'):\n",
    "    for filename in os.listdir('Prompts/prompts'):\n",
    "        index = filename[:-4][7:]\n",
    "        with open(f'Prompts/prompts/{filename}', 'r') as file:\n",
    "            system_prompt = file.read()\n",
    "            prompt = user_prompt + system_prompt\n",
    "            response = ollama.generate(model='llama3.1', prompt=prompt, options={'num_ctx': 80000, 'temperature':0})\n",
    "            with open(f'Outputs/plans/Llama317B/Plan_{index}.txt', 'w') as f:\n",
    "                        f.write(response['response'])"
   ]
  },
  {
   "cell_type": "code",
   "execution_count": 16,
   "metadata": {},
   "outputs": [
    {
     "name": "stdout",
     "output_type": "stream",
     "text": [
      "Python version: 3.11.0 | packaged by Anaconda, Inc. | (main, Mar  1 2023, 18:18:21) [MSC v.1916 64 bit (AMD64)]\n"
     ]
    }
   ],
   "source": [
    "#check python version\n",
    "import sys\n",
    "print(\"Python version:\", sys.version)"
   ]
  },
  {
   "cell_type": "code",
   "execution_count": 17,
   "metadata": {},
   "outputs": [
    {
     "ename": "NameError",
     "evalue": "name 'nvidia' is not defined",
     "output_type": "error",
     "traceback": [
      "\u001b[1;31m---------------------------------------------------------------------------\u001b[0m",
      "\u001b[1;31mNameError\u001b[0m                                 Traceback (most recent call last)",
      "Cell \u001b[1;32mIn[17], line 1\u001b[0m\n\u001b[1;32m----> 1\u001b[0m \u001b[43mnvidia\u001b[49m\u001b[38;5;241m-\u001b[39msmi\n",
      "\u001b[1;31mNameError\u001b[0m: name 'nvidia' is not defined"
     ]
    }
   ],
   "source": [
    "nvidia-smi"
   ]
  },
  {
   "cell_type": "code",
   "execution_count": null,
   "metadata": {},
   "outputs": [],
   "source": [
    "#check the cuda version"
   ]
  }
 ],
 "metadata": {
  "kernelspec": {
   "display_name": "torchgpu",
   "language": "python",
   "name": "python3"
  },
  "language_info": {
   "codemirror_mode": {
    "name": "ipython",
    "version": 3
   },
   "file_extension": ".py",
   "mimetype": "text/x-python",
   "name": "python",
   "nbconvert_exporter": "python",
   "pygments_lexer": "ipython3",
   "version": "3.11.0"
  }
 },
 "nbformat": 4,
 "nbformat_minor": 2
}
