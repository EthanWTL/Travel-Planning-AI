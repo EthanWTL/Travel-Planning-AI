{
 "cells": [
  {
   "cell_type": "code",
   "execution_count": 1,
   "metadata": {},
   "outputs": [],
   "source": [
    "import os\n",
    "from openai import OpenAI\n",
    "from pydantic import BaseModel\n",
    "import json"
   ]
  },
  {
   "cell_type": "code",
   "execution_count": 2,
   "metadata": {},
   "outputs": [],
   "source": [
    "client = OpenAI(\n",
    "    api_key = os.getenv('OPEN_AI_API')\n",
    ")"
   ]
  },
  {
   "cell_type": "code",
   "execution_count": 3,
   "metadata": {},
   "outputs": [],
   "source": [
    "class breakfast(BaseModel):\n",
    "    name: str\n",
    "    address: str\n",
    "\n",
    "class morning_attraction(BaseModel):\n",
    "    name: str\n",
    "    address: str\n",
    "\n",
    "class lunch(BaseModel):\n",
    "    name: str\n",
    "    address: str\n",
    "\n",
    "class afternoon_attraction(BaseModel):\n",
    "    name: str\n",
    "    address: str\n",
    "\n",
    "class dinner(BaseModel):\n",
    "    name: str\n",
    "    address: str\n",
    "\n",
    "class night_attraction(BaseModel):\n",
    "    name: str\n",
    "    address: str\n",
    "\n",
    "class accommodation(BaseModel):\n",
    "    name: str\n",
    "    address: str\n",
    "\n",
    "class OneDay(BaseModel):\n",
    "    days: str\n",
    "    breakfast: breakfast\n",
    "    morning_attractions: list[morning_attraction]\n",
    "    lunch: lunch\n",
    "    afternoon_attractions: list[afternoon_attraction]\n",
    "    dinner: dinner\n",
    "    night_attractions: list[night_attraction]\n",
    "    accommodation: accommodation\n",
    "\n",
    "class WholePlan(BaseModel):\n",
    "    itinerary: list[OneDay]"
   ]
  },
  {
   "cell_type": "code",
   "execution_count": 4,
   "metadata": {},
   "outputs": [],
   "source": [
    "with open('Utils/Plan_extraction_task1.txt', 'r') as file:\n",
    "    system_prompt = file.read()"
   ]
  },
  {
   "cell_type": "code",
   "execution_count": 5,
   "metadata": {},
   "outputs": [
    {
     "data": {
      "text/plain": [
       "'Extract the travel itinerary and parse the businesses\\' information into the JSON format as below. Be faithful and concise. Correctly document the right number of the attractions. Only write down the name and address of the businesses. If certain recommendations (like meals or accommodations) are not provided, replace the information with \"-\" for name and address. If recommendations for a session of attraction is not provided, replace the information as an empty array. \\n\\n----- Example Starts -----\\n{\\n    \"itinerary\":[\\n        {   \\n            \"days\": \"x\",\\n            \"breakfast\": {\\n                \"name\": \"xxx\",\\n                \"address\": \"xxx\"\\n            },\\n            \"morning_attractions\": [\\n                {\\n                    \"name\": \"xxx\",\\n                    \"address\": \"xxx\"\\n                },\\n                {\\n                    \"name\": \"xxx\",\\n                    \"address\": \"xxx\"\\n                }\\n            ],\\n            \"lunch\": {\\n                \"name\": \"xxx\",\\n                \"address\": \"xxx\"\\n            },\\n            \"afternoon_attractions\": [\\n                {\\n                    \"name\": \"xxx\",\\n                    \"address\": \"xxx\"\\n                },\\n                {\\n                    \"name\": \"xxx\",\\n                    \"address\": \"xxx\"\\n                }\\n            ],\\n            \"dinner\": {\\n                \"name\": \"xxx\",\\n                \"address\": \"xxx\"\\n            },\\n            \"night_attractions\": [\\n                {\\n                    \"name\": \"xxx\",\\n                    \"address\": \"xxx\"\\n                },\\n                {\\n                    \"name\": \"xxx\",\\n                    \"address\": \"xxx\"\\n                }\\n            ],\\n            \"accommodation\": {\\n                \"name\": \"xxx\",\\n                \"address\": \"xxx\"\\n            }\\n        },\\n        {\\n            \"days\": \"x\",\\n            \"breakfast\": {\\n                \"name\": \"xxx\",\\n                \"address\": \"xxx\"\\n            },\\n            \"morning_attractions\": [\\n                {\\n                    \"name\": \"xxx\",\\n                    \"address\": \"xxx\"\\n                },\\n                {\\n                    \"name\": \"xxx\",\\n                    \"address\": \"xxx\"\\n                }\\n            ],\\n            \"lunch\": {\\n                \"name\": \"xxx\",\\n                \"address\": \"xxx\"\\n            },\\n            \"afternoon_attractions\": [\\n                {\\n                    \"name\": \"xxx\",\\n                    \"address\": \"xxx\"\\n                },\\n                {\\n                    \"name\": \"xxx\",\\n                    \"address\": \"xxx\"\\n                }\\n            ],\\n            \"dinner\": {\\n                \"name\": \"xxx\",\\n                \"address\": \"xxx\"\\n            },\\n            \"night_attractions\": [\\n                {\\n                    \"name\": \"xxx\",\\n                    \"address\": \"xxx\"\\n                },\\n                {\\n                    \"name\": \"xxx\",\\n                    \"address\": \"xxx\"\\n                }\\n            ],\\n            \"accommodation\": {\\n                \"name\": \"xxx\",\\n                \"address\": \"xxx\"\\n            }\\n        }\\n    ]\\n}\\n----- Example Ends -----'"
      ]
     },
     "execution_count": 5,
     "metadata": {},
     "output_type": "execute_result"
    }
   ],
   "source": [
    "system_prompt"
   ]
  },
  {
   "cell_type": "code",
   "execution_count": null,
   "metadata": {},
   "outputs": [],
   "source": [
    "def extract_plan(user_prompt, system_prompt):\n",
    "    chat_completion = client.beta.chat.completions.parse(\n",
    "        model=\"gpt-4o-mini\",\n",
    "        temperature=0,\n",
    "        messages=[\n",
    "            {\"role\": \"system\",\"content\": system_prompt,},\n",
    "            {\"role\": \"user\",\"content\": user_prompt,}\n",
    "        ],\n",
    "        response_format=WholePlan\n",
    "    )\n",
    "\n",
    "    return json.loads(chat_completion.choices[0].message.parsed.json())"
   ]
  },
  {
   "cell_type": "code",
   "execution_count": null,
   "metadata": {},
   "outputs": [],
   "source": [
    "for filename in os.listdir('Outputs/plans'):\n",
    "    index = filename[:-4][5:]\n",
    "    with open(f'Outputs/plans/{filename}', 'r') as file:\n",
    "        user_prompt = file.read()\n",
    "        plan_eval = extract_plan(system_prompt, user_prompt)\n",
    "        with open(f'Outputs/evals/Plan_Eval_{index}.json', 'w') as f:\n",
    "            json.dump(plan_eval, f, indent=4)"
   ]
  },
  {
   "cell_type": "code",
   "execution_count": 37,
   "metadata": {},
   "outputs": [],
   "source": [
    "#post process of the evaluation of each plan\n",
    "\n",
    "#carry on the hotel if not mentioned specifically\n",
    "for filename in os.listdir('Outputs/evals'):\n",
    "    with open(f'Outputs/evals/{filename}', 'r') as file:\n",
    "        plan_eval = json.load(file)\n",
    "        \n",
    "        hotel_list = []\n",
    "        hotel_carriedOn = []\n",
    "        current_hotel = {\"name\":\"-\", \"address\":\"-\"}\n",
    "\n",
    "        for day in plan_eval['itinerary']:\n",
    "            hotel_list.append(day['accommodation'])\n",
    "            \n",
    "        for item in hotel_list:\n",
    "            if item != {\"name\":\"-\", \"address\":\"-\"}:\n",
    "                current_hotel = item\n",
    "            hotel_carriedOn.append(current_hotel)\n",
    "        \n",
    "        for i in range(len(plan_eval['itinerary'])):\n",
    "            plan_eval['itinerary'][i]['accommodation'] = hotel_carriedOn[i]\n",
    "    \n",
    "    with open(f'Outputs/evals/{filename}', 'w') as f:\n",
    "        json.dump(plan_eval, f, indent=4)"
   ]
  },
  {
   "cell_type": "code",
   "execution_count": null,
   "metadata": {},
   "outputs": [],
   "source": []
  },
  {
   "cell_type": "code",
   "execution_count": null,
   "metadata": {},
   "outputs": [],
   "source": []
  },
  {
   "cell_type": "code",
   "execution_count": null,
   "metadata": {},
   "outputs": [],
   "source": []
  },
  {
   "cell_type": "code",
   "execution_count": null,
   "metadata": {},
   "outputs": [],
   "source": []
  },
  {
   "cell_type": "code",
   "execution_count": null,
   "metadata": {},
   "outputs": [],
   "source": []
  },
  {
   "cell_type": "code",
   "execution_count": null,
   "metadata": {},
   "outputs": [],
   "source": []
  },
  {
   "cell_type": "code",
   "execution_count": null,
   "metadata": {},
   "outputs": [],
   "source": []
  },
  {
   "cell_type": "code",
   "execution_count": null,
   "metadata": {},
   "outputs": [],
   "source": []
  },
  {
   "cell_type": "markdown",
   "metadata": {},
   "source": [
    "Test extraction from a plan missing info"
   ]
  },
  {
   "cell_type": "code",
   "execution_count": 35,
   "metadata": {},
   "outputs": [
    {
     "data": {
      "text/plain": [
       "{'itinerary': [{'days': '1',\n",
       "   'breakfast': {'name': '-', 'address': '-'},\n",
       "   'morning_attractions': [{'name': 'Independence Hall',\n",
       "     'address': '520 Chestnut St, Philadelphia, PA 19106'}],\n",
       "   'lunch': {'name': \"Campo's Philly Cheesesteaks\",\n",
       "    'address': '214 Market St, Philadelphia, PA 19106'},\n",
       "   'afternoon_attractions': [],\n",
       "   'dinner': {'name': 'Amada',\n",
       "    'address': '217 Chestnut St, Philadelphia, PA 19106'},\n",
       "   'night_attractions': [{'name': 'Spruce Street Harbor Park',\n",
       "     'address': '121 N Columbus Blvd, Philadelphia, PA 19106'}],\n",
       "   'accommodation': {'name': '-', 'address': '-'}},\n",
       "  {'days': '2',\n",
       "   'breakfast': {'name': 'Green Eggs Cafe',\n",
       "    'address': '1306 Dickinson St, Philadelphia, PA 19146'},\n",
       "   'morning_attractions': [{'name': 'Philadelphia Museum of Art',\n",
       "     'address': '2600 Benjamin Franklin Pkwy, Philadelphia, PA 19130'}],\n",
       "   'lunch': {'name': 'Barbuzzo',\n",
       "    'address': '110 S 13th St, Philadelphia, PA 19107'},\n",
       "   'afternoon_attractions': [{'name': \"Philadelphia's Magic Gardens\",\n",
       "     'address': '1020 S St, Philadelphia, PA 19147'},\n",
       "    {'name': 'Reading Terminal Market',\n",
       "     'address': '51 N 12th St, Philadelphia, PA 19107'}],\n",
       "   'dinner': {'name': 'Osteria',\n",
       "    'address': '640 N Broad St, Philadelphia, PA 19130'},\n",
       "   'night_attractions': [],\n",
       "   'accommodation': {'name': '-', 'address': '-'}}]}"
      ]
     },
     "execution_count": 35,
     "metadata": {},
     "output_type": "execute_result"
    }
   ],
   "source": [
    "with open('Outputs/Task1/Task1_1_missingInfo.txt', 'r') as file:\n",
    "    user_prompt = file.read()\n",
    "\n",
    "with open('Prompts/Task1_extract/Task1_extraction_prompt.txt', 'r') as file:\n",
    "    system_prompt = file.read()\n",
    "\n",
    "chat_completion = client.beta.chat.completions.parse(\n",
    "    model=\"gpt-4o-mini\",\n",
    "    temperature=0,\n",
    "    messages=[\n",
    "        {\"role\": \"system\",\"content\": system_prompt,},\n",
    "        {\"role\": \"user\",\"content\": user_prompt,}\n",
    "    ],\n",
    "    response_format=WholePlan\n",
    ")\n",
    "\n",
    "result = json.loads(chat_completion.choices[0].message.parsed.json())\n",
    "result"
   ]
  },
  {
   "cell_type": "code",
   "execution_count": 36,
   "metadata": {},
   "outputs": [],
   "source": [
    "with open('Outputs/Task1_json/Task1_json_1_missingInfo.json', 'w') as file:\n",
    "    json.dump(result, file, indent=4)"
   ]
  },
  {
   "cell_type": "code",
   "execution_count": null,
   "metadata": {},
   "outputs": [],
   "source": []
  },
  {
   "cell_type": "markdown",
   "metadata": {},
   "source": [
    "Test from a plan from out of pool and missing info"
   ]
  },
  {
   "cell_type": "code",
   "execution_count": 37,
   "metadata": {},
   "outputs": [
    {
     "data": {
      "text/plain": [
       "{'itinerary': [{'days': '1',\n",
       "   'breakfast': {'name': '-', 'address': '-'},\n",
       "   'morning_attractions': [{'name': 'Independence Hall',\n",
       "     'address': '520 Chestnut St, Philadelphia, PA 19106'}],\n",
       "   'lunch': {'name': 'Some Restaurant',\n",
       "    'address': '123 Road, Philadelphia, PA 19106'},\n",
       "   'afternoon_attractions': [],\n",
       "   'dinner': {'name': 'Amada',\n",
       "    'address': '217 Chestnut St, Philadelphia, PA 19106'},\n",
       "   'night_attractions': [{'name': 'Spruce Street Harbor Park',\n",
       "     'address': '121 N Columbus Blvd, Philadelphia, PA 19106'}],\n",
       "   'accommodation': {'name': '-', 'address': '-'}},\n",
       "  {'days': '2',\n",
       "   'breakfast': {'name': 'Green Eggs Cafe',\n",
       "    'address': '1306 Dickinson St, Philadelphia, PA 19146'},\n",
       "   'morning_attractions': [{'name': 'Philadelphia Museum of Art',\n",
       "     'address': '2600 Benjamin Franklin Pkwy, Philadelphia, PA 19130'}],\n",
       "   'lunch': {'name': 'Barbuzzo',\n",
       "    'address': '110 S 13th St, Philadelphia, PA 19107'},\n",
       "   'afternoon_attractions': [{'name': \"Ethan's shop\",\n",
       "     'address': '777 blvd N St, Philadelphia, PA 19147'},\n",
       "    {'name': 'Reading Terminal Market',\n",
       "     'address': '51 N 12th St, Philadelphia, PA 19107'}],\n",
       "   'dinner': {'name': 'Osteria',\n",
       "    'address': '640 N Broad St, Philadelphia, PA 19130'},\n",
       "   'night_attractions': [],\n",
       "   'accommodation': {'name': '-', 'address': '-'}}]}"
      ]
     },
     "execution_count": 37,
     "metadata": {},
     "output_type": "execute_result"
    }
   ],
   "source": [
    "with open('Outputs/Task1/Task1_1_outOfPool.txt', 'r') as file:\n",
    "    user_prompt = file.read()\n",
    "\n",
    "with open('Prompts/Task1_extract/Task1_extraction_prompt.txt', 'r') as file:\n",
    "    system_prompt = file.read()\n",
    "\n",
    "chat_completion = client.beta.chat.completions.parse(\n",
    "    model=\"gpt-4o-mini\",\n",
    "    temperature=0,\n",
    "    messages=[\n",
    "        {\"role\": \"system\",\"content\": system_prompt,},\n",
    "        {\"role\": \"user\",\"content\": user_prompt,}\n",
    "    ],\n",
    "    response_format=WholePlan\n",
    ")\n",
    "\n",
    "result = json.loads(chat_completion.choices[0].message.parsed.json())\n",
    "result"
   ]
  },
  {
   "cell_type": "code",
   "execution_count": 38,
   "metadata": {},
   "outputs": [],
   "source": [
    "with open('Outputs/Task1_json/Task1_json_1_outOfPool.json', 'w') as file:\n",
    "    json.dump(result, file, indent=4)"
   ]
  },
  {
   "cell_type": "code",
   "execution_count": null,
   "metadata": {},
   "outputs": [],
   "source": []
  }
 ],
 "metadata": {
  "kernelspec": {
   "display_name": "torchgpu",
   "language": "python",
   "name": "python3"
  },
  "language_info": {
   "codemirror_mode": {
    "name": "ipython",
    "version": 3
   },
   "file_extension": ".py",
   "mimetype": "text/x-python",
   "name": "python",
   "nbconvert_exporter": "python",
   "pygments_lexer": "ipython3",
   "version": "3.11.0"
  }
 },
 "nbformat": 4,
 "nbformat_minor": 2
}
