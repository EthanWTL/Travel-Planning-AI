{
 "cells": [
  {
   "cell_type": "code",
   "execution_count": 1,
   "metadata": {},
   "outputs": [],
   "source": [
    "import os\n",
    "from openai import OpenAI\n",
    "from pydantic import BaseModel\n",
    "import json"
   ]
  },
  {
   "cell_type": "code",
   "execution_count": 2,
   "metadata": {},
   "outputs": [],
   "source": [
    "client = OpenAI(\n",
    "    api_key = os.getenv('OPEN_AI_API')\n",
    ")"
   ]
  },
  {
   "cell_type": "code",
   "execution_count": 3,
   "metadata": {},
   "outputs": [],
   "source": [
    "class breakfast(BaseModel):\n",
    "    name: str\n",
    "    address: str\n",
    "\n",
    "class morning_attraction(BaseModel):\n",
    "    name: str\n",
    "    address: str\n",
    "\n",
    "class lunch(BaseModel):\n",
    "    name: str\n",
    "    address: str\n",
    "\n",
    "class afternoon_attraction(BaseModel):\n",
    "    name: str\n",
    "    address: str\n",
    "\n",
    "class dinner(BaseModel):\n",
    "    name: str\n",
    "    address: str\n",
    "\n",
    "class night_attraction(BaseModel):\n",
    "    name: str\n",
    "    address: str\n",
    "\n",
    "class accommodation(BaseModel):\n",
    "    name: str\n",
    "    address: str\n",
    "\n",
    "class OneDay(BaseModel):\n",
    "    days: str\n",
    "    breakfast: breakfast\n",
    "    morning_attractions: list[morning_attraction]\n",
    "    lunch: lunch\n",
    "    afternoon_attractions: list[afternoon_attraction]\n",
    "    dinner: dinner\n",
    "    night_attractions: list[night_attraction]\n",
    "    accommodation: accommodation\n",
    "\n",
    "class WholePlan(BaseModel):\n",
    "    itinerary: list[OneDay]"
   ]
  },
  {
   "cell_type": "code",
   "execution_count": 4,
   "metadata": {},
   "outputs": [],
   "source": [
    "with open('Utils/Plan_extraction_task1.txt', 'r') as file:\n",
    "    system_prompt = file.read()"
   ]
  },
  {
   "cell_type": "code",
   "execution_count": 5,
   "metadata": {},
   "outputs": [
    {
     "data": {
      "text/plain": [
       "'Extract the travel itinerary and parse the businesses\\' information into the JSON format as below. Be faithful and concise. Correctly document the right number of the attractions. Only write down the name and address of the businesses. If certain recommendations (like meals or accommodations) are not provided, replace the information with \"-\" for name and address. If recommendations for a session of attraction is not provided, replace the information as an empty array. \\n\\n----- Example Starts -----\\n{\\n    \"itinerary\":[\\n        {   \\n            \"days\": \"x\",\\n            \"breakfast\": {\\n                \"name\": \"xxx\",\\n                \"address\": \"xxx\"\\n            },\\n            \"morning_attractions\": [\\n                {\\n                    \"name\": \"xxx\",\\n                    \"address\": \"xxx\"\\n                },\\n                {\\n                    \"name\": \"xxx\",\\n                    \"address\": \"xxx\"\\n                }\\n            ],\\n            \"lunch\": {\\n                \"name\": \"xxx\",\\n                \"address\": \"xxx\"\\n            },\\n            \"afternoon_attractions\": [\\n                {\\n                    \"name\": \"xxx\",\\n                    \"address\": \"xxx\"\\n                },\\n                {\\n                    \"name\": \"xxx\",\\n                    \"address\": \"xxx\"\\n                }\\n            ],\\n            \"dinner\": {\\n                \"name\": \"xxx\",\\n                \"address\": \"xxx\"\\n            },\\n            \"night_attractions\": [\\n                {\\n                    \"name\": \"xxx\",\\n                    \"address\": \"xxx\"\\n                },\\n                {\\n                    \"name\": \"xxx\",\\n                    \"address\": \"xxx\"\\n                }\\n            ],\\n            \"accommodation\": {\\n                \"name\": \"xxx\",\\n                \"address\": \"xxx\"\\n            }\\n        },\\n        {\\n            \"days\": \"x\",\\n            \"breakfast\": {\\n                \"name\": \"xxx\",\\n                \"address\": \"xxx\"\\n            },\\n            \"morning_attractions\": [\\n                {\\n                    \"name\": \"xxx\",\\n                    \"address\": \"xxx\"\\n                },\\n                {\\n                    \"name\": \"xxx\",\\n                    \"address\": \"xxx\"\\n                }\\n            ],\\n            \"lunch\": {\\n                \"name\": \"xxx\",\\n                \"address\": \"xxx\"\\n            },\\n            \"afternoon_attractions\": [\\n                {\\n                    \"name\": \"xxx\",\\n                    \"address\": \"xxx\"\\n                },\\n                {\\n                    \"name\": \"xxx\",\\n                    \"address\": \"xxx\"\\n                }\\n            ],\\n            \"dinner\": {\\n                \"name\": \"xxx\",\\n                \"address\": \"xxx\"\\n            },\\n            \"night_attractions\": [\\n                {\\n                    \"name\": \"xxx\",\\n                    \"address\": \"xxx\"\\n                },\\n                {\\n                    \"name\": \"xxx\",\\n                    \"address\": \"xxx\"\\n                }\\n            ],\\n            \"accommodation\": {\\n                \"name\": \"xxx\",\\n                \"address\": \"xxx\"\\n            }\\n        }\\n    ]\\n}\\n----- Example Ends -----'"
      ]
     },
     "execution_count": 5,
     "metadata": {},
     "output_type": "execute_result"
    }
   ],
   "source": [
    "system_prompt"
   ]
  },
  {
   "cell_type": "code",
   "execution_count": 6,
   "metadata": {},
   "outputs": [],
   "source": [
    "def extract_plan(user_prompt, system_prompt):\n",
    "    chat_completion = client.beta.chat.completions.parse(\n",
    "        model=\"gpt-4o-mini\",\n",
    "        temperature=0,\n",
    "        messages=[\n",
    "            {\"role\": \"system\",\"content\": system_prompt,},\n",
    "            {\"role\": \"user\",\"content\": user_prompt,}\n",
    "        ],\n",
    "        response_format=WholePlan\n",
    "    )\n",
    "\n",
    "    return json.loads(chat_completion.choices[0].message.parsed.json())"
   ]
  },
  {
   "cell_type": "code",
   "execution_count": 7,
   "metadata": {},
   "outputs": [],
   "source": [
    "for filename in os.listdir('Outputs/plans'):\n",
    "    index = filename[:-4][5:]\n",
    "    with open(f'Outputs/plans/{filename}', 'r') as file:\n",
    "        user_prompt = file.read()\n",
    "        plan_eval = extract_plan(system_prompt, user_prompt)\n",
    "        with open(f'Outputs/evals/Plan_Eval_{index}.json', 'w') as f:\n",
    "            json.dump(plan_eval, f, indent=4)"
   ]
  },
  {
   "cell_type": "code",
   "execution_count": 8,
   "metadata": {},
   "outputs": [],
   "source": [
    "#post process of the evaluation of each plan\n",
    "\n",
    "#carry on the hotel if not mentioned specifically\n",
    "for filename in os.listdir('Outputs/evals'):\n",
    "    with open(f'Outputs/evals/{filename}', 'r') as file:\n",
    "        plan_eval = json.load(file)\n",
    "        \n",
    "        hotel_list = []\n",
    "        hotel_carriedOn = []\n",
    "        current_hotel = {\"name\":\"-\", \"address\":\"-\"}\n",
    "\n",
    "        for day in plan_eval['itinerary']:\n",
    "            hotel_list.append(day['accommodation'])\n",
    "            \n",
    "        for item in hotel_list:\n",
    "            if item != {\"name\":\"-\", \"address\":\"-\"}:\n",
    "                current_hotel = item\n",
    "            hotel_carriedOn.append(current_hotel)\n",
    "        \n",
    "        for i in range(len(plan_eval['itinerary'])):\n",
    "            plan_eval['itinerary'][i]['accommodation'] = hotel_carriedOn[i]\n",
    "    \n",
    "    with open(f'Outputs/evals/{filename}', 'w') as f:\n",
    "        json.dump(plan_eval, f, indent=4)"
   ]
  },
  {
   "cell_type": "code",
   "execution_count": null,
   "metadata": {},
   "outputs": [],
   "source": []
  },
  {
   "cell_type": "code",
   "execution_count": null,
   "metadata": {},
   "outputs": [],
   "source": []
  },
  {
   "cell_type": "code",
   "execution_count": null,
   "metadata": {},
   "outputs": [],
   "source": []
  },
  {
   "cell_type": "code",
   "execution_count": null,
   "metadata": {},
   "outputs": [],
   "source": []
  },
  {
   "cell_type": "code",
   "execution_count": null,
   "metadata": {},
   "outputs": [],
   "source": []
  },
  {
   "cell_type": "code",
   "execution_count": null,
   "metadata": {},
   "outputs": [],
   "source": []
  },
  {
   "cell_type": "code",
   "execution_count": null,
   "metadata": {},
   "outputs": [],
   "source": []
  },
  {
   "cell_type": "code",
   "execution_count": null,
   "metadata": {},
   "outputs": [],
   "source": []
  },
  {
   "cell_type": "markdown",
   "metadata": {},
   "source": [
    "Test extraction from a plan missing info"
   ]
  },
  {
   "cell_type": "code",
   "execution_count": 9,
   "metadata": {},
   "outputs": [
    {
     "ename": "FileNotFoundError",
     "evalue": "[Errno 2] No such file or directory: 'Outputs/Task1/Task1_1_missingInfo.txt'",
     "output_type": "error",
     "traceback": [
      "\u001b[1;31m---------------------------------------------------------------------------\u001b[0m",
      "\u001b[1;31mFileNotFoundError\u001b[0m                         Traceback (most recent call last)",
      "Cell \u001b[1;32mIn[9], line 1\u001b[0m\n\u001b[1;32m----> 1\u001b[0m \u001b[38;5;28;01mwith\u001b[39;00m \u001b[38;5;28;43mopen\u001b[39;49m\u001b[43m(\u001b[49m\u001b[38;5;124;43m'\u001b[39;49m\u001b[38;5;124;43mOutputs/Task1/Task1_1_missingInfo.txt\u001b[39;49m\u001b[38;5;124;43m'\u001b[39;49m\u001b[43m,\u001b[49m\u001b[43m \u001b[49m\u001b[38;5;124;43m'\u001b[39;49m\u001b[38;5;124;43mr\u001b[39;49m\u001b[38;5;124;43m'\u001b[39;49m\u001b[43m)\u001b[49m \u001b[38;5;28;01mas\u001b[39;00m file:\n\u001b[0;32m      2\u001b[0m     user_prompt \u001b[38;5;241m=\u001b[39m file\u001b[38;5;241m.\u001b[39mread()\n\u001b[0;32m      4\u001b[0m \u001b[38;5;28;01mwith\u001b[39;00m \u001b[38;5;28mopen\u001b[39m(\u001b[38;5;124m'\u001b[39m\u001b[38;5;124mPrompts/Task1_extract/Task1_extraction_prompt.txt\u001b[39m\u001b[38;5;124m'\u001b[39m, \u001b[38;5;124m'\u001b[39m\u001b[38;5;124mr\u001b[39m\u001b[38;5;124m'\u001b[39m) \u001b[38;5;28;01mas\u001b[39;00m file:\n",
      "File \u001b[1;32md:\\Anaconda\\envs\\torchgpu\\Lib\\site-packages\\IPython\\core\\interactiveshell.py:324\u001b[0m, in \u001b[0;36m_modified_open\u001b[1;34m(file, *args, **kwargs)\u001b[0m\n\u001b[0;32m    317\u001b[0m \u001b[38;5;28;01mif\u001b[39;00m file \u001b[38;5;129;01min\u001b[39;00m {\u001b[38;5;241m0\u001b[39m, \u001b[38;5;241m1\u001b[39m, \u001b[38;5;241m2\u001b[39m}:\n\u001b[0;32m    318\u001b[0m     \u001b[38;5;28;01mraise\u001b[39;00m \u001b[38;5;167;01mValueError\u001b[39;00m(\n\u001b[0;32m    319\u001b[0m         \u001b[38;5;124mf\u001b[39m\u001b[38;5;124m\"\u001b[39m\u001b[38;5;124mIPython won\u001b[39m\u001b[38;5;124m'\u001b[39m\u001b[38;5;124mt let you open fd=\u001b[39m\u001b[38;5;132;01m{\u001b[39;00mfile\u001b[38;5;132;01m}\u001b[39;00m\u001b[38;5;124m by default \u001b[39m\u001b[38;5;124m\"\u001b[39m\n\u001b[0;32m    320\u001b[0m         \u001b[38;5;124m\"\u001b[39m\u001b[38;5;124mas it is likely to crash IPython. If you know what you are doing, \u001b[39m\u001b[38;5;124m\"\u001b[39m\n\u001b[0;32m    321\u001b[0m         \u001b[38;5;124m\"\u001b[39m\u001b[38;5;124myou can use builtins\u001b[39m\u001b[38;5;124m'\u001b[39m\u001b[38;5;124m open.\u001b[39m\u001b[38;5;124m\"\u001b[39m\n\u001b[0;32m    322\u001b[0m     )\n\u001b[1;32m--> 324\u001b[0m \u001b[38;5;28;01mreturn\u001b[39;00m \u001b[43mio_open\u001b[49m\u001b[43m(\u001b[49m\u001b[43mfile\u001b[49m\u001b[43m,\u001b[49m\u001b[43m \u001b[49m\u001b[38;5;241;43m*\u001b[39;49m\u001b[43margs\u001b[49m\u001b[43m,\u001b[49m\u001b[43m \u001b[49m\u001b[38;5;241;43m*\u001b[39;49m\u001b[38;5;241;43m*\u001b[39;49m\u001b[43mkwargs\u001b[49m\u001b[43m)\u001b[49m\n",
      "\u001b[1;31mFileNotFoundError\u001b[0m: [Errno 2] No such file or directory: 'Outputs/Task1/Task1_1_missingInfo.txt'"
     ]
    }
   ],
   "source": [
    "with open('Outputs/Task1/Task1_1_missingInfo.txt', 'r') as file:\n",
    "    user_prompt = file.read()\n",
    "\n",
    "with open('Prompts/Task1_extract/Task1_extraction_prompt.txt', 'r') as file:\n",
    "    system_prompt = file.read()\n",
    "\n",
    "chat_completion = client.beta.chat.completions.parse(\n",
    "    model=\"gpt-4o-mini\",\n",
    "    temperature=0,\n",
    "    messages=[\n",
    "        {\"role\": \"system\",\"content\": system_prompt,},\n",
    "        {\"role\": \"user\",\"content\": user_prompt,}\n",
    "    ],\n",
    "    response_format=WholePlan\n",
    ")\n",
    "\n",
    "result = json.loads(chat_completion.choices[0].message.parsed.json())\n",
    "result"
   ]
  },
  {
   "cell_type": "code",
   "execution_count": null,
   "metadata": {},
   "outputs": [],
   "source": [
    "with open('Outputs/Task1_json/Task1_json_1_missingInfo.json', 'w') as file:\n",
    "    json.dump(result, file, indent=4)"
   ]
  },
  {
   "cell_type": "code",
   "execution_count": null,
   "metadata": {},
   "outputs": [],
   "source": []
  },
  {
   "cell_type": "markdown",
   "metadata": {},
   "source": [
    "Test from a plan from out of pool and missing info"
   ]
  },
  {
   "cell_type": "code",
   "execution_count": null,
   "metadata": {},
   "outputs": [
    {
     "data": {
      "text/plain": [
       "{'itinerary': [{'days': '1',\n",
       "   'breakfast': {'name': '-', 'address': '-'},\n",
       "   'morning_attractions': [{'name': 'Independence Hall',\n",
       "     'address': '520 Chestnut St, Philadelphia, PA 19106'}],\n",
       "   'lunch': {'name': 'Some Restaurant',\n",
       "    'address': '123 Road, Philadelphia, PA 19106'},\n",
       "   'afternoon_attractions': [],\n",
       "   'dinner': {'name': 'Amada',\n",
       "    'address': '217 Chestnut St, Philadelphia, PA 19106'},\n",
       "   'night_attractions': [{'name': 'Spruce Street Harbor Park',\n",
       "     'address': '121 N Columbus Blvd, Philadelphia, PA 19106'}],\n",
       "   'accommodation': {'name': '-', 'address': '-'}},\n",
       "  {'days': '2',\n",
       "   'breakfast': {'name': 'Green Eggs Cafe',\n",
       "    'address': '1306 Dickinson St, Philadelphia, PA 19146'},\n",
       "   'morning_attractions': [{'name': 'Philadelphia Museum of Art',\n",
       "     'address': '2600 Benjamin Franklin Pkwy, Philadelphia, PA 19130'}],\n",
       "   'lunch': {'name': 'Barbuzzo',\n",
       "    'address': '110 S 13th St, Philadelphia, PA 19107'},\n",
       "   'afternoon_attractions': [{'name': \"Ethan's shop\",\n",
       "     'address': '777 blvd N St, Philadelphia, PA 19147'},\n",
       "    {'name': 'Reading Terminal Market',\n",
       "     'address': '51 N 12th St, Philadelphia, PA 19107'}],\n",
       "   'dinner': {'name': 'Osteria',\n",
       "    'address': '640 N Broad St, Philadelphia, PA 19130'},\n",
       "   'night_attractions': [],\n",
       "   'accommodation': {'name': '-', 'address': '-'}}]}"
      ]
     },
     "execution_count": 37,
     "metadata": {},
     "output_type": "execute_result"
    }
   ],
   "source": [
    "with open('Outputs/Task1/Task1_1_outOfPool.txt', 'r') as file:\n",
    "    user_prompt = file.read()\n",
    "\n",
    "with open('Prompts/Task1_extract/Task1_extraction_prompt.txt', 'r') as file:\n",
    "    system_prompt = file.read()\n",
    "\n",
    "chat_completion = client.beta.chat.completions.parse(\n",
    "    model=\"gpt-4o-mini\",\n",
    "    temperature=0,\n",
    "    messages=[\n",
    "        {\"role\": \"system\",\"content\": system_prompt,},\n",
    "        {\"role\": \"user\",\"content\": user_prompt,}\n",
    "    ],\n",
    "    response_format=WholePlan\n",
    ")\n",
    "\n",
    "result = json.loads(chat_completion.choices[0].message.parsed.json())\n",
    "result"
   ]
  },
  {
   "cell_type": "code",
   "execution_count": null,
   "metadata": {},
   "outputs": [],
   "source": [
    "with open('Outputs/Task1_json/Task1_json_1_outOfPool.json', 'w') as file:\n",
    "    json.dump(result, file, indent=4)"
   ]
  },
  {
   "cell_type": "code",
   "execution_count": null,
   "metadata": {},
   "outputs": [],
   "source": []
  }
 ],
 "metadata": {
  "kernelspec": {
   "display_name": "torchgpu",
   "language": "python",
   "name": "python3"
  },
  "language_info": {
   "codemirror_mode": {
    "name": "ipython",
    "version": 3
   },
   "file_extension": ".py",
   "mimetype": "text/x-python",
   "name": "python",
   "nbconvert_exporter": "python",
   "pygments_lexer": "ipython3",
   "version": "3.11.0"
  }
 },
 "nbformat": 4,
 "nbformat_minor": 2
}
