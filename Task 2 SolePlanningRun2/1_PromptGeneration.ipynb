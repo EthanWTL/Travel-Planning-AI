{
 "cells": [
  {
   "cell_type": "code",
   "execution_count": 2,
   "metadata": {},
   "outputs": [],
   "source": [
    "import os"
   ]
  },
  {
   "cell_type": "code",
   "execution_count": 18,
   "metadata": {},
   "outputs": [],
   "source": [
    "for filename in os.listdir('Prompts/prompts'):\n",
    "    with open (f'Prompts/prompts/{filename}', 'r') as file:\n",
    "        prompt = file.read()\n",
    "    part1 = prompt[:-512]\n",
    "    OptimziationInstruction = 'Please be aware of optimization of the routes of attractions for each day as well as the whole plan'\n",
    "    part2 = prompt[-512:]\n",
    "\n",
    "    finalPrompt = part1 + ' ' + OptimziationInstruction + ' ' + part2\n",
    "    \n",
    "    with open (f'Prompts/prompts_routesOP/{filename}', 'w') as file:\n",
    "        file.write(finalPrompt)"
   ]
  },
  {
   "cell_type": "code",
   "execution_count": null,
   "metadata": {},
   "outputs": [],
   "source": []
  }
 ],
 "metadata": {
  "kernelspec": {
   "display_name": "torchgpu",
   "language": "python",
   "name": "python3"
  },
  "language_info": {
   "codemirror_mode": {
    "name": "ipython",
    "version": 3
   },
   "file_extension": ".py",
   "mimetype": "text/x-python",
   "name": "python",
   "nbconvert_exporter": "python",
   "pygments_lexer": "ipython3",
   "version": "3.11.11"
  }
 },
 "nbformat": 4,
 "nbformat_minor": 2
}
