{
 "cells": [
  {
   "cell_type": "code",
   "execution_count": 2,
   "metadata": {},
   "outputs": [],
   "source": [
    "#gpt4omini, llama317B\n",
    "generation_model = 'gpt4omini'"
   ]
  },
  {
   "cell_type": "code",
   "execution_count": 3,
   "metadata": {},
   "outputs": [],
   "source": [
    "import os\n",
    "from openai import OpenAI\n",
    "from pydantic import BaseModel\n",
    "import json"
   ]
  },
  {
   "cell_type": "code",
   "execution_count": 4,
   "metadata": {},
   "outputs": [],
   "source": [
    "client = OpenAI(\n",
    "    api_key = os.getenv('OPEN_AI_API')\n",
    ")"
   ]
  },
  {
   "cell_type": "code",
   "execution_count": 5,
   "metadata": {},
   "outputs": [],
   "source": [
    "class breakfast(BaseModel):\n",
    "    name: str\n",
    "    address: str\n",
    "\n",
    "class morning_attraction(BaseModel):\n",
    "    name: str\n",
    "    address: str\n",
    "\n",
    "class lunch(BaseModel):\n",
    "    name: str\n",
    "    address: str\n",
    "\n",
    "class afternoon_attraction(BaseModel):\n",
    "    name: str\n",
    "    address: str\n",
    "\n",
    "class dinner(BaseModel):\n",
    "    name: str\n",
    "    address: str\n",
    "\n",
    "class night_attraction(BaseModel):\n",
    "    name: str\n",
    "    address: str\n",
    "\n",
    "class accommodation(BaseModel):\n",
    "    name: str\n",
    "    address: str\n",
    "\n",
    "class OneDay(BaseModel):\n",
    "    days: str\n",
    "    breakfast: breakfast\n",
    "    morning_attractions: list[morning_attraction]\n",
    "    lunch: lunch\n",
    "    afternoon_attractions: list[afternoon_attraction]\n",
    "    dinner: dinner\n",
    "    night_attractions: list[night_attraction]\n",
    "    accommodation: accommodation\n",
    "\n",
    "class WholePlan(BaseModel):\n",
    "    itinerary: list[OneDay]"
   ]
  },
  {
   "cell_type": "code",
   "execution_count": 6,
   "metadata": {},
   "outputs": [],
   "source": [
    "with open('Utils/Plan_extraction_task1.txt', 'r') as file:\n",
    "    system_prompt = file.read()"
   ]
  },
  {
   "cell_type": "code",
   "execution_count": 7,
   "metadata": {},
   "outputs": [
    {
     "data": {
      "text/plain": [
       "'Extract the travel itinerary and parse the businesses\\' information into the JSON format as below. Be faithful and concise. Correctly document the right number of the attractions. Only write down the name and address of the businesses. If certain recommendations (like meals or accommodations) are not provided, replace the information with \"-\" for name and address. If recommendations for a session of attraction is not provided, replace the information as an empty array. \\n\\n----- Example Starts -----\\n{\\n    \"itinerary\":[\\n        {   \\n            \"days\": \"x\",\\n            \"breakfast\": {\\n                \"name\": \"xxx\",\\n                \"address\": \"xxx\"\\n            },\\n            \"morning_attractions\": [\\n                {\\n                    \"name\": \"xxx\",\\n                    \"address\": \"xxx\"\\n                },\\n                {\\n                    \"name\": \"xxx\",\\n                    \"address\": \"xxx\"\\n                }\\n            ],\\n            \"lunch\": {\\n                \"name\": \"xxx\",\\n                \"address\": \"xxx\"\\n            },\\n            \"afternoon_attractions\": [\\n                {\\n                    \"name\": \"xxx\",\\n                    \"address\": \"xxx\"\\n                },\\n                {\\n                    \"name\": \"xxx\",\\n                    \"address\": \"xxx\"\\n                }\\n            ],\\n            \"dinner\": {\\n                \"name\": \"xxx\",\\n                \"address\": \"xxx\"\\n            },\\n            \"night_attractions\": [\\n                {\\n                    \"name\": \"xxx\",\\n                    \"address\": \"xxx\"\\n                },\\n                {\\n                    \"name\": \"xxx\",\\n                    \"address\": \"xxx\"\\n                }\\n            ],\\n            \"accommodation\": {\\n                \"name\": \"xxx\",\\n                \"address\": \"xxx\"\\n            }\\n        },\\n        {\\n            \"days\": \"x\",\\n            \"breakfast\": {\\n                \"name\": \"xxx\",\\n                \"address\": \"xxx\"\\n            },\\n            \"morning_attractions\": [\\n                {\\n                    \"name\": \"xxx\",\\n                    \"address\": \"xxx\"\\n                },\\n                {\\n                    \"name\": \"xxx\",\\n                    \"address\": \"xxx\"\\n                }\\n            ],\\n            \"lunch\": {\\n                \"name\": \"xxx\",\\n                \"address\": \"xxx\"\\n            },\\n            \"afternoon_attractions\": [\\n                {\\n                    \"name\": \"xxx\",\\n                    \"address\": \"xxx\"\\n                },\\n                {\\n                    \"name\": \"xxx\",\\n                    \"address\": \"xxx\"\\n                }\\n            ],\\n            \"dinner\": {\\n                \"name\": \"xxx\",\\n                \"address\": \"xxx\"\\n            },\\n            \"night_attractions\": [\\n                {\\n                    \"name\": \"xxx\",\\n                    \"address\": \"xxx\"\\n                },\\n                {\\n                    \"name\": \"xxx\",\\n                    \"address\": \"xxx\"\\n                }\\n            ],\\n            \"accommodation\": {\\n                \"name\": \"xxx\",\\n                \"address\": \"xxx\"\\n            }\\n        }\\n    ]\\n}\\n----- Example Ends -----'"
      ]
     },
     "execution_count": 7,
     "metadata": {},
     "output_type": "execute_result"
    }
   ],
   "source": [
    "system_prompt"
   ]
  },
  {
   "cell_type": "code",
   "execution_count": 9,
   "metadata": {},
   "outputs": [],
   "source": [
    "def extract_plan(user_prompt, system_prompt):\n",
    "    chat_completion = client.beta.chat.completions.parse(\n",
    "        model=\"gpt-4o-mini\",\n",
    "        temperature=0,\n",
    "        messages=[\n",
    "            {\"role\": \"system\",\"content\": system_prompt,},\n",
    "            {\"role\": \"user\",\"content\": user_prompt,}\n",
    "        ],\n",
    "        response_format=WholePlan\n",
    "    )\n",
    "\n",
    "    return json.loads(chat_completion.choices[0].message.parsed.json())"
   ]
  },
  {
   "cell_type": "code",
   "execution_count": 10,
   "metadata": {},
   "outputs": [],
   "source": [
    "def extract_gpt4omini_plan():\n",
    "    for filename in os.listdir('Outputs/plans/gpt4omini'):\n",
    "        index = filename[:-4][5:]\n",
    "        with open(f'Outputs/plans/gpt4omini/{filename}', 'r') as file:\n",
    "            user_prompt = file.read()\n",
    "            plan_eval = extract_plan(system_prompt, user_prompt)\n",
    "            with open(f'Outputs/evals/gpt4omini/Plan_Eval_{index}.json', 'w') as f:\n",
    "                json.dump(plan_eval, f, indent=4)\n",
    "\n",
    "    #post process of the evaluation of each plan\n",
    "\n",
    "    #carry on the hotel if not mentioned specifically\n",
    "    for filename in os.listdir('Outputs/evals/gpt4omini'):\n",
    "        with open(f'Outputs/evals/gpt4omini/{filename}', 'r') as file:\n",
    "            plan_eval = json.load(file)\n",
    "            \n",
    "            hotel_list = []\n",
    "            hotel_carriedOn = []\n",
    "            current_hotel = {\"name\":\"-\", \"address\":\"-\"}\n",
    "\n",
    "            for day in plan_eval['itinerary']:\n",
    "                hotel_list.append(day['accommodation'])\n",
    "                \n",
    "            for item in hotel_list:\n",
    "                if item != {\"name\":\"-\", \"address\":\"-\"}:\n",
    "                    current_hotel = item\n",
    "                hotel_carriedOn.append(current_hotel)\n",
    "            \n",
    "            for i in range(len(plan_eval['itinerary'])):\n",
    "                plan_eval['itinerary'][i]['accommodation'] = hotel_carriedOn[i]\n",
    "        \n",
    "        with open(f'Outputs/evals/gpt4omini/{filename}', 'w') as f:\n",
    "            json.dump(plan_eval, f, indent=4)"
   ]
  },
  {
   "cell_type": "code",
   "execution_count": 9,
   "metadata": {},
   "outputs": [],
   "source": [
    "def extract_llama317B_plan():\n",
    "    for filename in os.listdir('Outputs/plans/Llama317B'):\n",
    "        index = filename[:-4][5:]\n",
    "        with open(f'Outputs/plans/Llama317B/{filename}', 'r') as file:\n",
    "            user_prompt = file.read()\n",
    "            plan_eval = extract_plan(system_prompt, user_prompt)\n",
    "            with open(f'Outputs/evals/Llama317B/Plan_Eval_{index}.json', 'w') as f:\n",
    "                json.dump(plan_eval, f, indent=4)\n",
    "\n",
    "    #post process of the evaluation of each plan\n",
    "\n",
    "    #carry on the hotel if not mentioned specifically\n",
    "    for filename in os.listdir('Outputs/evals/Llama317B/'):\n",
    "        with open(f'Outputs/evals/Llama317B/{filename}', 'r') as file:\n",
    "            plan_eval = json.load(file)\n",
    "            \n",
    "            hotel_list = []\n",
    "            hotel_carriedOn = []\n",
    "            current_hotel = {\"name\":\"-\", \"address\":\"-\"}\n",
    "\n",
    "            for day in plan_eval['itinerary']:\n",
    "                hotel_list.append(day['accommodation'])\n",
    "                \n",
    "            for item in hotel_list:\n",
    "                if item != {\"name\":\"-\", \"address\":\"-\"}:\n",
    "                    current_hotel = item\n",
    "                hotel_carriedOn.append(current_hotel)\n",
    "            \n",
    "            for i in range(len(plan_eval['itinerary'])):\n",
    "                plan_eval['itinerary'][i]['accommodation'] = hotel_carriedOn[i]\n",
    "        \n",
    "        with open(f'Outputs/evals/Llama317B/{filename}', 'w') as f:\n",
    "            json.dump(plan_eval, f, indent=4)"
   ]
  },
  {
   "cell_type": "code",
   "execution_count": 11,
   "metadata": {},
   "outputs": [],
   "source": [
    "if generation_model == 'llama317B':\n",
    "    extract_llama317B_plan()\n",
    "if generation_model == 'gpt4omini':\n",
    "    extract_gpt4omini_plan()"
   ]
  },
  {
   "cell_type": "code",
   "execution_count": null,
   "metadata": {},
   "outputs": [],
   "source": []
  }
 ],
 "metadata": {
  "kernelspec": {
   "display_name": "torchgpu",
   "language": "python",
   "name": "python3"
  },
  "language_info": {
   "codemirror_mode": {
    "name": "ipython",
    "version": 3
   },
   "file_extension": ".py",
   "mimetype": "text/x-python",
   "name": "python",
   "nbconvert_exporter": "python",
   "pygments_lexer": "ipython3",
   "version": "3.11.0"
  }
 },
 "nbformat": 4,
 "nbformat_minor": 2
}
