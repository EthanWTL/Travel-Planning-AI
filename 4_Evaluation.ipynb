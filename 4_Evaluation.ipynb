{
 "cells": [
  {
   "cell_type": "code",
   "execution_count": 6,
   "metadata": {},
   "outputs": [],
   "source": [
    "import json\n",
    "from fuzzywuzzy import fuzz\n",
    "import numpy as np"
   ]
  },
  {
   "cell_type": "code",
   "execution_count": 5,
   "metadata": {},
   "outputs": [],
   "source": [
    "with open ('Outputs/Task1_json/Task1_json_1.json') as f:\n",
    "    plan = json.load(f)"
   ]
  },
  {
   "cell_type": "code",
   "execution_count": 6,
   "metadata": {},
   "outputs": [],
   "source": [
    "with open ('Prompts/Task1_eval/Task1_eval_1.json') as f:\n",
    "    eval = json.load(f)"
   ]
  },
  {
   "cell_type": "code",
   "execution_count": 4,
   "metadata": {},
   "outputs": [],
   "source": [
    "with open ('Datasets/Restaurants_task1.jsonl', 'r') as file:\n",
    "    restaurants = [json.loads(line.strip()) for line in file]\n",
    "\n",
    "with open ('Datasets/Hotels_task1.jsonl', 'r') as file:\n",
    "    hotels = [json.loads(line.strip()) for line in file]\n",
    "\n",
    "with open ('Datasets/Attractions_task1.jsonl', 'r') as file:\n",
    "    attractions = [json.loads(line.strip()) for line in file]\n",
    "\n",
    "def getID(name,address,category):\n",
    "    #if there is any information that is missing and the extraction tool got -\n",
    "    if name == \"-\" or address == \"-\":\n",
    "        return -2\n",
    "\n",
    "    #normal case\n",
    "    idFromName = []\n",
    "    idFromAddress = []\n",
    "\n",
    "    address = address.split(\",\")[0]\n",
    "    \n",
    "    #restaurants\n",
    "    if category == 'restaurants':\n",
    "        for restaurant in restaurants:\n",
    "            if restaurant['name'].lower() == name.lower():\n",
    "                idFromName.append(restaurant['business_id'])\n",
    "            if restaurant['address'].lower() == address.lower():\n",
    "                idFromAddress.append(restaurant['business_id'])\n",
    "        set1 = set(idFromName)\n",
    "        set2 = set(idFromAddress)\n",
    "        #if the extracted id from name and address make an agreement\n",
    "        if(len(set1 & set2) == 1):\n",
    "            return list(set1 & set2)[0]\n",
    "        # we have to use similarity score to determine the id\n",
    "        else:\n",
    "            name_sim_score = []\n",
    "            address_sim_score = []\n",
    "\n",
    "            for restaurant in restaurants:\n",
    "                name_sim_score.append(fuzz.ratio(name.lower(), restaurant['name'].lower()))\n",
    "                address_sim_score.append(fuzz.ratio(address.lower(), restaurant['address'].lower()))\n",
    "\n",
    "            scores = np.array(name_sim_score) + np.array(address_sim_score)\n",
    "            #if the score is high enough, then we claim the id\n",
    "            if max(scores) >= 120:\n",
    "                return restaurants[np.argmax(scores)]['business_id']\n",
    "            #if the score is less than 60 for each, then we indicate that the business is out of the pool\n",
    "            else:\n",
    "                return -1\n",
    "    #attractions\n",
    "    if category == 'attractions':\n",
    "        for attraction in attractions:\n",
    "            if attraction['name'].lower() == name.lower():\n",
    "                idFromName.append(attraction['business_id'])\n",
    "            if attraction['address'].lower() == address.lower():\n",
    "                idFromAddress.append(attraction['business_id'])\n",
    "        \n",
    "        set1 = set(idFromName)\n",
    "        set2 = set(idFromAddress)\n",
    "\n",
    "        if(len(set1 & set2) == 1):\n",
    "            return list(set1 & set2)[0]\n",
    "        else:\n",
    "            name_sim_score = []\n",
    "            address_sim_score = []\n",
    "\n",
    "            for attraction in attractions:\n",
    "                name_sim_score.append(fuzz.ratio(name.lower(), attraction['name'].lower()))\n",
    "                address_sim_score.append(fuzz.ratio(address.lower(), attraction['address'].lower()))\n",
    "\n",
    "            scores = np.array(name_sim_score) + np.array(address_sim_score)\n",
    "            if max(scores) >= 120:\n",
    "                return attractions[np.argmax(scores)]['business_id']\n",
    "            else:\n",
    "                return -1\n",
    "    #hotels\n",
    "    if category == 'hotels':\n",
    "        for hotel in hotels:\n",
    "            if hotel['name'].lower() == name.lower():\n",
    "                idFromName.append(hotel['business_id'])\n",
    "            if hotel['address'].lower() == address.lower():\n",
    "                idFromAddress.append(hotel['business_id'])\n",
    "        set1 = set(idFromName)\n",
    "        set2 = set(idFromAddress)\n",
    "        if(len(set1 & set2) == 1):\n",
    "            return list(set1 & set2)[0]\n",
    "        else:\n",
    "            name_sim_score = []\n",
    "            address_sim_score = []\n",
    "\n",
    "            for hotel in hotels:\n",
    "                name_sim_score.append(fuzz.ratio(name.lower(), hotel['name'].lower()))\n",
    "                address_sim_score.append(fuzz.ratio(address.lower(), hotel['address'].lower()))\n",
    "\n",
    "            scores = np.array(name_sim_score) + np.array(address_sim_score)\n",
    "            if max(scores) >= 120:\n",
    "                return hotels[np.argmax(scores)]['business_id']\n",
    "            else:\n",
    "                return -1"
   ]
  },
  {
   "cell_type": "code",
   "execution_count": 8,
   "metadata": {},
   "outputs": [
    {
     "data": {
      "text/plain": [
       "[{'days': '1',\n",
       "  'breakfast': 'TwnzM8mJn_nT2PJf1x-9kQ',\n",
       "  'morning_attractions': ['Ib9HV7ekw459jM1Ksdiyiw'],\n",
       "  'lunch': 'wHkYLlZyPXllrQRlvidUlg',\n",
       "  'afternoon_attractions': ['kbEVlzQLcYS3JSQPG9QMOQ',\n",
       "   '8_O6LXLyMgpq1g9CIwcW4w'],\n",
       "  'dinner': 'S8ZFYEgMejpChID8tzKo9A',\n",
       "  'night_attractions': ['pxZAz8pv18wK_t-m8WpN0g'],\n",
       "  'accommodation': '3QPAh9VvYNTnqAFgBeBcng'},\n",
       " {'days': '2',\n",
       "  'breakfast': 'rYqmaOIULRouz_1db07OdQ',\n",
       "  'morning_attractions': ['Qw7tz-UkPrpXaVidWuab4Q'],\n",
       "  'lunch': '6ajnOk0GcY9xbb5Ocaw8Gw',\n",
       "  'afternoon_attractions': ['4mWzXhD8vo0bABVCGAhlqA',\n",
       "   'ytynqOUb3hjKeJfRj5Tshw'],\n",
       "  'dinner': '05ev984NYfimRN0UiFrxaA',\n",
       "  'night_attractions': ['dBRWKIS7h-qZCi8EjUJ2HA'],\n",
       "  'accommodation': '3QPAh9VvYNTnqAFgBeBcng'}]"
      ]
     },
     "execution_count": 8,
     "metadata": {},
     "output_type": "execute_result"
    }
   ],
   "source": [
    "plan_eval = []\n",
    "for days in plan['itinerary']:\n",
    "    day = {}\n",
    "    day['days'] = days['days']\n",
    "    day['breakfast'] = getID(days['breakfast']['name'],days['breakfast']['address'],'restaurants')\n",
    "    day['morning_attractions'] = [getID(attraction['name'],attraction['address'],'attractions') for attraction in days['morning_attractions']]\n",
    "    day['lunch'] = getID(days['lunch']['name'],days['lunch']['address'],'restaurants')\n",
    "    day['afternoon_attractions'] = [getID(attraction['name'],attraction['address'],'attractions') for attraction in days['afternoon_attractions']]\n",
    "    day['dinner'] = getID(days['dinner']['name'],days['dinner']['address'],'restaurants')\n",
    "    day['night_attractions'] = [getID(attraction['name'],attraction['address'],'attractions') for attraction in days['night_attractions']]\n",
    "    day['accommodation'] = getID(days['accommodation']['name'],days['accommodation']['address'],'hotels')\n",
    "    plan_eval.append(day)\n",
    "plan_eval"
   ]
  },
  {
   "cell_type": "markdown",
   "metadata": {},
   "source": [
    "3. Micro (is each reccommendation meet the preference)"
   ]
  },
  {
   "cell_type": "markdown",
   "metadata": {},
   "source": [
    "### Failure Rate"
   ]
  },
  {
   "cell_type": "markdown",
   "metadata": {},
   "source": [
    "1. Outside the pool"
   ]
  },
  {
   "cell_type": "code",
   "execution_count": 9,
   "metadata": {},
   "outputs": [],
   "source": [
    "with open ('Outputs/Task1_json/Task1_json_1_outOfPool.json') as f:\n",
    "    plan_outOfPool = json.load(f)"
   ]
  },
  {
   "cell_type": "code",
   "execution_count": 10,
   "metadata": {},
   "outputs": [
    {
     "data": {
      "text/plain": [
       "[{'days': '1',\n",
       "  'breakfast': -2,\n",
       "  'morning_attractions': ['Ib9HV7ekw459jM1Ksdiyiw'],\n",
       "  'lunch': -1,\n",
       "  'afternoon_attractions': [],\n",
       "  'dinner': 'S8ZFYEgMejpChID8tzKo9A',\n",
       "  'night_attractions': ['pxZAz8pv18wK_t-m8WpN0g'],\n",
       "  'accommodation': -2},\n",
       " {'days': '2',\n",
       "  'breakfast': 'rYqmaOIULRouz_1db07OdQ',\n",
       "  'morning_attractions': ['Qw7tz-UkPrpXaVidWuab4Q'],\n",
       "  'lunch': '6ajnOk0GcY9xbb5Ocaw8Gw',\n",
       "  'afternoon_attractions': [-1, 'ytynqOUb3hjKeJfRj5Tshw'],\n",
       "  'dinner': '05ev984NYfimRN0UiFrxaA',\n",
       "  'night_attractions': [],\n",
       "  'accommodation': -2}]"
      ]
     },
     "execution_count": 10,
     "metadata": {},
     "output_type": "execute_result"
    }
   ],
   "source": [
    "plan_eval_outOfPool = []\n",
    "for days in plan_outOfPool['itinerary']:\n",
    "    day = {}\n",
    "    day['days'] = days['days']\n",
    "    day['breakfast'] = getID(days['breakfast']['name'],days['breakfast']['address'],'restaurants')\n",
    "    day['morning_attractions'] = [getID(attraction['name'],attraction['address'],'attractions') for attraction in days['morning_attractions']]\n",
    "    day['lunch'] = getID(days['lunch']['name'],days['lunch']['address'],'restaurants')\n",
    "    day['afternoon_attractions'] = [getID(attraction['name'],attraction['address'],'attractions') for attraction in days['afternoon_attractions']]\n",
    "    day['dinner'] = getID(days['dinner']['name'],days['dinner']['address'],'restaurants')\n",
    "    day['night_attractions'] = [getID(attraction['name'],attraction['address'],'attractions') for attraction in days['night_attractions']]\n",
    "    day['accommodation'] = getID(days['accommodation']['name'],days['accommodation']['address'],'hotels')\n",
    "    plan_eval_outOfPool.append(day)\n",
    "plan_eval_outOfPool"
   ]
  },
  {
   "cell_type": "code",
   "execution_count": 11,
   "metadata": {},
   "outputs": [
    {
     "name": "stdout",
     "output_type": "stream",
     "text": [
      "outside the pool\n",
      "outside the pool\n"
     ]
    }
   ],
   "source": [
    "for day in plan_eval_outOfPool:\n",
    "    for key,value in day.items():\n",
    "        if isinstance(value, list):\n",
    "            for id in value:\n",
    "                if id == -1:\n",
    "                    print('outside the pool')\n",
    "        else:\n",
    "            if value == -1:\n",
    "                print('outside the pool')"
   ]
  },
  {
   "cell_type": "markdown",
   "metadata": {},
   "source": [
    "2. Missing info"
   ]
  },
  {
   "cell_type": "code",
   "execution_count": 12,
   "metadata": {},
   "outputs": [],
   "source": [
    "with open ('Outputs/Task1_json/Task1_json_1_missingInfo.json') as f:\n",
    "    plan_missingInfo = json.load(f)"
   ]
  },
  {
   "cell_type": "code",
   "execution_count": 13,
   "metadata": {},
   "outputs": [
    {
     "data": {
      "text/plain": [
       "[{'days': '1',\n",
       "  'breakfast': -2,\n",
       "  'morning_attractions': ['Ib9HV7ekw459jM1Ksdiyiw'],\n",
       "  'lunch': 'wHkYLlZyPXllrQRlvidUlg',\n",
       "  'afternoon_attractions': [],\n",
       "  'dinner': 'S8ZFYEgMejpChID8tzKo9A',\n",
       "  'night_attractions': ['pxZAz8pv18wK_t-m8WpN0g'],\n",
       "  'accommodation': -2},\n",
       " {'days': '2',\n",
       "  'breakfast': 'rYqmaOIULRouz_1db07OdQ',\n",
       "  'morning_attractions': ['Qw7tz-UkPrpXaVidWuab4Q'],\n",
       "  'lunch': '6ajnOk0GcY9xbb5Ocaw8Gw',\n",
       "  'afternoon_attractions': ['4mWzXhD8vo0bABVCGAhlqA',\n",
       "   'ytynqOUb3hjKeJfRj5Tshw'],\n",
       "  'dinner': '05ev984NYfimRN0UiFrxaA',\n",
       "  'night_attractions': [],\n",
       "  'accommodation': -2}]"
      ]
     },
     "execution_count": 13,
     "metadata": {},
     "output_type": "execute_result"
    }
   ],
   "source": [
    "plan_eval_missingInfo = []\n",
    "for days in plan_missingInfo['itinerary']:\n",
    "    day = {}\n",
    "    day['days'] = days['days']\n",
    "    day['breakfast'] = getID(days['breakfast']['name'],days['breakfast']['address'],'restaurants')\n",
    "    day['morning_attractions'] = [getID(attraction['name'],attraction['address'],'attractions') for attraction in days['morning_attractions']]\n",
    "    day['lunch'] = getID(days['lunch']['name'],days['lunch']['address'],'restaurants')\n",
    "    day['afternoon_attractions'] = [getID(attraction['name'],attraction['address'],'attractions') for attraction in days['afternoon_attractions']]\n",
    "    day['dinner'] = getID(days['dinner']['name'],days['dinner']['address'],'restaurants')\n",
    "    day['night_attractions'] = [getID(attraction['name'],attraction['address'],'attractions') for attraction in days['night_attractions']]\n",
    "    day['accommodation'] = getID(days['accommodation']['name'],days['accommodation']['address'],'hotels')\n",
    "    plan_eval_missingInfo.append(day)\n",
    "plan_eval_missingInfo"
   ]
  },
  {
   "cell_type": "code",
   "execution_count": 14,
   "metadata": {},
   "outputs": [
    {
     "name": "stdout",
     "output_type": "stream",
     "text": [
      "miss other info\n",
      "miss list info\n",
      "miss other info\n",
      "miss other info\n",
      "miss info\n"
     ]
    }
   ],
   "source": [
    "miss_info = False\n",
    "\n",
    "for day in plan_eval_missingInfo:\n",
    "    for key,value in day.items():\n",
    "        #night attraction can be skipped\n",
    "        if key == 'night_attractions':\n",
    "            continue\n",
    "\n",
    "        if isinstance(value, list):\n",
    "           if(len(value) == 0):\n",
    "                print('miss list info')\n",
    "                miss_info = True\n",
    "        else:\n",
    "            if value == -2:\n",
    "                print('miss other info')\n",
    "                miss_info = True\n",
    "\n",
    "if(miss_info):\n",
    "    print(\"miss info\")"
   ]
  },
  {
   "cell_type": "markdown",
   "metadata": {},
   "source": [
    "(?/X) satisfied - micro, (?/1) passes - macro"
   ]
  },
  {
   "cell_type": "code",
   "execution_count": 16,
   "metadata": {},
   "outputs": [
    {
     "data": {
      "text/plain": [
       "{'day': ['2 day'],\n",
       " 'price': ['moderate budget'],\n",
       " 'attraction': ['activity oriented'],\n",
       " 'cuisine': ['Italian'],\n",
       " 'restaurants': [],\n",
       " 'hotel': ['good quality', 'good location'],\n",
       " 'preference_count': [6]}"
      ]
     },
     "execution_count": 16,
     "metadata": {},
     "output_type": "execute_result"
    }
   ],
   "source": [
    "eval"
   ]
  },
  {
   "cell_type": "code",
   "execution_count": 19,
   "metadata": {},
   "outputs": [
    {
     "data": {
      "text/plain": [
       "6"
      ]
     },
     "execution_count": 19,
     "metadata": {},
     "output_type": "execute_result"
    }
   ],
   "source": [
    "preference_count = eval['preference_count'][0]\n",
    "preference_count"
   ]
  },
  {
   "cell_type": "code",
   "execution_count": 234,
   "metadata": {},
   "outputs": [],
   "source": [
    "plan_test = [{\n",
    "    'days': '1',\n",
    "    'breakfast': -2,\n",
    "    'morning_attractions': ['Ib9HV7ekw459jM1Ksdiyiw'],\n",
    "    'lunch': -1,\n",
    "    'afternoon_attractions': [],\n",
    "    'dinner': 'qCpdeQYPf9i1EZhTnQgjtg',\n",
    "    'night_attractions': ['pxZAz8pv18wK_t-m8WpN0g'],\n",
    "    'accommodation': 'QMHd6Z2djm_SBLzGhLvFqw'\n",
    "},\n",
    "{\n",
    "    'days': '2',\n",
    "    'breakfast': 'rYqmaOIULRouz_1db07OdQ',\n",
    "    'morning_attractions': ['Qw7tz-UkPrpXaVidWuab4Q'],\n",
    "    'lunch': '6ajnOk0GcY9xbb5Ocaw8Gw',\n",
    "    'afternoon_attractions': [-1, 'ytynqOUb3hjKeJfRj5Tshw'],\n",
    "    'dinner': '05ev984NYfimRN0UiFrxaA',\n",
    "    'night_attractions': [],\n",
    "    'accommodation': 'QMHd6Z2djm_SBLzGhLvFqw'\n",
    "}]"
   ]
  },
  {
   "cell_type": "code",
   "execution_count": 209,
   "metadata": {},
   "outputs": [],
   "source": [
    "eval_test = {\n",
    "    \"day\": [\n",
    "        \"2 day\"\n",
    "    ],\n",
    "    \"price\": [\n",
    "        \"moderate budget\"\n",
    "    ],\n",
    "    \"attraction\": [\n",
    "        \"activity oriented\"\n",
    "    ],\n",
    "    \"cuisine\": [\n",
    "        \"Italian\"\n",
    "    ],\n",
    "    \"restaurants\": [\n",
    "        \"good flavor\",\n",
    "        \"good freshness\"\n",
    "    ],\n",
    "    \"hotel\": [\n",
    "        \"good quality\",\n",
    "        \"good location\"\n",
    "    ],\n",
    "    \"preference_count\": [\n",
    "        8\n",
    "    ]\n",
    "}"
   ]
  },
  {
   "cell_type": "code",
   "execution_count": 144,
   "metadata": {},
   "outputs": [],
   "source": [
    "preference_satisfied = 0"
   ]
  },
  {
   "cell_type": "code",
   "execution_count": 173,
   "metadata": {},
   "outputs": [],
   "source": [
    "with open ('Datasets/Restaurants_task1.jsonl', 'r') as file:\n",
    "    restaurants = [json.loads(line.strip()) for line in file]\n",
    "\n",
    "with open ('Datasets/Hotels_task1.jsonl', 'r') as file:\n",
    "    hotels = [json.loads(line.strip()) for line in file]\n",
    "\n",
    "with open ('Datasets/Attractions_task1.jsonl', 'r') as file:\n",
    "    attractions = [json.loads(line.strip()) for line in file]"
   ]
  },
  {
   "cell_type": "code",
   "execution_count": 196,
   "metadata": {},
   "outputs": [
    {
     "name": "stdout",
     "output_type": "stream",
     "text": [
      "1 / 1 True\n"
     ]
    }
   ],
   "source": [
    "#day\n",
    "day_numerator = 0\n",
    "day_denominator = 1\n",
    "day_satisfied = False\n",
    "\n",
    "if(len(plan_test) == int(eval['day'][0][0])):\n",
    "    day_satisfied = True\n",
    "    day_numerator = 1\n",
    "if(day_satisfied):\n",
    "    preference_satisfied += 1\n",
    "print(day_numerator, \"/\", day_denominator, day_satisfied)"
   ]
  },
  {
   "cell_type": "code",
   "execution_count": 222,
   "metadata": {},
   "outputs": [
    {
     "name": "stdout",
     "output_type": "stream",
     "text": [
      "our price limit is:  ['$', '$$', '$$$']\n",
      "============================\n",
      "=== Meals ======\n",
      "this meal is out of pool or missing\n",
      "this meal is out of pool or missing\n",
      "the price is within the range\n",
      "the price is within the range\n",
      "the price is within the range\n",
      "the price is within the range\n",
      "=== Hotel ======\n",
      "the price is within the range\n",
      "the price is within the range\n",
      "=== Attractions ======\n",
      "the price is withint the range\n",
      "the price is withint the range\n",
      "the price is withint the range\n",
      "the attraction is out of pool or missing\n",
      "the price is withint the range\n",
      "1 / 1 True\n"
     ]
    }
   ],
   "source": [
    "#price\n",
    "price_numerator = 1\n",
    "price_denominator = 1\n",
    "price_satisfied = True\n",
    "\n",
    "price_map = {'cheap budget':['$','$$'],'moderate budget':['$','$$','$$$'],'expensive':['$','$$','$$$','$$$$']}\n",
    "price_limit = price_map[eval['price'][0]]\n",
    "print('our price limit is: ', price_limit)\n",
    "print(\"============================\")\n",
    "\n",
    "#price - meals\n",
    "print(\"=== Meals ======\")\n",
    "all_meals = []\n",
    "for day in plan_test:\n",
    "    all_meals.append(day['breakfast'])\n",
    "    all_meals.append(day['lunch'])\n",
    "    all_meals.append(day['dinner'])\n",
    "\n",
    "for restaurant_id in all_meals:\n",
    "    if restaurant_id != -1 and restaurant_id != -2:\n",
    "        for restaurant in restaurants:\n",
    "            if(restaurant['business_id'] == restaurant_id):\n",
    "                if(restaurant['price'] in price_limit):\n",
    "                    print(\"the price is within the range\")\n",
    "                else:\n",
    "                    print(\"the price is out side the range\")\n",
    "                    price_satisfied = False\n",
    "                    price_numerator = 0\n",
    "    else:\n",
    "        print(f\"this meal is out of pool or missing\")\n",
    "\n",
    "\n",
    "#price hotel\n",
    "print(\"=== Hotel ======\")\n",
    "for day in plan_test:\n",
    "    hotel_id = day['accommodation']\n",
    "    #hotel_id = 'QMHd6Z2djm_SBLzGhLvFqw'\n",
    "    if hotel_id != -1 and hotel_id != -2:\n",
    "        for hotel in hotels:\n",
    "            if(hotel['business_id'] == hotel_id):    \n",
    "                if(hotel['price'] in price_limit):\n",
    "                    print(\"the price is within the range\")\n",
    "                else:\n",
    "                    print(\"the price is out side the range\")\n",
    "                    price_satisfied = False\n",
    "                    price_numerator = 0\n",
    "    else:\n",
    "        print(f\"the hotel is out of pool or missing\")\n",
    "\n",
    "\n",
    "#price - attractions\n",
    "print(\"=== Attractions ======\")\n",
    "all_attractions = []\n",
    "for day in plan_test:\n",
    "    for id in day['morning_attractions']:\n",
    "        all_attractions.append(id)\n",
    "    for id in day['afternoon_attractions']:\n",
    "        all_attractions.append(id)\n",
    "    for id in day['night_attractions']:\n",
    "        all_attractions.append(id)\n",
    "for attraction_id in all_attractions:\n",
    "    if attraction_id != -1 and attraction_id != -2:\n",
    "        for attraction in attractions:\n",
    "            if(attraction['business_id'] == attraction_id):\n",
    "                if(attraction['price'] in price_limit):\n",
    "                    print(\"the price is withint the range\")\n",
    "                else:\n",
    "                    print(\"the price is out side the range\")\n",
    "                    price_satisfied = False\n",
    "                    price_numerator = 0\n",
    "    else:\n",
    "        print(f\"the attraction is out of pool or missing\")\n",
    "\n",
    "\n",
    "print(price_numerator, \"/\", price_denominator, price_satisfied)"
   ]
  },
  {
   "cell_type": "code",
   "execution_count": 224,
   "metadata": {},
   "outputs": [
    {
     "name": "stdout",
     "output_type": "stream",
     "text": [
      "['medium activity oriented', 'high activity oriented']\n",
      "attraction orientation is not acceptable which is:  low activity oriented\n",
      "attraction orientation is acceptablem which is:  medium activity oriented\n",
      "attraction orientation is not acceptable which is:  low activity oriented\n",
      "attraction orientation is acceptablem which is:  medium activity oriented\n",
      "0 / 1 False\n"
     ]
    }
   ],
   "source": [
    "#attraction orientation\n",
    "orientation_numerator = 1\n",
    "orientation_denominator = 1\n",
    "orientation_satisfied = True\n",
    "\n",
    "oritentation_limit = eval['attraction'][0]\n",
    "oritentation_category = oritentation_limit.replace(' ','_')\n",
    "oritentation_acceptable_list = ['medium ' + oritentation_limit, 'high ' + oritentation_limit]\n",
    "print(oritentation_acceptable_list)\n",
    "all_attractions = []\n",
    "for day in plan_test:\n",
    "    for id in day['morning_attractions']:\n",
    "        all_attractions.append(id)\n",
    "    for id in day['afternoon_attractions']:\n",
    "        all_attractions.append(id)\n",
    "    for id in day['night_attractions']:\n",
    "        all_attractions.append(id)\n",
    "for attraction_id in all_attractions:\n",
    "    if attraction_id != -1 and attraction_id != -2:\n",
    "        for attraction in attractions:\n",
    "            if(attraction['business_id'] == attraction_id):\n",
    "                if attraction[oritentation_category] in oritentation_acceptable_list:\n",
    "                    print(\"attraction orientation is acceptablem which is: \", attraction[oritentation_category])\n",
    "                else:\n",
    "                    print(\"attraction orientation is not acceptable which is: \", attraction[oritentation_category])\n",
    "                    orientation_satisfied = False\n",
    "                    orientation_numerator = 0\n",
    "    \n",
    "print(orientation_numerator, \"/\", orientation_denominator, orientation_satisfied)"
   ]
  },
  {
   "cell_type": "code",
   "execution_count": 235,
   "metadata": {},
   "outputs": [
    {
     "name": "stdout",
     "output_type": "stream",
     "text": [
      "we want:  Italian\n",
      "this meal is out of pool or missing\n",
      "this meal is out of pool or missing\n",
      "the cuisine doesn't match with ['Not Applicable', 'Not Applicable']\n",
      "the cuisine doesn't match with ['American (New)', 'Not Applicable']\n",
      "the cuisine match with ['Italian', 'Mediterranean']\n",
      "the cuisine match with ['Italian', 'Not Applicable']\n",
      "1 / 1 True\n"
     ]
    }
   ],
   "source": [
    "#cuisine\n",
    "cuisine_numerator = 0\n",
    "cuisine_denominator = 1\n",
    "cuisine_satisfied = False\n",
    "\n",
    "cuisine_limit = eval['cuisine'][0]\n",
    "print(\"we want: \", cuisine_limit)\n",
    "\n",
    "#at least we have one restaurant that match the cuisin, we will turn it to true\n",
    "all_meals = []\n",
    "for day in plan_test:\n",
    "    all_meals.append(day['breakfast'])\n",
    "    all_meals.append(day['lunch'])\n",
    "    all_meals.append(day['dinner'])\n",
    "\n",
    "\n",
    "for restaurant_id in all_meals:\n",
    "    if restaurant_id != -1 and restaurant_id != -2:\n",
    "        for restaurant in restaurants:\n",
    "            if(restaurant['business_id'] == restaurant_id):\n",
    "                cuisine_provided = []\n",
    "                cuisine_provided.append(restaurant['cuisine_1'])\n",
    "                cuisine_provided.append(restaurant['cuisine_2'])\n",
    "                if(cuisine_limit in cuisine_provided):\n",
    "                    print(\"the cuisine match with\", cuisine_provided)\n",
    "                    cuisine_satisfied = True\n",
    "                    cuisine_numerator = 1\n",
    "                else:\n",
    "                    print(\"the cuisine doesn't match with\", cuisine_provided)\n",
    "    else:\n",
    "        print(f\"this meal is out of pool or missing\")\n",
    "\n",
    "print(cuisine_numerator, \"/\", cuisine_denominator, cuisine_satisfied)"
   ]
  },
  {
   "cell_type": "code",
   "execution_count": 236,
   "metadata": {},
   "outputs": [
    {
     "name": "stdout",
     "output_type": "stream",
     "text": [
      "['good flavor', 'excellent flavor']\n",
      "the flavor is acceptable which is:  good flavor\n",
      "the flavor is acceptable which is:  good flavor\n",
      "the flavor is not acceptable which is:  average flavor\n",
      "the flavor is acceptable which is:  good flavor\n",
      "['good freshness', 'excellent freshness']\n",
      "the freshness is acceptable which is:  good freshness\n",
      "the freshness is acceptable which is:  good freshness\n",
      "the freshness is acceptable which is:  good freshness\n",
      "the freshness is acceptable which is:  excellent freshness\n",
      "1 / 2 False\n"
     ]
    }
   ],
   "source": [
    "#restaurant \n",
    "restaurants_numerator = len(eval_test['restaurants'])\n",
    "restaurants_denominator = len(eval_test['restaurants'])\n",
    "restaurants_satisfied = True\n",
    "\n",
    "restaurants_limits = eval_test['restaurants']\n",
    "restaurants_category = [cat[5:] for cat in restaurants_limits]\n",
    "\n",
    "\n",
    "\n",
    "all_meals = []\n",
    "for day in plan_test:\n",
    "    all_meals.append(day['breakfast'])\n",
    "    all_meals.append(day['lunch'])\n",
    "    all_meals.append(day['dinner'])\n",
    "\n",
    "for cat in restaurants_category:\n",
    "    restaurants_acceptable_list = []\n",
    "    restaurants_acceptable_list.append('good ' + cat)\n",
    "    restaurants_acceptable_list.append('excellent ' + cat)\n",
    "    print(restaurants_acceptable_list)\n",
    "\n",
    "    for restaurant_id in set(all_meals): \n",
    "        if restaurant_id != -1 and restaurant_id != -2:\n",
    "            for restaurant in restaurants:\n",
    "                if(restaurant['business_id'] == restaurant_id):\n",
    "                    if(restaurant[cat] in restaurants_acceptable_list):\n",
    "                        print(f\"the {cat} is acceptable which is: \", restaurant[cat])\n",
    "                    else:\n",
    "                        print(f\"the {cat} is not acceptable which is: \", restaurant[cat])\n",
    "                        restaurants_satisfied = False\n",
    "                        restaurants_numerator -= 1\n",
    "\n",
    "\n",
    "\n",
    "\n",
    "\n",
    "print(restaurants_numerator, \"/\", restaurants_denominator, restaurants_satisfied)"
   ]
  },
  {
   "cell_type": "code",
   "execution_count": 231,
   "metadata": {},
   "outputs": [
    {
     "name": "stdout",
     "output_type": "stream",
     "text": [
      "QMHd6Z2djm_SBLzGhLvFqw\n",
      "the hotel is acceptable which is:  good quality\n",
      "QMHd6Z2djm_SBLzGhLvFqw\n",
      "the hotel is not acceptable which is:  average location\n",
      "1 / 2 False\n"
     ]
    }
   ],
   "source": [
    "#Hotel\n",
    "\n",
    "hotel_numerator = len(eval_test['hotel'])\n",
    "hotel_denominator = len(eval_test['hotel'])\n",
    "hotel_satisfied = True\n",
    "\n",
    "hotel_limit = eval['hotel']\n",
    "hotel_cat = [cat[5:] for cat in hotel_limit]\n",
    "\n",
    "all_hotels = []\n",
    "for day in plan_test:\n",
    "    hotel_id = day['accommodation']\n",
    "    all_hotels.append(hotel_id)\n",
    "\n",
    "for cat in hotel_cat:\n",
    "    hotel_acceptable_list = []\n",
    "    hotel_acceptable_list.append('good ' + cat)\n",
    "    hotel_acceptable_list.append('excellent ' + cat)\n",
    "\n",
    "    for hotel_id in set(all_hotels):\n",
    "        print(hotel_id)\n",
    "        if hotel_id != -1 and hotel_id != -2:\n",
    "            for hotel in hotels:\n",
    "                if(hotel['business_id'] == hotel_id):    \n",
    "                    if(hotel[cat] in hotel_acceptable_list):\n",
    "                        print(\"the hotel is acceptable which is: \", hotel[cat])\n",
    "                    else:\n",
    "                        print(\"the hotel is not acceptable which is: \", hotel[cat])\n",
    "                        hotel_satisfied = False\n",
    "                        hotel_numerator -= 1\n",
    "\n",
    "\n",
    "#note: only for hotel, we need to consider what if no recommendation, which means\n",
    "# all -2, we don't consider this in other categories since there is low chance that\n",
    "#llm didn't provide any reccommendation for food or attractions. \n",
    "if(all(x == -2 for x in all_hotels)):\n",
    "    hotel_numerator= 0 \n",
    "    hotel_denominator = 0\n",
    "\n",
    "print(hotel_numerator, \"/\", hotel_denominator, hotel_satisfied)"
   ]
  },
  {
   "cell_type": "code",
   "execution_count": 239,
   "metadata": {},
   "outputs": [
    {
     "data": {
      "text/plain": [
       "(5, 8)"
      ]
     },
     "execution_count": 239,
     "metadata": {},
     "output_type": "execute_result"
    }
   ],
   "source": [
    "micro = (day_numerator + price_numerator + orientation_numerator + cuisine_numerator + restaurants_numerator + hotel_numerator,day_denominator + price_denominator + orientation_denominator + cuisine_denominator + restaurants_denominator + hotel_denominator)\n",
    "micro"
   ]
  },
  {
   "cell_type": "code",
   "execution_count": 240,
   "metadata": {},
   "outputs": [
    {
     "data": {
      "text/plain": [
       "False"
      ]
     },
     "execution_count": 240,
     "metadata": {},
     "output_type": "execute_result"
    }
   ],
   "source": [
    "macro = (day_satisfied & price_satisfied & orientation_satisfied & cuisine_satisfied & restaurants_satisfied & hotel_satisfied)\n",
    "macro"
   ]
  },
  {
   "cell_type": "markdown",
   "metadata": {},
   "source": [
    "Optimized"
   ]
  },
  {
   "cell_type": "code",
   "execution_count": 2,
   "metadata": {},
   "outputs": [],
   "source": [
    "import json\n",
    "with open ('Outputs/Task1_json/Task1_json_1.json') as f:\n",
    "    plan = json.load(f)"
   ]
  },
  {
   "cell_type": "code",
   "execution_count": 7,
   "metadata": {},
   "outputs": [
    {
     "data": {
      "text/plain": [
       "[{'days': '1',\n",
       "  'breakfast': 'TwnzM8mJn_nT2PJf1x-9kQ',\n",
       "  'morning_attractions': ['Ib9HV7ekw459jM1Ksdiyiw'],\n",
       "  'lunch': 'wHkYLlZyPXllrQRlvidUlg',\n",
       "  'afternoon_attractions': ['kbEVlzQLcYS3JSQPG9QMOQ',\n",
       "   '8_O6LXLyMgpq1g9CIwcW4w'],\n",
       "  'dinner': 'S8ZFYEgMejpChID8tzKo9A',\n",
       "  'night_attractions': ['pxZAz8pv18wK_t-m8WpN0g'],\n",
       "  'accommodation': '3QPAh9VvYNTnqAFgBeBcng'},\n",
       " {'days': '2',\n",
       "  'breakfast': 'rYqmaOIULRouz_1db07OdQ',\n",
       "  'morning_attractions': ['Qw7tz-UkPrpXaVidWuab4Q'],\n",
       "  'lunch': '6ajnOk0GcY9xbb5Ocaw8Gw',\n",
       "  'afternoon_attractions': ['4mWzXhD8vo0bABVCGAhlqA',\n",
       "   'ytynqOUb3hjKeJfRj5Tshw'],\n",
       "  'dinner': '05ev984NYfimRN0UiFrxaA',\n",
       "  'night_attractions': ['dBRWKIS7h-qZCi8EjUJ2HA'],\n",
       "  'accommodation': '3QPAh9VvYNTnqAFgBeBcng'}]"
      ]
     },
     "execution_count": 7,
     "metadata": {},
     "output_type": "execute_result"
    }
   ],
   "source": [
    "plan_eval = []\n",
    "for days in plan['itinerary']:\n",
    "    day = {}\n",
    "    day['days'] = days['days']\n",
    "    day['breakfast'] = getID(days['breakfast']['name'],days['breakfast']['address'],'restaurants')\n",
    "    day['morning_attractions'] = [getID(attraction['name'],attraction['address'],'attractions') for attraction in days['morning_attractions']]\n",
    "    day['lunch'] = getID(days['lunch']['name'],days['lunch']['address'],'restaurants')\n",
    "    day['afternoon_attractions'] = [getID(attraction['name'],attraction['address'],'attractions') for attraction in days['afternoon_attractions']]\n",
    "    day['dinner'] = getID(days['dinner']['name'],days['dinner']['address'],'restaurants')\n",
    "    day['night_attractions'] = [getID(attraction['name'],attraction['address'],'attractions') for attraction in days['night_attractions']]\n",
    "    day['accommodation'] = getID(days['accommodation']['name'],days['accommodation']['address'],'hotels')\n",
    "    plan_eval.append(day)\n",
    "plan_eval"
   ]
  },
  {
   "cell_type": "markdown",
   "metadata": {},
   "source": [
    "TSP"
   ]
  },
  {
   "cell_type": "code",
   "execution_count": 8,
   "metadata": {},
   "outputs": [
    {
     "name": "stdout",
     "output_type": "stream",
     "text": [
      "80\n"
     ]
    }
   ],
   "source": [
    "# Python program to find the shortest possible route\n",
    "# that visits every city exactly once and returns to\n",
    "# the starting point using memoization and bitmasking\n",
    "\n",
    "import sys\n",
    "def totalCost(mask, pos, n, cost):\n",
    "  \n",
    "    # Base case: if all cities are visited, return the\n",
    "    # cost to return to the starting city (0)\n",
    "    if mask == (1 << n) - 1:\n",
    "        return cost[pos][0]\n",
    "\n",
    "    ans = sys.maxsize   \n",
    "\n",
    "    # Try visiting every city that has not been visited yet\n",
    "    for i in range(n):\n",
    "        if (mask & (1 << i)) == 0: \n",
    "  \n",
    "            # If city i is not visited, visit it and \n",
    "             #  update the mask\n",
    "            ans = min(ans, cost[pos][i] +\n",
    "                      totalCost(mask | (1 << i), i, n, cost))\n",
    "\n",
    "    return ans\n",
    " \n",
    "\n",
    "def tsp(cost):\n",
    "    n = len(cost)\n",
    "    \n",
    "    # Start from city 0, and only city 0 is visited \n",
    "    # initially (mask = 1)\n",
    "    return totalCost(1, 0, n, cost)\n",
    " \n",
    "if __name__ == \"__main__\":\n",
    "    \n",
    "    cost = [\n",
    "        [0, 10, 15, 20],\n",
    "        [10, 0, 35, 25],\n",
    "        [15, 35, 0, 30],\n",
    "        [20, 25, 30, 0]\n",
    "    ]\n",
    "\n",
    "    result = tsp(cost)\n",
    "    print(result)"
   ]
  },
  {
   "cell_type": "code",
   "execution_count": null,
   "metadata": {},
   "outputs": [],
   "source": []
  }
 ],
 "metadata": {
  "kernelspec": {
   "display_name": "torchgpu",
   "language": "python",
   "name": "python3"
  },
  "language_info": {
   "codemirror_mode": {
    "name": "ipython",
    "version": 3
   },
   "file_extension": ".py",
   "mimetype": "text/x-python",
   "name": "python",
   "nbconvert_exporter": "python",
   "pygments_lexer": "ipython3",
   "version": "3.11.0"
  }
 },
 "nbformat": 4,
 "nbformat_minor": 2
}
