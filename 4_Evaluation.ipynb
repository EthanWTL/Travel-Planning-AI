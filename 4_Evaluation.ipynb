{
 "cells": [
  {
   "cell_type": "code",
   "execution_count": 166,
   "metadata": {},
   "outputs": [],
   "source": [
    "import json\n",
    "from fuzzywuzzy import fuzz\n",
    "import numpy as np"
   ]
  },
  {
   "cell_type": "code",
   "execution_count": 167,
   "metadata": {},
   "outputs": [],
   "source": [
    "with open ('Outputs/Task1_json/Task1_json_1.json') as f:\n",
    "    plan = json.load(f)"
   ]
  },
  {
   "cell_type": "code",
   "execution_count": 168,
   "metadata": {},
   "outputs": [],
   "source": [
    "with open ('Prompts/Task1_eval/Task1_eval_1.json') as f:\n",
    "    eval = json.load(f)"
   ]
  },
  {
   "cell_type": "code",
   "execution_count": 169,
   "metadata": {},
   "outputs": [],
   "source": [
    "with open ('Datasets/Restaurants_task1.jsonl', 'r') as file:\n",
    "    restaurants = [json.loads(line.strip()) for line in file]\n",
    "\n",
    "with open ('Datasets/Hotels_task1.jsonl', 'r') as file:\n",
    "    hotels = [json.loads(line.strip()) for line in file]\n",
    "\n",
    "with open ('Datasets/Attractions_task1.jsonl', 'r') as file:\n",
    "    attractions = [json.loads(line.strip()) for line in file]\n",
    "\n",
    "def getID(name,address,category):\n",
    "    #if there is any information that is missing and the extraction tool got -\n",
    "    if name == \"-\" or address == \"-\":\n",
    "        return -2\n",
    "\n",
    "    #normal case\n",
    "    idFromName = []\n",
    "    idFromAddress = []\n",
    "\n",
    "    address = address.split(\",\")[0]\n",
    "    \n",
    "    #restaurants\n",
    "    if category == 'restaurants':\n",
    "        for restaurant in restaurants:\n",
    "            if restaurant['name'].lower() == name.lower():\n",
    "                idFromName.append(restaurant['business_id'])\n",
    "            if restaurant['address'].lower() == address.lower():\n",
    "                idFromAddress.append(restaurant['business_id'])\n",
    "        set1 = set(idFromName)\n",
    "        set2 = set(idFromAddress)\n",
    "        #if the extracted id from name and address make an agreement\n",
    "        if(len(set1 & set2) == 1):\n",
    "            return list(set1 & set2)[0]\n",
    "        # we have to use similarity score to determine the id\n",
    "        else:\n",
    "            name_sim_score = []\n",
    "            address_sim_score = []\n",
    "\n",
    "            for restaurant in restaurants:\n",
    "                name_sim_score.append(fuzz.ratio(name.lower(), restaurant['name'].lower()))\n",
    "                address_sim_score.append(fuzz.ratio(address.lower(), restaurant['address'].lower()))\n",
    "\n",
    "            scores = np.array(name_sim_score) + np.array(address_sim_score)\n",
    "            #if the score is high enough, then we claim the id\n",
    "            if max(scores) >= 120:\n",
    "                return restaurants[np.argmax(scores)]['business_id']\n",
    "            #if the score is less than 60 for each, then we indicate that the business is out of the pool\n",
    "            else:\n",
    "                return -1\n",
    "    #attractions\n",
    "    if category == 'attractions':\n",
    "        for attraction in attractions:\n",
    "            if attraction['name'].lower() == name.lower():\n",
    "                idFromName.append(attraction['business_id'])\n",
    "            if attraction['address'].lower() == address.lower():\n",
    "                idFromAddress.append(attraction['business_id'])\n",
    "        \n",
    "        set1 = set(idFromName)\n",
    "        set2 = set(idFromAddress)\n",
    "\n",
    "        if(len(set1 & set2) == 1):\n",
    "            return list(set1 & set2)[0]\n",
    "        else:\n",
    "            name_sim_score = []\n",
    "            address_sim_score = []\n",
    "\n",
    "            for attraction in attractions:\n",
    "                name_sim_score.append(fuzz.ratio(name.lower(), attraction['name'].lower()))\n",
    "                address_sim_score.append(fuzz.ratio(address.lower(), attraction['address'].lower()))\n",
    "\n",
    "            scores = np.array(name_sim_score) + np.array(address_sim_score)\n",
    "            if max(scores) >= 120:\n",
    "                return attractions[np.argmax(scores)]['business_id']\n",
    "            else:\n",
    "                return -1\n",
    "    #hotels\n",
    "    if category == 'hotels':\n",
    "        for hotel in hotels:\n",
    "            if hotel['name'].lower() == name.lower():\n",
    "                idFromName.append(hotel['business_id'])\n",
    "            if hotel['address'].lower() == address.lower():\n",
    "                idFromAddress.append(hotel['business_id'])\n",
    "        set1 = set(idFromName)\n",
    "        set2 = set(idFromAddress)\n",
    "        if(len(set1 & set2) == 1):\n",
    "            return list(set1 & set2)[0]\n",
    "        else:\n",
    "            name_sim_score = []\n",
    "            address_sim_score = []\n",
    "\n",
    "            for hotel in hotels:\n",
    "                name_sim_score.append(fuzz.ratio(name.lower(), hotel['name'].lower()))\n",
    "                address_sim_score.append(fuzz.ratio(address.lower(), hotel['address'].lower()))\n",
    "\n",
    "            scores = np.array(name_sim_score) + np.array(address_sim_score)\n",
    "            if max(scores) >= 120:\n",
    "                return hotels[np.argmax(scores)]['business_id']\n",
    "            else:\n",
    "                return -1"
   ]
  },
  {
   "cell_type": "code",
   "execution_count": 170,
   "metadata": {},
   "outputs": [
    {
     "data": {
      "text/plain": [
       "[{'days': '1',\n",
       "  'breakfast': 'TwnzM8mJn_nT2PJf1x-9kQ',\n",
       "  'morning_attractions': ['Ib9HV7ekw459jM1Ksdiyiw'],\n",
       "  'lunch': 'wHkYLlZyPXllrQRlvidUlg',\n",
       "  'afternoon_attractions': ['kbEVlzQLcYS3JSQPG9QMOQ',\n",
       "   '8_O6LXLyMgpq1g9CIwcW4w'],\n",
       "  'dinner': 'S8ZFYEgMejpChID8tzKo9A',\n",
       "  'night_attractions': ['pxZAz8pv18wK_t-m8WpN0g'],\n",
       "  'accommodation': '3QPAh9VvYNTnqAFgBeBcng'},\n",
       " {'days': '2',\n",
       "  'breakfast': 'rYqmaOIULRouz_1db07OdQ',\n",
       "  'morning_attractions': ['Qw7tz-UkPrpXaVidWuab4Q'],\n",
       "  'lunch': '6ajnOk0GcY9xbb5Ocaw8Gw',\n",
       "  'afternoon_attractions': ['4mWzXhD8vo0bABVCGAhlqA',\n",
       "   'ytynqOUb3hjKeJfRj5Tshw'],\n",
       "  'dinner': '05ev984NYfimRN0UiFrxaA',\n",
       "  'night_attractions': ['dBRWKIS7h-qZCi8EjUJ2HA'],\n",
       "  'accommodation': '3QPAh9VvYNTnqAFgBeBcng'}]"
      ]
     },
     "execution_count": 170,
     "metadata": {},
     "output_type": "execute_result"
    }
   ],
   "source": [
    "plan_eval = []\n",
    "for days in plan['itinerary']:\n",
    "    day = {}\n",
    "    day['days'] = days['days']\n",
    "    day['breakfast'] = getID(days['breakfast']['name'],days['breakfast']['address'],'restaurants')\n",
    "    day['morning_attractions'] = [getID(attraction['name'],attraction['address'],'attractions') for attraction in days['morning_attractions']]\n",
    "    day['lunch'] = getID(days['lunch']['name'],days['lunch']['address'],'restaurants')\n",
    "    day['afternoon_attractions'] = [getID(attraction['name'],attraction['address'],'attractions') for attraction in days['afternoon_attractions']]\n",
    "    day['dinner'] = getID(days['dinner']['name'],days['dinner']['address'],'restaurants')\n",
    "    day['night_attractions'] = [getID(attraction['name'],attraction['address'],'attractions') for attraction in days['night_attractions']]\n",
    "    day['accommodation'] = getID(days['accommodation']['name'],days['accommodation']['address'],'hotels')\n",
    "    plan_eval.append(day)\n",
    "plan_eval"
   ]
  },
  {
   "cell_type": "markdown",
   "metadata": {},
   "source": [
    "### Failure Rate"
   ]
  },
  {
   "cell_type": "markdown",
   "metadata": {},
   "source": [
    "1. Outside the pool"
   ]
  },
  {
   "cell_type": "code",
   "execution_count": 171,
   "metadata": {},
   "outputs": [],
   "source": [
    "with open ('Outputs/Task1_json/Task1_json_1_outOfPool.json') as f:\n",
    "    plan_outOfPool = json.load(f)"
   ]
  },
  {
   "cell_type": "code",
   "execution_count": 172,
   "metadata": {},
   "outputs": [
    {
     "data": {
      "text/plain": [
       "[{'days': '1',\n",
       "  'breakfast': -2,\n",
       "  'morning_attractions': ['Ib9HV7ekw459jM1Ksdiyiw'],\n",
       "  'lunch': -1,\n",
       "  'afternoon_attractions': [],\n",
       "  'dinner': 'S8ZFYEgMejpChID8tzKo9A',\n",
       "  'night_attractions': ['pxZAz8pv18wK_t-m8WpN0g'],\n",
       "  'accommodation': -2},\n",
       " {'days': '2',\n",
       "  'breakfast': 'rYqmaOIULRouz_1db07OdQ',\n",
       "  'morning_attractions': ['Qw7tz-UkPrpXaVidWuab4Q'],\n",
       "  'lunch': '6ajnOk0GcY9xbb5Ocaw8Gw',\n",
       "  'afternoon_attractions': [-1, 'ytynqOUb3hjKeJfRj5Tshw'],\n",
       "  'dinner': '05ev984NYfimRN0UiFrxaA',\n",
       "  'night_attractions': [],\n",
       "  'accommodation': -2}]"
      ]
     },
     "execution_count": 172,
     "metadata": {},
     "output_type": "execute_result"
    }
   ],
   "source": [
    "plan_eval_outOfPool = []\n",
    "for days in plan_outOfPool['itinerary']:\n",
    "    day = {}\n",
    "    day['days'] = days['days']\n",
    "    day['breakfast'] = getID(days['breakfast']['name'],days['breakfast']['address'],'restaurants')\n",
    "    day['morning_attractions'] = [getID(attraction['name'],attraction['address'],'attractions') for attraction in days['morning_attractions']]\n",
    "    day['lunch'] = getID(days['lunch']['name'],days['lunch']['address'],'restaurants')\n",
    "    day['afternoon_attractions'] = [getID(attraction['name'],attraction['address'],'attractions') for attraction in days['afternoon_attractions']]\n",
    "    day['dinner'] = getID(days['dinner']['name'],days['dinner']['address'],'restaurants')\n",
    "    day['night_attractions'] = [getID(attraction['name'],attraction['address'],'attractions') for attraction in days['night_attractions']]\n",
    "    day['accommodation'] = getID(days['accommodation']['name'],days['accommodation']['address'],'hotels')\n",
    "    plan_eval_outOfPool.append(day)\n",
    "plan_eval_outOfPool"
   ]
  },
  {
   "cell_type": "code",
   "execution_count": 173,
   "metadata": {},
   "outputs": [
    {
     "name": "stdout",
     "output_type": "stream",
     "text": [
      "outside the pool\n",
      "outside the pool\n"
     ]
    }
   ],
   "source": [
    "for day in plan_eval_outOfPool:\n",
    "    for key,value in day.items():\n",
    "        if isinstance(value, list):\n",
    "            for id in value:\n",
    "                if id == -1:\n",
    "                    print('outside the pool')\n",
    "        else:\n",
    "            if value == -1:\n",
    "                print('outside the pool')"
   ]
  },
  {
   "cell_type": "markdown",
   "metadata": {},
   "source": [
    "2. Missing info"
   ]
  },
  {
   "cell_type": "code",
   "execution_count": 174,
   "metadata": {},
   "outputs": [],
   "source": [
    "with open ('Outputs/Task1_json/Task1_json_1_missingInfo.json') as f:\n",
    "    plan_missingInfo = json.load(f)"
   ]
  },
  {
   "cell_type": "code",
   "execution_count": 175,
   "metadata": {},
   "outputs": [
    {
     "data": {
      "text/plain": [
       "[{'days': '1',\n",
       "  'breakfast': -2,\n",
       "  'morning_attractions': ['Ib9HV7ekw459jM1Ksdiyiw'],\n",
       "  'lunch': 'wHkYLlZyPXllrQRlvidUlg',\n",
       "  'afternoon_attractions': [],\n",
       "  'dinner': 'S8ZFYEgMejpChID8tzKo9A',\n",
       "  'night_attractions': ['pxZAz8pv18wK_t-m8WpN0g'],\n",
       "  'accommodation': -2},\n",
       " {'days': '2',\n",
       "  'breakfast': 'rYqmaOIULRouz_1db07OdQ',\n",
       "  'morning_attractions': ['Qw7tz-UkPrpXaVidWuab4Q'],\n",
       "  'lunch': '6ajnOk0GcY9xbb5Ocaw8Gw',\n",
       "  'afternoon_attractions': ['4mWzXhD8vo0bABVCGAhlqA',\n",
       "   'ytynqOUb3hjKeJfRj5Tshw'],\n",
       "  'dinner': '05ev984NYfimRN0UiFrxaA',\n",
       "  'night_attractions': [],\n",
       "  'accommodation': -2}]"
      ]
     },
     "execution_count": 175,
     "metadata": {},
     "output_type": "execute_result"
    }
   ],
   "source": [
    "plan_eval_missingInfo = []\n",
    "for days in plan_missingInfo['itinerary']:\n",
    "    day = {}\n",
    "    day['days'] = days['days']\n",
    "    day['breakfast'] = getID(days['breakfast']['name'],days['breakfast']['address'],'restaurants')\n",
    "    day['morning_attractions'] = [getID(attraction['name'],attraction['address'],'attractions') for attraction in days['morning_attractions']]\n",
    "    day['lunch'] = getID(days['lunch']['name'],days['lunch']['address'],'restaurants')\n",
    "    day['afternoon_attractions'] = [getID(attraction['name'],attraction['address'],'attractions') for attraction in days['afternoon_attractions']]\n",
    "    day['dinner'] = getID(days['dinner']['name'],days['dinner']['address'],'restaurants')\n",
    "    day['night_attractions'] = [getID(attraction['name'],attraction['address'],'attractions') for attraction in days['night_attractions']]\n",
    "    day['accommodation'] = getID(days['accommodation']['name'],days['accommodation']['address'],'hotels')\n",
    "    plan_eval_missingInfo.append(day)\n",
    "plan_eval_missingInfo"
   ]
  },
  {
   "cell_type": "code",
   "execution_count": 176,
   "metadata": {},
   "outputs": [
    {
     "name": "stdout",
     "output_type": "stream",
     "text": [
      "miss other info\n",
      "miss list info\n",
      "miss other info\n",
      "miss other info\n",
      "miss info\n"
     ]
    }
   ],
   "source": [
    "miss_info = False\n",
    "\n",
    "for day in plan_eval_missingInfo:\n",
    "    for key,value in day.items():\n",
    "        #night attraction can be skipped\n",
    "        if key == 'night_attractions':\n",
    "            continue\n",
    "\n",
    "        if isinstance(value, list):\n",
    "           if(len(value) == 0):\n",
    "                print('miss list info')\n",
    "                miss_info = True\n",
    "        else:\n",
    "            if value == -2:\n",
    "                print('miss other info')\n",
    "                miss_info = True\n",
    "\n",
    "if(miss_info):\n",
    "    print(\"miss info\")"
   ]
  },
  {
   "cell_type": "code",
   "execution_count": null,
   "metadata": {},
   "outputs": [],
   "source": []
  }
 ],
 "metadata": {
  "kernelspec": {
   "display_name": "torchgpu",
   "language": "python",
   "name": "python3"
  },
  "language_info": {
   "codemirror_mode": {
    "name": "ipython",
    "version": 3
   },
   "file_extension": ".py",
   "mimetype": "text/x-python",
   "name": "python",
   "nbconvert_exporter": "python",
   "pygments_lexer": "ipython3",
   "version": "3.11.0"
  }
 },
 "nbformat": 4,
 "nbformat_minor": 2
}
