{
 "cells": [
  {
   "cell_type": "code",
   "execution_count": 1,
   "metadata": {},
   "outputs": [],
   "source": [
    "import os\n",
    "from openai import OpenAI\n",
    "from pydantic import BaseModel\n",
    "import json"
   ]
  },
  {
   "cell_type": "code",
   "execution_count": 2,
   "metadata": {},
   "outputs": [],
   "source": [
    "client = OpenAI(\n",
    "    api_key = os.getenv('OPEN_AI_API')\n",
    ")"
   ]
  },
  {
   "cell_type": "code",
   "execution_count": 10,
   "metadata": {},
   "outputs": [],
   "source": [
    "with open('Datasets/all_prompts_task1.json', 'r') as file:\n",
    "    user_prompt = file.read()\n",
    "\n",
    "with open('Prompts/Generation Prompts/generationPrompts.txt', 'r') as file:\n",
    "    system_prompt = file.read()"
   ]
  },
  {
   "cell_type": "code",
   "execution_count": 11,
   "metadata": {},
   "outputs": [
    {
     "data": {
      "text/plain": [
       "185788"
      ]
     },
     "execution_count": 11,
     "metadata": {},
     "output_type": "execute_result"
    }
   ],
   "source": [
    "len(user_prompt)"
   ]
  },
  {
   "cell_type": "code",
   "execution_count": 12,
   "metadata": {},
   "outputs": [],
   "source": [
    "#generation into natural language\n",
    "chat_completion = client.chat.completions.create(\n",
    "    model=\"gpt-4o-mini\",\n",
    "    temperature=0,\n",
    "    messages=[\n",
    "        {\"role\": \"system\",\"content\": system_prompt,},\n",
    "        {\"role\": \"user\",\"content\": user_prompt,}\n",
    "    ]\n",
    ")\n"
   ]
  },
  {
   "cell_type": "code",
   "execution_count": 14,
   "metadata": {},
   "outputs": [
    {
     "data": {
      "text/plain": [
       "\"### 3-Day Travel Itinerary in Philadelphia\\n\\n#### Day 1: Historical Philadelphia\\n- **Morning:**\\n  - **Check-in:** The Warwick Hotel Rittenhouse Square, 220 S 17th St, 4 stars, $$$.\\n  - **Breakfast:** Federal Donuts, 701 N Seventh St (famous for donuts and fried chicken).\\n\\n- **Mid-Morning:**\\n  - **Attraction:** Independence Hall, 520 Chestnut St (historical site).\\n  - **Attraction:** Liberty Bell Center, 6th St & Chestnut St (iconic symbol of American independence).\\n\\n- **Lunch:**\\n  - **Restaurant:** Sonny's Famous Steaks, 228 Market St (try the cheesesteaks).\\n\\n- **Afternoon:**\\n  - **Attraction:** National Constitution Center, 525 Arch St (interactive museum).\\n  - **Attraction:** Betsy Ross House, 239 Arch St (historical house).\\n\\n- **Dinner:**\\n  - **Restaurant:** Amada, 217 Chestnut St (Spanish tapas).\\n\\n- **Evening:**\\n  - **Attraction:** Ghost Tour of Philadelphia, 5th and Chestnut (spooky historical tour).\\n\\n---\\n\\n#### Day 2: Art and Culture\\n- **Morning:**\\n  - **Breakfast:** Green Eggs Café, 212 S 13th St (brunch spot).\\n\\n- **Mid-Morning:**\\n  - **Attraction:** Philadelphia Museum of Art, 2600 Benjamin Franklin Pkwy (famous for the Rocky Steps).\\n  - **Attraction:** Rodin Museum, 2151 Benjamin Franklin Pkwy (home to Rodin's sculptures).\\n\\n- **Lunch:**\\n  - **Restaurant:** Pizzeria Vetri, 1939 Callowhill St (great pizza).\\n\\n- **Afternoon:**\\n  - **Attraction:** The Barnes Foundation, 2025 Benjamin Franklin Pkwy (impressive art collection).\\n  - **Attraction:** Philadelphia's Magic Gardens, 1020 S St (unique mosaic art installation).\\n\\n- **Dinner:**\\n  - **Restaurant:** Vedge, 1221 Locust St (vegan fine dining).\\n\\n- **Evening:**\\n  - **Attraction:** The Philadelphia Orchestra, 300 S Broad St (check for concert schedule).\\n\\n---\\n\\n#### Day 3: Local Flavor and Parks\\n- **Morning:**\\n  - **Breakfast:** Café La Maude, 816 N 4th St (French-inspired café).\\n\\n- **Mid-Morning:**\\n  - **Attraction:** Fairmount Park, 4231 N Concourse Dr (enjoy the outdoors).\\n  - **Attraction:** Boathouse Row, 1 Boathouse Row (picturesque rowing houses).\\n\\n- **Lunch:**\\n  - **Restaurant:** The Dandelion, 124 S 18th St (British pub fare).\\n\\n- **Afternoon:**\\n  - **Attraction:** Schuylkill River Trail (walk or bike along the river).\\n  - **Attraction:** Philadelphia Zoo, 3400 W Girard Ave (great for animal lovers).\\n\\n- **Dinner:**\\n  - **Restaurant:** Zorba's Taverna, 2230 Fairmount Ave (Mediterranean cuisine).\\n\\n- **Evening:**\\n  - **Attraction:** Spruce Street Harbor Park, 121 N Columbus Blvd (relax by the water).\\n\\n---\\n\\n### Summary\\nThis itinerary offers a blend of historical sites, cultural experiences, and local flavors, ensuring a diverse and enjoyable visit to Philadelphia over three days. Enjoy your trip!\""
      ]
     },
     "execution_count": 14,
     "metadata": {},
     "output_type": "execute_result"
    }
   ],
   "source": [
    "#hotel - canopy\n",
    "result = chat_completion.choices[0].message.content\n",
    "result"
   ]
  },
  {
   "cell_type": "code",
   "execution_count": 15,
   "metadata": {},
   "outputs": [],
   "source": [
    "with open(\"Outputs/Preference/Natural/Diverse_3days_4.txt\", \"w\") as f:\n",
    "    f.write(result)"
   ]
  },
  {
   "cell_type": "code",
   "execution_count": null,
   "metadata": {},
   "outputs": [],
   "source": []
  }
 ],
 "metadata": {
  "kernelspec": {
   "display_name": "torchgpu",
   "language": "python",
   "name": "python3"
  },
  "language_info": {
   "codemirror_mode": {
    "name": "ipython",
    "version": 3
   },
   "file_extension": ".py",
   "mimetype": "text/x-python",
   "name": "python",
   "nbconvert_exporter": "python",
   "pygments_lexer": "ipython3",
   "version": "3.11.0"
  }
 },
 "nbformat": 4,
 "nbformat_minor": 2
}
