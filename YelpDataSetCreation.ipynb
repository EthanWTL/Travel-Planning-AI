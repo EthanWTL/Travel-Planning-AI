{
 "cells": [
  {
   "cell_type": "markdown",
   "metadata": {},
   "source": [
    "Parse JSON for only Phil"
   ]
  },
  {
   "cell_type": "code",
   "execution_count": 17,
   "metadata": {},
   "outputs": [],
   "source": [
    "import numpy as np\n",
    "import pandas as pd\n",
    "import json\n",
    "import matplotlib.pyplot as plt\n",
    "import csv\n",
    "import random"
   ]
  },
  {
   "cell_type": "code",
   "execution_count": 3,
   "metadata": {},
   "outputs": [],
   "source": [
    "json_array = []\n",
    "\n",
    "# Open the file and read it line by line\n",
    "with open('yelp_academic_dataset_business.json', 'r') as file:\n",
    "    for line in file:\n",
    "        # Parse each line as a JSON object and append to the list\n",
    "        json_obj = json.loads(line.strip())  # strip() removes any leading/trailing whitespace\n",
    "        json_array.append(json_obj)"
   ]
  },
  {
   "cell_type": "code",
   "execution_count": null,
   "metadata": {},
   "outputs": [],
   "source": [
    "Phil_only = [obj for obj in json_array if obj['city'] == 'Philadelphia']\n",
    "len(Phil_only)"
   ]
  },
  {
   "cell_type": "code",
   "execution_count": 5,
   "metadata": {},
   "outputs": [],
   "source": [
    "with open('Philadelphia.jsonl', 'w') as json_file:\n",
    "    for item in Phil_only:\n",
    "        json.dump(item, json_file)\n",
    "        json_file.write('\\n') "
   ]
  },
  {
   "cell_type": "markdown",
   "metadata": {},
   "source": [
    "Hotel for Phil"
   ]
  },
  {
   "cell_type": "code",
   "execution_count": 6,
   "metadata": {},
   "outputs": [],
   "source": [
    "Phil_hotel = []\n",
    "for obj in Phil_only:\n",
    "    if(obj['categories']):\n",
    "        for i in obj['categories'].strip().split(','):\n",
    "            if i == ' Hotels' or i == 'Hotels':\n",
    "                Phil_hotel.append(obj)"
   ]
  },
  {
   "cell_type": "code",
   "execution_count": 7,
   "metadata": {},
   "outputs": [],
   "source": [
    "with open('Philadelphia_Hotels.jsonl', 'w') as json_file:\n",
    "    for item in Phil_hotel:\n",
    "        json.dump(item, json_file)\n",
    "        json_file.write('\\n') "
   ]
  },
  {
   "cell_type": "markdown",
   "metadata": {},
   "source": [
    "Resturants"
   ]
  },
  {
   "cell_type": "code",
   "execution_count": 8,
   "metadata": {},
   "outputs": [],
   "source": [
    "Phil_restaurant = []\n",
    "for obj in Phil_only:\n",
    "    if(obj['categories']):\n",
    "        if ('Restaurants' in obj['categories'].strip()) or (' Restaurants' in obj['categories'].strip()):\n",
    "            Phil_restaurant.append(obj)"
   ]
  },
  {
   "cell_type": "code",
   "execution_count": 9,
   "metadata": {},
   "outputs": [],
   "source": [
    "with open('Philadelphia_Restaurants.jsonl', 'w') as json_file:\n",
    "    for item in Phil_restaurant:\n",
    "        json.dump(item, json_file)\n",
    "        json_file.write('\\n') "
   ]
  },
  {
   "cell_type": "markdown",
   "metadata": {},
   "source": [
    "Attractions"
   ]
  },
  {
   "cell_type": "code",
   "execution_count": 10,
   "metadata": {},
   "outputs": [],
   "source": [
    "Phil_attractions = []\n",
    "seen = set()"
   ]
  },
  {
   "cell_type": "markdown",
   "metadata": {},
   "source": [
    "1. museum"
   ]
  },
  {
   "cell_type": "code",
   "execution_count": null,
   "metadata": {},
   "outputs": [],
   "source": [
    "for obj in Phil_only:\n",
    "    if(obj['categories']):\n",
    "        if ('Museums' in obj['categories'].strip().split(',')) or (' Museums' in obj['categories'].strip().split(',')):\n",
    "            identifier = obj['business_id']\n",
    "            if identifier not in seen:\n",
    "                seen.add(identifier)\n",
    "                Phil_attractions.append(obj)\n",
    "print(f'new record: {len(Phil_attractions)}')"
   ]
  },
  {
   "cell_type": "markdown",
   "metadata": {},
   "source": [
    "2. Park"
   ]
  },
  {
   "cell_type": "code",
   "execution_count": null,
   "metadata": {},
   "outputs": [],
   "source": [
    "for obj in Phil_only:\n",
    "    if(obj['categories']):\n",
    "        if ('Parks' in obj['categories'].strip().split(',')) or (' Parks' in obj['categories'].strip().split(',')):\n",
    "            identifier = obj['business_id']\n",
    "            if identifier not in seen:\n",
    "                seen.add(identifier)\n",
    "                Phil_attractions.append(obj)\n",
    "print(f'new record: {len(Phil_attractions)}')"
   ]
  },
  {
   "cell_type": "markdown",
   "metadata": {},
   "source": [
    "3.Local Flavor"
   ]
  },
  {
   "cell_type": "code",
   "execution_count": null,
   "metadata": {},
   "outputs": [],
   "source": [
    "for obj in Phil_only:\n",
    "    if(obj['categories']):\n",
    "        if ('Local Flavor' in obj['categories'].strip().split(',')) or (' Local Flavor' in obj['categories'].strip().split(',')):\n",
    "            identifier = obj['business_id']\n",
    "            if identifier not in seen:\n",
    "                seen.add(identifier)\n",
    "                Phil_attractions.append(obj)\n",
    "print(f'new record: {len(Phil_attractions)}')"
   ]
  },
  {
   "cell_type": "markdown",
   "metadata": {},
   "source": [
    "4. Zoo"
   ]
  },
  {
   "cell_type": "code",
   "execution_count": null,
   "metadata": {},
   "outputs": [],
   "source": [
    "for obj in Phil_only:\n",
    "    if(obj['categories']):\n",
    "        if ('Zoos' in obj['categories'].strip().split(',')) or (' Zoos' in obj['categories'].strip().split(',')):\n",
    "            identifier = obj['business_id']\n",
    "            if identifier not in seen:\n",
    "                seen.add(identifier)\n",
    "                Phil_attractions.append(obj)\n",
    "print(f'new record: {len(Phil_attractions)}')"
   ]
  },
  {
   "cell_type": "markdown",
   "metadata": {},
   "source": [
    "5. Tours"
   ]
  },
  {
   "cell_type": "code",
   "execution_count": null,
   "metadata": {},
   "outputs": [],
   "source": [
    "for obj in Phil_only:\n",
    "    if(obj['categories']):\n",
    "        if ('Tours' in obj['categories'].strip().split(',')) or (' Tours' in obj['categories'].strip().split(',')):\n",
    "            identifier = obj['business_id']\n",
    "            if identifier not in seen:\n",
    "                seen.add(identifier)\n",
    "                Phil_attractions.append(obj)\n",
    "print(f'new record: {len(Phil_attractions)}')"
   ]
  },
  {
   "cell_type": "markdown",
   "metadata": {},
   "source": [
    "6. Historical tours"
   ]
  },
  {
   "cell_type": "code",
   "execution_count": null,
   "metadata": {},
   "outputs": [],
   "source": [
    "for obj in Phil_only:\n",
    "    if(obj['categories']):\n",
    "        if ('Historical Tours' in obj['categories'].strip().split(',')) or (' Historical Tours' in obj['categories'].strip().split(',')):\n",
    "            identifier = obj['business_id']\n",
    "            if identifier not in seen:\n",
    "                seen.add(identifier)\n",
    "                Phil_attractions.append(obj)\n",
    "print(f'new record: {len(Phil_attractions)}')"
   ]
  },
  {
   "cell_type": "markdown",
   "metadata": {},
   "source": [
    "7. Landmark and historical buildings"
   ]
  },
  {
   "cell_type": "code",
   "execution_count": null,
   "metadata": {},
   "outputs": [],
   "source": [
    "for obj in Phil_only:\n",
    "    if(obj['categories']):\n",
    "        if ('Landmarks & Historical Buildings' in obj['categories'].strip().split(',')) or (' Landmarks & Historical Buildings' in obj['categories'].strip().split(',')):\n",
    "            identifier = obj['business_id']\n",
    "            if identifier not in seen:\n",
    "                seen.add(identifier)\n",
    "                Phil_attractions.append(obj)\n",
    "print(f'new record: {len(Phil_attractions)}')"
   ]
  },
  {
   "cell_type": "markdown",
   "metadata": {},
   "source": [
    "8. sourvenir shops"
   ]
  },
  {
   "cell_type": "code",
   "execution_count": null,
   "metadata": {},
   "outputs": [],
   "source": [
    "for obj in Phil_only:\n",
    "    if(obj['categories']):\n",
    "        if ('Souvenir Shops' in obj['categories'].strip().split(',')) or (' Souvenir Shops' in obj['categories'].strip().split(',')):\n",
    "            identifier = obj['business_id']\n",
    "            if identifier not in seen:\n",
    "                seen.add(identifier)\n",
    "                Phil_attractions.append(obj)\n",
    "print(f'new record: {len(Phil_attractions)}')"
   ]
  },
  {
   "cell_type": "code",
   "execution_count": 19,
   "metadata": {},
   "outputs": [],
   "source": [
    "with open('Philadelphia_Attractions.jsonl', 'w') as json_file:\n",
    "    for item in Phil_attractions:\n",
    "        json.dump(item, json_file)\n",
    "        json_file.write('\\n') "
   ]
  },
  {
   "cell_type": "markdown",
   "metadata": {},
   "source": [
    "All the reviews"
   ]
  },
  {
   "cell_type": "code",
   "execution_count": 3,
   "metadata": {},
   "outputs": [],
   "source": [
    "json_array = []\n",
    "\n",
    "# Open the file and read it line by line\n",
    "with open('yelp_academic_dataset_review.json', 'r') as file:\n",
    "    for line in file:\n",
    "        # Parse each line as a JSON object and append to the list\n",
    "        json_obj = json.loads(line.strip())  # strip() removes any leading/trailing whitespace\n",
    "        json_array.append(json_obj)"
   ]
  },
  {
   "cell_type": "code",
   "execution_count": null,
   "metadata": {},
   "outputs": [],
   "source": [
    "json_array[0]"
   ]
  },
  {
   "cell_type": "markdown",
   "metadata": {},
   "source": [
    "1. Reviews for Hotels"
   ]
  },
  {
   "cell_type": "code",
   "execution_count": 22,
   "metadata": {},
   "outputs": [],
   "source": [
    "hotel_json_array = []\n",
    "\n",
    "# Open the file and read it line by line\n",
    "with open('Philadelphia_Hotels.jsonl', 'r') as file:\n",
    "    for line in file:\n",
    "        # Parse each line as a JSON object and append to the list\n",
    "        json_obj = json.loads(line.strip())  # strip() removes any leading/trailing whitespace\n",
    "        hotel_json_array.append(json_obj)"
   ]
  },
  {
   "cell_type": "code",
   "execution_count": null,
   "metadata": {},
   "outputs": [],
   "source": [
    "review_json_array = []\n",
    "for hotel in hotel_json_array:\n",
    "    biz_id = hotel['business_id']\n",
    "    for review in json_array:\n",
    "        if review['business_id'] == biz_id:\n",
    "            review_json_array.append(review)"
   ]
  },
  {
   "cell_type": "code",
   "execution_count": 41,
   "metadata": {},
   "outputs": [],
   "source": [
    "with open('Philadelphia_Hotels_Reviews.jsonl', 'w') as json_file:\n",
    "    for item in review_json_array:\n",
    "        json.dump(item, json_file)\n",
    "        json_file.write('\\n') "
   ]
  },
  {
   "cell_type": "markdown",
   "metadata": {},
   "source": [
    "2. Reviews for Attractions"
   ]
  },
  {
   "cell_type": "code",
   "execution_count": 42,
   "metadata": {},
   "outputs": [],
   "source": [
    "attraction_json_array = []\n",
    "\n",
    "# Open the file and read it line by line\n",
    "with open('Philadelphia_Attractions.jsonl', 'r') as file:\n",
    "    for line in file:\n",
    "        # Parse each line as a JSON object and append to the list\n",
    "        json_obj = json.loads(line.strip())  # strip() removes any leading/trailing whitespace\n",
    "        attraction_json_array.append(json_obj)"
   ]
  },
  {
   "cell_type": "code",
   "execution_count": 43,
   "metadata": {},
   "outputs": [],
   "source": [
    "review_json_array = []\n",
    "for attraction in attraction_json_array:\n",
    "    biz_id = attraction['business_id']\n",
    "    for review in json_array:\n",
    "        if review['business_id'] == biz_id:\n",
    "            review_json_array.append(review)"
   ]
  },
  {
   "cell_type": "code",
   "execution_count": 44,
   "metadata": {},
   "outputs": [],
   "source": [
    "with open('Philadelphia_Attractions_Reviews.jsonl', 'w') as json_file:\n",
    "    for item in review_json_array:\n",
    "        json.dump(item, json_file)\n",
    "        json_file.write('\\n') "
   ]
  },
  {
   "cell_type": "markdown",
   "metadata": {},
   "source": [
    "3. Reviews for Restaurants"
   ]
  },
  {
   "cell_type": "code",
   "execution_count": 45,
   "metadata": {},
   "outputs": [],
   "source": [
    "restaurant_json_array = []\n",
    "\n",
    "# Open the file and read it line by line\n",
    "with open('Philadelphia_Restaurants.jsonl', 'r') as file:\n",
    "    for line in file:\n",
    "        # Parse each line as a JSON object and append to the list\n",
    "        json_obj = json.loads(line.strip())  # strip() removes any leading/trailing whitespace\n",
    "        restaurant_json_array.append(json_obj)"
   ]
  },
  {
   "cell_type": "code",
   "execution_count": 46,
   "metadata": {},
   "outputs": [],
   "source": [
    "review_json_array = []\n",
    "for restaurant in restaurant_json_array:\n",
    "    biz_id = restaurant['business_id']\n",
    "    for review in json_array:\n",
    "        if review['business_id'] == biz_id:\n",
    "            review_json_array.append(review)"
   ]
  },
  {
   "cell_type": "code",
   "execution_count": 47,
   "metadata": {},
   "outputs": [],
   "source": [
    "with open('Philadelphia_Restaurants_Reviews.jsonl', 'w') as json_file:\n",
    "    for item in review_json_array:\n",
    "        json.dump(item, json_file)\n",
    "        json_file.write('\\n') "
   ]
  },
  {
   "cell_type": "markdown",
   "metadata": {},
   "source": [
    "Validation of the integrity of the data retrived (if the review counts match)"
   ]
  },
  {
   "cell_type": "code",
   "execution_count": 5,
   "metadata": {},
   "outputs": [],
   "source": [
    "#just to get one review for \"6I_DA3uqOox50rBvjrQ_-g\"\n",
    "review_json_array = []\n",
    "biz_id = '6I_DA3uqOox50rBvjrQ_-g'\n",
    "for review in json_array:\n",
    "    if review['business_id'] == biz_id:\n",
    "        review_json_array.append(review)\n",
    "        break"
   ]
  },
  {
   "cell_type": "code",
   "execution_count": 7,
   "metadata": {},
   "outputs": [],
   "source": [
    "review_json_array[0]"
   ]
  },
  {
   "cell_type": "markdown",
   "metadata": {},
   "source": [
    "Get rid of not open anymore places"
   ]
  },
  {
   "cell_type": "markdown",
   "metadata": {},
   "source": [
    "1. Hotel"
   ]
  },
  {
   "cell_type": "code",
   "execution_count": 2,
   "metadata": {},
   "outputs": [],
   "source": [
    "hotels = []\n",
    "\n",
    "# Open the file and read it line by line\n",
    "with open('Philadelphia_Hotels.jsonl', 'r') as file:\n",
    "    for line in file:\n",
    "        # Parse each line as a JSON object and append to the list\n",
    "        json_obj = json.loads(line.strip())  # strip() removes any leading/trailing whitespace\n",
    "        hotels.append(json_obj)"
   ]
  },
  {
   "cell_type": "code",
   "execution_count": 6,
   "metadata": {},
   "outputs": [],
   "source": [
    "openning_hotels = []\n",
    "\n",
    "for hotel in hotels:\n",
    "    if(hotel['is_open'] == 1):\n",
    "        openning_hotels.append(hotel)\n",
    "len(openning_hotels)\n",
    "\n",
    "#write the cleaned data to a new jsonl file\n",
    "with open('Hotels.jsonl', 'w') as json_file:    \n",
    "    for item in openning_hotels:\n",
    "        json.dump(item, json_file)\n",
    "        json_file.write('\\n')"
   ]
  },
  {
   "cell_type": "code",
   "execution_count": 8,
   "metadata": {},
   "outputs": [],
   "source": [
    "hotel_reviews = []\n",
    "\n",
    "# Open the file and read it line by line\n",
    "with open('Philadelphia_Hotels_Reviews.jsonl', 'r') as file:\n",
    "    for line in file:\n",
    "        # Parse each line as a JSON object and append to the list\n",
    "        json_obj = json.loads(line.strip())  # strip() removes any leading/trailing whitespace\n",
    "        hotel_reviews.append(json_obj)"
   ]
  },
  {
   "cell_type": "code",
   "execution_count": 12,
   "metadata": {},
   "outputs": [],
   "source": [
    "openning_hotels_reviews = []\n",
    "\n",
    "for hotel in openning_hotels:\n",
    "    biz_id = hotel['business_id']\n",
    "    for review in hotel_reviews:\n",
    "        if review['business_id'] == biz_id:\n",
    "            openning_hotels_reviews.append(review)\n",
    "\n",
    "with open('Hotels_Reviews.jsonl', 'w') as json_file:    \n",
    "    for item in openning_hotels_reviews:\n",
    "        json.dump(item, json_file)\n",
    "        json_file.write('\\n')"
   ]
  },
  {
   "cell_type": "markdown",
   "metadata": {},
   "source": [
    "2. Attractions"
   ]
  },
  {
   "cell_type": "code",
   "execution_count": 2,
   "metadata": {},
   "outputs": [],
   "source": [
    "attractions = []\n",
    "\n",
    "# Open the file and read it line by line\n",
    "with open('Philadelphia_Attractions.jsonl', 'r') as file:\n",
    "    for line in file:\n",
    "        # Parse each line as a JSON object and append to the list\n",
    "        json_obj = json.loads(line.strip())  # strip() removes any leading/trailing whitespace\n",
    "        attractions.append(json_obj)"
   ]
  },
  {
   "cell_type": "code",
   "execution_count": 4,
   "metadata": {},
   "outputs": [],
   "source": [
    "openning_attractions = []\n",
    "\n",
    "for attraction in attractions:\n",
    "    if(attraction['is_open'] == 1):\n",
    "        openning_attractions.append(attraction)\n",
    "\n",
    "#write the cleaned data to a new jsonl file\n",
    "with open('Attractions.jsonl', 'w') as json_file:    \n",
    "    for item in openning_attractions:\n",
    "        json.dump(item, json_file)\n",
    "        json_file.write('\\n')"
   ]
  },
  {
   "cell_type": "code",
   "execution_count": 5,
   "metadata": {},
   "outputs": [],
   "source": [
    "attractions_reviews = []\n",
    "\n",
    "# Open the file and read it line by line\n",
    "with open('Philadelphia_Attractions_Reviews.jsonl', 'r') as file:\n",
    "    for line in file:\n",
    "        # Parse each line as a JSON object and append to the list\n",
    "        json_obj = json.loads(line.strip())  # strip() removes any leading/trailing whitespace\n",
    "        attractions_reviews.append(json_obj)"
   ]
  },
  {
   "cell_type": "code",
   "execution_count": 7,
   "metadata": {},
   "outputs": [],
   "source": [
    "openning_attractions_reviews = []\n",
    "\n",
    "for attraction in openning_attractions:\n",
    "    biz_id = attraction['business_id']\n",
    "    for review in attractions_reviews:\n",
    "        if review['business_id'] == biz_id:\n",
    "            openning_attractions_reviews.append(review)\n",
    "\n",
    "with open('Attractions_Reviews.jsonl', 'w') as json_file:    \n",
    "    for item in openning_attractions_reviews:\n",
    "        json.dump(item, json_file)\n",
    "        json_file.write('\\n')"
   ]
  },
  {
   "cell_type": "code",
   "execution_count": null,
   "metadata": {},
   "outputs": [],
   "source": []
  },
  {
   "cell_type": "markdown",
   "metadata": {},
   "source": [
    "3. Restaurants"
   ]
  },
  {
   "cell_type": "markdown",
   "metadata": {},
   "source": []
  },
  {
   "cell_type": "code",
   "execution_count": 3,
   "metadata": {},
   "outputs": [],
   "source": [
    "restaurants = []\n",
    "\n",
    "# Open the file and read it line by line\n",
    "with open('Philadelphia_Restaurants.jsonl', 'r') as file:\n",
    "    for line in file:\n",
    "        # Parse each line as a JSON object and append to the list\n",
    "        json_obj = json.loads(line.strip())  # strip() removes any leading/trailing whitespace\n",
    "        restaurants.append(json_obj)"
   ]
  },
  {
   "cell_type": "code",
   "execution_count": 4,
   "metadata": {},
   "outputs": [],
   "source": [
    "openning_restaurants = []\n",
    "\n",
    "for restaurant in restaurants:\n",
    "    if(restaurant['is_open'] == 1):\n",
    "        openning_restaurants.append(restaurant)\n",
    "\n",
    "#write the cleaned data to a new jsonl file\n",
    "with open('Restaurants.jsonl', 'w') as json_file:    \n",
    "    for item in openning_restaurants:\n",
    "        json.dump(item, json_file)\n",
    "        json_file.write('\\n')"
   ]
  },
  {
   "cell_type": "code",
   "execution_count": 5,
   "metadata": {},
   "outputs": [],
   "source": [
    "restaurants_reviews = []\n",
    "\n",
    "# Open the file and read it line by line\n",
    "with open('Philadelphia_Restaurants_Reviews.jsonl', 'r') as file:\n",
    "    for line in file:\n",
    "        # Parse each line as a JSON object and append to the list\n",
    "        json_obj = json.loads(line.strip())  # strip() removes any leading/trailing whitespace\n",
    "        restaurants_reviews.append(json_obj)"
   ]
  },
  {
   "cell_type": "code",
   "execution_count": 6,
   "metadata": {},
   "outputs": [],
   "source": [
    "openning_restaurants_reviews = []\n",
    "\n",
    "for restaurant in openning_restaurants:\n",
    "    biz_id = restaurant['business_id']\n",
    "    for review in restaurants_reviews:\n",
    "        if review['business_id'] == biz_id:\n",
    "            openning_restaurants_reviews.append(review)\n",
    "\n",
    "with open('Restaurants_Reviews.jsonl', 'w') as json_file:    \n",
    "    for item in openning_restaurants_reviews:\n",
    "        json.dump(item, json_file)\n",
    "        json_file.write('\\n')"
   ]
  },
  {
   "cell_type": "markdown",
   "metadata": {},
   "source": [
    "For restaurants, keep top 1000 review count restaurants"
   ]
  },
  {
   "cell_type": "code",
   "execution_count": 2,
   "metadata": {},
   "outputs": [],
   "source": [
    "restaurants = []\n",
    "\n",
    "# Open the file and read it line by line\n",
    "with open('Datasets/Restaurants.jsonl', 'r') as file:\n",
    "    for line in file:\n",
    "        # Parse each line as a JSON object and append to the list\n",
    "        json_obj = json.loads(line.strip())  # strip() removes any leading/trailing whitespace\n",
    "        restaurants.append(json_obj)"
   ]
  },
  {
   "cell_type": "code",
   "execution_count": 4,
   "metadata": {},
   "outputs": [],
   "source": [
    "#sort restaurants by review count descending\n",
    "sorted_restaurants = sorted(restaurants, key=lambda x: x['review_count'], reverse=True)\n",
    "top_1000 = sorted_restaurants[:1000]\n",
    "#write the cleaned data to a new jsonl file\n",
    "with open('Datasets/Restaurants_top1000.jsonl', 'w') as json_file:    \n",
    "    for item in top_1000:\n",
    "        json.dump(item, json_file)\n",
    "        json_file.write('\\n')"
   ]
  },
  {
   "cell_type": "code",
   "execution_count": 5,
   "metadata": {},
   "outputs": [],
   "source": [
    "#find the reviews for the top 1000 restaurants\n",
    "restaurants_reviews = []\n",
    "\n",
    "# Open the file and read it line by line\n",
    "with open('Datasets/Restaurants_Reviews.jsonl', 'r') as file:\n",
    "    for line in file:\n",
    "        # Parse each line as a JSON object and append to the list\n",
    "        json_obj = json.loads(line.strip())  # strip() removes any leading/trailing whitespace\n",
    "        restaurants_reviews.append(json_obj)\n",
    "\n",
    "top1000_restaurants_reviews = []\n",
    "\n",
    "for restaurant in top_1000:\n",
    "    biz_id = restaurant['business_id']\n",
    "    for review in restaurants_reviews:\n",
    "        if review['business_id'] == biz_id:\n",
    "            top1000_restaurants_reviews.append(review)\n",
    "\n",
    "with open('Datasets/Restaurants_top1000_Reviews.jsonl', 'w') as json_file:    \n",
    "    for item in top1000_restaurants_reviews:\n",
    "        json.dump(item, json_file)\n",
    "        json_file.write('\\n')"
   ]
  },
  {
   "cell_type": "markdown",
   "metadata": {},
   "source": [
    "Combine origial and detail, and clean up uncessray attributes"
   ]
  },
  {
   "cell_type": "code",
   "execution_count": 3,
   "metadata": {},
   "outputs": [],
   "source": [
    "hotels = []\n",
    "\n",
    "# Open the file and read it line by line\n",
    "with open('Datasets/Hotels.jsonl', 'r') as file:\n",
    "    for line in file:\n",
    "        # Parse each line as a JSON object and append to the list\n",
    "        json_obj = json.loads(line.strip())  # strip() removes any leading/trailing whitespace\n",
    "        hotels.append(json_obj)"
   ]
  },
  {
   "cell_type": "code",
   "execution_count": 4,
   "metadata": {},
   "outputs": [],
   "source": [
    "hotels_detail = []\n",
    "\n",
    "# Open the file and read it line by line\n",
    "with open('Datasets/Hotels_detail.jsonl', 'r') as file:\n",
    "    for line in file:\n",
    "        # Parse each line as a JSON object and append to the list\n",
    "        json_obj = json.loads(line.strip())  # strip() removes any leading/trailing whitespace\n",
    "        hotels_detail.append(json_obj)"
   ]
  },
  {
   "cell_type": "code",
   "execution_count": 6,
   "metadata": {},
   "outputs": [],
   "source": [
    "hotel_clean_attributes = ['business_id','name','address','city','stars','review_count']\n",
    "\n",
    "hotel_clean = [{attr: record[attr] for attr in hotel_clean_attributes} for record in hotels]"
   ]
  },
  {
   "cell_type": "code",
   "execution_count": 9,
   "metadata": {},
   "outputs": [],
   "source": [
    "hotel_detail_clean_attributes = ['id','price']\n",
    "\n",
    "hotel_detail_clean = [{attr: record.get(attr) for attr in hotel_detail_clean_attributes} for record in hotels_detail]"
   ]
  },
  {
   "cell_type": "code",
   "execution_count": 11,
   "metadata": {},
   "outputs": [],
   "source": [
    "df1 = pd.DataFrame(hotel_clean)\n",
    "df2 = pd.DataFrame(hotel_detail_clean)"
   ]
  },
  {
   "cell_type": "code",
   "execution_count": null,
   "metadata": {},
   "outputs": [],
   "source": [
    "df2 = df2.rename(columns =  {'id':'business_id'})"
   ]
  },
  {
   "cell_type": "code",
   "execution_count": 13,
   "metadata": {},
   "outputs": [
    {
     "data": {
      "text/plain": [
       "107"
      ]
     },
     "execution_count": 13,
     "metadata": {},
     "output_type": "execute_result"
    }
   ],
   "source": [
    "merged_df = pd.merge(df1, df2, on='business_id', how='outer')\n",
    "merged_array = merged_df.to_dict('records')\n",
    "len(merged_array)"
   ]
  },
  {
   "cell_type": "code",
   "execution_count": 14,
   "metadata": {},
   "outputs": [],
   "source": [
    "with open('Datasets/Hotels_pruned.jsonl', 'w') as json_file:    \n",
    "    for item in merged_array:\n",
    "        json.dump(item, json_file)\n",
    "        json_file.write('\\n')"
   ]
  },
  {
   "cell_type": "markdown",
   "metadata": {},
   "source": [
    "Attractions"
   ]
  },
  {
   "cell_type": "code",
   "execution_count": 19,
   "metadata": {},
   "outputs": [],
   "source": [
    "attractions = []\n",
    "\n",
    "# Open the file and read it line by line\n",
    "with open('Datasets/Attractions.jsonl', 'r') as file:\n",
    "    for line in file:\n",
    "        # Parse each line as a JSON object and append to the list\n",
    "        json_obj = json.loads(line.strip())  # strip() removes any leading/trailing whitespace\n",
    "        attractions.append(json_obj)"
   ]
  },
  {
   "cell_type": "code",
   "execution_count": 20,
   "metadata": {},
   "outputs": [],
   "source": [
    "attraction_attr = ['business_id','name','address','city','stars','review_count','categories','hours']\n",
    "\n",
    "\n",
    "attraction_clean=[{attr:record.get(attr) for attr in attraction_attr}for record in attractions]"
   ]
  },
  {
   "cell_type": "code",
   "execution_count": 22,
   "metadata": {},
   "outputs": [],
   "source": [
    "attractions_detail = []\n",
    "\n",
    "# Open the file and read it line by line\n",
    "with open('Datasets/Attractions_detail.jsonl', 'r') as file:\n",
    "    for line in file:\n",
    "        # Parse each line as a JSON object and append to the list\n",
    "        json_obj = json.loads(line.strip())  # strip() removes any leading/trailing whitespace\n",
    "        attractions_detail.append(json_obj)"
   ]
  },
  {
   "cell_type": "code",
   "execution_count": 23,
   "metadata": {},
   "outputs": [],
   "source": [
    "attractions_detail_attr = ['id','price']\n",
    "attraction_detail_clean=[{attr:record.get(attr) for attr in attractions_detail_attr}for record in attractions_detail]"
   ]
  },
  {
   "cell_type": "code",
   "execution_count": 24,
   "metadata": {},
   "outputs": [],
   "source": [
    "df1 = pd.DataFrame(attraction_clean)\n",
    "df2 = pd.DataFrame(attraction_detail_clean)"
   ]
  },
  {
   "cell_type": "code",
   "execution_count": 25,
   "metadata": {},
   "outputs": [],
   "source": [
    "df2 = df2.rename(columns =  {'id':'business_id'})"
   ]
  },
  {
   "cell_type": "code",
   "execution_count": 26,
   "metadata": {},
   "outputs": [
    {
     "data": {
      "text/plain": [
       "347"
      ]
     },
     "execution_count": 26,
     "metadata": {},
     "output_type": "execute_result"
    }
   ],
   "source": [
    "merged_df = pd.merge(df1, df2, on='business_id', how='outer')\n",
    "merged_array = merged_df.to_dict('records')\n",
    "len(merged_array)"
   ]
  },
  {
   "cell_type": "code",
   "execution_count": 27,
   "metadata": {},
   "outputs": [],
   "source": [
    "with open('Datasets/Attractions_pruned.jsonl', 'w') as json_file:    \n",
    "    for item in merged_array:\n",
    "        json.dump(item, json_file)\n",
    "        json_file.write('\\n')"
   ]
  },
  {
   "cell_type": "markdown",
   "metadata": {},
   "source": [
    "Restaurants"
   ]
  },
  {
   "cell_type": "code",
   "execution_count": 40,
   "metadata": {},
   "outputs": [],
   "source": [
    "restaurants = []\n",
    "\n",
    "# Open the file and read it line by line\n",
    "with open('Datasets/Restaurants_top1000.jsonl', 'r') as file:\n",
    "    for line in file:\n",
    "        # Parse each line as a JSON object and append to the list\n",
    "        json_obj = json.loads(line.strip())  # strip() removes any leading/trailing whitespace\n",
    "        restaurants.append(json_obj)"
   ]
  },
  {
   "cell_type": "code",
   "execution_count": 41,
   "metadata": {},
   "outputs": [],
   "source": [
    "restaurants_attr = ['business_id','name','address','city','stars','review_count','good_for_meal','categories']\n",
    "#also want the GoodForMeal in attributes\n",
    "for record in restaurants:\n",
    "    record['good_for_meal'] = record.get('attributes', {}).get('GoodForMeal', \"None\")"
   ]
  },
  {
   "cell_type": "code",
   "execution_count": 42,
   "metadata": {},
   "outputs": [],
   "source": [
    "restaurants_clean = [{attr:record.get(attr) for attr in restaurants_attr}for record in restaurants]"
   ]
  },
  {
   "cell_type": "code",
   "execution_count": 43,
   "metadata": {},
   "outputs": [],
   "source": [
    "restaurants_detail = []\n",
    "\n",
    "# Open the file and read it line by line\n",
    "with open('Datasets/Restaurants_top1000_detail.jsonl', 'r') as file:\n",
    "    for line in file:\n",
    "        # Parse each line as a JSON object and append to the list\n",
    "        json_obj = json.loads(line.strip())  # strip() removes any leading/trailing whitespace\n",
    "        restaurants_detail.append(json_obj)"
   ]
  },
  {
   "cell_type": "code",
   "execution_count": 44,
   "metadata": {},
   "outputs": [],
   "source": [
    "restaurants_detail_attr = ['id','price']\n",
    "restaurants_detail_clean=[{attr:record.get(attr) for attr in restaurants_detail_attr}for record in restaurants_detail]"
   ]
  },
  {
   "cell_type": "code",
   "execution_count": 45,
   "metadata": {},
   "outputs": [],
   "source": [
    "df1 = pd.DataFrame(restaurants_clean)\n",
    "df2 = pd.DataFrame(restaurants_detail_clean)\n",
    "df2 = df2.rename(columns =  {'id':'business_id'})\n",
    "merged_df = pd.merge(df1, df2, on='business_id', how='outer')\n",
    "merged_array = merged_df.to_dict('records')"
   ]
  },
  {
   "cell_type": "code",
   "execution_count": 46,
   "metadata": {},
   "outputs": [],
   "source": [
    "with open('Datasets/Restaurants_pruned.jsonl', 'w') as json_file:    \n",
    "    for item in merged_array:\n",
    "        json.dump(item, json_file)\n",
    "        json_file.write('\\n')"
   ]
  },
  {
   "cell_type": "markdown",
   "metadata": {},
   "source": [
    "process restaurants, mainly open up good for meal attribute"
   ]
  },
  {
   "cell_type": "code",
   "execution_count": 50,
   "metadata": {},
   "outputs": [],
   "source": [
    "restaurants = []\n",
    "\n",
    "# Open the file and read it line by line\n",
    "with open('Datasets/Restaurants_pruned.jsonl', 'r') as file:\n",
    "    for line in file:\n",
    "        # Parse each line as a JSON object and append to the list\n",
    "        json_obj = json.loads(line.strip())  # strip() removes any leading/trailing whitespace\n",
    "        restaurants.append(json_obj)"
   ]
  },
  {
   "cell_type": "code",
   "execution_count": 51,
   "metadata": {},
   "outputs": [],
   "source": [
    "checkedAttr = ['dessert', 'latenight', 'lunch', 'dinner', 'brunch', 'breakfast']\n",
    "\n",
    "for record in restaurants:\n",
    "    processed = ''\n",
    "    if(record.get('good_for_meal') != 'None'):\n",
    "        invlid_json = record['good_for_meal']\n",
    "        valid_json = invlid_json.replace(\"u'\", \"'\").replace(\"'\", '\"').replace(\"None\", \"null\").replace(\"True\", \"true\").replace(\"False\", \"false\")\n",
    "        json_obj = json.loads(valid_json)\n",
    "        for attr in checkedAttr:\n",
    "            if json_obj.get(attr) == True:\n",
    "                processed = ', '.join([processed, attr])\n",
    "        record['good_for_meal'] = processed[2:]\n",
    "    else:\n",
    "        record['good_for_meal'] = 'Unknown'"
   ]
  },
  {
   "cell_type": "code",
   "execution_count": 53,
   "metadata": {},
   "outputs": [],
   "source": [
    "with open('Datasets/Restaurants_pruned.jsonl', 'w') as json_file:    \n",
    "    for item in restaurants:\n",
    "        json.dump(item, json_file)\n",
    "        json_file.write('\\n')"
   ]
  },
  {
   "cell_type": "markdown",
   "metadata": {},
   "source": [
    "Post process:\n",
    "1. process price level, turn 'None' into 'No Price info'"
   ]
  },
  {
   "cell_type": "code",
   "execution_count": 12,
   "metadata": {},
   "outputs": [],
   "source": [
    "hotels = []\n",
    "\n",
    "# Open the file and read it line by line\n",
    "with open('Datasets/Hotels_pruned.jsonl', 'r') as file:\n",
    "    for line in file:\n",
    "        # Parse each line as a JSON object and append to the list\n",
    "        json_obj = json.loads(line.strip())  # strip() removes any leading/trailing whitespace\n",
    "        hotels.append(json_obj)"
   ]
  },
  {
   "cell_type": "code",
   "execution_count": 14,
   "metadata": {},
   "outputs": [],
   "source": [
    "hotels_new = []\n",
    "for hotel in hotels:\n",
    "    if hotel['price'] == None:\n",
    "        hotel['price'] = 'Unknown price'\n",
    "    hotels_new.append(hotel)\n",
    "\n",
    "#write into jsonl file\n",
    "with open('Datasets/Hotels_pruned.jsonl', 'w') as json_file:    \n",
    "    for item in hotels_new:\n",
    "        json.dump(item, json_file)\n",
    "        json_file.write('\\n')"
   ]
  },
  {
   "cell_type": "code",
   "execution_count": 60,
   "metadata": {},
   "outputs": [],
   "source": [
    "attractions = []\n",
    "\n",
    "# Open the file and read it line by line\n",
    "with open('Datasets/Attractions_pruned.jsonl', 'r') as file:\n",
    "    for line in file:\n",
    "        # Parse each line as a JSON object and append to the list\n",
    "        json_obj = json.loads(line.strip())  # strip() removes any leading/trailing whitespace\n",
    "        attractions.append(json_obj)"
   ]
  },
  {
   "cell_type": "code",
   "execution_count": 61,
   "metadata": {},
   "outputs": [],
   "source": [
    "# address = \"\", hour = null, price = null\n",
    "attractions_new = []\n",
    "\n",
    "for record in attractions:\n",
    "    if record.get('address') == \"\":\n",
    "        record['address'] = 'Unknown address'\n",
    "    if record.get('hours') == None:\n",
    "        record['hours'] = 'Unknown hours'\n",
    "    if record.get('price') == None:\n",
    "        record['price'] = 'Unknown price'\n",
    "    attractions_new.append(record)"
   ]
  },
  {
   "cell_type": "code",
   "execution_count": 62,
   "metadata": {},
   "outputs": [],
   "source": [
    "with open('Datasets/Attractions_pruned.jsonl', 'w') as json_file:    \n",
    "    for item in attractions_new:\n",
    "        json.dump(item, json_file)\n",
    "        json_file.write('\\n')"
   ]
  },
  {
   "cell_type": "code",
   "execution_count": 63,
   "metadata": {},
   "outputs": [],
   "source": [
    "restaurants = []\n",
    "\n",
    "# Open the file and read it line by line\n",
    "with open('Datasets/Restaurants_pruned.jsonl', 'r') as file:\n",
    "    for line in file:\n",
    "        # Parse each line as a JSON object and append to the list\n",
    "        json_obj = json.loads(line.strip())  # strip() removes any leading/trailing whitespace\n",
    "        restaurants.append(json_obj)"
   ]
  },
  {
   "cell_type": "code",
   "execution_count": 64,
   "metadata": {},
   "outputs": [],
   "source": [
    "#\"address\": \"\"; \"price\": null; \"good_for_meal\": \"\";\n",
    "restaurants_new = []\n",
    "\n",
    "for record in restaurants:\n",
    "    if record.get('address') == \"\":\n",
    "        record['address'] = 'Unknown address'\n",
    "    if record.get('price') == None:\n",
    "        record['price'] = 'Unknown price'\n",
    "    if record.get('good_for_meal') == \"\":\n",
    "        record['good_for_meal'] = 'Unknown'\n",
    "    restaurants_new.append(record)"
   ]
  },
  {
   "cell_type": "code",
   "execution_count": 65,
   "metadata": {},
   "outputs": [],
   "source": [
    "with open('Datasets/Restaurants_pruned_test.jsonl', 'w') as json_file:    \n",
    "    for item in restaurants_new:\n",
    "        json.dump(item, json_file)\n",
    "        json_file.write('\\n')"
   ]
  },
  {
   "cell_type": "markdown",
   "metadata": {},
   "source": [
    "All pruned together"
   ]
  },
  {
   "cell_type": "code",
   "execution_count": 2,
   "metadata": {},
   "outputs": [],
   "source": [
    "import json\n",
    "\n",
    "all = []\n",
    "\n",
    "# Open the file and read it line by line\n",
    "with open('Datasets/Restaurants_pruned.jsonl', 'r') as file:\n",
    "    for line in file:\n",
    "        # Parse each line as a JSON object and append to the list\n",
    "        json_obj = json.loads(line.strip())  # strip() removes any leading/trailing whitespace\n",
    "        all.append(json_obj)\n",
    "\n",
    "# Open the file and read it line by line\n",
    "with open('Datasets/Hotels_pruned.jsonl', 'r') as file:\n",
    "    for line in file:\n",
    "        # Parse each line as a JSON object and append to the list\n",
    "        json_obj = json.loads(line.strip())  # strip() removes any leading/trailing whitespace\n",
    "        all.append(json_obj)\n",
    "\n",
    "# Open the file and read it line by line\n",
    "with open('Datasets/Attractions_pruned.jsonl', 'r') as file:\n",
    "    for line in file:\n",
    "        # Parse each line as a JSON object and append to the list\n",
    "        json_obj = json.loads(line.strip())  # strip() removes any leading/trailing whitespace\n",
    "        all.append(json_obj)\n",
    "\n",
    "with open('Datasets/all_pruned.jsonl', 'w') as json_file:    \n",
    "    for item in all:\n",
    "        json.dump(item, json_file)\n",
    "        json_file.write('\\n')"
   ]
  },
  {
   "cell_type": "markdown",
   "metadata": {},
   "source": [
    "Drop duplicates in all_pruned for testing purpose, the duplicate not from error, just same business both collected as attraction and restaurants."
   ]
  },
  {
   "cell_type": "code",
   "execution_count": null,
   "metadata": {},
   "outputs": [
    {
     "ename": "",
     "evalue": "",
     "output_type": "error",
     "traceback": [
      "\u001b[1;31mThe Kernel crashed while executing code in the current cell or a previous cell. \n",
      "\u001b[1;31mPlease review the code in the cell(s) to identify a possible cause of the failure. \n",
      "\u001b[1;31mClick <a href='https://aka.ms/vscodeJupyterKernelCrash'>here</a> for more info. \n",
      "\u001b[1;31mView Jupyter <a href='command:jupyter.viewOutput'>log</a> for further details."
     ]
    }
   ],
   "source": [
    "#drop duplicates in all_pruned.jsonl\n",
    "\n",
    "import json\n",
    "import pandas as pd\n",
    "\n",
    "all = []\n",
    "\n",
    "#load all_pruned.jsonl into a list of dictionaries\n",
    "with open('Datasets/all_pruned.jsonl', 'r') as file:\n",
    "    for line in file:\n",
    "        # Parse each line as a JSON object and append to the list\n",
    "        json_obj = json.loads(line.strip())  # strip() removes any leading/trailing whitespace\n",
    "        all.append(json_obj)\n",
    "\n",
    "df = pd.DataFrame(all)\n",
    "#drop duplicates in df based on business_id\n",
    "df = df.drop_duplicates(subset='business_id', keep='first')\n",
    "\n",
    "#write into jsonl file\n",
    "with open('Datasets/all_pruned.jsonl', 'w') as json_file:    \n",
    "    for item in df.to_dict('records'):\n",
    "        json.dump(item, json_file)\n",
    "        json_file.write('\\n')\n"
   ]
  },
  {
   "cell_type": "markdown",
   "metadata": {},
   "source": [
    "Create CSV"
   ]
  },
  {
   "cell_type": "markdown",
   "metadata": {},
   "source": [
    "Restaurants"
   ]
  },
  {
   "cell_type": "code",
   "execution_count": 67,
   "metadata": {},
   "outputs": [
    {
     "data": {
      "text/html": [
       "<div>\n",
       "<style scoped>\n",
       "    .dataframe tbody tr th:only-of-type {\n",
       "        vertical-align: middle;\n",
       "    }\n",
       "\n",
       "    .dataframe tbody tr th {\n",
       "        vertical-align: top;\n",
       "    }\n",
       "\n",
       "    .dataframe thead th {\n",
       "        text-align: right;\n",
       "    }\n",
       "</style>\n",
       "<table border=\"1\" class=\"dataframe\">\n",
       "  <thead>\n",
       "    <tr style=\"text-align: right;\">\n",
       "      <th></th>\n",
       "      <th>business_id</th>\n",
       "      <th>name</th>\n",
       "      <th>address</th>\n",
       "      <th>city</th>\n",
       "      <th>stars</th>\n",
       "      <th>review_count</th>\n",
       "      <th>good_for_meal</th>\n",
       "      <th>categories</th>\n",
       "      <th>price</th>\n",
       "    </tr>\n",
       "  </thead>\n",
       "  <tbody>\n",
       "    <tr>\n",
       "      <th>0</th>\n",
       "      <td>-0TffRSXXIlBYVbb5AwfTg</td>\n",
       "      <td>IndeBlue Modern Indian Food &amp; Spirits</td>\n",
       "      <td>205 South 13th St</td>\n",
       "      <td>Philadelphia</td>\n",
       "      <td>4.5</td>\n",
       "      <td>1097.0</td>\n",
       "      <td>dinner</td>\n",
       "      <td>Cocktail Bars, Food Delivery Services, Nightli...</td>\n",
       "      <td>$$</td>\n",
       "    </tr>\n",
       "    <tr>\n",
       "      <th>1</th>\n",
       "      <td>-1B9pP_CrRBJYPICE5WbRA</td>\n",
       "      <td>Spice 28</td>\n",
       "      <td>1228 Chestnut St</td>\n",
       "      <td>Philadelphia</td>\n",
       "      <td>4.0</td>\n",
       "      <td>822.0</td>\n",
       "      <td>lunch, dinner</td>\n",
       "      <td>Asian Fusion, Restaurants, American (New), Tha...</td>\n",
       "      <td>$$</td>\n",
       "    </tr>\n",
       "    <tr>\n",
       "      <th>2</th>\n",
       "      <td>-5Rah4ZvWsDu4oilUZxhtw</td>\n",
       "      <td>World Cafe Live</td>\n",
       "      <td>3025 Walnut St</td>\n",
       "      <td>Philadelphia</td>\n",
       "      <td>4.0</td>\n",
       "      <td>350.0</td>\n",
       "      <td>dinner</td>\n",
       "      <td>Nightlife, Arts &amp; Entertainment, Restaurants, ...</td>\n",
       "      <td>$$</td>\n",
       "    </tr>\n",
       "    <tr>\n",
       "      <th>3</th>\n",
       "      <td>-ATiAtTikuGuqvaW2O6tNA</td>\n",
       "      <td>Marathon</td>\n",
       "      <td>121 S 16th St</td>\n",
       "      <td>Philadelphia</td>\n",
       "      <td>3.5</td>\n",
       "      <td>593.0</td>\n",
       "      <td>lunch, brunch</td>\n",
       "      <td>Sandwiches, American (New), Lounges, Nightlife...</td>\n",
       "      <td>$$</td>\n",
       "    </tr>\n",
       "    <tr>\n",
       "      <th>4</th>\n",
       "      <td>-DGsnMlRrR_tv8avrpQLQw</td>\n",
       "      <td>Sam's Morning Glory Diner</td>\n",
       "      <td>735 S 10th St</td>\n",
       "      <td>Philadelphia</td>\n",
       "      <td>4.0</td>\n",
       "      <td>741.0</td>\n",
       "      <td>brunch, breakfast</td>\n",
       "      <td>Breakfast &amp; Brunch, Restaurants, Diners</td>\n",
       "      <td>$$</td>\n",
       "    </tr>\n",
       "  </tbody>\n",
       "</table>\n",
       "</div>"
      ],
      "text/plain": [
       "              business_id                                   name  \\\n",
       "0  -0TffRSXXIlBYVbb5AwfTg  IndeBlue Modern Indian Food & Spirits   \n",
       "1  -1B9pP_CrRBJYPICE5WbRA                               Spice 28   \n",
       "2  -5Rah4ZvWsDu4oilUZxhtw                        World Cafe Live   \n",
       "3  -ATiAtTikuGuqvaW2O6tNA                               Marathon   \n",
       "4  -DGsnMlRrR_tv8avrpQLQw              Sam's Morning Glory Diner   \n",
       "\n",
       "             address          city  stars  review_count      good_for_meal  \\\n",
       "0  205 South 13th St  Philadelphia    4.5        1097.0             dinner   \n",
       "1   1228 Chestnut St  Philadelphia    4.0         822.0      lunch, dinner   \n",
       "2     3025 Walnut St  Philadelphia    4.0         350.0             dinner   \n",
       "3      121 S 16th St  Philadelphia    3.5         593.0      lunch, brunch   \n",
       "4      735 S 10th St  Philadelphia    4.0         741.0  brunch, breakfast   \n",
       "\n",
       "                                          categories price  \n",
       "0  Cocktail Bars, Food Delivery Services, Nightli...    $$  \n",
       "1  Asian Fusion, Restaurants, American (New), Tha...    $$  \n",
       "2  Nightlife, Arts & Entertainment, Restaurants, ...    $$  \n",
       "3  Sandwiches, American (New), Lounges, Nightlife...    $$  \n",
       "4            Breakfast & Brunch, Restaurants, Diners    $$  "
      ]
     },
     "execution_count": 67,
     "metadata": {},
     "output_type": "execute_result"
    }
   ],
   "source": [
    "import json\n",
    "import pandas as pd\n",
    "\n",
    "data = []\n",
    "with open('Datasets/Restaurants_pruned.jsonl', 'r') as f:\n",
    "    for line in f:\n",
    "        data.append(json.loads(line))\n",
    "\n",
    "df = pd.DataFrame(data)\n",
    "df.head()"
   ]
  },
  {
   "cell_type": "code",
   "execution_count": 68,
   "metadata": {},
   "outputs": [
    {
     "data": {
      "text/html": [
       "<div>\n",
       "<style scoped>\n",
       "    .dataframe tbody tr th:only-of-type {\n",
       "        vertical-align: middle;\n",
       "    }\n",
       "\n",
       "    .dataframe tbody tr th {\n",
       "        vertical-align: top;\n",
       "    }\n",
       "\n",
       "    .dataframe thead th {\n",
       "        text-align: right;\n",
       "    }\n",
       "</style>\n",
       "<table border=\"1\" class=\"dataframe\">\n",
       "  <thead>\n",
       "    <tr style=\"text-align: right;\">\n",
       "      <th></th>\n",
       "      <th>name</th>\n",
       "      <th>address</th>\n",
       "      <th>stars</th>\n",
       "      <th>good_for_meal</th>\n",
       "      <th>categories</th>\n",
       "      <th>price</th>\n",
       "    </tr>\n",
       "  </thead>\n",
       "  <tbody>\n",
       "    <tr>\n",
       "      <th>0</th>\n",
       "      <td>IndeBlue Modern Indian Food &amp; Spirits</td>\n",
       "      <td>205 South 13th St</td>\n",
       "      <td>4.5</td>\n",
       "      <td>dinner</td>\n",
       "      <td>Cocktail Bars, Food Delivery Services, Nightli...</td>\n",
       "      <td>$$</td>\n",
       "    </tr>\n",
       "    <tr>\n",
       "      <th>1</th>\n",
       "      <td>Spice 28</td>\n",
       "      <td>1228 Chestnut St</td>\n",
       "      <td>4.0</td>\n",
       "      <td>lunch, dinner</td>\n",
       "      <td>Asian Fusion, Restaurants, American (New), Tha...</td>\n",
       "      <td>$$</td>\n",
       "    </tr>\n",
       "    <tr>\n",
       "      <th>2</th>\n",
       "      <td>World Cafe Live</td>\n",
       "      <td>3025 Walnut St</td>\n",
       "      <td>4.0</td>\n",
       "      <td>dinner</td>\n",
       "      <td>Nightlife, Arts &amp; Entertainment, Restaurants, ...</td>\n",
       "      <td>$$</td>\n",
       "    </tr>\n",
       "    <tr>\n",
       "      <th>3</th>\n",
       "      <td>Marathon</td>\n",
       "      <td>121 S 16th St</td>\n",
       "      <td>3.5</td>\n",
       "      <td>lunch, brunch</td>\n",
       "      <td>Sandwiches, American (New), Lounges, Nightlife...</td>\n",
       "      <td>$$</td>\n",
       "    </tr>\n",
       "    <tr>\n",
       "      <th>4</th>\n",
       "      <td>Sam's Morning Glory Diner</td>\n",
       "      <td>735 S 10th St</td>\n",
       "      <td>4.0</td>\n",
       "      <td>brunch, breakfast</td>\n",
       "      <td>Breakfast &amp; Brunch, Restaurants, Diners</td>\n",
       "      <td>$$</td>\n",
       "    </tr>\n",
       "  </tbody>\n",
       "</table>\n",
       "</div>"
      ],
      "text/plain": [
       "                                    name            address  stars  \\\n",
       "0  IndeBlue Modern Indian Food & Spirits  205 South 13th St    4.5   \n",
       "1                               Spice 28   1228 Chestnut St    4.0   \n",
       "2                        World Cafe Live     3025 Walnut St    4.0   \n",
       "3                               Marathon      121 S 16th St    3.5   \n",
       "4              Sam's Morning Glory Diner      735 S 10th St    4.0   \n",
       "\n",
       "       good_for_meal                                         categories price  \n",
       "0             dinner  Cocktail Bars, Food Delivery Services, Nightli...    $$  \n",
       "1      lunch, dinner  Asian Fusion, Restaurants, American (New), Tha...    $$  \n",
       "2             dinner  Nightlife, Arts & Entertainment, Restaurants, ...    $$  \n",
       "3      lunch, brunch  Sandwiches, American (New), Lounges, Nightlife...    $$  \n",
       "4  brunch, breakfast            Breakfast & Brunch, Restaurants, Diners    $$  "
      ]
     },
     "execution_count": 68,
     "metadata": {},
     "output_type": "execute_result"
    }
   ],
   "source": [
    "df = df.loc[:, ['name', 'address', 'stars', 'good_for_meal', 'categories', 'price']]\n",
    "df.head()"
   ]
  },
  {
   "cell_type": "code",
   "execution_count": 69,
   "metadata": {},
   "outputs": [],
   "source": [
    "df.to_csv('Datasets/Restaurants.csv', index=False)"
   ]
  },
  {
   "cell_type": "markdown",
   "metadata": {},
   "source": [
    "Hotels"
   ]
  },
  {
   "cell_type": "code",
   "execution_count": 70,
   "metadata": {},
   "outputs": [
    {
     "data": {
      "text/html": [
       "<div>\n",
       "<style scoped>\n",
       "    .dataframe tbody tr th:only-of-type {\n",
       "        vertical-align: middle;\n",
       "    }\n",
       "\n",
       "    .dataframe tbody tr th {\n",
       "        vertical-align: top;\n",
       "    }\n",
       "\n",
       "    .dataframe thead th {\n",
       "        text-align: right;\n",
       "    }\n",
       "</style>\n",
       "<table border=\"1\" class=\"dataframe\">\n",
       "  <thead>\n",
       "    <tr style=\"text-align: right;\">\n",
       "      <th></th>\n",
       "      <th>business_id</th>\n",
       "      <th>name</th>\n",
       "      <th>address</th>\n",
       "      <th>city</th>\n",
       "      <th>stars</th>\n",
       "      <th>review_count</th>\n",
       "      <th>price</th>\n",
       "    </tr>\n",
       "  </thead>\n",
       "  <tbody>\n",
       "    <tr>\n",
       "      <th>0</th>\n",
       "      <td>-D_3emciINpjvYXsHCf8OA</td>\n",
       "      <td>AKA Rittenhouse Square</td>\n",
       "      <td>135 S 18th St</td>\n",
       "      <td>Philadelphia</td>\n",
       "      <td>4.5</td>\n",
       "      <td>38</td>\n",
       "      <td>$$$</td>\n",
       "    </tr>\n",
       "    <tr>\n",
       "      <th>1</th>\n",
       "      <td>0FMOvA2Noq-gieWfnXB7aQ</td>\n",
       "      <td>Live! Casino &amp; Hotel Philadelphia</td>\n",
       "      <td>900 Packer Ave</td>\n",
       "      <td>Philadelphia</td>\n",
       "      <td>2.5</td>\n",
       "      <td>26</td>\n",
       "      <td>Unknown price</td>\n",
       "    </tr>\n",
       "    <tr>\n",
       "      <th>2</th>\n",
       "      <td>0bvtIbpsqBJZpRKSPwIfNw</td>\n",
       "      <td>Panorama</td>\n",
       "      <td>14 N Front St</td>\n",
       "      <td>Philadelphia</td>\n",
       "      <td>4.0</td>\n",
       "      <td>324</td>\n",
       "      <td>$$$</td>\n",
       "    </tr>\n",
       "    <tr>\n",
       "      <th>3</th>\n",
       "      <td>0hVf3a0oq8ckB8JIDwSgig</td>\n",
       "      <td>Days Inn by Wyndham Philadelphia Convention Ce...</td>\n",
       "      <td>1227 Race Street</td>\n",
       "      <td>Philadelphia</td>\n",
       "      <td>2.0</td>\n",
       "      <td>51</td>\n",
       "      <td>$$</td>\n",
       "    </tr>\n",
       "    <tr>\n",
       "      <th>4</th>\n",
       "      <td>1QlgJVS-WEb9KGS42sQMIA</td>\n",
       "      <td>ROOST Rittenhouse</td>\n",
       "      <td>1831 Chestnut St</td>\n",
       "      <td>Philadelphia</td>\n",
       "      <td>4.0</td>\n",
       "      <td>5</td>\n",
       "      <td>Unknown price</td>\n",
       "    </tr>\n",
       "  </tbody>\n",
       "</table>\n",
       "</div>"
      ],
      "text/plain": [
       "              business_id                                               name  \\\n",
       "0  -D_3emciINpjvYXsHCf8OA                             AKA Rittenhouse Square   \n",
       "1  0FMOvA2Noq-gieWfnXB7aQ                  Live! Casino & Hotel Philadelphia   \n",
       "2  0bvtIbpsqBJZpRKSPwIfNw                                           Panorama   \n",
       "3  0hVf3a0oq8ckB8JIDwSgig  Days Inn by Wyndham Philadelphia Convention Ce...   \n",
       "4  1QlgJVS-WEb9KGS42sQMIA                                  ROOST Rittenhouse   \n",
       "\n",
       "            address          city  stars  review_count          price  \n",
       "0     135 S 18th St  Philadelphia    4.5            38            $$$  \n",
       "1    900 Packer Ave  Philadelphia    2.5            26  Unknown price  \n",
       "2     14 N Front St  Philadelphia    4.0           324            $$$  \n",
       "3  1227 Race Street  Philadelphia    2.0            51             $$  \n",
       "4  1831 Chestnut St  Philadelphia    4.0             5  Unknown price  "
      ]
     },
     "execution_count": 70,
     "metadata": {},
     "output_type": "execute_result"
    }
   ],
   "source": [
    "import json\n",
    "import pandas as pd\n",
    "\n",
    "data = []\n",
    "with open('Datasets/Hotels_pruned.jsonl', 'r') as f:\n",
    "    for line in f:\n",
    "        data.append(json.loads(line))\n",
    "\n",
    "df = pd.DataFrame(data)\n",
    "df.head()"
   ]
  },
  {
   "cell_type": "code",
   "execution_count": 71,
   "metadata": {},
   "outputs": [
    {
     "data": {
      "text/html": [
       "<div>\n",
       "<style scoped>\n",
       "    .dataframe tbody tr th:only-of-type {\n",
       "        vertical-align: middle;\n",
       "    }\n",
       "\n",
       "    .dataframe tbody tr th {\n",
       "        vertical-align: top;\n",
       "    }\n",
       "\n",
       "    .dataframe thead th {\n",
       "        text-align: right;\n",
       "    }\n",
       "</style>\n",
       "<table border=\"1\" class=\"dataframe\">\n",
       "  <thead>\n",
       "    <tr style=\"text-align: right;\">\n",
       "      <th></th>\n",
       "      <th>name</th>\n",
       "      <th>address</th>\n",
       "      <th>stars</th>\n",
       "      <th>price</th>\n",
       "    </tr>\n",
       "  </thead>\n",
       "  <tbody>\n",
       "    <tr>\n",
       "      <th>0</th>\n",
       "      <td>AKA Rittenhouse Square</td>\n",
       "      <td>135 S 18th St</td>\n",
       "      <td>4.5</td>\n",
       "      <td>$$$</td>\n",
       "    </tr>\n",
       "    <tr>\n",
       "      <th>1</th>\n",
       "      <td>Live! Casino &amp; Hotel Philadelphia</td>\n",
       "      <td>900 Packer Ave</td>\n",
       "      <td>2.5</td>\n",
       "      <td>Unknown price</td>\n",
       "    </tr>\n",
       "    <tr>\n",
       "      <th>2</th>\n",
       "      <td>Panorama</td>\n",
       "      <td>14 N Front St</td>\n",
       "      <td>4.0</td>\n",
       "      <td>$$$</td>\n",
       "    </tr>\n",
       "    <tr>\n",
       "      <th>3</th>\n",
       "      <td>Days Inn by Wyndham Philadelphia Convention Ce...</td>\n",
       "      <td>1227 Race Street</td>\n",
       "      <td>2.0</td>\n",
       "      <td>$$</td>\n",
       "    </tr>\n",
       "    <tr>\n",
       "      <th>4</th>\n",
       "      <td>ROOST Rittenhouse</td>\n",
       "      <td>1831 Chestnut St</td>\n",
       "      <td>4.0</td>\n",
       "      <td>Unknown price</td>\n",
       "    </tr>\n",
       "  </tbody>\n",
       "</table>\n",
       "</div>"
      ],
      "text/plain": [
       "                                                name           address  stars  \\\n",
       "0                             AKA Rittenhouse Square     135 S 18th St    4.5   \n",
       "1                  Live! Casino & Hotel Philadelphia    900 Packer Ave    2.5   \n",
       "2                                           Panorama     14 N Front St    4.0   \n",
       "3  Days Inn by Wyndham Philadelphia Convention Ce...  1227 Race Street    2.0   \n",
       "4                                  ROOST Rittenhouse  1831 Chestnut St    4.0   \n",
       "\n",
       "           price  \n",
       "0            $$$  \n",
       "1  Unknown price  \n",
       "2            $$$  \n",
       "3             $$  \n",
       "4  Unknown price  "
      ]
     },
     "execution_count": 71,
     "metadata": {},
     "output_type": "execute_result"
    }
   ],
   "source": [
    "df = df.loc[:, ['name', 'address', 'stars', 'price']]\n",
    "df.head()"
   ]
  },
  {
   "cell_type": "code",
   "execution_count": 72,
   "metadata": {},
   "outputs": [],
   "source": [
    "df.to_csv('Datasets/Hotels.csv', index=False)"
   ]
  },
  {
   "cell_type": "markdown",
   "metadata": {},
   "source": [
    "Attractions"
   ]
  },
  {
   "cell_type": "code",
   "execution_count": 6,
   "metadata": {},
   "outputs": [
    {
     "data": {
      "text/html": [
       "<div>\n",
       "<style scoped>\n",
       "    .dataframe tbody tr th:only-of-type {\n",
       "        vertical-align: middle;\n",
       "    }\n",
       "\n",
       "    .dataframe tbody tr th {\n",
       "        vertical-align: top;\n",
       "    }\n",
       "\n",
       "    .dataframe thead th {\n",
       "        text-align: right;\n",
       "    }\n",
       "</style>\n",
       "<table border=\"1\" class=\"dataframe\">\n",
       "  <thead>\n",
       "    <tr style=\"text-align: right;\">\n",
       "      <th></th>\n",
       "      <th>business_id</th>\n",
       "      <th>name</th>\n",
       "      <th>address</th>\n",
       "      <th>city</th>\n",
       "      <th>stars</th>\n",
       "      <th>review_count</th>\n",
       "      <th>categories</th>\n",
       "      <th>hours</th>\n",
       "      <th>price</th>\n",
       "    </tr>\n",
       "  </thead>\n",
       "  <tbody>\n",
       "    <tr>\n",
       "      <th>0</th>\n",
       "      <td>--sXnWH9Xm6_NvIjyuA99w</td>\n",
       "      <td>Philadelphia</td>\n",
       "      <td>Unknown address</td>\n",
       "      <td>Philadelphia</td>\n",
       "      <td>4.0</td>\n",
       "      <td>29.0</td>\n",
       "      <td>Public Services &amp; Government, Local Flavor</td>\n",
       "      <td>Unknown hours</td>\n",
       "      <td>Unknown price</td>\n",
       "    </tr>\n",
       "    <tr>\n",
       "      <th>1</th>\n",
       "      <td>-3e3CP3FFc-rvJj_-_airw</td>\n",
       "      <td>Penn's Landing</td>\n",
       "      <td>601 N Christopher Columbus Blvd</td>\n",
       "      <td>Philadelphia</td>\n",
       "      <td>3.5</td>\n",
       "      <td>80.0</td>\n",
       "      <td>Arts &amp; Entertainment, Active Life, Skating Rin...</td>\n",
       "      <td>Unknown hours</td>\n",
       "      <td>$</td>\n",
       "    </tr>\n",
       "    <tr>\n",
       "      <th>2</th>\n",
       "      <td>-aeZuatjCDMV1X4gCTz9Ug</td>\n",
       "      <td>David Thomas Trailways</td>\n",
       "      <td>14005 McNulty Rd</td>\n",
       "      <td>Philadelphia</td>\n",
       "      <td>4.5</td>\n",
       "      <td>6.0</td>\n",
       "      <td>Buses, Transportation, Bus Tours, Hotels &amp; Tra...</td>\n",
       "      <td>{'Monday': '8:30-17:0', 'Tuesday': '8:30-17:0'...</td>\n",
       "      <td>Unknown price</td>\n",
       "    </tr>\n",
       "    <tr>\n",
       "      <th>3</th>\n",
       "      <td>-iejZ38ttViiaaHIAl5iYg</td>\n",
       "      <td>Philadelphia International Festival of the Art...</td>\n",
       "      <td>300 S Broad St Philadelphia</td>\n",
       "      <td>Philadelphia</td>\n",
       "      <td>4.0</td>\n",
       "      <td>7.0</td>\n",
       "      <td>Local Flavor, Festivals, Performing Arts, Arts...</td>\n",
       "      <td>Unknown hours</td>\n",
       "      <td>Unknown price</td>\n",
       "    </tr>\n",
       "    <tr>\n",
       "      <th>4</th>\n",
       "      <td>-mIlmp5l4hKlp1tvHRdvTg</td>\n",
       "      <td>Sonny's Famous Steaks</td>\n",
       "      <td>228 Market St</td>\n",
       "      <td>Philadelphia</td>\n",
       "      <td>4.0</td>\n",
       "      <td>1697.0</td>\n",
       "      <td>Cheesesteaks, Comfort Food, Restaurants, Delis...</td>\n",
       "      <td>{'Monday': '0:0-0:0', 'Tuesday': '11:0-22:0', ...</td>\n",
       "      <td>$$</td>\n",
       "    </tr>\n",
       "  </tbody>\n",
       "</table>\n",
       "</div>"
      ],
      "text/plain": [
       "              business_id                                               name  \\\n",
       "0  --sXnWH9Xm6_NvIjyuA99w                                       Philadelphia   \n",
       "1  -3e3CP3FFc-rvJj_-_airw                                     Penn's Landing   \n",
       "2  -aeZuatjCDMV1X4gCTz9Ug                             David Thomas Trailways   \n",
       "3  -iejZ38ttViiaaHIAl5iYg  Philadelphia International Festival of the Art...   \n",
       "4  -mIlmp5l4hKlp1tvHRdvTg                              Sonny's Famous Steaks   \n",
       "\n",
       "                           address          city  stars  review_count  \\\n",
       "0                  Unknown address  Philadelphia    4.0          29.0   \n",
       "1  601 N Christopher Columbus Blvd  Philadelphia    3.5          80.0   \n",
       "2                 14005 McNulty Rd  Philadelphia    4.5           6.0   \n",
       "3      300 S Broad St Philadelphia  Philadelphia    4.0           7.0   \n",
       "4                    228 Market St  Philadelphia    4.0        1697.0   \n",
       "\n",
       "                                          categories  \\\n",
       "0         Public Services & Government, Local Flavor   \n",
       "1  Arts & Entertainment, Active Life, Skating Rin...   \n",
       "2  Buses, Transportation, Bus Tours, Hotels & Tra...   \n",
       "3  Local Flavor, Festivals, Performing Arts, Arts...   \n",
       "4  Cheesesteaks, Comfort Food, Restaurants, Delis...   \n",
       "\n",
       "                                               hours          price  \n",
       "0                                      Unknown hours  Unknown price  \n",
       "1                                      Unknown hours              $  \n",
       "2  {'Monday': '8:30-17:0', 'Tuesday': '8:30-17:0'...  Unknown price  \n",
       "3                                      Unknown hours  Unknown price  \n",
       "4  {'Monday': '0:0-0:0', 'Tuesday': '11:0-22:0', ...             $$  "
      ]
     },
     "execution_count": 6,
     "metadata": {},
     "output_type": "execute_result"
    }
   ],
   "source": [
    "data = []\n",
    "with open('Datasets/Attractions_pruned.jsonl', 'r') as f:\n",
    "    for line in f:\n",
    "        data.append(json.loads(line))\n",
    "\n",
    "df = pd.DataFrame(data)\n",
    "df.head()"
   ]
  },
  {
   "cell_type": "code",
   "execution_count": 7,
   "metadata": {},
   "outputs": [
    {
     "data": {
      "text/html": [
       "<div>\n",
       "<style scoped>\n",
       "    .dataframe tbody tr th:only-of-type {\n",
       "        vertical-align: middle;\n",
       "    }\n",
       "\n",
       "    .dataframe tbody tr th {\n",
       "        vertical-align: top;\n",
       "    }\n",
       "\n",
       "    .dataframe thead th {\n",
       "        text-align: right;\n",
       "    }\n",
       "</style>\n",
       "<table border=\"1\" class=\"dataframe\">\n",
       "  <thead>\n",
       "    <tr style=\"text-align: right;\">\n",
       "      <th></th>\n",
       "      <th>name</th>\n",
       "      <th>address</th>\n",
       "      <th>stars</th>\n",
       "      <th>categories</th>\n",
       "      <th>price</th>\n",
       "    </tr>\n",
       "  </thead>\n",
       "  <tbody>\n",
       "    <tr>\n",
       "      <th>0</th>\n",
       "      <td>Philadelphia</td>\n",
       "      <td>Unknown address</td>\n",
       "      <td>4.0</td>\n",
       "      <td>Public Services &amp; Government, Local Flavor</td>\n",
       "      <td>Unknown price</td>\n",
       "    </tr>\n",
       "    <tr>\n",
       "      <th>1</th>\n",
       "      <td>Penn's Landing</td>\n",
       "      <td>601 N Christopher Columbus Blvd</td>\n",
       "      <td>3.5</td>\n",
       "      <td>Arts &amp; Entertainment, Active Life, Skating Rin...</td>\n",
       "      <td>$</td>\n",
       "    </tr>\n",
       "    <tr>\n",
       "      <th>2</th>\n",
       "      <td>David Thomas Trailways</td>\n",
       "      <td>14005 McNulty Rd</td>\n",
       "      <td>4.5</td>\n",
       "      <td>Buses, Transportation, Bus Tours, Hotels &amp; Tra...</td>\n",
       "      <td>Unknown price</td>\n",
       "    </tr>\n",
       "    <tr>\n",
       "      <th>3</th>\n",
       "      <td>Philadelphia International Festival of the Art...</td>\n",
       "      <td>300 S Broad St Philadelphia</td>\n",
       "      <td>4.0</td>\n",
       "      <td>Local Flavor, Festivals, Performing Arts, Arts...</td>\n",
       "      <td>Unknown price</td>\n",
       "    </tr>\n",
       "    <tr>\n",
       "      <th>4</th>\n",
       "      <td>Sonny's Famous Steaks</td>\n",
       "      <td>228 Market St</td>\n",
       "      <td>4.0</td>\n",
       "      <td>Cheesesteaks, Comfort Food, Restaurants, Delis...</td>\n",
       "      <td>$$</td>\n",
       "    </tr>\n",
       "  </tbody>\n",
       "</table>\n",
       "</div>"
      ],
      "text/plain": [
       "                                                name  \\\n",
       "0                                       Philadelphia   \n",
       "1                                     Penn's Landing   \n",
       "2                             David Thomas Trailways   \n",
       "3  Philadelphia International Festival of the Art...   \n",
       "4                              Sonny's Famous Steaks   \n",
       "\n",
       "                           address  stars  \\\n",
       "0                  Unknown address    4.0   \n",
       "1  601 N Christopher Columbus Blvd    3.5   \n",
       "2                 14005 McNulty Rd    4.5   \n",
       "3      300 S Broad St Philadelphia    4.0   \n",
       "4                    228 Market St    4.0   \n",
       "\n",
       "                                          categories          price  \n",
       "0         Public Services & Government, Local Flavor  Unknown price  \n",
       "1  Arts & Entertainment, Active Life, Skating Rin...              $  \n",
       "2  Buses, Transportation, Bus Tours, Hotels & Tra...  Unknown price  \n",
       "3  Local Flavor, Festivals, Performing Arts, Arts...  Unknown price  \n",
       "4  Cheesesteaks, Comfort Food, Restaurants, Delis...             $$  "
      ]
     },
     "execution_count": 7,
     "metadata": {},
     "output_type": "execute_result"
    }
   ],
   "source": [
    "df = df.loc[:, ['name', 'address', 'stars', 'categories','price']]\n",
    "df.head()"
   ]
  },
  {
   "cell_type": "code",
   "execution_count": 8,
   "metadata": {},
   "outputs": [],
   "source": [
    "df.to_csv('Datasets/Attractions.csv', index=False)"
   ]
  },
  {
   "cell_type": "code",
   "execution_count": null,
   "metadata": {},
   "outputs": [],
   "source": []
  },
  {
   "cell_type": "markdown",
   "metadata": {},
   "source": [
    "Create background information prompt"
   ]
  },
  {
   "cell_type": "code",
   "execution_count": 76,
   "metadata": {},
   "outputs": [],
   "source": [
    "with open('Datasets/Hotels.csv', 'r') as f:\n",
    "    reader = csv.reader(f)\n",
    "    text = ''\n",
    "    for row in reader:\n",
    "        #put each row into a string\n",
    "        text += ','.join(row)+ '\\n'\n",
    "with open(\"Datasets/hotel_prompt.txt\", \"w\") as f:\n",
    "    f.write(text)\n",
    "\n",
    "\n",
    "#1926 tokens for 100 hotel: 20 token/hotel"
   ]
  },
  {
   "cell_type": "code",
   "execution_count": null,
   "metadata": {},
   "outputs": [],
   "source": [
    "with open('Datasets/Restaurants.csv', 'r') as f:\n",
    "    reader = csv.reader(f)\n",
    "    text = ''\n",
    "    for row in reader:\n",
    "        #put each row into a string\n",
    "        text += ','.join(row)+ '\\n'\n",
    "with open(\"Datasets/restaurants_prompt.txt\", \"w\") as f:\n",
    "    f.write(text)\n",
    "#\n",
    "\n",
    "#36074 for 1000 restaurants: 36 token/restaurant"
   ]
  },
  {
   "cell_type": "code",
   "execution_count": null,
   "metadata": {},
   "outputs": [],
   "source": [
    "with open('Datasets/Attractions.csv', 'r') as f:\n",
    "    reader = csv.reader(f)\n",
    "    text = ''\n",
    "    for row in reader:\n",
    "        #put each row into a string\n",
    "        text += ','.join(row)+ '\\n'\n",
    "with open(\"Datasets/attractions_prompt.txt\", \"w\") as f:\n",
    "    f.write(text)\n",
    "\n",
    "\n",
    "#11904 tokens for 347 attractions: 34 token/attraction"
   ]
  },
  {
   "cell_type": "markdown",
   "metadata": {},
   "source": [
    "All of them in one prompt"
   ]
  },
  {
   "cell_type": "code",
   "execution_count": null,
   "metadata": {},
   "outputs": [],
   "source": [
    "with open('Datasets/hotel_prompt.txt', 'r') as f:\n",
    "    hotel_text = f.read().replace('\\n', '. ')\n",
    "\n",
    "with open('Datasets/attractions_prompt.txt', 'r') as f:\n",
    "    attraction_text = f.read().replace('\\n', '. ')\n",
    "\n",
    "with open('Datasets/restaurants_prompt.txt', 'r') as f:\n",
    "    restaurant_text = f.read().replace('\\n', '. ')\n",
    "\n",
    "data = [\n",
    "    {\n",
    "        \"Description\": \"Accommodations in Philadelphia\",\n",
    "        \"Content\": hotel_text\n",
    "    },\n",
    "    {\n",
    "        \"Description\": \"Attractions in Philadelphia\",\n",
    "        \"Content\": attraction_text\n",
    "    },{\n",
    "        \"Description\": \"Restaurants in Philadelphia\",\n",
    "        \"Content\": restaurant_text\n",
    "    }\n",
    "]\n",
    "\n",
    "\n",
    "# Write the JSON file\n",
    "with open('Datasets/all_prompts.json', 'w') as f:\n",
    "    json.dump(data, f, indent=4)"
   ]
  },
  {
   "cell_type": "markdown",
   "metadata": {},
   "source": [
    "Try adding a code for each business"
   ]
  },
  {
   "cell_type": "code",
   "execution_count": null,
   "metadata": {},
   "outputs": [],
   "source": [
    "import pandas as pd\n",
    "\n",
    "hotels = pd.read_csv('Datasets/Hotels.csv')\n",
    "restaurants = pd.read_csv('Datasets/Restaurants.csv')\n",
    "attractions = pd.read_csv('Datasets/Attractions.csv')\n",
    "\n",
    "#add a column in the front of the dataframe called code and fill it with natural numbers for each df\n",
    "hotels.insert(0, 'code', range(1, len(hotels) + 1))\n",
    "restaurants.insert(0, 'code', range(1, len(restaurants) + 1))\n",
    "attractions.insert(0, 'code', range(1, len(attractions) + 1))\n",
    "\n",
    "hotels.to_csv('Datasets/Hotels_indexed.csv', index=False)\n",
    "restaurants.to_csv('Datasets/Restarunts_indexed.csv', index=False)\n",
    "attractions.to_csv('Datasets/Attractions_indexed.csv', index=False)"
   ]
  },
  {
   "cell_type": "code",
   "execution_count": 7,
   "metadata": {},
   "outputs": [],
   "source": [
    "import csv\n",
    "\n",
    "with open('Datasets/Hotels_indexed.csv', 'r') as f:\n",
    "    reader = csv.reader(f)\n",
    "    text = ''\n",
    "    for row in reader:\n",
    "        #put each row into a string\n",
    "        text += ','.join(row)+ '\\n'\n",
    "with open(\"Datasets/hotel_indexed_prompt.txt\", \"w\") as f:\n",
    "    f.write(text)\n",
    "\n",
    "\n",
    "#1926 tokens for 100 hotel: 20 token/hotel"
   ]
  },
  {
   "cell_type": "code",
   "execution_count": 8,
   "metadata": {},
   "outputs": [],
   "source": [
    "with open('Datasets/Restarunts_indexed.csv', 'r') as f:\n",
    "    reader = csv.reader(f)\n",
    "    text = ''\n",
    "    for row in reader:\n",
    "        #put each row into a string\n",
    "        text += ','.join(row)+ '\\n'\n",
    "with open(\"Datasets/restaurants_indexed_prompt.txt\", \"w\") as f:\n",
    "    f.write(text)\n",
    "#\n",
    "\n",
    "#36074 for 1000 restaurants: 36 token/restaurant"
   ]
  },
  {
   "cell_type": "code",
   "execution_count": 9,
   "metadata": {},
   "outputs": [],
   "source": [
    "with open('Datasets/Attractions_indexed.csv', 'r') as f:\n",
    "    reader = csv.reader(f)\n",
    "    text = ''\n",
    "    for row in reader:\n",
    "        #put each row into a string\n",
    "        text += ','.join(row)+ '\\n'\n",
    "with open(\"Datasets/attractions_indexed_prompt.txt\", \"w\") as f:\n",
    "    f.write(text)\n",
    "\n",
    "\n",
    "#11904 tokens for 347 attractions: 34 token/attraction"
   ]
  },
  {
   "cell_type": "code",
   "execution_count": 11,
   "metadata": {},
   "outputs": [],
   "source": [
    "import json\n",
    "with open('Datasets/hotel_indexed_prompt.txt', 'r') as f:\n",
    "    hotel_text = f.read().replace('\\n', '. ')\n",
    "\n",
    "with open('Datasets/attractions_indexed_prompt.txt', 'r') as f:\n",
    "    attraction_text = f.read().replace('\\n', '. ')\n",
    "\n",
    "with open('Datasets/restaurants_indexed_prompt.txt', 'r') as f:\n",
    "    restaurant_text = f.read().replace('\\n', '. ')\n",
    "\n",
    "data = [\n",
    "    {\n",
    "        \"Description\": \"Accommodations in Philadelphia\",\n",
    "        \"Content\": hotel_text\n",
    "    },\n",
    "    {\n",
    "        \"Description\": \"Attractions in Philadelphia\",\n",
    "        \"Content\": attraction_text\n",
    "    },{\n",
    "        \"Description\": \"Restaurants in Philadelphia\",\n",
    "        \"Content\": restaurant_text\n",
    "    }\n",
    "]\n",
    "\n",
    "\n",
    "# Write the JSON file\n",
    "with open('Datasets/all_indexed_prompts.json', 'w') as f:\n",
    "    json.dump(data, f, indent=4)"
   ]
  },
  {
   "cell_type": "markdown",
   "metadata": {},
   "source": [
    "take 50 from each and make a small reference for test, i really need a helper function"
   ]
  },
  {
   "cell_type": "code",
   "execution_count": 30,
   "metadata": {},
   "outputs": [],
   "source": [
    "#attrtactions\n",
    "with open('Datasets/Attractions.csv', 'r') as f:\n",
    "    reader = csv.reader(f)\n",
    "    rows = list(reader)\n",
    "    header = rows[0]  # extract the header row\n",
    "    data_rows = rows[1:]  # extract the data rows\n",
    "    random_rows = random.sample(data_rows, 50)\n",
    "    attractions = '' + str(header).replace('[','').replace(']','') + '\\n'\n",
    "    for row in random_rows:\n",
    "        attractions += ','.join(row) + '\\n'\n",
    "    attractions = attractions.replace('\\n', '. ')\n",
    "\n",
    "#restaurants\n",
    "with open('Datasets/Restaurants.csv', 'r') as f:\n",
    "    reader = csv.reader(f)\n",
    "    rows = list(reader)\n",
    "    header = rows[0]  # extract the header row\n",
    "    data_rows = rows[1:]  # extract the data rows\n",
    "    random_rows = random.sample(data_rows, 50)\n",
    "    restaurants = '' + str(header).replace('[','').replace(']','') + '\\n'\n",
    "    for row in random_rows:\n",
    "        restaurants += ','.join(row) + '\\n'\n",
    "    restaurants = restaurants.replace('\\n', '. ')\n",
    "\n",
    "#hotels \n",
    "with open('Datasets/Hotels.csv', 'r') as f:\n",
    "    reader = csv.reader(f)\n",
    "    rows = list(reader)\n",
    "    header = rows[0]  # extract the header row\n",
    "    data_rows = rows[1:]  # extract the data rows\n",
    "    random_rows = random.sample(data_rows, 50)\n",
    "    hotels = '' + str(header).replace('[','').replace(']','') + '\\n'\n",
    "    for row in random_rows:\n",
    "        hotels += ','.join(row) + '\\n'\n",
    "    hotels = hotels.replace('\\n', '. ')\n",
    "\n",
    "data = [\n",
    "    {\n",
    "        \"Description\": \"Accommodations in Philadelphia\",\n",
    "        \"Content\": hotels\n",
    "    },\n",
    "    {\n",
    "        \"Description\": \"Attractions in Philadelphia\",\n",
    "        \"Content\": attractions\n",
    "    },\n",
    "    {\n",
    "        \"Description\": \"Restaurants in Philadelphia\",\n",
    "        \"Content\": restaurants\n",
    "    }\n",
    "]\n",
    "\n",
    "\n",
    "# Write the JSON file\n",
    "with open('Datasets/all_prompts_random50.json', 'w') as f:\n",
    "    json.dump(data, f, indent=4)"
   ]
  },
  {
   "cell_type": "code",
   "execution_count": null,
   "metadata": {},
   "outputs": [],
   "source": []
  }
 ],
 "metadata": {
  "kernelspec": {
   "display_name": "torchgpu",
   "language": "python",
   "name": "python3"
  },
  "language_info": {
   "codemirror_mode": {
    "name": "ipython",
    "version": 3
   },
   "file_extension": ".py",
   "mimetype": "text/x-python",
   "name": "python",
   "nbconvert_exporter": "python",
   "pygments_lexer": "ipython3",
   "version": "3.11.0"
  }
 },
 "nbformat": 4,
 "nbformat_minor": 2
}
