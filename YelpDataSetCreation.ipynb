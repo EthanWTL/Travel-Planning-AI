{
 "cells": [
  {
   "cell_type": "markdown",
   "metadata": {},
   "source": [
    "Parse JSON for only Phil"
   ]
  },
  {
   "cell_type": "code",
   "execution_count": 17,
   "metadata": {},
   "outputs": [],
   "source": [
    "import numpy as np\n",
    "import pandas as pd\n",
    "import json\n",
    "import matplotlib.pyplot as plt\n",
    "import csv\n",
    "import random"
   ]
  },
  {
   "cell_type": "code",
   "execution_count": 3,
   "metadata": {},
   "outputs": [],
   "source": [
    "json_array = []\n",
    "\n",
    "# Open the file and read it line by line\n",
    "with open('yelp_academic_dataset_business.json', 'r') as file:\n",
    "    for line in file:\n",
    "        # Parse each line as a JSON object and append to the list\n",
    "        json_obj = json.loads(line.strip())  # strip() removes any leading/trailing whitespace\n",
    "        json_array.append(json_obj)"
   ]
  },
  {
   "cell_type": "code",
   "execution_count": null,
   "metadata": {},
   "outputs": [],
   "source": [
    "Phil_only = [obj for obj in json_array if obj['city'] == 'Philadelphia']\n",
    "len(Phil_only)"
   ]
  },
  {
   "cell_type": "code",
   "execution_count": 5,
   "metadata": {},
   "outputs": [],
   "source": [
    "with open('Philadelphia.jsonl', 'w') as json_file:\n",
    "    for item in Phil_only:\n",
    "        json.dump(item, json_file)\n",
    "        json_file.write('\\n') "
   ]
  },
  {
   "cell_type": "markdown",
   "metadata": {},
   "source": [
    "Hotel for Phil"
   ]
  },
  {
   "cell_type": "code",
   "execution_count": 6,
   "metadata": {},
   "outputs": [],
   "source": [
    "Phil_hotel = []\n",
    "for obj in Phil_only:\n",
    "    if(obj['categories']):\n",
    "        for i in obj['categories'].strip().split(','):\n",
    "            if i == ' Hotels' or i == 'Hotels':\n",
    "                Phil_hotel.append(obj)"
   ]
  },
  {
   "cell_type": "code",
   "execution_count": 7,
   "metadata": {},
   "outputs": [],
   "source": [
    "with open('Philadelphia_Hotels.jsonl', 'w') as json_file:\n",
    "    for item in Phil_hotel:\n",
    "        json.dump(item, json_file)\n",
    "        json_file.write('\\n') "
   ]
  },
  {
   "cell_type": "markdown",
   "metadata": {},
   "source": [
    "Resturants"
   ]
  },
  {
   "cell_type": "code",
   "execution_count": 8,
   "metadata": {},
   "outputs": [],
   "source": [
    "Phil_restaurant = []\n",
    "for obj in Phil_only:\n",
    "    if(obj['categories']):\n",
    "        if ('Restaurants' in obj['categories'].strip()) or (' Restaurants' in obj['categories'].strip()):\n",
    "            Phil_restaurant.append(obj)"
   ]
  },
  {
   "cell_type": "code",
   "execution_count": 9,
   "metadata": {},
   "outputs": [],
   "source": [
    "with open('Philadelphia_Restaurants.jsonl', 'w') as json_file:\n",
    "    for item in Phil_restaurant:\n",
    "        json.dump(item, json_file)\n",
    "        json_file.write('\\n') "
   ]
  },
  {
   "cell_type": "markdown",
   "metadata": {},
   "source": [
    "Attractions"
   ]
  },
  {
   "cell_type": "code",
   "execution_count": 10,
   "metadata": {},
   "outputs": [],
   "source": [
    "Phil_attractions = []\n",
    "seen = set()"
   ]
  },
  {
   "cell_type": "markdown",
   "metadata": {},
   "source": [
    "1. museum"
   ]
  },
  {
   "cell_type": "code",
   "execution_count": null,
   "metadata": {},
   "outputs": [],
   "source": [
    "for obj in Phil_only:\n",
    "    if(obj['categories']):\n",
    "        if ('Museums' in obj['categories'].strip().split(',')) or (' Museums' in obj['categories'].strip().split(',')):\n",
    "            identifier = obj['business_id']\n",
    "            if identifier not in seen:\n",
    "                seen.add(identifier)\n",
    "                Phil_attractions.append(obj)\n",
    "print(f'new record: {len(Phil_attractions)}')"
   ]
  },
  {
   "cell_type": "markdown",
   "metadata": {},
   "source": [
    "2. Park"
   ]
  },
  {
   "cell_type": "code",
   "execution_count": null,
   "metadata": {},
   "outputs": [],
   "source": [
    "for obj in Phil_only:\n",
    "    if(obj['categories']):\n",
    "        if ('Parks' in obj['categories'].strip().split(',')) or (' Parks' in obj['categories'].strip().split(',')):\n",
    "            identifier = obj['business_id']\n",
    "            if identifier not in seen:\n",
    "                seen.add(identifier)\n",
    "                Phil_attractions.append(obj)\n",
    "print(f'new record: {len(Phil_attractions)}')"
   ]
  },
  {
   "cell_type": "markdown",
   "metadata": {},
   "source": [
    "3.Local Flavor"
   ]
  },
  {
   "cell_type": "code",
   "execution_count": null,
   "metadata": {},
   "outputs": [],
   "source": [
    "for obj in Phil_only:\n",
    "    if(obj['categories']):\n",
    "        if ('Local Flavor' in obj['categories'].strip().split(',')) or (' Local Flavor' in obj['categories'].strip().split(',')):\n",
    "            identifier = obj['business_id']\n",
    "            if identifier not in seen:\n",
    "                seen.add(identifier)\n",
    "                Phil_attractions.append(obj)\n",
    "print(f'new record: {len(Phil_attractions)}')"
   ]
  },
  {
   "cell_type": "markdown",
   "metadata": {},
   "source": [
    "4. Zoo"
   ]
  },
  {
   "cell_type": "code",
   "execution_count": null,
   "metadata": {},
   "outputs": [],
   "source": [
    "for obj in Phil_only:\n",
    "    if(obj['categories']):\n",
    "        if ('Zoos' in obj['categories'].strip().split(',')) or (' Zoos' in obj['categories'].strip().split(',')):\n",
    "            identifier = obj['business_id']\n",
    "            if identifier not in seen:\n",
    "                seen.add(identifier)\n",
    "                Phil_attractions.append(obj)\n",
    "print(f'new record: {len(Phil_attractions)}')"
   ]
  },
  {
   "cell_type": "markdown",
   "metadata": {},
   "source": [
    "5. Tours"
   ]
  },
  {
   "cell_type": "code",
   "execution_count": null,
   "metadata": {},
   "outputs": [],
   "source": [
    "for obj in Phil_only:\n",
    "    if(obj['categories']):\n",
    "        if ('Tours' in obj['categories'].strip().split(',')) or (' Tours' in obj['categories'].strip().split(',')):\n",
    "            identifier = obj['business_id']\n",
    "            if identifier not in seen:\n",
    "                seen.add(identifier)\n",
    "                Phil_attractions.append(obj)\n",
    "print(f'new record: {len(Phil_attractions)}')"
   ]
  },
  {
   "cell_type": "markdown",
   "metadata": {},
   "source": [
    "6. Historical tours"
   ]
  },
  {
   "cell_type": "code",
   "execution_count": null,
   "metadata": {},
   "outputs": [],
   "source": [
    "for obj in Phil_only:\n",
    "    if(obj['categories']):\n",
    "        if ('Historical Tours' in obj['categories'].strip().split(',')) or (' Historical Tours' in obj['categories'].strip().split(',')):\n",
    "            identifier = obj['business_id']\n",
    "            if identifier not in seen:\n",
    "                seen.add(identifier)\n",
    "                Phil_attractions.append(obj)\n",
    "print(f'new record: {len(Phil_attractions)}')"
   ]
  },
  {
   "cell_type": "markdown",
   "metadata": {},
   "source": [
    "7. Landmark and historical buildings"
   ]
  },
  {
   "cell_type": "code",
   "execution_count": null,
   "metadata": {},
   "outputs": [],
   "source": [
    "for obj in Phil_only:\n",
    "    if(obj['categories']):\n",
    "        if ('Landmarks & Historical Buildings' in obj['categories'].strip().split(',')) or (' Landmarks & Historical Buildings' in obj['categories'].strip().split(',')):\n",
    "            identifier = obj['business_id']\n",
    "            if identifier not in seen:\n",
    "                seen.add(identifier)\n",
    "                Phil_attractions.append(obj)\n",
    "print(f'new record: {len(Phil_attractions)}')"
   ]
  },
  {
   "cell_type": "markdown",
   "metadata": {},
   "source": [
    "8. sourvenir shops"
   ]
  },
  {
   "cell_type": "code",
   "execution_count": null,
   "metadata": {},
   "outputs": [],
   "source": [
    "for obj in Phil_only:\n",
    "    if(obj['categories']):\n",
    "        if ('Souvenir Shops' in obj['categories'].strip().split(',')) or (' Souvenir Shops' in obj['categories'].strip().split(',')):\n",
    "            identifier = obj['business_id']\n",
    "            if identifier not in seen:\n",
    "                seen.add(identifier)\n",
    "                Phil_attractions.append(obj)\n",
    "print(f'new record: {len(Phil_attractions)}')"
   ]
  },
  {
   "cell_type": "code",
   "execution_count": 19,
   "metadata": {},
   "outputs": [],
   "source": [
    "with open('Philadelphia_Attractions.jsonl', 'w') as json_file:\n",
    "    for item in Phil_attractions:\n",
    "        json.dump(item, json_file)\n",
    "        json_file.write('\\n') "
   ]
  },
  {
   "cell_type": "markdown",
   "metadata": {},
   "source": [
    "All the reviews"
   ]
  },
  {
   "cell_type": "code",
   "execution_count": 3,
   "metadata": {},
   "outputs": [],
   "source": [
    "json_array = []\n",
    "\n",
    "# Open the file and read it line by line\n",
    "with open('yelp_academic_dataset_review.json', 'r') as file:\n",
    "    for line in file:\n",
    "        # Parse each line as a JSON object and append to the list\n",
    "        json_obj = json.loads(line.strip())  # strip() removes any leading/trailing whitespace\n",
    "        json_array.append(json_obj)"
   ]
  },
  {
   "cell_type": "code",
   "execution_count": null,
   "metadata": {},
   "outputs": [],
   "source": [
    "json_array[0]"
   ]
  },
  {
   "cell_type": "markdown",
   "metadata": {},
   "source": [
    "1. Reviews for Hotels"
   ]
  },
  {
   "cell_type": "code",
   "execution_count": 22,
   "metadata": {},
   "outputs": [],
   "source": [
    "hotel_json_array = []\n",
    "\n",
    "# Open the file and read it line by line\n",
    "with open('Philadelphia_Hotels.jsonl', 'r') as file:\n",
    "    for line in file:\n",
    "        # Parse each line as a JSON object and append to the list\n",
    "        json_obj = json.loads(line.strip())  # strip() removes any leading/trailing whitespace\n",
    "        hotel_json_array.append(json_obj)"
   ]
  },
  {
   "cell_type": "code",
   "execution_count": null,
   "metadata": {},
   "outputs": [],
   "source": [
    "review_json_array = []\n",
    "for hotel in hotel_json_array:\n",
    "    biz_id = hotel['business_id']\n",
    "    for review in json_array:\n",
    "        if review['business_id'] == biz_id:\n",
    "            review_json_array.append(review)"
   ]
  },
  {
   "cell_type": "code",
   "execution_count": 41,
   "metadata": {},
   "outputs": [],
   "source": [
    "with open('Philadelphia_Hotels_Reviews.jsonl', 'w') as json_file:\n",
    "    for item in review_json_array:\n",
    "        json.dump(item, json_file)\n",
    "        json_file.write('\\n') "
   ]
  },
  {
   "cell_type": "markdown",
   "metadata": {},
   "source": [
    "2. Reviews for Attractions"
   ]
  },
  {
   "cell_type": "code",
   "execution_count": 42,
   "metadata": {},
   "outputs": [],
   "source": [
    "attraction_json_array = []\n",
    "\n",
    "# Open the file and read it line by line\n",
    "with open('Philadelphia_Attractions.jsonl', 'r') as file:\n",
    "    for line in file:\n",
    "        # Parse each line as a JSON object and append to the list\n",
    "        json_obj = json.loads(line.strip())  # strip() removes any leading/trailing whitespace\n",
    "        attraction_json_array.append(json_obj)"
   ]
  },
  {
   "cell_type": "code",
   "execution_count": 43,
   "metadata": {},
   "outputs": [],
   "source": [
    "review_json_array = []\n",
    "for attraction in attraction_json_array:\n",
    "    biz_id = attraction['business_id']\n",
    "    for review in json_array:\n",
    "        if review['business_id'] == biz_id:\n",
    "            review_json_array.append(review)"
   ]
  },
  {
   "cell_type": "code",
   "execution_count": 44,
   "metadata": {},
   "outputs": [],
   "source": [
    "with open('Philadelphia_Attractions_Reviews.jsonl', 'w') as json_file:\n",
    "    for item in review_json_array:\n",
    "        json.dump(item, json_file)\n",
    "        json_file.write('\\n') "
   ]
  },
  {
   "cell_type": "markdown",
   "metadata": {},
   "source": [
    "3. Reviews for Restaurants"
   ]
  },
  {
   "cell_type": "code",
   "execution_count": 45,
   "metadata": {},
   "outputs": [],
   "source": [
    "restaurant_json_array = []\n",
    "\n",
    "# Open the file and read it line by line\n",
    "with open('Philadelphia_Restaurants.jsonl', 'r') as file:\n",
    "    for line in file:\n",
    "        # Parse each line as a JSON object and append to the list\n",
    "        json_obj = json.loads(line.strip())  # strip() removes any leading/trailing whitespace\n",
    "        restaurant_json_array.append(json_obj)"
   ]
  },
  {
   "cell_type": "code",
   "execution_count": 46,
   "metadata": {},
   "outputs": [],
   "source": [
    "review_json_array = []\n",
    "for restaurant in restaurant_json_array:\n",
    "    biz_id = restaurant['business_id']\n",
    "    for review in json_array:\n",
    "        if review['business_id'] == biz_id:\n",
    "            review_json_array.append(review)"
   ]
  },
  {
   "cell_type": "code",
   "execution_count": 47,
   "metadata": {},
   "outputs": [],
   "source": [
    "with open('Philadelphia_Restaurants_Reviews.jsonl', 'w') as json_file:\n",
    "    for item in review_json_array:\n",
    "        json.dump(item, json_file)\n",
    "        json_file.write('\\n') "
   ]
  },
  {
   "cell_type": "markdown",
   "metadata": {},
   "source": [
    "Validation of the integrity of the data retrived (if the review counts match)"
   ]
  },
  {
   "cell_type": "code",
   "execution_count": 5,
   "metadata": {},
   "outputs": [],
   "source": [
    "#just to get one review for \"6I_DA3uqOox50rBvjrQ_-g\"\n",
    "review_json_array = []\n",
    "biz_id = '6I_DA3uqOox50rBvjrQ_-g'\n",
    "for review in json_array:\n",
    "    if review['business_id'] == biz_id:\n",
    "        review_json_array.append(review)\n",
    "        break"
   ]
  },
  {
   "cell_type": "code",
   "execution_count": 7,
   "metadata": {},
   "outputs": [],
   "source": [
    "review_json_array[0]"
   ]
  },
  {
   "cell_type": "markdown",
   "metadata": {},
   "source": [
    "Get rid of not open anymore places"
   ]
  },
  {
   "cell_type": "markdown",
   "metadata": {},
   "source": [
    "1. Hotel"
   ]
  },
  {
   "cell_type": "code",
   "execution_count": 2,
   "metadata": {},
   "outputs": [],
   "source": [
    "hotels = []\n",
    "\n",
    "# Open the file and read it line by line\n",
    "with open('Philadelphia_Hotels.jsonl', 'r') as file:\n",
    "    for line in file:\n",
    "        # Parse each line as a JSON object and append to the list\n",
    "        json_obj = json.loads(line.strip())  # strip() removes any leading/trailing whitespace\n",
    "        hotels.append(json_obj)"
   ]
  },
  {
   "cell_type": "code",
   "execution_count": 6,
   "metadata": {},
   "outputs": [],
   "source": [
    "openning_hotels = []\n",
    "\n",
    "for hotel in hotels:\n",
    "    if(hotel['is_open'] == 1):\n",
    "        openning_hotels.append(hotel)\n",
    "len(openning_hotels)\n",
    "\n",
    "#write the cleaned data to a new jsonl file\n",
    "with open('Hotels.jsonl', 'w') as json_file:    \n",
    "    for item in openning_hotels:\n",
    "        json.dump(item, json_file)\n",
    "        json_file.write('\\n')"
   ]
  },
  {
   "cell_type": "code",
   "execution_count": 8,
   "metadata": {},
   "outputs": [],
   "source": [
    "hotel_reviews = []\n",
    "\n",
    "# Open the file and read it line by line\n",
    "with open('Philadelphia_Hotels_Reviews.jsonl', 'r') as file:\n",
    "    for line in file:\n",
    "        # Parse each line as a JSON object and append to the list\n",
    "        json_obj = json.loads(line.strip())  # strip() removes any leading/trailing whitespace\n",
    "        hotel_reviews.append(json_obj)"
   ]
  },
  {
   "cell_type": "code",
   "execution_count": 12,
   "metadata": {},
   "outputs": [],
   "source": [
    "openning_hotels_reviews = []\n",
    "\n",
    "for hotel in openning_hotels:\n",
    "    biz_id = hotel['business_id']\n",
    "    for review in hotel_reviews:\n",
    "        if review['business_id'] == biz_id:\n",
    "            openning_hotels_reviews.append(review)\n",
    "\n",
    "with open('Hotels_Reviews.jsonl', 'w') as json_file:    \n",
    "    for item in openning_hotels_reviews:\n",
    "        json.dump(item, json_file)\n",
    "        json_file.write('\\n')"
   ]
  },
  {
   "cell_type": "markdown",
   "metadata": {},
   "source": [
    "2. Attractions"
   ]
  },
  {
   "cell_type": "code",
   "execution_count": 2,
   "metadata": {},
   "outputs": [],
   "source": [
    "attractions = []\n",
    "\n",
    "# Open the file and read it line by line\n",
    "with open('Philadelphia_Attractions.jsonl', 'r') as file:\n",
    "    for line in file:\n",
    "        # Parse each line as a JSON object and append to the list\n",
    "        json_obj = json.loads(line.strip())  # strip() removes any leading/trailing whitespace\n",
    "        attractions.append(json_obj)"
   ]
  },
  {
   "cell_type": "code",
   "execution_count": 4,
   "metadata": {},
   "outputs": [],
   "source": [
    "openning_attractions = []\n",
    "\n",
    "for attraction in attractions:\n",
    "    if(attraction['is_open'] == 1):\n",
    "        openning_attractions.append(attraction)\n",
    "\n",
    "#write the cleaned data to a new jsonl file\n",
    "with open('Attractions.jsonl', 'w') as json_file:    \n",
    "    for item in openning_attractions:\n",
    "        json.dump(item, json_file)\n",
    "        json_file.write('\\n')"
   ]
  },
  {
   "cell_type": "code",
   "execution_count": 5,
   "metadata": {},
   "outputs": [],
   "source": [
    "attractions_reviews = []\n",
    "\n",
    "# Open the file and read it line by line\n",
    "with open('Philadelphia_Attractions_Reviews.jsonl', 'r') as file:\n",
    "    for line in file:\n",
    "        # Parse each line as a JSON object and append to the list\n",
    "        json_obj = json.loads(line.strip())  # strip() removes any leading/trailing whitespace\n",
    "        attractions_reviews.append(json_obj)"
   ]
  },
  {
   "cell_type": "code",
   "execution_count": 7,
   "metadata": {},
   "outputs": [],
   "source": [
    "openning_attractions_reviews = []\n",
    "\n",
    "for attraction in openning_attractions:\n",
    "    biz_id = attraction['business_id']\n",
    "    for review in attractions_reviews:\n",
    "        if review['business_id'] == biz_id:\n",
    "            openning_attractions_reviews.append(review)\n",
    "\n",
    "with open('Attractions_Reviews.jsonl', 'w') as json_file:    \n",
    "    for item in openning_attractions_reviews:\n",
    "        json.dump(item, json_file)\n",
    "        json_file.write('\\n')"
   ]
  },
  {
   "cell_type": "code",
   "execution_count": null,
   "metadata": {},
   "outputs": [],
   "source": []
  },
  {
   "cell_type": "markdown",
   "metadata": {},
   "source": [
    "3. Restaurants"
   ]
  },
  {
   "cell_type": "markdown",
   "metadata": {},
   "source": []
  },
  {
   "cell_type": "code",
   "execution_count": 3,
   "metadata": {},
   "outputs": [],
   "source": [
    "restaurants = []\n",
    "\n",
    "# Open the file and read it line by line\n",
    "with open('Philadelphia_Restaurants.jsonl', 'r') as file:\n",
    "    for line in file:\n",
    "        # Parse each line as a JSON object and append to the list\n",
    "        json_obj = json.loads(line.strip())  # strip() removes any leading/trailing whitespace\n",
    "        restaurants.append(json_obj)"
   ]
  },
  {
   "cell_type": "code",
   "execution_count": 4,
   "metadata": {},
   "outputs": [],
   "source": [
    "openning_restaurants = []\n",
    "\n",
    "for restaurant in restaurants:\n",
    "    if(restaurant['is_open'] == 1):\n",
    "        openning_restaurants.append(restaurant)\n",
    "\n",
    "#write the cleaned data to a new jsonl file\n",
    "with open('Restaurants.jsonl', 'w') as json_file:    \n",
    "    for item in openning_restaurants:\n",
    "        json.dump(item, json_file)\n",
    "        json_file.write('\\n')"
   ]
  },
  {
   "cell_type": "code",
   "execution_count": 5,
   "metadata": {},
   "outputs": [],
   "source": [
    "restaurants_reviews = []\n",
    "\n",
    "# Open the file and read it line by line\n",
    "with open('Philadelphia_Restaurants_Reviews.jsonl', 'r') as file:\n",
    "    for line in file:\n",
    "        # Parse each line as a JSON object and append to the list\n",
    "        json_obj = json.loads(line.strip())  # strip() removes any leading/trailing whitespace\n",
    "        restaurants_reviews.append(json_obj)"
   ]
  },
  {
   "cell_type": "code",
   "execution_count": 6,
   "metadata": {},
   "outputs": [],
   "source": [
    "openning_restaurants_reviews = []\n",
    "\n",
    "for restaurant in openning_restaurants:\n",
    "    biz_id = restaurant['business_id']\n",
    "    for review in restaurants_reviews:\n",
    "        if review['business_id'] == biz_id:\n",
    "            openning_restaurants_reviews.append(review)\n",
    "\n",
    "with open('Restaurants_Reviews.jsonl', 'w') as json_file:    \n",
    "    for item in openning_restaurants_reviews:\n",
    "        json.dump(item, json_file)\n",
    "        json_file.write('\\n')"
   ]
  },
  {
   "cell_type": "markdown",
   "metadata": {},
   "source": [
    "For restaurants, keep top 1000 review count restaurants"
   ]
  },
  {
   "cell_type": "code",
   "execution_count": 2,
   "metadata": {},
   "outputs": [],
   "source": [
    "restaurants = []\n",
    "\n",
    "# Open the file and read it line by line\n",
    "with open('Datasets/Restaurants.jsonl', 'r') as file:\n",
    "    for line in file:\n",
    "        # Parse each line as a JSON object and append to the list\n",
    "        json_obj = json.loads(line.strip())  # strip() removes any leading/trailing whitespace\n",
    "        restaurants.append(json_obj)"
   ]
  },
  {
   "cell_type": "code",
   "execution_count": 4,
   "metadata": {},
   "outputs": [],
   "source": [
    "#sort restaurants by review count descending\n",
    "sorted_restaurants = sorted(restaurants, key=lambda x: x['review_count'], reverse=True)\n",
    "top_1000 = sorted_restaurants[:1000]\n",
    "#write the cleaned data to a new jsonl file\n",
    "with open('Datasets/Restaurants_top1000.jsonl', 'w') as json_file:    \n",
    "    for item in top_1000:\n",
    "        json.dump(item, json_file)\n",
    "        json_file.write('\\n')"
   ]
  },
  {
   "cell_type": "code",
   "execution_count": 5,
   "metadata": {},
   "outputs": [],
   "source": [
    "#find the reviews for the top 1000 restaurants\n",
    "restaurants_reviews = []\n",
    "\n",
    "# Open the file and read it line by line\n",
    "with open('Datasets/Restaurants_Reviews.jsonl', 'r') as file:\n",
    "    for line in file:\n",
    "        # Parse each line as a JSON object and append to the list\n",
    "        json_obj = json.loads(line.strip())  # strip() removes any leading/trailing whitespace\n",
    "        restaurants_reviews.append(json_obj)\n",
    "\n",
    "top1000_restaurants_reviews = []\n",
    "\n",
    "for restaurant in top_1000:\n",
    "    biz_id = restaurant['business_id']\n",
    "    for review in restaurants_reviews:\n",
    "        if review['business_id'] == biz_id:\n",
    "            top1000_restaurants_reviews.append(review)\n",
    "\n",
    "with open('Datasets/Restaurants_top1000_Reviews.jsonl', 'w') as json_file:    \n",
    "    for item in top1000_restaurants_reviews:\n",
    "        json.dump(item, json_file)\n",
    "        json_file.write('\\n')"
   ]
  },
  {
   "cell_type": "markdown",
   "metadata": {},
   "source": [
    "Combine origial and detail, and clean up uncessray attributes"
   ]
  },
  {
   "cell_type": "code",
   "execution_count": 3,
   "metadata": {},
   "outputs": [],
   "source": [
    "hotels = []\n",
    "\n",
    "# Open the file and read it line by line\n",
    "with open('Datasets/Hotels.jsonl', 'r') as file:\n",
    "    for line in file:\n",
    "        # Parse each line as a JSON object and append to the list\n",
    "        json_obj = json.loads(line.strip())  # strip() removes any leading/trailing whitespace\n",
    "        hotels.append(json_obj)"
   ]
  },
  {
   "cell_type": "code",
   "execution_count": 4,
   "metadata": {},
   "outputs": [],
   "source": [
    "hotels_detail = []\n",
    "\n",
    "# Open the file and read it line by line\n",
    "with open('Datasets/Hotels_detail.jsonl', 'r') as file:\n",
    "    for line in file:\n",
    "        # Parse each line as a JSON object and append to the list\n",
    "        json_obj = json.loads(line.strip())  # strip() removes any leading/trailing whitespace\n",
    "        hotels_detail.append(json_obj)"
   ]
  },
  {
   "cell_type": "code",
   "execution_count": 6,
   "metadata": {},
   "outputs": [],
   "source": [
    "hotel_clean_attributes = ['business_id','name','address','city','stars','review_count']\n",
    "\n",
    "hotel_clean = [{attr: record[attr] for attr in hotel_clean_attributes} for record in hotels]"
   ]
  },
  {
   "cell_type": "code",
   "execution_count": 9,
   "metadata": {},
   "outputs": [],
   "source": [
    "hotel_detail_clean_attributes = ['id','price']\n",
    "\n",
    "hotel_detail_clean = [{attr: record.get(attr) for attr in hotel_detail_clean_attributes} for record in hotels_detail]"
   ]
  },
  {
   "cell_type": "code",
   "execution_count": 11,
   "metadata": {},
   "outputs": [],
   "source": [
    "df1 = pd.DataFrame(hotel_clean)\n",
    "df2 = pd.DataFrame(hotel_detail_clean)"
   ]
  },
  {
   "cell_type": "code",
   "execution_count": null,
   "metadata": {},
   "outputs": [],
   "source": [
    "df2 = df2.rename(columns =  {'id':'business_id'})"
   ]
  },
  {
   "cell_type": "code",
   "execution_count": 13,
   "metadata": {},
   "outputs": [
    {
     "data": {
      "text/plain": [
       "107"
      ]
     },
     "execution_count": 13,
     "metadata": {},
     "output_type": "execute_result"
    }
   ],
   "source": [
    "merged_df = pd.merge(df1, df2, on='business_id', how='outer')\n",
    "merged_array = merged_df.to_dict('records')\n",
    "len(merged_array)"
   ]
  },
  {
   "cell_type": "code",
   "execution_count": 14,
   "metadata": {},
   "outputs": [],
   "source": [
    "with open('Datasets/Hotels_pruned.jsonl', 'w') as json_file:    \n",
    "    for item in merged_array:\n",
    "        json.dump(item, json_file)\n",
    "        json_file.write('\\n')"
   ]
  },
  {
   "cell_type": "markdown",
   "metadata": {},
   "source": [
    "Attractions"
   ]
  },
  {
   "cell_type": "code",
   "execution_count": 19,
   "metadata": {},
   "outputs": [],
   "source": [
    "attractions = []\n",
    "\n",
    "# Open the file and read it line by line\n",
    "with open('Datasets/Attractions.jsonl', 'r') as file:\n",
    "    for line in file:\n",
    "        # Parse each line as a JSON object and append to the list\n",
    "        json_obj = json.loads(line.strip())  # strip() removes any leading/trailing whitespace\n",
    "        attractions.append(json_obj)"
   ]
  },
  {
   "cell_type": "code",
   "execution_count": 20,
   "metadata": {},
   "outputs": [],
   "source": [
    "attraction_attr = ['business_id','name','address','city','stars','review_count','categories','hours']\n",
    "\n",
    "\n",
    "attraction_clean=[{attr:record.get(attr) for attr in attraction_attr}for record in attractions]"
   ]
  },
  {
   "cell_type": "code",
   "execution_count": 22,
   "metadata": {},
   "outputs": [],
   "source": [
    "attractions_detail = []\n",
    "\n",
    "# Open the file and read it line by line\n",
    "with open('Datasets/Attractions_detail.jsonl', 'r') as file:\n",
    "    for line in file:\n",
    "        # Parse each line as a JSON object and append to the list\n",
    "        json_obj = json.loads(line.strip())  # strip() removes any leading/trailing whitespace\n",
    "        attractions_detail.append(json_obj)"
   ]
  },
  {
   "cell_type": "code",
   "execution_count": 23,
   "metadata": {},
   "outputs": [],
   "source": [
    "attractions_detail_attr = ['id','price']\n",
    "attraction_detail_clean=[{attr:record.get(attr) for attr in attractions_detail_attr}for record in attractions_detail]"
   ]
  },
  {
   "cell_type": "code",
   "execution_count": 24,
   "metadata": {},
   "outputs": [],
   "source": [
    "df1 = pd.DataFrame(attraction_clean)\n",
    "df2 = pd.DataFrame(attraction_detail_clean)"
   ]
  },
  {
   "cell_type": "code",
   "execution_count": 25,
   "metadata": {},
   "outputs": [],
   "source": [
    "df2 = df2.rename(columns =  {'id':'business_id'})"
   ]
  },
  {
   "cell_type": "code",
   "execution_count": 26,
   "metadata": {},
   "outputs": [
    {
     "data": {
      "text/plain": [
       "347"
      ]
     },
     "execution_count": 26,
     "metadata": {},
     "output_type": "execute_result"
    }
   ],
   "source": [
    "merged_df = pd.merge(df1, df2, on='business_id', how='outer')\n",
    "merged_array = merged_df.to_dict('records')\n",
    "len(merged_array)"
   ]
  },
  {
   "cell_type": "code",
   "execution_count": 27,
   "metadata": {},
   "outputs": [],
   "source": [
    "with open('Datasets/Attractions_pruned.jsonl', 'w') as json_file:    \n",
    "    for item in merged_array:\n",
    "        json.dump(item, json_file)\n",
    "        json_file.write('\\n')"
   ]
  },
  {
   "cell_type": "markdown",
   "metadata": {},
   "source": [
    "Restaurants"
   ]
  },
  {
   "cell_type": "code",
   "execution_count": 40,
   "metadata": {},
   "outputs": [],
   "source": [
    "restaurants = []\n",
    "\n",
    "# Open the file and read it line by line\n",
    "with open('Datasets/Restaurants_top1000.jsonl', 'r') as file:\n",
    "    for line in file:\n",
    "        # Parse each line as a JSON object and append to the list\n",
    "        json_obj = json.loads(line.strip())  # strip() removes any leading/trailing whitespace\n",
    "        restaurants.append(json_obj)"
   ]
  },
  {
   "cell_type": "code",
   "execution_count": 41,
   "metadata": {},
   "outputs": [],
   "source": [
    "restaurants_attr = ['business_id','name','address','city','stars','review_count','good_for_meal','categories']\n",
    "#also want the GoodForMeal in attributes\n",
    "for record in restaurants:\n",
    "    record['good_for_meal'] = record.get('attributes', {}).get('GoodForMeal', \"None\")"
   ]
  },
  {
   "cell_type": "code",
   "execution_count": 42,
   "metadata": {},
   "outputs": [],
   "source": [
    "restaurants_clean = [{attr:record.get(attr) for attr in restaurants_attr}for record in restaurants]"
   ]
  },
  {
   "cell_type": "code",
   "execution_count": 43,
   "metadata": {},
   "outputs": [],
   "source": [
    "restaurants_detail = []\n",
    "\n",
    "# Open the file and read it line by line\n",
    "with open('Datasets/Restaurants_top1000_detail.jsonl', 'r') as file:\n",
    "    for line in file:\n",
    "        # Parse each line as a JSON object and append to the list\n",
    "        json_obj = json.loads(line.strip())  # strip() removes any leading/trailing whitespace\n",
    "        restaurants_detail.append(json_obj)"
   ]
  },
  {
   "cell_type": "code",
   "execution_count": 44,
   "metadata": {},
   "outputs": [],
   "source": [
    "restaurants_detail_attr = ['id','price']\n",
    "restaurants_detail_clean=[{attr:record.get(attr) for attr in restaurants_detail_attr}for record in restaurants_detail]"
   ]
  },
  {
   "cell_type": "code",
   "execution_count": 45,
   "metadata": {},
   "outputs": [],
   "source": [
    "df1 = pd.DataFrame(restaurants_clean)\n",
    "df2 = pd.DataFrame(restaurants_detail_clean)\n",
    "df2 = df2.rename(columns =  {'id':'business_id'})\n",
    "merged_df = pd.merge(df1, df2, on='business_id', how='outer')\n",
    "merged_array = merged_df.to_dict('records')"
   ]
  },
  {
   "cell_type": "code",
   "execution_count": 46,
   "metadata": {},
   "outputs": [],
   "source": [
    "with open('Datasets/Restaurants_pruned.jsonl', 'w') as json_file:    \n",
    "    for item in merged_array:\n",
    "        json.dump(item, json_file)\n",
    "        json_file.write('\\n')"
   ]
  },
  {
   "cell_type": "markdown",
   "metadata": {},
   "source": [
    "process restaurants, mainly open up good for meal attribute"
   ]
  },
  {
   "cell_type": "code",
   "execution_count": 50,
   "metadata": {},
   "outputs": [],
   "source": [
    "restaurants = []\n",
    "\n",
    "# Open the file and read it line by line\n",
    "with open('Datasets/Restaurants_pruned.jsonl', 'r') as file:\n",
    "    for line in file:\n",
    "        # Parse each line as a JSON object and append to the list\n",
    "        json_obj = json.loads(line.strip())  # strip() removes any leading/trailing whitespace\n",
    "        restaurants.append(json_obj)"
   ]
  },
  {
   "cell_type": "code",
   "execution_count": 51,
   "metadata": {},
   "outputs": [],
   "source": [
    "checkedAttr = ['dessert', 'latenight', 'lunch', 'dinner', 'brunch', 'breakfast']\n",
    "\n",
    "for record in restaurants:\n",
    "    processed = ''\n",
    "    if(record.get('good_for_meal') != 'None'):\n",
    "        invlid_json = record['good_for_meal']\n",
    "        valid_json = invlid_json.replace(\"u'\", \"'\").replace(\"'\", '\"').replace(\"None\", \"null\").replace(\"True\", \"true\").replace(\"False\", \"false\")\n",
    "        json_obj = json.loads(valid_json)\n",
    "        for attr in checkedAttr:\n",
    "            if json_obj.get(attr) == True:\n",
    "                processed = ', '.join([processed, attr])\n",
    "        record['good_for_meal'] = processed[2:]\n",
    "    else:\n",
    "        record['good_for_meal'] = 'Unknown'"
   ]
  },
  {
   "cell_type": "code",
   "execution_count": 53,
   "metadata": {},
   "outputs": [],
   "source": [
    "with open('Datasets/Restaurants_pruned.jsonl', 'w') as json_file:    \n",
    "    for item in restaurants:\n",
    "        json.dump(item, json_file)\n",
    "        json_file.write('\\n')"
   ]
  },
  {
   "cell_type": "markdown",
   "metadata": {},
   "source": [
    "Post process:\n",
    "1. process price level, turn 'None' into 'No Price info'"
   ]
  },
  {
   "cell_type": "code",
   "execution_count": 12,
   "metadata": {},
   "outputs": [],
   "source": [
    "hotels = []\n",
    "\n",
    "# Open the file and read it line by line\n",
    "with open('Datasets/Hotels_pruned.jsonl', 'r') as file:\n",
    "    for line in file:\n",
    "        # Parse each line as a JSON object and append to the list\n",
    "        json_obj = json.loads(line.strip())  # strip() removes any leading/trailing whitespace\n",
    "        hotels.append(json_obj)"
   ]
  },
  {
   "cell_type": "code",
   "execution_count": 14,
   "metadata": {},
   "outputs": [],
   "source": [
    "hotels_new = []\n",
    "for hotel in hotels:\n",
    "    if hotel['price'] == None:\n",
    "        hotel['price'] = 'Unknown price'\n",
    "    hotels_new.append(hotel)\n",
    "\n",
    "#write into jsonl file\n",
    "with open('Datasets/Hotels_pruned.jsonl', 'w') as json_file:    \n",
    "    for item in hotels_new:\n",
    "        json.dump(item, json_file)\n",
    "        json_file.write('\\n')"
   ]
  },
  {
   "cell_type": "code",
   "execution_count": 60,
   "metadata": {},
   "outputs": [],
   "source": [
    "attractions = []\n",
    "\n",
    "# Open the file and read it line by line\n",
    "with open('Datasets/Attractions_pruned.jsonl', 'r') as file:\n",
    "    for line in file:\n",
    "        # Parse each line as a JSON object and append to the list\n",
    "        json_obj = json.loads(line.strip())  # strip() removes any leading/trailing whitespace\n",
    "        attractions.append(json_obj)"
   ]
  },
  {
   "cell_type": "code",
   "execution_count": 61,
   "metadata": {},
   "outputs": [],
   "source": [
    "# address = \"\", hour = null, price = null\n",
    "attractions_new = []\n",
    "\n",
    "for record in attractions:\n",
    "    if record.get('address') == \"\":\n",
    "        record['address'] = 'Unknown address'\n",
    "    if record.get('hours') == None:\n",
    "        record['hours'] = 'Unknown hours'\n",
    "    if record.get('price') == None:\n",
    "        record['price'] = 'Unknown price'\n",
    "    attractions_new.append(record)"
   ]
  },
  {
   "cell_type": "code",
   "execution_count": 62,
   "metadata": {},
   "outputs": [],
   "source": [
    "with open('Datasets/Attractions_pruned.jsonl', 'w') as json_file:    \n",
    "    for item in attractions_new:\n",
    "        json.dump(item, json_file)\n",
    "        json_file.write('\\n')"
   ]
  },
  {
   "cell_type": "code",
   "execution_count": 63,
   "metadata": {},
   "outputs": [],
   "source": [
    "restaurants = []\n",
    "\n",
    "# Open the file and read it line by line\n",
    "with open('Datasets/Restaurants_pruned.jsonl', 'r') as file:\n",
    "    for line in file:\n",
    "        # Parse each line as a JSON object and append to the list\n",
    "        json_obj = json.loads(line.strip())  # strip() removes any leading/trailing whitespace\n",
    "        restaurants.append(json_obj)"
   ]
  },
  {
   "cell_type": "code",
   "execution_count": 64,
   "metadata": {},
   "outputs": [],
   "source": [
    "#\"address\": \"\"; \"price\": null; \"good_for_meal\": \"\";\n",
    "restaurants_new = []\n",
    "\n",
    "for record in restaurants:\n",
    "    if record.get('address') == \"\":\n",
    "        record['address'] = 'Unknown address'\n",
    "    if record.get('price') == None:\n",
    "        record['price'] = 'Unknown price'\n",
    "    if record.get('good_for_meal') == \"\":\n",
    "        record['good_for_meal'] = 'Unknown'\n",
    "    restaurants_new.append(record)"
   ]
  },
  {
   "cell_type": "code",
   "execution_count": 65,
   "metadata": {},
   "outputs": [],
   "source": [
    "with open('Datasets/Restaurants_pruned_test.jsonl', 'w') as json_file:    \n",
    "    for item in restaurants_new:\n",
    "        json.dump(item, json_file)\n",
    "        json_file.write('\\n')"
   ]
  },
  {
   "cell_type": "markdown",
   "metadata": {},
   "source": [
    "All pruned together"
   ]
  },
  {
   "cell_type": "code",
   "execution_count": 2,
   "metadata": {},
   "outputs": [],
   "source": [
    "import json\n",
    "\n",
    "all = []\n",
    "\n",
    "# Open the file and read it line by line\n",
    "with open('Datasets/Restaurants_pruned.jsonl', 'r') as file:\n",
    "    for line in file:\n",
    "        # Parse each line as a JSON object and append to the list\n",
    "        json_obj = json.loads(line.strip())  # strip() removes any leading/trailing whitespace\n",
    "        all.append(json_obj)\n",
    "\n",
    "# Open the file and read it line by line\n",
    "with open('Datasets/Hotels_pruned.jsonl', 'r') as file:\n",
    "    for line in file:\n",
    "        # Parse each line as a JSON object and append to the list\n",
    "        json_obj = json.loads(line.strip())  # strip() removes any leading/trailing whitespace\n",
    "        all.append(json_obj)\n",
    "\n",
    "# Open the file and read it line by line\n",
    "with open('Datasets/Attractions_pruned.jsonl', 'r') as file:\n",
    "    for line in file:\n",
    "        # Parse each line as a JSON object and append to the list\n",
    "        json_obj = json.loads(line.strip())  # strip() removes any leading/trailing whitespace\n",
    "        all.append(json_obj)\n",
    "\n",
    "with open('Datasets/all_pruned.jsonl', 'w') as json_file:    \n",
    "    for item in all:\n",
    "        json.dump(item, json_file)\n",
    "        json_file.write('\\n')"
   ]
  },
  {
   "cell_type": "markdown",
   "metadata": {},
   "source": [
    "Drop duplicates in all_pruned for testing purpose, the duplicate not from error, just same business both collected as attraction and restaurants."
   ]
  },
  {
   "cell_type": "code",
   "execution_count": null,
   "metadata": {},
   "outputs": [
    {
     "ename": "",
     "evalue": "",
     "output_type": "error",
     "traceback": [
      "\u001b[1;31mThe Kernel crashed while executing code in the current cell or a previous cell. \n",
      "\u001b[1;31mPlease review the code in the cell(s) to identify a possible cause of the failure. \n",
      "\u001b[1;31mClick <a href='https://aka.ms/vscodeJupyterKernelCrash'>here</a> for more info. \n",
      "\u001b[1;31mView Jupyter <a href='command:jupyter.viewOutput'>log</a> for further details."
     ]
    }
   ],
   "source": [
    "#drop duplicates in all_pruned.jsonl\n",
    "\n",
    "import json\n",
    "import pandas as pd\n",
    "\n",
    "all = []\n",
    "\n",
    "#load all_pruned.jsonl into a list of dictionaries\n",
    "with open('Datasets/all_pruned.jsonl', 'r') as file:\n",
    "    for line in file:\n",
    "        # Parse each line as a JSON object and append to the list\n",
    "        json_obj = json.loads(line.strip())  # strip() removes any leading/trailing whitespace\n",
    "        all.append(json_obj)\n",
    "\n",
    "df = pd.DataFrame(all)\n",
    "#drop duplicates in df based on business_id\n",
    "df = df.drop_duplicates(subset='business_id', keep='first')\n",
    "\n",
    "#write into jsonl file\n",
    "with open('Datasets/all_pruned.jsonl', 'w') as json_file:    \n",
    "    for item in df.to_dict('records'):\n",
    "        json.dump(item, json_file)\n",
    "        json_file.write('\\n')\n"
   ]
  },
  {
   "cell_type": "markdown",
   "metadata": {},
   "source": [
    "Create CSV"
   ]
  },
  {
   "cell_type": "markdown",
   "metadata": {},
   "source": [
    "Restaurants"
   ]
  },
  {
   "cell_type": "code",
   "execution_count": 26,
   "metadata": {},
   "outputs": [
    {
     "data": {
      "text/html": [
       "<div>\n",
       "<style scoped>\n",
       "    .dataframe tbody tr th:only-of-type {\n",
       "        vertical-align: middle;\n",
       "    }\n",
       "\n",
       "    .dataframe tbody tr th {\n",
       "        vertical-align: top;\n",
       "    }\n",
       "\n",
       "    .dataframe thead th {\n",
       "        text-align: right;\n",
       "    }\n",
       "</style>\n",
       "<table border=\"1\" class=\"dataframe\">\n",
       "  <thead>\n",
       "    <tr style=\"text-align: right;\">\n",
       "      <th></th>\n",
       "      <th>business_id</th>\n",
       "      <th>name</th>\n",
       "      <th>address</th>\n",
       "      <th>latitude</th>\n",
       "      <th>longitude</th>\n",
       "      <th>stars</th>\n",
       "      <th>good_for_meal</th>\n",
       "      <th>price</th>\n",
       "      <th>restaurant_type_1</th>\n",
       "      <th>restaurant_type_2</th>\n",
       "      <th>cuisine_1</th>\n",
       "      <th>cuisine_2</th>\n",
       "      <th>perks</th>\n",
       "    </tr>\n",
       "  </thead>\n",
       "  <tbody>\n",
       "    <tr>\n",
       "      <th>0</th>\n",
       "      <td>-0TffRSXXIlBYVbb5AwfTg</td>\n",
       "      <td>IndeBlue Modern Indian Food &amp; Spirits</td>\n",
       "      <td>205 South 13th St</td>\n",
       "      <td>39.948508</td>\n",
       "      <td>-75.161969</td>\n",
       "      <td>4.5</td>\n",
       "      <td>dinner</td>\n",
       "      <td>$$</td>\n",
       "      <td>Restaurants</td>\n",
       "      <td>Bars</td>\n",
       "      <td>Indian</td>\n",
       "      <td>Not Applicable</td>\n",
       "      <td>Not Applicable</td>\n",
       "    </tr>\n",
       "    <tr>\n",
       "      <th>1</th>\n",
       "      <td>-1B9pP_CrRBJYPICE5WbRA</td>\n",
       "      <td>Spice 28</td>\n",
       "      <td>1228 Chestnut St</td>\n",
       "      <td>39.950352</td>\n",
       "      <td>-75.161583</td>\n",
       "      <td>4.0</td>\n",
       "      <td>lunch, dinner</td>\n",
       "      <td>$$</td>\n",
       "      <td>Restaurants</td>\n",
       "      <td>Not Applicable</td>\n",
       "      <td>Asian Fusion</td>\n",
       "      <td>American (New)</td>\n",
       "      <td>Not Applicable</td>\n",
       "    </tr>\n",
       "    <tr>\n",
       "      <th>2</th>\n",
       "      <td>-5Rah4ZvWsDu4oilUZxhtw</td>\n",
       "      <td>World Cafe Live</td>\n",
       "      <td>3025 Walnut St</td>\n",
       "      <td>39.952074</td>\n",
       "      <td>-75.185177</td>\n",
       "      <td>4.0</td>\n",
       "      <td>dinner</td>\n",
       "      <td>$$</td>\n",
       "      <td>Restaurants</td>\n",
       "      <td>Bars</td>\n",
       "      <td>American</td>\n",
       "      <td>Not Applicable</td>\n",
       "      <td>Music Venues</td>\n",
       "    </tr>\n",
       "    <tr>\n",
       "      <th>3</th>\n",
       "      <td>-ATiAtTikuGuqvaW2O6tNA</td>\n",
       "      <td>Marathon</td>\n",
       "      <td>121 S 16th St</td>\n",
       "      <td>39.950483</td>\n",
       "      <td>-75.167331</td>\n",
       "      <td>3.5</td>\n",
       "      <td>lunch, brunch</td>\n",
       "      <td>$$</td>\n",
       "      <td>Restaurants</td>\n",
       "      <td>Bars</td>\n",
       "      <td>American (New)</td>\n",
       "      <td>Not Applicable</td>\n",
       "      <td>Sandwiches</td>\n",
       "    </tr>\n",
       "    <tr>\n",
       "      <th>4</th>\n",
       "      <td>-DGsnMlRrR_tv8avrpQLQw</td>\n",
       "      <td>Sam's Morning Glory Diner</td>\n",
       "      <td>735 S 10th St</td>\n",
       "      <td>39.940861</td>\n",
       "      <td>-75.158905</td>\n",
       "      <td>4.0</td>\n",
       "      <td>brunch, breakfast</td>\n",
       "      <td>$$</td>\n",
       "      <td>Restaurants</td>\n",
       "      <td>Diners</td>\n",
       "      <td>Not Applicable</td>\n",
       "      <td>Not Applicable</td>\n",
       "      <td>Breakfast &amp; Brunch</td>\n",
       "    </tr>\n",
       "  </tbody>\n",
       "</table>\n",
       "</div>"
      ],
      "text/plain": [
       "              business_id                                   name  \\\n",
       "0  -0TffRSXXIlBYVbb5AwfTg  IndeBlue Modern Indian Food & Spirits   \n",
       "1  -1B9pP_CrRBJYPICE5WbRA                               Spice 28   \n",
       "2  -5Rah4ZvWsDu4oilUZxhtw                        World Cafe Live   \n",
       "3  -ATiAtTikuGuqvaW2O6tNA                               Marathon   \n",
       "4  -DGsnMlRrR_tv8avrpQLQw              Sam's Morning Glory Diner   \n",
       "\n",
       "             address   latitude  longitude  stars      good_for_meal price  \\\n",
       "0  205 South 13th St  39.948508 -75.161969    4.5             dinner    $$   \n",
       "1   1228 Chestnut St  39.950352 -75.161583    4.0      lunch, dinner    $$   \n",
       "2     3025 Walnut St  39.952074 -75.185177    4.0             dinner    $$   \n",
       "3      121 S 16th St  39.950483 -75.167331    3.5      lunch, brunch    $$   \n",
       "4      735 S 10th St  39.940861 -75.158905    4.0  brunch, breakfast    $$   \n",
       "\n",
       "  restaurant_type_1 restaurant_type_2       cuisine_1       cuisine_2  \\\n",
       "0       Restaurants              Bars          Indian  Not Applicable   \n",
       "1       Restaurants    Not Applicable    Asian Fusion  American (New)   \n",
       "2       Restaurants              Bars        American  Not Applicable   \n",
       "3       Restaurants              Bars  American (New)  Not Applicable   \n",
       "4       Restaurants            Diners  Not Applicable  Not Applicable   \n",
       "\n",
       "                perks  \n",
       "0      Not Applicable  \n",
       "1      Not Applicable  \n",
       "2        Music Venues  \n",
       "3          Sandwiches  \n",
       "4  Breakfast & Brunch  "
      ]
     },
     "execution_count": 26,
     "metadata": {},
     "output_type": "execute_result"
    }
   ],
   "source": [
    "import json\n",
    "import pandas as pd\n",
    "\n",
    "data = []\n",
    "with open('Datasets/Restaurants_task1.jsonl', 'r') as f:\n",
    "    for line in f:\n",
    "        data.append(json.loads(line))\n",
    "\n",
    "df = pd.DataFrame(data)\n",
    "df.head()"
   ]
  },
  {
   "cell_type": "code",
   "execution_count": 27,
   "metadata": {},
   "outputs": [
    {
     "data": {
      "text/html": [
       "<div>\n",
       "<style scoped>\n",
       "    .dataframe tbody tr th:only-of-type {\n",
       "        vertical-align: middle;\n",
       "    }\n",
       "\n",
       "    .dataframe tbody tr th {\n",
       "        vertical-align: top;\n",
       "    }\n",
       "\n",
       "    .dataframe thead th {\n",
       "        text-align: right;\n",
       "    }\n",
       "</style>\n",
       "<table border=\"1\" class=\"dataframe\">\n",
       "  <thead>\n",
       "    <tr style=\"text-align: right;\">\n",
       "      <th></th>\n",
       "      <th>name</th>\n",
       "      <th>address</th>\n",
       "      <th>latitude</th>\n",
       "      <th>longitude</th>\n",
       "      <th>stars</th>\n",
       "      <th>good_for_meal</th>\n",
       "      <th>price</th>\n",
       "      <th>restaurant_type_1</th>\n",
       "      <th>restaurant_type_2</th>\n",
       "      <th>cuisine_1</th>\n",
       "      <th>cuisine_2</th>\n",
       "      <th>perks</th>\n",
       "    </tr>\n",
       "  </thead>\n",
       "  <tbody>\n",
       "    <tr>\n",
       "      <th>0</th>\n",
       "      <td>IndeBlue Modern Indian Food &amp; Spirits</td>\n",
       "      <td>205 South 13th St</td>\n",
       "      <td>39.948508</td>\n",
       "      <td>-75.161969</td>\n",
       "      <td>4.5</td>\n",
       "      <td>dinner</td>\n",
       "      <td>$$</td>\n",
       "      <td>Restaurants</td>\n",
       "      <td>Bars</td>\n",
       "      <td>Indian</td>\n",
       "      <td>Not Applicable</td>\n",
       "      <td>Not Applicable</td>\n",
       "    </tr>\n",
       "    <tr>\n",
       "      <th>1</th>\n",
       "      <td>Spice 28</td>\n",
       "      <td>1228 Chestnut St</td>\n",
       "      <td>39.950352</td>\n",
       "      <td>-75.161583</td>\n",
       "      <td>4.0</td>\n",
       "      <td>lunch, dinner</td>\n",
       "      <td>$$</td>\n",
       "      <td>Restaurants</td>\n",
       "      <td>Not Applicable</td>\n",
       "      <td>Asian Fusion</td>\n",
       "      <td>American (New)</td>\n",
       "      <td>Not Applicable</td>\n",
       "    </tr>\n",
       "    <tr>\n",
       "      <th>2</th>\n",
       "      <td>World Cafe Live</td>\n",
       "      <td>3025 Walnut St</td>\n",
       "      <td>39.952074</td>\n",
       "      <td>-75.185177</td>\n",
       "      <td>4.0</td>\n",
       "      <td>dinner</td>\n",
       "      <td>$$</td>\n",
       "      <td>Restaurants</td>\n",
       "      <td>Bars</td>\n",
       "      <td>American</td>\n",
       "      <td>Not Applicable</td>\n",
       "      <td>Music Venues</td>\n",
       "    </tr>\n",
       "    <tr>\n",
       "      <th>3</th>\n",
       "      <td>Marathon</td>\n",
       "      <td>121 S 16th St</td>\n",
       "      <td>39.950483</td>\n",
       "      <td>-75.167331</td>\n",
       "      <td>3.5</td>\n",
       "      <td>lunch, brunch</td>\n",
       "      <td>$$</td>\n",
       "      <td>Restaurants</td>\n",
       "      <td>Bars</td>\n",
       "      <td>American (New)</td>\n",
       "      <td>Not Applicable</td>\n",
       "      <td>Sandwiches</td>\n",
       "    </tr>\n",
       "    <tr>\n",
       "      <th>4</th>\n",
       "      <td>Sam's Morning Glory Diner</td>\n",
       "      <td>735 S 10th St</td>\n",
       "      <td>39.940861</td>\n",
       "      <td>-75.158905</td>\n",
       "      <td>4.0</td>\n",
       "      <td>brunch, breakfast</td>\n",
       "      <td>$$</td>\n",
       "      <td>Restaurants</td>\n",
       "      <td>Diners</td>\n",
       "      <td>Not Applicable</td>\n",
       "      <td>Not Applicable</td>\n",
       "      <td>Breakfast &amp; Brunch</td>\n",
       "    </tr>\n",
       "  </tbody>\n",
       "</table>\n",
       "</div>"
      ],
      "text/plain": [
       "                                    name            address   latitude  \\\n",
       "0  IndeBlue Modern Indian Food & Spirits  205 South 13th St  39.948508   \n",
       "1                               Spice 28   1228 Chestnut St  39.950352   \n",
       "2                        World Cafe Live     3025 Walnut St  39.952074   \n",
       "3                               Marathon      121 S 16th St  39.950483   \n",
       "4              Sam's Morning Glory Diner      735 S 10th St  39.940861   \n",
       "\n",
       "   longitude  stars      good_for_meal price restaurant_type_1  \\\n",
       "0 -75.161969    4.5             dinner    $$       Restaurants   \n",
       "1 -75.161583    4.0      lunch, dinner    $$       Restaurants   \n",
       "2 -75.185177    4.0             dinner    $$       Restaurants   \n",
       "3 -75.167331    3.5      lunch, brunch    $$       Restaurants   \n",
       "4 -75.158905    4.0  brunch, breakfast    $$       Restaurants   \n",
       "\n",
       "  restaurant_type_2       cuisine_1       cuisine_2               perks  \n",
       "0              Bars          Indian  Not Applicable      Not Applicable  \n",
       "1    Not Applicable    Asian Fusion  American (New)      Not Applicable  \n",
       "2              Bars        American  Not Applicable        Music Venues  \n",
       "3              Bars  American (New)  Not Applicable          Sandwiches  \n",
       "4            Diners  Not Applicable  Not Applicable  Breakfast & Brunch  "
      ]
     },
     "execution_count": 27,
     "metadata": {},
     "output_type": "execute_result"
    }
   ],
   "source": [
    "df = df.loc[:, ['name', 'address', 'latitude','longitude', 'stars', 'good_for_meal', 'price', 'restaurant_type_1','restaurant_type_2','cuisine_1','cuisine_2','perks']]\n",
    "df.head()"
   ]
  },
  {
   "cell_type": "code",
   "execution_count": 28,
   "metadata": {},
   "outputs": [],
   "source": [
    "df.to_csv('Datasets/Restaurants_task1.csv', index=False)"
   ]
  },
  {
   "cell_type": "markdown",
   "metadata": {},
   "source": [
    "Hotels"
   ]
  },
  {
   "cell_type": "code",
   "execution_count": 29,
   "metadata": {},
   "outputs": [
    {
     "data": {
      "text/html": [
       "<div>\n",
       "<style scoped>\n",
       "    .dataframe tbody tr th:only-of-type {\n",
       "        vertical-align: middle;\n",
       "    }\n",
       "\n",
       "    .dataframe tbody tr th {\n",
       "        vertical-align: top;\n",
       "    }\n",
       "\n",
       "    .dataframe thead th {\n",
       "        text-align: right;\n",
       "    }\n",
       "</style>\n",
       "<table border=\"1\" class=\"dataframe\">\n",
       "  <thead>\n",
       "    <tr style=\"text-align: right;\">\n",
       "      <th></th>\n",
       "      <th>business_id</th>\n",
       "      <th>name</th>\n",
       "      <th>address</th>\n",
       "      <th>latitude</th>\n",
       "      <th>longitude</th>\n",
       "      <th>stars</th>\n",
       "      <th>price</th>\n",
       "    </tr>\n",
       "  </thead>\n",
       "  <tbody>\n",
       "    <tr>\n",
       "      <th>0</th>\n",
       "      <td>-D_3emciINpjvYXsHCf8OA</td>\n",
       "      <td>AKA Rittenhouse Square</td>\n",
       "      <td>135 S 18th St</td>\n",
       "      <td>39.950365</td>\n",
       "      <td>-75.170453</td>\n",
       "      <td>4.5</td>\n",
       "      <td>$$$</td>\n",
       "    </tr>\n",
       "    <tr>\n",
       "      <th>1</th>\n",
       "      <td>0FMOvA2Noq-gieWfnXB7aQ</td>\n",
       "      <td>Live! Casino &amp; Hotel Philadelphia</td>\n",
       "      <td>900 Packer Ave</td>\n",
       "      <td>39.909191</td>\n",
       "      <td>-75.164662</td>\n",
       "      <td>2.5</td>\n",
       "      <td>Unknown price</td>\n",
       "    </tr>\n",
       "    <tr>\n",
       "      <th>2</th>\n",
       "      <td>0bvtIbpsqBJZpRKSPwIfNw</td>\n",
       "      <td>Panorama</td>\n",
       "      <td>14 N Front St</td>\n",
       "      <td>39.950201</td>\n",
       "      <td>-75.142285</td>\n",
       "      <td>4.0</td>\n",
       "      <td>$$$</td>\n",
       "    </tr>\n",
       "    <tr>\n",
       "      <th>3</th>\n",
       "      <td>0hVf3a0oq8ckB8JIDwSgig</td>\n",
       "      <td>Days Inn by Wyndham Philadelphia Convention Ce...</td>\n",
       "      <td>1227 Race Street</td>\n",
       "      <td>39.956112</td>\n",
       "      <td>-75.160216</td>\n",
       "      <td>2.0</td>\n",
       "      <td>$$</td>\n",
       "    </tr>\n",
       "    <tr>\n",
       "      <th>4</th>\n",
       "      <td>1QlgJVS-WEb9KGS42sQMIA</td>\n",
       "      <td>ROOST Rittenhouse</td>\n",
       "      <td>1831 Chestnut St</td>\n",
       "      <td>39.952009</td>\n",
       "      <td>-75.171520</td>\n",
       "      <td>4.0</td>\n",
       "      <td>Unknown price</td>\n",
       "    </tr>\n",
       "  </tbody>\n",
       "</table>\n",
       "</div>"
      ],
      "text/plain": [
       "              business_id                                               name  \\\n",
       "0  -D_3emciINpjvYXsHCf8OA                             AKA Rittenhouse Square   \n",
       "1  0FMOvA2Noq-gieWfnXB7aQ                  Live! Casino & Hotel Philadelphia   \n",
       "2  0bvtIbpsqBJZpRKSPwIfNw                                           Panorama   \n",
       "3  0hVf3a0oq8ckB8JIDwSgig  Days Inn by Wyndham Philadelphia Convention Ce...   \n",
       "4  1QlgJVS-WEb9KGS42sQMIA                                  ROOST Rittenhouse   \n",
       "\n",
       "            address   latitude  longitude  stars          price  \n",
       "0     135 S 18th St  39.950365 -75.170453    4.5            $$$  \n",
       "1    900 Packer Ave  39.909191 -75.164662    2.5  Unknown price  \n",
       "2     14 N Front St  39.950201 -75.142285    4.0            $$$  \n",
       "3  1227 Race Street  39.956112 -75.160216    2.0             $$  \n",
       "4  1831 Chestnut St  39.952009 -75.171520    4.0  Unknown price  "
      ]
     },
     "execution_count": 29,
     "metadata": {},
     "output_type": "execute_result"
    }
   ],
   "source": [
    "data = []\n",
    "with open('Datasets/Hotels_task1.jsonl', 'r') as f:\n",
    "    for line in f:\n",
    "        data.append(json.loads(line))\n",
    "\n",
    "df = pd.DataFrame(data)\n",
    "df.head()"
   ]
  },
  {
   "cell_type": "code",
   "execution_count": 30,
   "metadata": {},
   "outputs": [
    {
     "data": {
      "text/html": [
       "<div>\n",
       "<style scoped>\n",
       "    .dataframe tbody tr th:only-of-type {\n",
       "        vertical-align: middle;\n",
       "    }\n",
       "\n",
       "    .dataframe tbody tr th {\n",
       "        vertical-align: top;\n",
       "    }\n",
       "\n",
       "    .dataframe thead th {\n",
       "        text-align: right;\n",
       "    }\n",
       "</style>\n",
       "<table border=\"1\" class=\"dataframe\">\n",
       "  <thead>\n",
       "    <tr style=\"text-align: right;\">\n",
       "      <th></th>\n",
       "      <th>name</th>\n",
       "      <th>address</th>\n",
       "      <th>latitude</th>\n",
       "      <th>longitude</th>\n",
       "      <th>stars</th>\n",
       "      <th>price</th>\n",
       "    </tr>\n",
       "  </thead>\n",
       "  <tbody>\n",
       "    <tr>\n",
       "      <th>0</th>\n",
       "      <td>AKA Rittenhouse Square</td>\n",
       "      <td>135 S 18th St</td>\n",
       "      <td>39.950365</td>\n",
       "      <td>-75.170453</td>\n",
       "      <td>4.5</td>\n",
       "      <td>$$$</td>\n",
       "    </tr>\n",
       "    <tr>\n",
       "      <th>1</th>\n",
       "      <td>Live! Casino &amp; Hotel Philadelphia</td>\n",
       "      <td>900 Packer Ave</td>\n",
       "      <td>39.909191</td>\n",
       "      <td>-75.164662</td>\n",
       "      <td>2.5</td>\n",
       "      <td>Unknown price</td>\n",
       "    </tr>\n",
       "    <tr>\n",
       "      <th>2</th>\n",
       "      <td>Panorama</td>\n",
       "      <td>14 N Front St</td>\n",
       "      <td>39.950201</td>\n",
       "      <td>-75.142285</td>\n",
       "      <td>4.0</td>\n",
       "      <td>$$$</td>\n",
       "    </tr>\n",
       "    <tr>\n",
       "      <th>3</th>\n",
       "      <td>Days Inn by Wyndham Philadelphia Convention Ce...</td>\n",
       "      <td>1227 Race Street</td>\n",
       "      <td>39.956112</td>\n",
       "      <td>-75.160216</td>\n",
       "      <td>2.0</td>\n",
       "      <td>$$</td>\n",
       "    </tr>\n",
       "    <tr>\n",
       "      <th>4</th>\n",
       "      <td>ROOST Rittenhouse</td>\n",
       "      <td>1831 Chestnut St</td>\n",
       "      <td>39.952009</td>\n",
       "      <td>-75.171520</td>\n",
       "      <td>4.0</td>\n",
       "      <td>Unknown price</td>\n",
       "    </tr>\n",
       "  </tbody>\n",
       "</table>\n",
       "</div>"
      ],
      "text/plain": [
       "                                                name           address  \\\n",
       "0                             AKA Rittenhouse Square     135 S 18th St   \n",
       "1                  Live! Casino & Hotel Philadelphia    900 Packer Ave   \n",
       "2                                           Panorama     14 N Front St   \n",
       "3  Days Inn by Wyndham Philadelphia Convention Ce...  1227 Race Street   \n",
       "4                                  ROOST Rittenhouse  1831 Chestnut St   \n",
       "\n",
       "    latitude  longitude  stars          price  \n",
       "0  39.950365 -75.170453    4.5            $$$  \n",
       "1  39.909191 -75.164662    2.5  Unknown price  \n",
       "2  39.950201 -75.142285    4.0            $$$  \n",
       "3  39.956112 -75.160216    2.0             $$  \n",
       "4  39.952009 -75.171520    4.0  Unknown price  "
      ]
     },
     "execution_count": 30,
     "metadata": {},
     "output_type": "execute_result"
    }
   ],
   "source": [
    "df = df.loc[:, ['name', 'address', 'latitude','longitude', 'stars', 'price']]\n",
    "df.head()"
   ]
  },
  {
   "cell_type": "code",
   "execution_count": 31,
   "metadata": {},
   "outputs": [],
   "source": [
    "df.to_csv('Datasets/Hotels_task1.csv', index=False)"
   ]
  },
  {
   "cell_type": "markdown",
   "metadata": {},
   "source": [
    "Attractions"
   ]
  },
  {
   "cell_type": "code",
   "execution_count": 32,
   "metadata": {},
   "outputs": [
    {
     "data": {
      "text/html": [
       "<div>\n",
       "<style scoped>\n",
       "    .dataframe tbody tr th:only-of-type {\n",
       "        vertical-align: middle;\n",
       "    }\n",
       "\n",
       "    .dataframe tbody tr th {\n",
       "        vertical-align: top;\n",
       "    }\n",
       "\n",
       "    .dataframe thead th {\n",
       "        text-align: right;\n",
       "    }\n",
       "</style>\n",
       "<table border=\"1\" class=\"dataframe\">\n",
       "  <thead>\n",
       "    <tr style=\"text-align: right;\">\n",
       "      <th></th>\n",
       "      <th>business_id</th>\n",
       "      <th>name</th>\n",
       "      <th>address</th>\n",
       "      <th>latitude</th>\n",
       "      <th>longitude</th>\n",
       "      <th>stars</th>\n",
       "      <th>price</th>\n",
       "      <th>attraction_type</th>\n",
       "      <th>perks</th>\n",
       "    </tr>\n",
       "  </thead>\n",
       "  <tbody>\n",
       "    <tr>\n",
       "      <th>0</th>\n",
       "      <td>--sXnWH9Xm6_NvIjyuA99w</td>\n",
       "      <td>Philadelphia</td>\n",
       "      <td>Unknown address</td>\n",
       "      <td>39.952584</td>\n",
       "      <td>-75.165222</td>\n",
       "      <td>4.0</td>\n",
       "      <td>Unknown price</td>\n",
       "      <td>Local Flavor</td>\n",
       "      <td>Not Applicable</td>\n",
       "    </tr>\n",
       "    <tr>\n",
       "      <th>1</th>\n",
       "      <td>-3e3CP3FFc-rvJj_-_airw</td>\n",
       "      <td>Penn's Landing</td>\n",
       "      <td>601 N Christopher Columbus Blvd</td>\n",
       "      <td>39.960024</td>\n",
       "      <td>-75.137156</td>\n",
       "      <td>3.5</td>\n",
       "      <td>$</td>\n",
       "      <td>Parks</td>\n",
       "      <td>Nightlife</td>\n",
       "    </tr>\n",
       "    <tr>\n",
       "      <th>2</th>\n",
       "      <td>-aeZuatjCDMV1X4gCTz9Ug</td>\n",
       "      <td>David Thomas Trailways</td>\n",
       "      <td>14005 McNulty Rd</td>\n",
       "      <td>40.106409</td>\n",
       "      <td>-74.973937</td>\n",
       "      <td>4.5</td>\n",
       "      <td>Unknown price</td>\n",
       "      <td>Transportation</td>\n",
       "      <td>Bus Tours</td>\n",
       "    </tr>\n",
       "    <tr>\n",
       "      <th>3</th>\n",
       "      <td>-iejZ38ttViiaaHIAl5iYg</td>\n",
       "      <td>Philadelphia International Festival of the Art...</td>\n",
       "      <td>300 S Broad St Philadelphia</td>\n",
       "      <td>39.946622</td>\n",
       "      <td>-75.164951</td>\n",
       "      <td>4.0</td>\n",
       "      <td>Unknown price</td>\n",
       "      <td>Festivals</td>\n",
       "      <td>Performing Arts</td>\n",
       "    </tr>\n",
       "    <tr>\n",
       "      <th>4</th>\n",
       "      <td>-mIlmp5l4hKlp1tvHRdvTg</td>\n",
       "      <td>Sonny's Famous Steaks</td>\n",
       "      <td>228 Market St</td>\n",
       "      <td>39.949918</td>\n",
       "      <td>-75.144792</td>\n",
       "      <td>4.0</td>\n",
       "      <td>$$</td>\n",
       "      <td>Local Flavor</td>\n",
       "      <td>Cheesesteaks</td>\n",
       "    </tr>\n",
       "  </tbody>\n",
       "</table>\n",
       "</div>"
      ],
      "text/plain": [
       "              business_id                                               name  \\\n",
       "0  --sXnWH9Xm6_NvIjyuA99w                                       Philadelphia   \n",
       "1  -3e3CP3FFc-rvJj_-_airw                                     Penn's Landing   \n",
       "2  -aeZuatjCDMV1X4gCTz9Ug                             David Thomas Trailways   \n",
       "3  -iejZ38ttViiaaHIAl5iYg  Philadelphia International Festival of the Art...   \n",
       "4  -mIlmp5l4hKlp1tvHRdvTg                              Sonny's Famous Steaks   \n",
       "\n",
       "                           address   latitude  longitude  stars  \\\n",
       "0                  Unknown address  39.952584 -75.165222    4.0   \n",
       "1  601 N Christopher Columbus Blvd  39.960024 -75.137156    3.5   \n",
       "2                 14005 McNulty Rd  40.106409 -74.973937    4.5   \n",
       "3      300 S Broad St Philadelphia  39.946622 -75.164951    4.0   \n",
       "4                    228 Market St  39.949918 -75.144792    4.0   \n",
       "\n",
       "           price attraction_type            perks  \n",
       "0  Unknown price    Local Flavor   Not Applicable  \n",
       "1              $           Parks        Nightlife  \n",
       "2  Unknown price  Transportation        Bus Tours  \n",
       "3  Unknown price       Festivals  Performing Arts  \n",
       "4             $$    Local Flavor     Cheesesteaks  "
      ]
     },
     "execution_count": 32,
     "metadata": {},
     "output_type": "execute_result"
    }
   ],
   "source": [
    "data = []\n",
    "with open('Datasets/Attractions_task1.jsonl', 'r') as f:\n",
    "    for line in f:\n",
    "        data.append(json.loads(line))\n",
    "\n",
    "df = pd.DataFrame(data)\n",
    "df.head()"
   ]
  },
  {
   "cell_type": "code",
   "execution_count": 33,
   "metadata": {},
   "outputs": [
    {
     "data": {
      "text/html": [
       "<div>\n",
       "<style scoped>\n",
       "    .dataframe tbody tr th:only-of-type {\n",
       "        vertical-align: middle;\n",
       "    }\n",
       "\n",
       "    .dataframe tbody tr th {\n",
       "        vertical-align: top;\n",
       "    }\n",
       "\n",
       "    .dataframe thead th {\n",
       "        text-align: right;\n",
       "    }\n",
       "</style>\n",
       "<table border=\"1\" class=\"dataframe\">\n",
       "  <thead>\n",
       "    <tr style=\"text-align: right;\">\n",
       "      <th></th>\n",
       "      <th>name</th>\n",
       "      <th>address</th>\n",
       "      <th>latitude</th>\n",
       "      <th>longitude</th>\n",
       "      <th>stars</th>\n",
       "      <th>price</th>\n",
       "      <th>attraction_type</th>\n",
       "      <th>perks</th>\n",
       "    </tr>\n",
       "  </thead>\n",
       "  <tbody>\n",
       "    <tr>\n",
       "      <th>0</th>\n",
       "      <td>Philadelphia</td>\n",
       "      <td>Unknown address</td>\n",
       "      <td>39.952584</td>\n",
       "      <td>-75.165222</td>\n",
       "      <td>4.0</td>\n",
       "      <td>Unknown price</td>\n",
       "      <td>Local Flavor</td>\n",
       "      <td>Not Applicable</td>\n",
       "    </tr>\n",
       "    <tr>\n",
       "      <th>1</th>\n",
       "      <td>Penn's Landing</td>\n",
       "      <td>601 N Christopher Columbus Blvd</td>\n",
       "      <td>39.960024</td>\n",
       "      <td>-75.137156</td>\n",
       "      <td>3.5</td>\n",
       "      <td>$</td>\n",
       "      <td>Parks</td>\n",
       "      <td>Nightlife</td>\n",
       "    </tr>\n",
       "    <tr>\n",
       "      <th>2</th>\n",
       "      <td>David Thomas Trailways</td>\n",
       "      <td>14005 McNulty Rd</td>\n",
       "      <td>40.106409</td>\n",
       "      <td>-74.973937</td>\n",
       "      <td>4.5</td>\n",
       "      <td>Unknown price</td>\n",
       "      <td>Transportation</td>\n",
       "      <td>Bus Tours</td>\n",
       "    </tr>\n",
       "    <tr>\n",
       "      <th>3</th>\n",
       "      <td>Philadelphia International Festival of the Art...</td>\n",
       "      <td>300 S Broad St Philadelphia</td>\n",
       "      <td>39.946622</td>\n",
       "      <td>-75.164951</td>\n",
       "      <td>4.0</td>\n",
       "      <td>Unknown price</td>\n",
       "      <td>Festivals</td>\n",
       "      <td>Performing Arts</td>\n",
       "    </tr>\n",
       "    <tr>\n",
       "      <th>4</th>\n",
       "      <td>Sonny's Famous Steaks</td>\n",
       "      <td>228 Market St</td>\n",
       "      <td>39.949918</td>\n",
       "      <td>-75.144792</td>\n",
       "      <td>4.0</td>\n",
       "      <td>$$</td>\n",
       "      <td>Local Flavor</td>\n",
       "      <td>Cheesesteaks</td>\n",
       "    </tr>\n",
       "  </tbody>\n",
       "</table>\n",
       "</div>"
      ],
      "text/plain": [
       "                                                name  \\\n",
       "0                                       Philadelphia   \n",
       "1                                     Penn's Landing   \n",
       "2                             David Thomas Trailways   \n",
       "3  Philadelphia International Festival of the Art...   \n",
       "4                              Sonny's Famous Steaks   \n",
       "\n",
       "                           address   latitude  longitude  stars  \\\n",
       "0                  Unknown address  39.952584 -75.165222    4.0   \n",
       "1  601 N Christopher Columbus Blvd  39.960024 -75.137156    3.5   \n",
       "2                 14005 McNulty Rd  40.106409 -74.973937    4.5   \n",
       "3      300 S Broad St Philadelphia  39.946622 -75.164951    4.0   \n",
       "4                    228 Market St  39.949918 -75.144792    4.0   \n",
       "\n",
       "           price attraction_type            perks  \n",
       "0  Unknown price    Local Flavor   Not Applicable  \n",
       "1              $           Parks        Nightlife  \n",
       "2  Unknown price  Transportation        Bus Tours  \n",
       "3  Unknown price       Festivals  Performing Arts  \n",
       "4             $$    Local Flavor     Cheesesteaks  "
      ]
     },
     "execution_count": 33,
     "metadata": {},
     "output_type": "execute_result"
    }
   ],
   "source": [
    "df = df.loc[:, ['name', 'address', 'latitude','longitude','stars', 'price','attraction_type','perks']]\n",
    "df.head()"
   ]
  },
  {
   "cell_type": "code",
   "execution_count": 34,
   "metadata": {},
   "outputs": [],
   "source": [
    "df.to_csv('Datasets/Attractions_task1.csv', index=False)"
   ]
  },
  {
   "cell_type": "code",
   "execution_count": null,
   "metadata": {},
   "outputs": [],
   "source": []
  },
  {
   "cell_type": "markdown",
   "metadata": {},
   "source": [
    "Create background information prompt"
   ]
  },
  {
   "cell_type": "code",
   "execution_count": 36,
   "metadata": {},
   "outputs": [],
   "source": [
    "import csv\n",
    "with open('Datasets/Hotels_task1.csv', 'r') as f:\n",
    "    reader = csv.reader(f)\n",
    "    text = ''\n",
    "    for row in reader:\n",
    "        #put each row into a string\n",
    "        text += ','.join(row)+ '\\n'\n",
    "with open(\"Datasets/hotel_prompt_task1.txt\", \"w\") as f:\n",
    "    f.write(text)\n",
    "\n",
    "\n",
    "#1926 tokens for 100 hotel: 20 token/hotel"
   ]
  },
  {
   "cell_type": "code",
   "execution_count": 37,
   "metadata": {},
   "outputs": [],
   "source": [
    "with open('Datasets/Restaurants_task1.csv', 'r') as f:\n",
    "    reader = csv.reader(f)\n",
    "    text = ''\n",
    "    for row in reader:\n",
    "        #put each row into a string\n",
    "        text += ','.join(row)+ '\\n'\n",
    "with open(\"Datasets/restaurants_prompt_task1.txt\", \"w\") as f:\n",
    "    f.write(text)\n",
    "#\n",
    "\n",
    "#36074 for 1000 restaurants: 36 token/restaurant"
   ]
  },
  {
   "cell_type": "code",
   "execution_count": 38,
   "metadata": {},
   "outputs": [],
   "source": [
    "with open('Datasets/Attractions_task1.csv', 'r') as f:\n",
    "    reader = csv.reader(f)\n",
    "    text = ''\n",
    "    for row in reader:\n",
    "        #put each row into a string\n",
    "        text += ','.join(row)+ '\\n'\n",
    "with open(\"Datasets/attractions_prompt_task1.txt\", \"w\") as f:\n",
    "    f.write(text)\n",
    "\n",
    "\n",
    "#11904 tokens for 347 attractions: 34 token/attraction"
   ]
  },
  {
   "cell_type": "markdown",
   "metadata": {},
   "source": [
    "All of them in one prompt"
   ]
  },
  {
   "cell_type": "code",
   "execution_count": 39,
   "metadata": {},
   "outputs": [],
   "source": [
    "with open('Datasets/hotel_prompt_task1.txt', 'r') as f:\n",
    "    hotel_text = f.read().replace('\\n', '. ')\n",
    "\n",
    "with open('Datasets/attractions_prompt_task1.txt', 'r') as f:\n",
    "    attraction_text = f.read().replace('\\n', '. ')\n",
    "\n",
    "with open('Datasets/restaurants_prompt_task1.txt', 'r') as f:\n",
    "    restaurant_text = f.read().replace('\\n', '. ')\n",
    "\n",
    "data = [\n",
    "    {\n",
    "        \"Description\": \"Accommodations in Philadelphia\",\n",
    "        \"Content\": hotel_text\n",
    "    },\n",
    "    {\n",
    "        \"Description\": \"Attractions in Philadelphia\",\n",
    "        \"Content\": attraction_text\n",
    "    },{\n",
    "        \"Description\": \"Restaurants in Philadelphia\",\n",
    "        \"Content\": restaurant_text\n",
    "    }\n",
    "]\n",
    "\n",
    "\n",
    "# Write the JSON file\n",
    "with open('Datasets/all_prompts_task1.json', 'w') as f:\n",
    "    json.dump(data, f, indent=4)"
   ]
  },
  {
   "cell_type": "markdown",
   "metadata": {},
   "source": [
    "Try adding a code for each business"
   ]
  },
  {
   "cell_type": "code",
   "execution_count": null,
   "metadata": {},
   "outputs": [],
   "source": [
    "import pandas as pd\n",
    "\n",
    "hotels = pd.read_csv('Datasets/Hotels.csv')\n",
    "restaurants = pd.read_csv('Datasets/Restaurants.csv')\n",
    "attractions = pd.read_csv('Datasets/Attractions.csv')\n",
    "\n",
    "#add a column in the front of the dataframe called code and fill it with natural numbers for each df\n",
    "hotels.insert(0, 'code', range(1, len(hotels) + 1))\n",
    "restaurants.insert(0, 'code', range(1, len(restaurants) + 1))\n",
    "attractions.insert(0, 'code', range(1, len(attractions) + 1))\n",
    "\n",
    "hotels.to_csv('Datasets/Hotels_indexed.csv', index=False)\n",
    "restaurants.to_csv('Datasets/Restarunts_indexed.csv', index=False)\n",
    "attractions.to_csv('Datasets/Attractions_indexed.csv', index=False)"
   ]
  },
  {
   "cell_type": "code",
   "execution_count": 7,
   "metadata": {},
   "outputs": [],
   "source": [
    "import csv\n",
    "\n",
    "with open('Datasets/Hotels_indexed.csv', 'r') as f:\n",
    "    reader = csv.reader(f)\n",
    "    text = ''\n",
    "    for row in reader:\n",
    "        #put each row into a string\n",
    "        text += ','.join(row)+ '\\n'\n",
    "with open(\"Datasets/hotel_indexed_prompt.txt\", \"w\") as f:\n",
    "    f.write(text)\n",
    "\n",
    "\n",
    "#1926 tokens for 100 hotel: 20 token/hotel"
   ]
  },
  {
   "cell_type": "code",
   "execution_count": 8,
   "metadata": {},
   "outputs": [],
   "source": [
    "with open('Datasets/Restarunts_indexed.csv', 'r') as f:\n",
    "    reader = csv.reader(f)\n",
    "    text = ''\n",
    "    for row in reader:\n",
    "        #put each row into a string\n",
    "        text += ','.join(row)+ '\\n'\n",
    "with open(\"Datasets/restaurants_indexed_prompt.txt\", \"w\") as f:\n",
    "    f.write(text)\n",
    "#\n",
    "\n",
    "#36074 for 1000 restaurants: 36 token/restaurant"
   ]
  },
  {
   "cell_type": "code",
   "execution_count": 9,
   "metadata": {},
   "outputs": [],
   "source": [
    "with open('Datasets/Attractions_indexed.csv', 'r') as f:\n",
    "    reader = csv.reader(f)\n",
    "    text = ''\n",
    "    for row in reader:\n",
    "        #put each row into a string\n",
    "        text += ','.join(row)+ '\\n'\n",
    "with open(\"Datasets/attractions_indexed_prompt.txt\", \"w\") as f:\n",
    "    f.write(text)\n",
    "\n",
    "\n",
    "#11904 tokens for 347 attractions: 34 token/attraction"
   ]
  },
  {
   "cell_type": "code",
   "execution_count": 11,
   "metadata": {},
   "outputs": [],
   "source": [
    "import json\n",
    "with open('Datasets/hotel_indexed_prompt.txt', 'r') as f:\n",
    "    hotel_text = f.read().replace('\\n', '. ')\n",
    "\n",
    "with open('Datasets/attractions_indexed_prompt.txt', 'r') as f:\n",
    "    attraction_text = f.read().replace('\\n', '. ')\n",
    "\n",
    "with open('Datasets/restaurants_indexed_prompt.txt', 'r') as f:\n",
    "    restaurant_text = f.read().replace('\\n', '. ')\n",
    "\n",
    "data = [\n",
    "    {\n",
    "        \"Description\": \"Accommodations in Philadelphia\",\n",
    "        \"Content\": hotel_text\n",
    "    },\n",
    "    {\n",
    "        \"Description\": \"Attractions in Philadelphia\",\n",
    "        \"Content\": attraction_text\n",
    "    },{\n",
    "        \"Description\": \"Restaurants in Philadelphia\",\n",
    "        \"Content\": restaurant_text\n",
    "    }\n",
    "]\n",
    "\n",
    "\n",
    "# Write the JSON file\n",
    "with open('Datasets/all_indexed_prompts.json', 'w') as f:\n",
    "    json.dump(data, f, indent=4)"
   ]
  },
  {
   "cell_type": "markdown",
   "metadata": {},
   "source": [
    "take 50 from each and make a small reference for test, i really need a helper function"
   ]
  },
  {
   "cell_type": "code",
   "execution_count": 30,
   "metadata": {},
   "outputs": [],
   "source": [
    "#attrtactions\n",
    "with open('Datasets/Attractions.csv', 'r') as f:\n",
    "    reader = csv.reader(f)\n",
    "    rows = list(reader)\n",
    "    header = rows[0]  # extract the header row\n",
    "    data_rows = rows[1:]  # extract the data rows\n",
    "    random_rows = random.sample(data_rows, 50)\n",
    "    attractions = '' + str(header).replace('[','').replace(']','') + '\\n'\n",
    "    for row in random_rows:\n",
    "        attractions += ','.join(row) + '\\n'\n",
    "    attractions = attractions.replace('\\n', '. ')\n",
    "\n",
    "#restaurants\n",
    "with open('Datasets/Restaurants.csv', 'r') as f:\n",
    "    reader = csv.reader(f)\n",
    "    rows = list(reader)\n",
    "    header = rows[0]  # extract the header row\n",
    "    data_rows = rows[1:]  # extract the data rows\n",
    "    random_rows = random.sample(data_rows, 50)\n",
    "    restaurants = '' + str(header).replace('[','').replace(']','') + '\\n'\n",
    "    for row in random_rows:\n",
    "        restaurants += ','.join(row) + '\\n'\n",
    "    restaurants = restaurants.replace('\\n', '. ')\n",
    "\n",
    "#hotels \n",
    "with open('Datasets/Hotels.csv', 'r') as f:\n",
    "    reader = csv.reader(f)\n",
    "    rows = list(reader)\n",
    "    header = rows[0]  # extract the header row\n",
    "    data_rows = rows[1:]  # extract the data rows\n",
    "    random_rows = random.sample(data_rows, 50)\n",
    "    hotels = '' + str(header).replace('[','').replace(']','') + '\\n'\n",
    "    for row in random_rows:\n",
    "        hotels += ','.join(row) + '\\n'\n",
    "    hotels = hotels.replace('\\n', '. ')\n",
    "\n",
    "data = [\n",
    "    {\n",
    "        \"Description\": \"Accommodations in Philadelphia\",\n",
    "        \"Content\": hotels\n",
    "    },\n",
    "    {\n",
    "        \"Description\": \"Attractions in Philadelphia\",\n",
    "        \"Content\": attractions\n",
    "    },\n",
    "    {\n",
    "        \"Description\": \"Restaurants in Philadelphia\",\n",
    "        \"Content\": restaurants\n",
    "    }\n",
    "]\n",
    "\n",
    "\n",
    "# Write the JSON file\n",
    "with open('Datasets/all_prompts_random50.json', 'w') as f:\n",
    "    json.dump(data, f, indent=4)"
   ]
  },
  {
   "cell_type": "markdown",
   "metadata": {},
   "source": [
    "Make task 1 dataset:"
   ]
  },
  {
   "cell_type": "code",
   "execution_count": 1,
   "metadata": {},
   "outputs": [],
   "source": [
    "import json"
   ]
  },
  {
   "cell_type": "code",
   "execution_count": 3,
   "metadata": {},
   "outputs": [],
   "source": [
    "attractions_primary = []\n",
    "\n",
    "# Open the file and read it line by line\n",
    "with open('Datasets/Attractions_pruned.jsonl', 'r') as file:\n",
    "    for line in file:\n",
    "        # Parse each line as a JSON object and append to the list\n",
    "        json_obj = json.loads(line.strip())  # strip() removes any leading/trailing whitespace\n",
    "        attractions_primary.append(json_obj)"
   ]
  },
  {
   "cell_type": "code",
   "execution_count": 5,
   "metadata": {},
   "outputs": [],
   "source": [
    "attractions_basic = []\n",
    "\n",
    "for attraction in attractions_primary:\n",
    "    attraction_basic = {key: attraction[key] for key in ['business_id', 'name','address','stars','price']}\n",
    "    attractions_basic.append(attraction_basic)"
   ]
  },
  {
   "cell_type": "code",
   "execution_count": 14,
   "metadata": {},
   "outputs": [],
   "source": [
    "attractions_openup = []\n",
    "\n",
    "# Open the file and read it line by line\n",
    "with open('Datasets/Attractions_open_cat.jsonl', 'r') as file:\n",
    "    for line in file:\n",
    "        # Parse each line as a JSON object and append to the list\n",
    "        json_obj = json.loads(line.strip())  # strip() removes any leading/trailing whitespace\n",
    "        attractions_openup.append(json_obj)"
   ]
  },
  {
   "cell_type": "code",
   "execution_count": 15,
   "metadata": {},
   "outputs": [],
   "source": [
    "attractions_task1 = []\n",
    "for i,j in zip(attractions_basic,attractions_openup):\n",
    "    #this means we can just append them together\n",
    "    assert(i['business_id'] == j['business_id'])\n",
    "    \n",
    "    merged = {'business_id': i['business_id'], 'name': i['name'], 'address': i['address'], 'stars': i['stars'], 'price': i['price'], 'attraction_type': j['attraction_type'], 'perks': j['perks']}\n",
    "    attractions_task1.append(merged)"
   ]
  },
  {
   "cell_type": "code",
   "execution_count": 16,
   "metadata": {},
   "outputs": [],
   "source": [
    "# write attractions_task1 into jsonl\n",
    "with open('Datasets/Attractions_task1.jsonl', 'w') as json_file:    \n",
    "    for item in attractions_task1:\n",
    "        json.dump(item, json_file)\n",
    "        json_file.write('\\n')\n",
    "# we still missing location cluster"
   ]
  },
  {
   "cell_type": "code",
   "execution_count": 2,
   "metadata": {},
   "outputs": [],
   "source": [
    "attractions_task1 = []\n",
    "# Open the file and read it line by line\n",
    "with open('Datasets/Attractions_task1.jsonl', 'r') as file:\n",
    "    for line in file:\n",
    "        # Parse each line as a JSON object and append to the list\n",
    "        json_obj = json.loads(line.strip())  # strip() removes any leading/trailing whitespace\n",
    "        attractions_task1.append(json_obj)"
   ]
  },
  {
   "cell_type": "code",
   "execution_count": 5,
   "metadata": {},
   "outputs": [],
   "source": [
    "attractions_allattr = []\n",
    "# Open the file and read it line by line\n",
    "with open('Datasets/Attractions.jsonl', 'r') as file:\n",
    "    for line in file:\n",
    "        # Parse each line as a JSON object and append to the list\n",
    "        json_obj = json.loads(line.strip())  # strip() removes any leading/trailing whitespace\n",
    "        attractions_allattr.append(json_obj)"
   ]
  },
  {
   "cell_type": "code",
   "execution_count": 8,
   "metadata": {},
   "outputs": [],
   "source": [
    "attractions_task1_finished = []\n",
    "for i in attractions_task1:\n",
    "    for j in attractions_allattr:\n",
    "        if(i['business_id'] == j['business_id']):\n",
    "            merged = {'business_id': i['business_id'], 'name': i['name'], 'address': i['address'], 'latitude': j['latitude'], 'longitude': j['longitude'],'stars': i['stars'], 'price': i['price'], 'attraction_type': i['attraction_type'], 'perks': i['perks']}\n",
    "            attractions_task1_finished.append(merged)\n",
    "\n",
    "with open('Datasets/Attractions_task1.jsonl', 'w') as json_file:\n",
    "    for item in attractions_task1_finished:\n",
    "        json.dump(item, json_file)\n",
    "        json_file.write('\\n')"
   ]
  },
  {
   "cell_type": "code",
   "execution_count": null,
   "metadata": {},
   "outputs": [],
   "source": []
  },
  {
   "cell_type": "code",
   "execution_count": null,
   "metadata": {},
   "outputs": [],
   "source": []
  },
  {
   "cell_type": "code",
   "execution_count": null,
   "metadata": {},
   "outputs": [],
   "source": []
  },
  {
   "cell_type": "code",
   "execution_count": 2,
   "metadata": {},
   "outputs": [],
   "source": [
    "hotels_primary = []\n",
    "\n",
    "# Open the file and read it line by line\n",
    "with open('Datasets/Hotels_pruned.jsonl', 'r') as file:\n",
    "    for line in file:\n",
    "        # Parse each line as a JSON object and append to the list\n",
    "        json_obj = json.loads(line.strip())  # strip() removes any leading/trailing whitespace\n",
    "        hotels_primary.append(json_obj)"
   ]
  },
  {
   "cell_type": "code",
   "execution_count": 6,
   "metadata": {},
   "outputs": [],
   "source": [
    "hotels_basic = []\n",
    "\n",
    "for hotel in hotels_primary:\n",
    "    hotel_basic = {key: hotel[key] for key in ['business_id', 'name','address','stars','price']}\n",
    "    hotels_basic.append(hotel_basic)"
   ]
  },
  {
   "cell_type": "code",
   "execution_count": 8,
   "metadata": {},
   "outputs": [],
   "source": [
    "# write attractions_task1 into jsonl\n",
    "with open('Datasets/Hotels_task1.jsonl', 'w') as json_file:    \n",
    "    for item in hotels_basic:\n",
    "        json.dump(item, json_file)\n",
    "        json_file.write('\\n')\n",
    "# we still missing location cluster"
   ]
  },
  {
   "cell_type": "code",
   "execution_count": 9,
   "metadata": {},
   "outputs": [],
   "source": [
    "hotels_task1 = []\n",
    "# Open the file and read it line by line\n",
    "with open('Datasets/Hotels_task1.jsonl', 'r') as file:\n",
    "    for line in file:\n",
    "        # Parse each line as a JSON object and append to the list\n",
    "        json_obj = json.loads(line.strip())  # strip() removes any leading/trailing whitespace\n",
    "        hotels_task1.append(json_obj)"
   ]
  },
  {
   "cell_type": "code",
   "execution_count": 10,
   "metadata": {},
   "outputs": [],
   "source": [
    "hotels_allattr = []\n",
    "# Open the file and read it line by line\n",
    "with open('Datasets/Hotels.jsonl', 'r') as file:\n",
    "    for line in file:\n",
    "        # Parse each line as a JSON object and append to the list\n",
    "        json_obj = json.loads(line.strip())  # strip() removes any leading/trailing whitespace\n",
    "        hotels_allattr.append(json_obj)"
   ]
  },
  {
   "cell_type": "code",
   "execution_count": 11,
   "metadata": {},
   "outputs": [
    {
     "data": {
      "text/plain": [
       "{'business_id': '-D_3emciINpjvYXsHCf8OA',\n",
       " 'name': 'AKA Rittenhouse Square',\n",
       " 'address': '135 S 18th St',\n",
       " 'stars': 4.5,\n",
       " 'price': '$$$'}"
      ]
     },
     "execution_count": 11,
     "metadata": {},
     "output_type": "execute_result"
    }
   ],
   "source": [
    "hotels_task1[0]"
   ]
  },
  {
   "cell_type": "code",
   "execution_count": 12,
   "metadata": {},
   "outputs": [],
   "source": [
    "hotels_task1_finished = []\n",
    "for i in hotels_task1:\n",
    "    for j in hotels_allattr:\n",
    "        if(i['business_id'] == j['business_id']):\n",
    "            merged = {'business_id': i['business_id'], 'name': i['name'], 'address': i['address'], 'latitude': j['latitude'], 'longitude': j['longitude'],'stars': i['stars'], 'price': i['price']}\n",
    "            hotels_task1_finished.append(merged)\n",
    "\n",
    "with open('Datasets/Hotels_task1.jsonl', 'w') as json_file:\n",
    "    for item in hotels_task1_finished:\n",
    "        json.dump(item, json_file)\n",
    "        json_file.write('\\n')"
   ]
  },
  {
   "cell_type": "code",
   "execution_count": null,
   "metadata": {},
   "outputs": [],
   "source": []
  },
  {
   "cell_type": "code",
   "execution_count": 22,
   "metadata": {},
   "outputs": [],
   "source": [
    "restaurants_primary = []\n",
    "\n",
    "# Open the file and read it line by line\n",
    "with open('Datasets/Restaurants_pruned.jsonl', 'r') as file:\n",
    "    for line in file:\n",
    "        # Parse each line as a JSON object and append to the list\n",
    "        json_obj = json.loads(line.strip())  # strip() removes any leading/trailing whitespace\n",
    "        restaurants_primary.append(json_obj)"
   ]
  },
  {
   "cell_type": "code",
   "execution_count": 24,
   "metadata": {},
   "outputs": [],
   "source": [
    "restaurants_basic = []\n",
    "\n",
    "for restaurant in restaurants_primary:\n",
    "    restaurant_basic = {key: restaurant[key] for key in ['business_id', 'name','address','stars','good_for_meal','price']}\n",
    "    restaurants_basic.append(restaurant_basic)"
   ]
  },
  {
   "cell_type": "code",
   "execution_count": 27,
   "metadata": {},
   "outputs": [],
   "source": [
    "restaurants_openup = []\n",
    "\n",
    "# Open the file and read it line by line\n",
    "with open('Datasets/Restaurants_open_cat.jsonl', 'r') as file:\n",
    "    for line in file:\n",
    "        # Parse each line as a JSON object and append to the list\n",
    "        json_obj = json.loads(line.strip())  # strip() removes any leading/trailing whitespace\n",
    "        restaurants_openup.append(json_obj)"
   ]
  },
  {
   "cell_type": "code",
   "execution_count": 29,
   "metadata": {},
   "outputs": [],
   "source": [
    "restaurants_task1 = []\n",
    "for i,j in zip(restaurants_basic,restaurants_openup):\n",
    "    #this means we can just append them together\n",
    "    assert(i['business_id'] == j['business_id'])\n",
    "    \n",
    "    merged = {'business_id': i['business_id'], 'name': i['name'], 'address': i['address'], 'stars': i['stars'], 'good_for_meal': i['good_for_meal'], 'price': i['price'], 'restaurant_type_1': j['restaurant_type_1'], 'restaurant_type_2': j['restaurant_type_2'], 'cuisine_1': j['cuisine_1'], 'cuisine_2': j['cuisine_2'], 'perks': j['perks']}\n",
    "    restaurants_task1.append(merged)"
   ]
  },
  {
   "cell_type": "code",
   "execution_count": 30,
   "metadata": {},
   "outputs": [],
   "source": [
    "# write attractions_task1 into jsonl\n",
    "with open('Datasets/Restaurants_task1.jsonl', 'w') as json_file:    \n",
    "    for item in restaurants_task1:\n",
    "        json.dump(item, json_file)\n",
    "        json_file.write('\\n')\n",
    "# we still missing location cluster"
   ]
  },
  {
   "cell_type": "code",
   "execution_count": 13,
   "metadata": {},
   "outputs": [],
   "source": [
    "restaurants_task1 = []\n",
    "# Open the file and read it line by line\n",
    "with open('Datasets/Restaurants_task1.jsonl', 'r') as file:\n",
    "    for line in file:\n",
    "        # Parse each line as a JSON object and append to the list\n",
    "        json_obj = json.loads(line.strip())  # strip() removes any leading/trailing whitespace\n",
    "        restaurants_task1.append(json_obj)"
   ]
  },
  {
   "cell_type": "code",
   "execution_count": 14,
   "metadata": {},
   "outputs": [],
   "source": [
    "restaurants_allattr = []\n",
    "# Open the file and read it line by line\n",
    "with open('Datasets/Restaurants.jsonl', 'r') as file:\n",
    "    for line in file:\n",
    "        # Parse each line as a JSON object and append to the list\n",
    "        json_obj = json.loads(line.strip())  # strip() removes any leading/trailing whitespace\n",
    "        restaurants_allattr.append(json_obj)"
   ]
  },
  {
   "cell_type": "code",
   "execution_count": 15,
   "metadata": {},
   "outputs": [
    {
     "data": {
      "text/plain": [
       "{'business_id': '-0TffRSXXIlBYVbb5AwfTg',\n",
       " 'name': 'IndeBlue Modern Indian Food & Spirits',\n",
       " 'address': '205 South 13th St',\n",
       " 'stars': 4.5,\n",
       " 'good_for_meal': 'dinner',\n",
       " 'price': '$$',\n",
       " 'restaurant_type_1': 'Restaurants',\n",
       " 'restaurant_type_2': 'Bars',\n",
       " 'cuisine_1': 'Indian',\n",
       " 'cuisine_2': 'Not Applicable',\n",
       " 'perks': 'Not Applicable'}"
      ]
     },
     "execution_count": 15,
     "metadata": {},
     "output_type": "execute_result"
    }
   ],
   "source": [
    "restaurants_task1[0]"
   ]
  },
  {
   "cell_type": "code",
   "execution_count": 16,
   "metadata": {},
   "outputs": [],
   "source": [
    "restaurants_task1_finished = []\n",
    "for i in restaurants_task1:\n",
    "    for j in restaurants_allattr:\n",
    "        if(i['business_id'] == j['business_id']):\n",
    "            merged = {'business_id': i['business_id'], 'name': i['name'], 'address': i['address'], 'latitude': j['latitude'], 'longitude': j['longitude'],'stars': i['stars'], 'good_for_meal': i['good_for_meal'], 'price': i['price'], 'restaurant_type_1': i['restaurant_type_1'], 'restaurant_type_2': i['restaurant_type_2'], 'cuisine_1': i['cuisine_1'], 'cuisine_2': i['cuisine_2'], 'perks': i['perks']}\n",
    "            restaurants_task1_finished.append(merged)\n",
    "\n"
   ]
  },
  {
   "cell_type": "code",
   "execution_count": 17,
   "metadata": {},
   "outputs": [
    {
     "data": {
      "text/plain": [
       "{'business_id': '-0TffRSXXIlBYVbb5AwfTg',\n",
       " 'name': 'IndeBlue Modern Indian Food & Spirits',\n",
       " 'address': '205 South 13th St',\n",
       " 'latitude': 39.9485078263,\n",
       " 'longitude': -75.1619688173,\n",
       " 'stars': 4.5,\n",
       " 'good_for_meal': 'dinner',\n",
       " 'price': '$$',\n",
       " 'restaurant_type_1': 'Restaurants',\n",
       " 'restaurant_type_2': 'Bars',\n",
       " 'cuisine_1': 'Indian',\n",
       " 'cuisine_2': 'Not Applicable',\n",
       " 'perks': 'Not Applicable'}"
      ]
     },
     "execution_count": 17,
     "metadata": {},
     "output_type": "execute_result"
    }
   ],
   "source": [
    "restaurants_task1_finished[0]"
   ]
  },
  {
   "cell_type": "code",
   "execution_count": 18,
   "metadata": {},
   "outputs": [],
   "source": [
    "with open('Datasets/Restaurants_task1.jsonl', 'w') as json_file:\n",
    "    for item in restaurants_task1_finished:\n",
    "        json.dump(item, json_file)\n",
    "        json_file.write('\\n')"
   ]
  },
  {
   "cell_type": "code",
   "execution_count": null,
   "metadata": {},
   "outputs": [],
   "source": []
  }
 ],
 "metadata": {
  "kernelspec": {
   "display_name": "pytorch",
   "language": "python",
   "name": "pytorch"
  },
  "language_info": {
   "codemirror_mode": {
    "name": "ipython",
    "version": 3
   },
   "file_extension": ".py",
   "mimetype": "text/x-python",
   "name": "python",
   "nbconvert_exporter": "python",
   "pygments_lexer": "ipython3",
   "version": "3.12.2"
  }
 },
 "nbformat": 4,
 "nbformat_minor": 2
}
