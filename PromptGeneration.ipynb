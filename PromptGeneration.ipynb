{
 "cells": [
  {
   "cell_type": "code",
   "execution_count": null,
   "metadata": {},
   "outputs": [],
   "source": [
    "preference_list = {\n",
    "    \"general\":[\"price\",\"must_see\",'stars'], \n",
    "    \"attraction\":['attraction_type','perks','family_oriented','history_oriented','activity_oriented','nature_oriented','food_oriented'],\n",
    "    \"restaurant\":['restaurant_type','cuisine','perks','flavor','freshness','healthy','service','enviornment','value'],\n",
    "    \"hotel\":[\"quality\",\"location\",\"service\",\"safety\"]\n",
    "    }"
   ]
  }
 ],
 "metadata": {
  "kernelspec": {
   "display_name": "torchgpu",
   "language": "python",
   "name": "python3"
  },
  "language_info": {
   "name": "python",
   "version": "3.11.0"
  }
 },
 "nbformat": 4,
 "nbformat_minor": 2
}
