{
 "cells": [
  {
   "cell_type": "code",
   "execution_count": 19,
   "metadata": {},
   "outputs": [],
   "source": [
    "import json\n",
    "import random"
   ]
  },
  {
   "cell_type": "code",
   "execution_count": 18,
   "metadata": {},
   "outputs": [
    {
     "name": "stdout",
     "output_type": "stream",
     "text": [
      "{\"general\": {\"price\": [\"cheap\", \"moderate\", \"expensive\"], \"must_see\": [], \"constraints\": []}, \"attraction\": {\"n\": [\"family_oriented\", \"history_oriented\", \"activity_oriented\", \"nature_oriented\", \"food_oriented\"]}, \"restaurant\": {\"cuisine\": [\"US\", \"Mexican\", \"Irish\", \"French\", \"Italian\", \"Greek\", \"Indian\", \"Chinese\", \"Japanese\", \"Korean\", \"Vietnamese\", \"Thai\", \"Asian Fusion\", \"Middle Eastern\"], \"n\": [\"flavor\", \"freshness\", \"healthy\", \"service\", \"enviornment\", \"value\"]}, \"hotel\": {\"n\": [\"quality\", \"location\", \"service\", \"safety\"]}}\n"
     ]
    }
   ],
   "source": [
    "preference_list = {\n",
    "    \"general\":{\"price\":[\"cheap\",\"moderate\",\"expensive\"],\"must_see\":[],'constraints':[]}, \n",
    "    \"attraction\": {\"n\" : ['family_oriented','history_oriented','activity_oriented','nature_oriented','food_oriented']},\n",
    "    \"restaurant\": {\"cuisine\":['US','Mexican','Irish','French','Italian','Greek','Indian','Chinese','Japanese','Korean','Vietnamese','Thai','Asian Fusion','Middle Eastern'],\n",
    "    \"n\" : ['flavor','freshness','healthy','service','enviornment','value']},\n",
    "    \"hotel\":{\"n\":[\"quality\",\"location\",\"service\",\"safety\"]}\n",
    "    }\n",
    "preference_json = json.dumps(preference_list)\n",
    "print(preference_json)"
   ]
  },
  {
   "cell_type": "code",
   "execution_count": null,
   "metadata": {},
   "outputs": [],
   "source": [
    "#make a must see list\n",
    "#make a constraints list"
   ]
  },
  {
   "cell_type": "code",
   "execution_count": null,
   "metadata": {},
   "outputs": [],
   "source": [
    "#flip coins\n",
    "price_list = [\"cheap\",\"moderate\",\"expensive\"]\n",
    "price  = random.choice(price_list)\n",
    "\n",
    "must_see_list = []\n",
    "must_see = random.choice(must_see_list)\n",
    "\n",
    "constraints_list = []\n",
    "constraints = random.choice(constraints_list)"
   ]
  },
  {
   "cell_type": "code",
   "execution_count": null,
   "metadata": {},
   "outputs": [
    {
     "data": {
      "text/plain": [
       "'family_oriented'"
      ]
     },
     "execution_count": 58,
     "metadata": {},
     "output_type": "execute_result"
    }
   ],
   "source": [
    "attraction_orientation_list = [\"family_oriented\",\"history_oriented\",\"activity_oriented\",\"nature_oriented\",\"food_oriented\"]\n",
    "attraction_orientation = random.choice(attraction_orientation_list)\n",
    "attraction_orientation"
   ]
  },
  {
   "cell_type": "code",
   "execution_count": 235,
   "metadata": {},
   "outputs": [
    {
     "data": {
      "text/plain": [
       "['good freshness', 'good value', 'good service']"
      ]
     },
     "execution_count": 235,
     "metadata": {},
     "output_type": "execute_result"
    }
   ],
   "source": [
    "cuisine_list = [\"US\",\"Mexican\",\"Irish\",\"French\",\"Italian\",\"Greek\",\"Indian\",\"Chinese\",\"Japanese\",\"Korean\",\"Vietnamese\",\"Thai\",\"Asian Fusion\",\"Middle Eastern\"]\n",
    "cuisine = random.choice(cuisine_list)\n",
    "\n",
    "#get a random number from 0 to 6\n",
    "coins = int(random.randint(0,6) /2)\n",
    "\n",
    "n_list = [\"good flavor\",\"good freshness\",\"healthy\",\"good service\",\"good enviornment\",\"good value\"]\n",
    "#sample coins number out of n_list\n",
    "restaurant_n = random.sample(n_list, coins)\n",
    "restaurant_n"
   ]
  },
  {
   "cell_type": "code",
   "execution_count": 238,
   "metadata": {},
   "outputs": [
    {
     "name": "stdout",
     "output_type": "stream",
     "text": [
      "['quality']\n"
     ]
    }
   ],
   "source": [
    "#create a random number from 1 to 4, but lean towards 1 and 2\n",
    "weights = [0.6, 0.3, 0.05, 0.05]  # weights for 1, 2, 3, and 4 respectively\n",
    "samples = [1, 2, 3, 4]\n",
    "coins = random.choices(samples, weights=weights)[0]\n",
    "\n",
    "n_list = [\"quality\",\"location\",\"service\",\"safety\"]\n",
    "#sample coins number out of n_list\n",
    "hotel_n = random.sample(n_list, coins)\n",
    "print(hotel_n)"
   ]
  },
  {
   "cell_type": "code",
   "execution_count": 239,
   "metadata": {},
   "outputs": [
    {
     "ename": "TypeError",
     "evalue": "can only concatenate str (not \"list\") to str",
     "output_type": "error",
     "traceback": [
      "\u001b[1;31m---------------------------------------------------------------------------\u001b[0m",
      "\u001b[1;31mTypeError\u001b[0m                                 Traceback (most recent call last)",
      "Cell \u001b[1;32mIn[239], line 5\u001b[0m\n\u001b[0;32m      1\u001b[0m \u001b[38;5;66;03m#create prompt attribute dictionary\u001b[39;00m\n\u001b[0;32m      2\u001b[0m prompt \u001b[38;5;241m=\u001b[39m {\n\u001b[0;32m      3\u001b[0m     \u001b[38;5;124m\"\u001b[39m\u001b[38;5;124mgeneral\u001b[39m\u001b[38;5;124m\"\u001b[39m:\u001b[38;5;124m\"\u001b[39m\u001b[38;5;124m\"\u001b[39m,\n\u001b[0;32m      4\u001b[0m     \u001b[38;5;124m\"\u001b[39m\u001b[38;5;124mattraction\u001b[39m\u001b[38;5;124m\"\u001b[39m:attraction_orientation,\n\u001b[1;32m----> 5\u001b[0m     \u001b[38;5;124m\"\u001b[39m\u001b[38;5;124mrestaurants\u001b[39m\u001b[38;5;124m\"\u001b[39m:\u001b[43mcuisine\u001b[49m\u001b[43m \u001b[49m\u001b[38;5;241;43m+\u001b[39;49m\u001b[43m \u001b[49m\u001b[38;5;124;43m'\u001b[39;49m\u001b[38;5;124;43m \u001b[39;49m\u001b[38;5;124;43m'\u001b[39;49m\u001b[43m \u001b[49m\u001b[38;5;241;43m+\u001b[39;49m\u001b[43m \u001b[49m\u001b[43mrestaurant_n\u001b[49m,\n\u001b[0;32m      6\u001b[0m     \u001b[38;5;124m\"\u001b[39m\u001b[38;5;124mhotel\u001b[39m\u001b[38;5;124m\"\u001b[39m:hotel_n\n\u001b[0;32m      7\u001b[0m }\n\u001b[0;32m      9\u001b[0m prompt\n",
      "\u001b[1;31mTypeError\u001b[0m: can only concatenate str (not \"list\") to str"
     ]
    }
   ],
   "source": [
    "#create prompt attribute dictionary\n",
    "prompt = {\n",
    "    \"general\":\"\",\n",
    "    \"attraction\":attraction_orientation,\n",
    "    \"restaurants\":cuisine + ' ' + restaurant_n,\n",
    "    \"hotel\":hotel_n\n",
    "}\n",
    "\n",
    "prompt"
   ]
  },
  {
   "cell_type": "code",
   "execution_count": null,
   "metadata": {},
   "outputs": [],
   "source": []
  },
  {
   "cell_type": "code",
   "execution_count": null,
   "metadata": {},
   "outputs": [],
   "source": []
  },
  {
   "cell_type": "code",
   "execution_count": null,
   "metadata": {},
   "outputs": [],
   "source": []
  },
  {
   "cell_type": "code",
   "execution_count": null,
   "metadata": {},
   "outputs": [],
   "source": []
  },
  {
   "cell_type": "code",
   "execution_count": 2,
   "metadata": {},
   "outputs": [],
   "source": [
    "attractions = []\n",
    "\n",
    "with open ('Datasets/Attractions_task1.jsonl', 'r') as file:\n",
    "    for line in file:\n",
    "        json_obj = json.loads(line.strip())  # strip() removes any leading/trailing whitespace\n",
    "        attractions.append(json_obj)"
   ]
  },
  {
   "cell_type": "code",
   "execution_count": 4,
   "metadata": {},
   "outputs": [
    {
     "name": "stdout",
     "output_type": "stream",
     "text": [
      "['Haunted Houses', 'Transportation', 'Beauty & Spas', 'Local Flavor', 'Arts & Entertainment', 'Leisure Centers', 'Active Life', 'Nightlife', 'Parking', 'Landmarks & Historical Buildings', 'Local Services', 'Art Museums', 'Venues & Event Spaces', 'Festivals', 'Restaurants', 'Botanical Gardens', 'Parks', 'Museums', 'Food Tours', 'Performing Arts', 'Aerial Tours', 'Travel Services', 'Specialty Schools', 'Fitness & Instruction', 'Lounges', 'Races & Competitions', 'Recreation Centers', 'Art Galleries', 'Walking Tours', 'Stadiums & Arenas', 'Zoos', 'Golf', 'Tours', 'Not Applicable', 'Health & Medical', 'Bars', 'Cultural Center', 'Music Venues', 'Shopping']\n"
     ]
    }
   ],
   "source": [
    "unique_attraction_types = list(set(map(lambda obj: obj['attraction_type'], attractions)))\n",
    "\n",
    "print(unique_attraction_types)"
   ]
  },
  {
   "cell_type": "code",
   "execution_count": 7,
   "metadata": {},
   "outputs": [],
   "source": [
    "restaurants = []\n",
    "\n",
    "with open ('Datasets/Restaurants_task1.jsonl', 'r') as file:\n",
    "    for line in file:\n",
    "        json_obj = json.loads(line.strip())  # strip() removes any leading/trailing whitespace\n",
    "        restaurants.append(json_obj)"
   ]
  },
  {
   "cell_type": "code",
   "execution_count": 9,
   "metadata": {},
   "outputs": [
    {
     "data": {
      "text/plain": [
       "{'business_id': 'wuH4TPUo8oJo4E59xZKsNg',\n",
       " 'name': '&pizza - Walnut',\n",
       " 'address': '430 Walnut St',\n",
       " 'latitude': 39.9492067124,\n",
       " 'longitude': -75.1659201062,\n",
       " 'stars': 4.5,\n",
       " 'good_for_meal': 'latenight, lunch, dinner',\n",
       " 'price': '$$',\n",
       " 'restaurant_type_1': 'Restaurants',\n",
       " 'restaurant_type_2': 'Not Applicable',\n",
       " 'cuisine_1': 'Pizza',\n",
       " 'cuisine_2': 'Vegetarian',\n",
       " 'perks': 'Vegan',\n",
       " 'flavor': '4 stars flavor',\n",
       " 'freshness': '5 stars freshness',\n",
       " 'healthy': '4 stars healthy',\n",
       " 'service': '3 stars service',\n",
       " 'enviornment': '4 stars enviornment',\n",
       " 'value': '4 stars value'}"
      ]
     },
     "execution_count": 9,
     "metadata": {},
     "output_type": "execute_result"
    }
   ],
   "source": [
    "restaurants[0]"
   ]
  },
  {
   "cell_type": "code",
   "execution_count": 10,
   "metadata": {},
   "outputs": [
    {
     "name": "stdout",
     "output_type": "stream",
     "text": [
      "['Cajun/Creole', 'Burgers', 'Sushi', 'Comfort Food', 'Belgian', 'British', 'Indian', 'Kosher', 'Filipino', 'Local Flavor', 'Latin American', 'Peruvian', 'American', 'Pan Asian', 'Irish', 'Greek', 'Japanese', 'Tex-Mex', 'Spanish', 'Desserts', 'Specialty Food', 'Indonesian', 'Seafood', 'Southern', 'Taiwanese', 'Mediterranean', 'Barbeque', 'Vegetarian', 'Uzbek', 'Modern European', 'Argentine', 'Vietnamese', 'Mexican', 'Caribbean', 'Ethiopian', 'Australian', 'American (Traditional)', 'Korean', 'Breakfast & Brunch', 'Italian', 'Mongolian', 'Cuban', 'Steakhouses', 'Himalayan/Nepalese', 'Asian Fusion', 'Hawaiian', 'Thai', 'Chinese', 'Middle Eastern', 'Not Applicable', 'Vegan', 'Pizza', 'French', 'Brazilian', 'Moroccan', 'American (New)', 'Soul Food', 'African', 'German', 'Pakistani']\n"
     ]
    }
   ],
   "source": [
    "unique_cuisine_types = list(set(map(lambda obj: obj['cuisine_1'], restaurants)))\n",
    "\n",
    "print(unique_cuisine_types)"
   ]
  },
  {
   "cell_type": "code",
   "execution_count": 12,
   "metadata": {},
   "outputs": [
    {
     "name": "stdout",
     "output_type": "stream",
     "text": [
      "['Burgers', 'Hookah', 'Gluten-Free', 'Hot Pot', 'Gay Bars', 'Gastropubs', 'Tacos', 'Soup', 'Brewpubs', 'Comedy Clubs', 'Vegan, Gluten-Free, Salad', 'Pizza, Chicken Wings', 'Desserts, Bubble Tea, Juice Bars & Smoothies, Coffee & Tea', 'Noodles', 'Chicken Shop', 'Sandwiches, Desserts, Coffee & Tea', 'Gluten-Free, Bagels', 'Cupcakes', 'Dessert', 'Bakeries', 'Dim Sum', 'Pastries', 'Bagels', 'Buffets', 'Bowling', 'Ice Cream & Frozen Yogurt', 'Barbeque', 'Bubble Tea', 'Tapas/Small Plates', 'Hookah Bars', 'Pizza, Cheesesteaks, Chicken Wings, Burgers, Desserts, Salad', 'Gelato', 'Steakhouses', 'Beer', 'Smokehouse', 'Organic', 'Pasta, Chicken Wings, Food Delivery Services', 'Breakfast', 'Not Applicable', 'Vegan', 'Wine Bars', 'Poke', 'Brunch', 'Karaoke', 'Sushi', 'Ramen', 'Comfort Food', 'Diners', 'Halal', 'Donuts', 'Sandwiches, Gluten-Free, Breakfast & Brunch, Salad', 'Hot Dogs, Burgers, Beer Bar', 'Crepes', 'Sports Bars', 'Shaved Ice, Waffles', 'Ice Cream', 'Vegan, Donuts', 'Salad, Burgers, Sandwiches', 'Hot Dogs', 'Creperies', 'Wraps', 'Breakfast & Brunch', 'Beer, Wine & Spirits', 'Cocktail Bars', 'Beer Bar', 'Cocktails', 'Acai Bowls', 'Coffee', 'Noodles, Seafood', 'Gluten-Free, Vegetarian', 'Pizza, Cheesesteaks', 'Coffee & Tea', 'Cheese Shops', 'Cheesesteaks', 'Fast Food', 'Whiskey', 'Tapas', 'Comfort Food, Donuts', 'Nightlife', 'Desserts', 'Specialty Food', 'Steaks', 'Seafood', 'Vegetarian', 'Hoagies', 'Salad, Sandwiches', 'Salad', 'Sandwiches, Burgers', 'Beer Bar, Whiskey Bars', 'Beer Gardens', 'Cheesesteaks, Pizza', 'Breweries', 'Soup, Salad, Wine Bars', 'Salad, Seafood', 'Sushi Bars', 'Sandwiches', 'Jazz & Blues', 'Falafel', 'Breakfast & Brunch, Desserts', 'Pizza', 'Eatertainment', 'Soul Food', 'Music Venues', 'Soup, Salad, Sandwiches', 'Chicken Wings']\n"
     ]
    }
   ],
   "source": [
    "unique_cuisine_types = list(set(map(lambda obj: obj['perks'], restaurants)))\n",
    "\n",
    "print(unique_cuisine_types)"
   ]
  },
  {
   "cell_type": "code",
   "execution_count": null,
   "metadata": {},
   "outputs": [],
   "source": []
  }
 ],
 "metadata": {
  "kernelspec": {
   "display_name": "torchgpu",
   "language": "python",
   "name": "python3"
  },
  "language_info": {
   "codemirror_mode": {
    "name": "ipython",
    "version": 3
   },
   "file_extension": ".py",
   "mimetype": "text/x-python",
   "name": "python",
   "nbconvert_exporter": "python",
   "pygments_lexer": "ipython3",
   "version": "3.11.0"
  }
 },
 "nbformat": 4,
 "nbformat_minor": 2
}
